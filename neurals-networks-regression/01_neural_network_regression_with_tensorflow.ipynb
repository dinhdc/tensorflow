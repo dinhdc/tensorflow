{
 "cells": [
  {
   "cell_type": "markdown",
   "source": [
    "# Introduction t Regression with Neural Networks in TensorFlow\n",
    "\n",
    "There are many definitions for a regression problem but in our case, we're going to simplify it: predicting a numerical variable based on some other combination of variables, even shorter...predicting a number"
   ],
   "metadata": {
    "collapsed": false
   },
   "id": "11d5ced78528659"
  },
  {
   "cell_type": "code",
   "execution_count": 1,
   "outputs": [
    {
     "name": "stderr",
     "output_type": "stream",
     "text": [
      "2023-10-22 14:55:28.172812: I tensorflow/core/util/port.cc:111] oneDNN custom operations are on. You may see slightly different numerical results due to floating-point round-off errors from different computation orders. To turn them off, set the environment variable `TF_ENABLE_ONEDNN_OPTS=0`.\n",
      "2023-10-22 14:55:28.204001: I tensorflow/tsl/cuda/cudart_stub.cc:28] Could not find cuda drivers on your machine, GPU will not be used.\n",
      "2023-10-22 14:55:28.349515: E tensorflow/compiler/xla/stream_executor/cuda/cuda_dnn.cc:9342] Unable to register cuDNN factory: Attempting to register factory for plugin cuDNN when one has already been registered\n",
      "2023-10-22 14:55:28.349561: E tensorflow/compiler/xla/stream_executor/cuda/cuda_fft.cc:609] Unable to register cuFFT factory: Attempting to register factory for plugin cuFFT when one has already been registered\n",
      "2023-10-22 14:55:28.350621: E tensorflow/compiler/xla/stream_executor/cuda/cuda_blas.cc:1518] Unable to register cuBLAS factory: Attempting to register factory for plugin cuBLAS when one has already been registered\n",
      "2023-10-22 14:55:28.425411: I tensorflow/tsl/cuda/cudart_stub.cc:28] Could not find cuda drivers on your machine, GPU will not be used.\n",
      "2023-10-22 14:55:28.426270: I tensorflow/core/platform/cpu_feature_guard.cc:182] This TensorFlow binary is optimized to use available CPU instructions in performance-critical operations.\n",
      "To enable the following instructions: AVX2 AVX512F AVX512_VNNI FMA, in other operations, rebuild TensorFlow with the appropriate compiler flags.\n",
      "2023-10-22 14:55:29.351529: W tensorflow/compiler/tf2tensorrt/utils/py_utils.cc:38] TF-TRT Warning: Could not find TensorRT\n"
     ]
    },
    {
     "name": "stdout",
     "output_type": "stream",
     "text": [
      "2.14.0\n"
     ]
    }
   ],
   "source": [
    "# Import TensorFlow\n",
    "import tensorflow as tf\n",
    "print(tf.__version__)"
   ],
   "metadata": {
    "collapsed": false,
    "ExecuteTime": {
     "end_time": "2023-10-22T07:55:30.095765028Z",
     "start_time": "2023-10-22T07:55:27.882802791Z"
    }
   },
   "id": "ae0141e0bd93e5ea"
  },
  {
   "cell_type": "markdown",
   "source": [
    "## Creating data to view and fit"
   ],
   "metadata": {
    "collapsed": false
   },
   "id": "8a4537450b2b7090"
  },
  {
   "cell_type": "code",
   "execution_count": 2,
   "outputs": [
    {
     "data": {
      "text/plain": "<matplotlib.collections.PathCollection at 0x7f1293548220>"
     },
     "execution_count": 2,
     "metadata": {},
     "output_type": "execute_result"
    },
    {
     "data": {
      "text/plain": "<Figure size 640x480 with 1 Axes>",
      "image/png": "[encoded data removed]"
     },
     "metadata": {},
     "output_type": "display_data"
    }
   ],
   "source": [
    "import numpy as np\n",
    "import matplotlib.pyplot as plt\n",
    "\n",
    "# Creating features (inputs)\n",
    "X = np.array([-7.0, -4.0, -1.0, 2.0, 5.0, 8.0, 11.0, 14.0])\n",
    "\n",
    "# Create labels\n",
    "y = np.array([3.0, 6.0, 9.0, 12.0, 15.0, 18.0, 21.0, 24.0])\n",
    "\n",
    "# Visualize it\n",
    "plt.scatter(X, y)"
   ],
   "metadata": {
    "collapsed": false,
    "ExecuteTime": {
     "end_time": "2023-10-22T07:55:30.520680435Z",
     "start_time": "2023-10-22T07:55:30.096987736Z"
    }
   },
   "id": "b83d29a20c6f4cfd"
  },
  {
   "cell_type": "markdown",
   "source": [
    "## Input and Output shapes"
   ],
   "metadata": {
    "collapsed": false
   },
   "id": "8c046dd3e884c488"
  },
  {
   "cell_type": "code",
   "execution_count": 3,
   "outputs": [
    {
     "data": {
      "text/plain": "(<tf.Tensor: shape=(3,), dtype=string, numpy=array([b'bedroom', b'bathroom', b'garage'], dtype=object)>,\n <tf.Tensor: shape=(1,), dtype=int32, numpy=array([939700], dtype=int32)>)"
     },
     "execution_count": 3,
     "metadata": {},
     "output_type": "execute_result"
    }
   ],
   "source": [
    "# Create a demo tensor for our housing price prediction problem\n",
    "house_info = tf.constant([\"bedroom\", \"bathroom\", \"garage\"])\n",
    "house_price = tf.constant([939700])\n",
    "house_info, house_price"
   ],
   "metadata": {
    "collapsed": false,
    "ExecuteTime": {
     "end_time": "2023-10-22T07:55:30.577382134Z",
     "start_time": "2023-10-22T07:55:30.552974338Z"
    }
   },
   "id": "ffb63ded75e26719"
  },
  {
   "cell_type": "code",
   "execution_count": 4,
   "outputs": [
    {
     "data": {
      "text/plain": "((8,), (8,))"
     },
     "execution_count": 4,
     "metadata": {},
     "output_type": "execute_result"
    }
   ],
   "source": [
    "input_shape = X.shape\n",
    "output_shape = y.shape\n",
    "input_shape, output_shape"
   ],
   "metadata": {
    "collapsed": false,
    "ExecuteTime": {
     "end_time": "2023-10-22T07:55:30.578016407Z",
     "start_time": "2023-10-22T07:55:30.556974223Z"
    }
   },
   "id": "62805f0a56a668f2"
  },
  {
   "cell_type": "code",
   "execution_count": 5,
   "outputs": [
    {
     "data": {
      "text/plain": "(<tf.Tensor: shape=(8,), dtype=float32, numpy=array([-7., -4., -1.,  2.,  5.,  8., 11., 14.], dtype=float32)>,\n <tf.Tensor: shape=(8,), dtype=float32, numpy=array([ 3.,  6.,  9., 12., 15., 18., 21., 24.], dtype=float32)>)"
     },
     "execution_count": 5,
     "metadata": {},
     "output_type": "execute_result"
    }
   ],
   "source": [
    "# Turn our Numpy arrays into Tensor\n",
    "X = tf.cast(tf.constant(X), dtype=tf.float32)\n",
    "y = tf.cast(tf.constant(y), dtype=tf.float32)\n",
    "X, y"
   ],
   "metadata": {
    "collapsed": false,
    "ExecuteTime": {
     "end_time": "2023-10-22T07:55:30.661991463Z",
     "start_time": "2023-10-22T07:55:30.561577183Z"
    }
   },
   "id": "24589007b270e7df"
  },
  {
   "cell_type": "code",
   "execution_count": 6,
   "outputs": [
    {
     "data": {
      "text/plain": "(TensorShape([]), TensorShape([]))"
     },
     "execution_count": 6,
     "metadata": {},
     "output_type": "execute_result"
    }
   ],
   "source": [
    "input_shape = X[0].shape\n",
    "output_shape = y[0].shape\n",
    "input_shape, output_shape"
   ],
   "metadata": {
    "collapsed": false,
    "ExecuteTime": {
     "end_time": "2023-10-22T07:55:30.682939822Z",
     "start_time": "2023-10-22T07:55:30.616973705Z"
    }
   },
   "id": "9f6fb8999ffca350"
  },
  {
   "cell_type": "code",
   "execution_count": 7,
   "outputs": [
    {
     "data": {
      "text/plain": "<matplotlib.collections.PathCollection at 0x7f12935f4fa0>"
     },
     "execution_count": 7,
     "metadata": {},
     "output_type": "execute_result"
    },
    {
     "data": {
      "text/plain": "<Figure size 640x480 with 1 Axes>",
      "image/png": "[encoded data removed]"
     },
     "metadata": {},
     "output_type": "display_data"
    }
   ],
   "source": [
    "plt.scatter(X,y)"
   ],
   "metadata": {
    "collapsed": false,
    "ExecuteTime": {
     "end_time": "2023-10-22T07:55:30.760918926Z",
     "start_time": "2023-10-22T07:55:30.617619075Z"
    }
   },
   "id": "eeca3c4a74b31267"
  },
  {
   "cell_type": "markdown",
   "source": [
    "## Steps in modelling with TensorFlow\n",
    "1. **Creating a model** - define the input and output layers, as well as the hidden layers of a deep learning model.\n",
    "2. **Compiling a model** - define the loss function (in other words, the function which tells our model how wrong it is) and the optimizer (tells our model how to improve the patterns its learning) and evaluation metrics (what we can use to interpret the performance of our model).\n",
    "3. **Fitting a model** - letting the model try to find patterns between X & y (features and labels). "
   ],
   "metadata": {
    "collapsed": false
   },
   "id": "f2d82cc3233a123b"
  },
  {
   "cell_type": "code",
   "execution_count": 8,
   "outputs": [
    {
     "name": "stdout",
     "output_type": "stream",
     "text": [
      "Epoch 1/5\n",
      "1/1 [==============================] - 0s 275ms/step - loss: 10.4851 - mae: 10.4851\n",
      "Epoch 2/5\n",
      "1/1 [==============================] - 0s 5ms/step - loss: 10.3526 - mae: 10.3526\n",
      "Epoch 3/5\n",
      "1/1 [==============================] - 0s 5ms/step - loss: 10.2201 - mae: 10.2201\n",
      "Epoch 4/5\n",
      "1/1 [==============================] - 0s 6ms/step - loss: 10.0876 - mae: 10.0876\n",
      "Epoch 5/5\n",
      "1/1 [==============================] - 0s 5ms/step - loss: 9.9551 - mae: 9.9551\n"
     ]
    },
    {
     "data": {
      "text/plain": "<keras.src.callbacks.History at 0x7f128c214a90>"
     },
     "execution_count": 8,
     "metadata": {},
     "output_type": "execute_result"
    }
   ],
   "source": [
    "# Set random seed\n",
    "tf.random.set_seed(42)\n",
    "\n",
    "# 1. Create a model using the Sequential API\n",
    "model = tf.keras.Sequential([\n",
    "    tf.keras.layers.Dense(1)\n",
    "])\n",
    "\n",
    "# 2. Compile the model\n",
    "model.compile(loss=tf.keras.losses.mae, # mae is short for measure absolute error\n",
    "              optimizer=tf.keras.optimizers.SGD(), # SGD is short for stochastic gradient descent\n",
    "              metrics=[\"mae\"])\n",
    "\n",
    "# 3. Fit the model\n",
    "model.fit(tf.expand_dims(X, axis=-1), y, epochs=5)"
   ],
   "metadata": {
    "collapsed": false,
    "ExecuteTime": {
     "end_time": "2023-10-22T07:55:31.295701481Z",
     "start_time": "2023-10-22T07:55:30.748755023Z"
    }
   },
   "id": "6852cc9eb92b4759"
  },
  {
   "cell_type": "code",
   "execution_count": 9,
   "outputs": [
    {
     "data": {
      "text/plain": "(<tf.Tensor: shape=(8,), dtype=float32, numpy=array([-7., -4., -1.,  2.,  5.,  8., 11., 14.], dtype=float32)>,\n <tf.Tensor: shape=(8,), dtype=float32, numpy=array([ 3.,  6.,  9., 12., 15., 18., 21., 24.], dtype=float32)>)"
     },
     "execution_count": 9,
     "metadata": {},
     "output_type": "execute_result"
    }
   ],
   "source": [
    "# Checkout X and y\n",
    "X, y"
   ],
   "metadata": {
    "collapsed": false,
    "ExecuteTime": {
     "end_time": "2023-10-22T07:55:31.318800605Z",
     "start_time": "2023-10-22T07:55:31.265805522Z"
    }
   },
   "id": "737ce324f33218cc"
  },
  {
   "cell_type": "code",
   "execution_count": 10,
   "outputs": [
    {
     "name": "stdout",
     "output_type": "stream",
     "text": [
      "1/1 [==============================] - 0s 74ms/step\n"
     ]
    },
    {
     "data": {
      "text/plain": "array([[18.70543]], dtype=float32)"
     },
     "execution_count": 10,
     "metadata": {},
     "output_type": "execute_result"
    }
   ],
   "source": [
    "# Try and make a prediction using our model\n",
    "y_pred = model.predict([18.0])\n",
    "y_pred"
   ],
   "metadata": {
    "collapsed": false,
    "ExecuteTime": {
     "end_time": "2023-10-22T07:55:31.460092206Z",
     "start_time": "2023-10-22T07:55:31.271848193Z"
    }
   },
   "id": "e649fb5f7e219db5"
  },
  {
   "cell_type": "markdown",
   "source": [
    "## Improving our model\n",
    "\n",
    "We can improve our model, by altering the steps we took to create a model.\n",
    "\n",
    "1. **Creating a model** - here we might add more layers, increase the number of hidden units (all called neurons) within each of the hidden layers, change the activation function of each layer.\n",
    "2. **Compiling a model** - here we might change the optimization function or perhaps the **learning rate** of the optimization function.\n",
    "3. **Fitting a model** - here we might fit a model for more **epochs** (leave it training for longer) or on more data (give the model more examples to learn from)."
   ],
   "metadata": {
    "collapsed": false
   },
   "id": "eeb93cfba3984d19"
  },
  {
   "cell_type": "code",
   "execution_count": 11,
   "outputs": [
    {
     "name": "stdout",
     "output_type": "stream",
     "text": [
      "Epoch 1/100\n",
      "1/1 [==============================] - 0s 219ms/step - loss: 7.6142 - mae: 7.6142\n",
      "Epoch 2/100\n",
      "1/1 [==============================] - 0s 5ms/step - loss: 7.4925 - mae: 7.4925\n",
      "Epoch 3/100\n",
      "1/1 [==============================] - 0s 5ms/step - loss: 7.4869 - mae: 7.4869\n",
      "Epoch 4/100\n",
      "1/1 [==============================] - 0s 4ms/step - loss: 7.4813 - mae: 7.4813\n",
      "Epoch 5/100\n",
      "1/1 [==============================] - 0s 4ms/step - loss: 7.4756 - mae: 7.4756\n",
      "Epoch 6/100\n",
      "1/1 [==============================] - 0s 4ms/step - loss: 7.4700 - mae: 7.4700\n",
      "Epoch 7/100\n",
      "1/1 [==============================] - 0s 4ms/step - loss: 7.4644 - mae: 7.4644\n",
      "Epoch 8/100\n",
      "1/1 [==============================] - 0s 4ms/step - loss: 7.4587 - mae: 7.4587\n",
      "Epoch 9/100\n",
      "1/1 [==============================] - 0s 5ms/step - loss: 7.4531 - mae: 7.4531\n",
      "Epoch 10/100\n",
      "1/1 [==============================] - 0s 4ms/step - loss: 7.4475 - mae: 7.4475\n",
      "Epoch 11/100\n",
      "1/1 [==============================] - 0s 4ms/step - loss: 7.4419 - mae: 7.4419\n",
      "Epoch 12/100\n",
      "1/1 [==============================] - 0s 5ms/step - loss: 7.4362 - mae: 7.4362\n",
      "Epoch 13/100\n",
      "1/1 [==============================] - 0s 4ms/step - loss: 7.4306 - mae: 7.4306\n",
      "Epoch 14/100\n",
      "1/1 [==============================] - 0s 4ms/step - loss: 7.4250 - mae: 7.4250\n",
      "Epoch 15/100\n",
      "1/1 [==============================] - 0s 5ms/step - loss: 7.4194 - mae: 7.4194\n",
      "Epoch 16/100\n",
      "1/1 [==============================] - 0s 4ms/step - loss: 7.4138 - mae: 7.4138\n",
      "Epoch 17/100\n",
      "1/1 [==============================] - 0s 5ms/step - loss: 7.4081 - mae: 7.4081\n",
      "Epoch 18/100\n",
      "1/1 [==============================] - 0s 4ms/step - loss: 7.4025 - mae: 7.4025\n",
      "Epoch 19/100\n",
      "1/1 [==============================] - 0s 4ms/step - loss: 7.3969 - mae: 7.3969\n",
      "Epoch 20/100\n",
      "1/1 [==============================] - 0s 4ms/step - loss: 7.3912 - mae: 7.3912\n",
      "Epoch 21/100\n",
      "1/1 [==============================] - 0s 6ms/step - loss: 7.3856 - mae: 7.3856\n",
      "Epoch 22/100\n",
      "1/1 [==============================] - 0s 4ms/step - loss: 7.3800 - mae: 7.3800\n",
      "Epoch 23/100\n",
      "1/1 [==============================] - 0s 4ms/step - loss: 7.3744 - mae: 7.3744\n",
      "Epoch 24/100\n",
      "1/1 [==============================] - 0s 5ms/step - loss: 7.3687 - mae: 7.3687\n",
      "Epoch 25/100\n",
      "1/1 [==============================] - 0s 4ms/step - loss: 7.3631 - mae: 7.3631\n",
      "Epoch 26/100\n",
      "1/1 [==============================] - 0s 4ms/step - loss: 7.3575 - mae: 7.3575\n",
      "Epoch 27/100\n",
      "1/1 [==============================] - 0s 4ms/step - loss: 7.3519 - mae: 7.3519\n",
      "Epoch 28/100\n",
      "1/1 [==============================] - 0s 5ms/step - loss: 7.3463 - mae: 7.3463\n",
      "Epoch 29/100\n",
      "1/1 [==============================] - 0s 4ms/step - loss: 7.3406 - mae: 7.3406\n",
      "Epoch 30/100\n",
      "1/1 [==============================] - 0s 4ms/step - loss: 7.3350 - mae: 7.3350\n",
      "Epoch 31/100\n",
      "1/1 [==============================] - 0s 4ms/step - loss: 7.3294 - mae: 7.3294\n",
      "Epoch 32/100\n",
      "1/1 [==============================] - 0s 4ms/step - loss: 7.3238 - mae: 7.3238\n",
      "Epoch 33/100\n",
      "1/1 [==============================] - 0s 5ms/step - loss: 7.3181 - mae: 7.3181\n",
      "Epoch 34/100\n",
      "1/1 [==============================] - 0s 5ms/step - loss: 7.3125 - mae: 7.3125\n",
      "Epoch 35/100\n",
      "1/1 [==============================] - 0s 4ms/step - loss: 7.3069 - mae: 7.3069\n",
      "Epoch 36/100\n",
      "1/1 [==============================] - 0s 4ms/step - loss: 7.3013 - mae: 7.3013\n",
      "Epoch 37/100\n",
      "1/1 [==============================] - 0s 4ms/step - loss: 7.2956 - mae: 7.2956\n",
      "Epoch 38/100\n",
      "1/1 [==============================] - 0s 4ms/step - loss: 7.2900 - mae: 7.2900\n",
      "Epoch 39/100\n",
      "1/1 [==============================] - 0s 5ms/step - loss: 7.2844 - mae: 7.2844\n",
      "Epoch 40/100\n",
      "1/1 [==============================] - 0s 4ms/step - loss: 7.2787 - mae: 7.2787\n",
      "Epoch 41/100\n",
      "1/1 [==============================] - 0s 5ms/step - loss: 7.2731 - mae: 7.2731\n",
      "Epoch 42/100\n",
      "1/1 [==============================] - 0s 4ms/step - loss: 7.2675 - mae: 7.2675\n",
      "Epoch 43/100\n",
      "1/1 [==============================] - 0s 3ms/step - loss: 7.2619 - mae: 7.2619\n",
      "Epoch 44/100\n",
      "1/1 [==============================] - 0s 4ms/step - loss: 7.2563 - mae: 7.2563\n",
      "Epoch 45/100\n",
      "1/1 [==============================] - 0s 4ms/step - loss: 7.2506 - mae: 7.2506\n",
      "Epoch 46/100\n",
      "1/1 [==============================] - 0s 4ms/step - loss: 7.2450 - mae: 7.2450\n",
      "Epoch 47/100\n",
      "1/1 [==============================] - 0s 4ms/step - loss: 7.2394 - mae: 7.2394\n",
      "Epoch 48/100\n",
      "1/1 [==============================] - 0s 5ms/step - loss: 7.2338 - mae: 7.2338\n",
      "Epoch 49/100\n",
      "1/1 [==============================] - 0s 4ms/step - loss: 7.2281 - mae: 7.2281\n",
      "Epoch 50/100\n",
      "1/1 [==============================] - 0s 4ms/step - loss: 7.2225 - mae: 7.2225\n",
      "Epoch 51/100\n",
      "1/1 [==============================] - 0s 5ms/step - loss: 7.2169 - mae: 7.2169\n",
      "Epoch 52/100\n",
      "1/1 [==============================] - 0s 4ms/step - loss: 7.2112 - mae: 7.2112\n",
      "Epoch 53/100\n",
      "1/1 [==============================] - 0s 5ms/step - loss: 7.2056 - mae: 7.2056\n",
      "Epoch 54/100\n",
      "1/1 [==============================] - 0s 4ms/step - loss: 7.2000 - mae: 7.2000\n",
      "Epoch 55/100\n",
      "1/1 [==============================] - 0s 4ms/step - loss: 7.1944 - mae: 7.1944\n",
      "Epoch 56/100\n",
      "1/1 [==============================] - 0s 4ms/step - loss: 7.1887 - mae: 7.1887\n",
      "Epoch 57/100\n",
      "1/1 [==============================] - 0s 4ms/step - loss: 7.1831 - mae: 7.1831\n",
      "Epoch 58/100\n",
      "1/1 [==============================] - 0s 4ms/step - loss: 7.1775 - mae: 7.1775\n",
      "Epoch 59/100\n",
      "1/1 [==============================] - 0s 4ms/step - loss: 7.1719 - mae: 7.1719\n",
      "Epoch 60/100\n",
      "1/1 [==============================] - 0s 4ms/step - loss: 7.1663 - mae: 7.1663\n",
      "Epoch 61/100\n",
      "1/1 [==============================] - 0s 4ms/step - loss: 7.1606 - mae: 7.1606\n",
      "Epoch 62/100\n",
      "1/1 [==============================] - 0s 5ms/step - loss: 7.1550 - mae: 7.1550\n",
      "Epoch 63/100\n",
      "1/1 [==============================] - 0s 4ms/step - loss: 7.1494 - mae: 7.1494\n",
      "Epoch 64/100\n",
      "1/1 [==============================] - 0s 4ms/step - loss: 7.1438 - mae: 7.1438\n",
      "Epoch 65/100\n",
      "1/1 [==============================] - 0s 4ms/step - loss: 7.1381 - mae: 7.1381\n",
      "Epoch 66/100\n",
      "1/1 [==============================] - 0s 4ms/step - loss: 7.1325 - mae: 7.1325\n",
      "Epoch 67/100\n",
      "1/1 [==============================] - 0s 5ms/step - loss: 7.1269 - mae: 7.1269\n",
      "Epoch 68/100\n",
      "1/1 [==============================] - 0s 4ms/step - loss: 7.1213 - mae: 7.1213\n",
      "Epoch 69/100\n",
      "1/1 [==============================] - 0s 4ms/step - loss: 7.1156 - mae: 7.1156\n",
      "Epoch 70/100\n",
      "1/1 [==============================] - 0s 5ms/step - loss: 7.1100 - mae: 7.1100\n",
      "Epoch 71/100\n",
      "1/1 [==============================] - 0s 4ms/step - loss: 7.1044 - mae: 7.1044\n",
      "Epoch 72/100\n",
      "1/1 [==============================] - 0s 4ms/step - loss: 7.0988 - mae: 7.0988\n",
      "Epoch 73/100\n",
      "1/1 [==============================] - 0s 4ms/step - loss: 7.0931 - mae: 7.0931\n",
      "Epoch 74/100\n",
      "1/1 [==============================] - 0s 4ms/step - loss: 7.0875 - mae: 7.0875\n",
      "Epoch 75/100\n",
      "1/1 [==============================] - 0s 5ms/step - loss: 7.0819 - mae: 7.0819\n",
      "Epoch 76/100\n",
      "1/1 [==============================] - 0s 4ms/step - loss: 7.0763 - mae: 7.0763\n",
      "Epoch 77/100\n",
      "1/1 [==============================] - 0s 5ms/step - loss: 7.0706 - mae: 7.0706\n",
      "Epoch 78/100\n",
      "1/1 [==============================] - 0s 4ms/step - loss: 7.0650 - mae: 7.0650\n",
      "Epoch 79/100\n",
      "1/1 [==============================] - 0s 4ms/step - loss: 7.0594 - mae: 7.0594\n",
      "Epoch 80/100\n",
      "1/1 [==============================] - 0s 4ms/step - loss: 7.0538 - mae: 7.0538\n",
      "Epoch 81/100\n",
      "1/1 [==============================] - 0s 4ms/step - loss: 7.0481 - mae: 7.0481\n",
      "Epoch 82/100\n",
      "1/1 [==============================] - 0s 4ms/step - loss: 7.0425 - mae: 7.0425\n",
      "Epoch 83/100\n",
      "1/1 [==============================] - 0s 4ms/step - loss: 7.0369 - mae: 7.0369\n",
      "Epoch 84/100\n",
      "1/1 [==============================] - 0s 4ms/step - loss: 7.0312 - mae: 7.0312\n",
      "Epoch 85/100\n",
      "1/1 [==============================] - 0s 4ms/step - loss: 7.0256 - mae: 7.0256\n",
      "Epoch 86/100\n",
      "1/1 [==============================] - 0s 4ms/step - loss: 7.0200 - mae: 7.0200\n",
      "Epoch 87/100\n",
      "1/1 [==============================] - 0s 4ms/step - loss: 7.0144 - mae: 7.0144\n",
      "Epoch 88/100\n",
      "1/1 [==============================] - 0s 4ms/step - loss: 7.0087 - mae: 7.0087\n",
      "Epoch 89/100\n",
      "1/1 [==============================] - 0s 4ms/step - loss: 7.0031 - mae: 7.0031\n",
      "Epoch 90/100\n",
      "1/1 [==============================] - 0s 5ms/step - loss: 6.9975 - mae: 6.9975\n",
      "Epoch 91/100\n",
      "1/1 [==============================] - 0s 4ms/step - loss: 6.9919 - mae: 6.9919\n",
      "Epoch 92/100\n",
      "1/1 [==============================] - 0s 4ms/step - loss: 6.9863 - mae: 6.9863\n",
      "Epoch 93/100\n",
      "1/1 [==============================] - 0s 4ms/step - loss: 6.9806 - mae: 6.9806\n",
      "Epoch 94/100\n",
      "1/1 [==============================] - 0s 4ms/step - loss: 6.9750 - mae: 6.9750\n",
      "Epoch 95/100\n",
      "1/1 [==============================] - 0s 4ms/step - loss: 6.9694 - mae: 6.9694\n",
      "Epoch 96/100\n",
      "1/1 [==============================] - 0s 4ms/step - loss: 6.9638 - mae: 6.9638\n",
      "Epoch 97/100\n",
      "1/1 [==============================] - 0s 5ms/step - loss: 6.9581 - mae: 6.9581\n",
      "Epoch 98/100\n",
      "1/1 [==============================] - 0s 5ms/step - loss: 6.9525 - mae: 6.9525\n",
      "Epoch 99/100\n",
      "1/1 [==============================] - 0s 3ms/step - loss: 6.9469 - mae: 6.9469\n",
      "Epoch 100/100\n",
      "1/1 [==============================] - 0s 4ms/step - loss: 6.9413 - mae: 6.9413\n"
     ]
    },
    {
     "data": {
      "text/plain": "<keras.src.callbacks.History at 0x7f1264f0a920>"
     },
     "execution_count": 11,
     "metadata": {},
     "output_type": "execute_result"
    }
   ],
   "source": [
    "# Let's rebuild our model\n",
    "\n",
    "# 1. Create a model\n",
    "model = tf.keras.Sequential([\n",
    "    tf.keras.layers.Dense(1)\n",
    "])\n",
    "\n",
    "# 2. Compile the model\n",
    "model.compile(loss=tf.keras.losses.mae,\n",
    "              optimizer=tf.keras.optimizers.SGD(),\n",
    "              metrics=[\"mae\"])\n",
    "\n",
    "# 3. Fit the model\n",
    "model.fit(tf.expand_dims(X, axis=-1), y, epochs=100)"
   ],
   "metadata": {
    "collapsed": false,
    "ExecuteTime": {
     "end_time": "2023-10-22T07:55:32.522691553Z",
     "start_time": "2023-10-22T07:55:31.397424999Z"
    }
   },
   "id": "fe0a731f9cd7aedb"
  },
  {
   "cell_type": "code",
   "execution_count": 12,
   "outputs": [
    {
     "data": {
      "text/plain": "(<tf.Tensor: shape=(8,), dtype=float32, numpy=array([-7., -4., -1.,  2.,  5.,  8., 11., 14.], dtype=float32)>,\n <tf.Tensor: shape=(8,), dtype=float32, numpy=array([ 3.,  6.,  9., 12., 15., 18., 21., 24.], dtype=float32)>)"
     },
     "execution_count": 12,
     "metadata": {},
     "output_type": "execute_result"
    }
   ],
   "source": [
    "# Remind ourselves of the data\n",
    "X, y"
   ],
   "metadata": {
    "collapsed": false,
    "ExecuteTime": {
     "end_time": "2023-10-22T07:55:32.534372646Z",
     "start_time": "2023-10-22T07:55:32.254663912Z"
    }
   },
   "id": "78e0a7b2bde9b233"
  },
  {
   "cell_type": "code",
   "execution_count": 13,
   "outputs": [
    {
     "name": "stdout",
     "output_type": "stream",
     "text": [
      "1/1 [==============================] - 0s 41ms/step\n"
     ]
    },
    {
     "data": {
      "text/plain": "array([[31.652576]], dtype=float32)"
     },
     "execution_count": 13,
     "metadata": {},
     "output_type": "execute_result"
    }
   ],
   "source": [
    "# Let's see if our models's prediction has improved\n",
    "model.predict([18.0])"
   ],
   "metadata": {
    "collapsed": false,
    "ExecuteTime": {
     "end_time": "2023-10-22T07:55:32.642989900Z",
     "start_time": "2023-10-22T07:55:32.259153191Z"
    }
   },
   "id": "bd9ec1f903d4e442"
  },
  {
   "cell_type": "code",
   "execution_count": 14,
   "outputs": [
    {
     "name": "stdout",
     "output_type": "stream",
     "text": [
      "Epoch 1/100\n",
      "1/1 [==============================] - 1s 518ms/step - loss: 13.2981 - mae: 13.2981\n",
      "Epoch 2/100\n",
      "1/1 [==============================] - 0s 4ms/step - loss: 10.4232 - mae: 10.4232\n",
      "Epoch 3/100\n",
      "1/1 [==============================] - 0s 4ms/step - loss: 8.4249 - mae: 8.4249\n",
      "Epoch 4/100\n",
      "1/1 [==============================] - 0s 4ms/step - loss: 6.4219 - mae: 6.4219\n",
      "Epoch 5/100\n",
      "1/1 [==============================] - 0s 3ms/step - loss: 4.1602 - mae: 4.1602\n",
      "Epoch 6/100\n",
      "1/1 [==============================] - 0s 5ms/step - loss: 4.5318 - mae: 4.5318\n",
      "Epoch 7/100\n",
      "1/1 [==============================] - 0s 4ms/step - loss: 5.3864 - mae: 5.3864\n",
      "Epoch 8/100\n",
      "1/1 [==============================] - 0s 5ms/step - loss: 5.5443 - mae: 5.5443\n",
      "Epoch 9/100\n",
      "1/1 [==============================] - 0s 5ms/step - loss: 5.2393 - mae: 5.2393\n",
      "Epoch 10/100\n",
      "1/1 [==============================] - 0s 4ms/step - loss: 4.6300 - mae: 4.6300\n",
      "Epoch 11/100\n",
      "1/1 [==============================] - 0s 4ms/step - loss: 3.9825 - mae: 3.9825\n",
      "Epoch 12/100\n",
      "1/1 [==============================] - 0s 4ms/step - loss: 3.6716 - mae: 3.6716\n",
      "Epoch 13/100\n",
      "1/1 [==============================] - 0s 5ms/step - loss: 3.9495 - mae: 3.9495\n",
      "Epoch 14/100\n",
      "1/1 [==============================] - 0s 5ms/step - loss: 4.1899 - mae: 4.1899\n",
      "Epoch 15/100\n",
      "1/1 [==============================] - 0s 4ms/step - loss: 3.9011 - mae: 3.9011\n",
      "Epoch 16/100\n",
      "1/1 [==============================] - 0s 5ms/step - loss: 3.4532 - mae: 3.4532\n",
      "Epoch 17/100\n",
      "1/1 [==============================] - 0s 6ms/step - loss: 3.3831 - mae: 3.3831\n",
      "Epoch 18/100\n",
      "1/1 [==============================] - 0s 4ms/step - loss: 3.4404 - mae: 3.4404\n",
      "Epoch 19/100\n",
      "1/1 [==============================] - 0s 5ms/step - loss: 3.4253 - mae: 3.4253\n",
      "Epoch 20/100\n",
      "1/1 [==============================] - 0s 4ms/step - loss: 3.1538 - mae: 3.1538\n",
      "Epoch 21/100\n",
      "1/1 [==============================] - 0s 4ms/step - loss: 2.9569 - mae: 2.9569\n",
      "Epoch 22/100\n",
      "1/1 [==============================] - 0s 4ms/step - loss: 2.7454 - mae: 2.7454\n",
      "Epoch 23/100\n",
      "1/1 [==============================] - 0s 4ms/step - loss: 2.4901 - mae: 2.4901\n",
      "Epoch 24/100\n",
      "1/1 [==============================] - 0s 4ms/step - loss: 2.2501 - mae: 2.2501\n",
      "Epoch 25/100\n",
      "1/1 [==============================] - 0s 4ms/step - loss: 1.9792 - mae: 1.9792\n",
      "Epoch 26/100\n",
      "1/1 [==============================] - 0s 4ms/step - loss: 1.7221 - mae: 1.7221\n",
      "Epoch 27/100\n",
      "1/1 [==============================] - 0s 4ms/step - loss: 1.3706 - mae: 1.3706\n",
      "Epoch 28/100\n",
      "1/1 [==============================] - 0s 5ms/step - loss: 1.0630 - mae: 1.0630\n",
      "Epoch 29/100\n",
      "1/1 [==============================] - 0s 4ms/step - loss: 0.6659 - mae: 0.6659\n",
      "Epoch 30/100\n",
      "1/1 [==============================] - 0s 4ms/step - loss: 0.3539 - mae: 0.3539\n",
      "Epoch 31/100\n",
      "1/1 [==============================] - 0s 5ms/step - loss: 0.4836 - mae: 0.4836\n",
      "Epoch 32/100\n",
      "1/1 [==============================] - 0s 4ms/step - loss: 1.0807 - mae: 1.0807\n",
      "Epoch 33/100\n",
      "1/1 [==============================] - 0s 4ms/step - loss: 1.0044 - mae: 1.0044\n",
      "Epoch 34/100\n",
      "1/1 [==============================] - 0s 5ms/step - loss: 0.8090 - mae: 0.8090\n",
      "Epoch 35/100\n",
      "1/1 [==============================] - 0s 4ms/step - loss: 0.5340 - mae: 0.5340\n",
      "Epoch 36/100\n",
      "1/1 [==============================] - 0s 4ms/step - loss: 0.4478 - mae: 0.4478\n",
      "Epoch 37/100\n",
      "1/1 [==============================] - 0s 5ms/step - loss: 1.0164 - mae: 1.0164\n",
      "Epoch 38/100\n",
      "1/1 [==============================] - 0s 3ms/step - loss: 1.0336 - mae: 1.0336\n",
      "Epoch 39/100\n",
      "1/1 [==============================] - 0s 5ms/step - loss: 0.3424 - mae: 0.3424\n",
      "Epoch 40/100\n",
      "1/1 [==============================] - 0s 5ms/step - loss: 1.3648 - mae: 1.3648\n",
      "Epoch 41/100\n",
      "1/1 [==============================] - 0s 5ms/step - loss: 1.5645 - mae: 1.5645\n",
      "Epoch 42/100\n",
      "1/1 [==============================] - 0s 5ms/step - loss: 0.8866 - mae: 0.8866\n",
      "Epoch 43/100\n",
      "1/1 [==============================] - 0s 5ms/step - loss: 1.0791 - mae: 1.0791\n",
      "Epoch 44/100\n",
      "1/1 [==============================] - 0s 4ms/step - loss: 1.2745 - mae: 1.2745\n",
      "Epoch 45/100\n",
      "1/1 [==============================] - 0s 4ms/step - loss: 0.7696 - mae: 0.7696\n",
      "Epoch 46/100\n",
      "1/1 [==============================] - 0s 5ms/step - loss: 0.5152 - mae: 0.5152\n",
      "Epoch 47/100\n",
      "1/1 [==============================] - 0s 5ms/step - loss: 0.9476 - mae: 0.9476\n",
      "Epoch 48/100\n",
      "1/1 [==============================] - 0s 4ms/step - loss: 0.5641 - mae: 0.5641\n",
      "Epoch 49/100\n",
      "1/1 [==============================] - 0s 4ms/step - loss: 0.7848 - mae: 0.7848\n",
      "Epoch 50/100\n",
      "1/1 [==============================] - 0s 4ms/step - loss: 0.9917 - mae: 0.9917\n",
      "Epoch 51/100\n",
      "1/1 [==============================] - 0s 4ms/step - loss: 0.6062 - mae: 0.6062\n",
      "Epoch 52/100\n",
      "1/1 [==============================] - 0s 4ms/step - loss: 0.6361 - mae: 0.6361\n",
      "Epoch 53/100\n",
      "1/1 [==============================] - 0s 4ms/step - loss: 0.9552 - mae: 0.9552\n",
      "Epoch 54/100\n",
      "1/1 [==============================] - 0s 4ms/step - loss: 0.6947 - mae: 0.6947\n",
      "Epoch 55/100\n",
      "1/1 [==============================] - 0s 5ms/step - loss: 0.2612 - mae: 0.2612\n",
      "Epoch 56/100\n",
      "1/1 [==============================] - 0s 4ms/step - loss: 0.8876 - mae: 0.8876\n",
      "Epoch 57/100\n",
      "1/1 [==============================] - 0s 4ms/step - loss: 0.9469 - mae: 0.9469\n",
      "Epoch 58/100\n",
      "1/1 [==============================] - 0s 5ms/step - loss: 0.4466 - mae: 0.4466\n",
      "Epoch 59/100\n",
      "1/1 [==============================] - 0s 4ms/step - loss: 0.6965 - mae: 0.6965\n",
      "Epoch 60/100\n",
      "1/1 [==============================] - 0s 4ms/step - loss: 1.0343 - mae: 1.0343\n",
      "Epoch 61/100\n",
      "1/1 [==============================] - 0s 5ms/step - loss: 0.6757 - mae: 0.6757\n",
      "Epoch 62/100\n",
      "1/1 [==============================] - 0s 5ms/step - loss: 0.3871 - mae: 0.3871\n",
      "Epoch 63/100\n",
      "1/1 [==============================] - 0s 4ms/step - loss: 0.6816 - mae: 0.6816\n",
      "Epoch 64/100\n",
      "1/1 [==============================] - 0s 4ms/step - loss: 0.4677 - mae: 0.4677\n",
      "Epoch 65/100\n",
      "1/1 [==============================] - 0s 4ms/step - loss: 0.3598 - mae: 0.3598\n",
      "Epoch 66/100\n",
      "1/1 [==============================] - 0s 4ms/step - loss: 0.4359 - mae: 0.4359\n",
      "Epoch 67/100\n",
      "1/1 [==============================] - 0s 4ms/step - loss: 0.1619 - mae: 0.1619\n",
      "Epoch 68/100\n",
      "1/1 [==============================] - 0s 4ms/step - loss: 0.4373 - mae: 0.4373\n",
      "Epoch 69/100\n",
      "1/1 [==============================] - 0s 4ms/step - loss: 0.2020 - mae: 0.2020\n",
      "Epoch 70/100\n",
      "1/1 [==============================] - 0s 5ms/step - loss: 0.5741 - mae: 0.5741\n",
      "Epoch 71/100\n",
      "1/1 [==============================] - 0s 5ms/step - loss: 0.6649 - mae: 0.6649\n",
      "Epoch 72/100\n",
      "1/1 [==============================] - 0s 4ms/step - loss: 0.3014 - mae: 0.3014\n",
      "Epoch 73/100\n",
      "1/1 [==============================] - 0s 4ms/step - loss: 0.5348 - mae: 0.5348\n",
      "Epoch 74/100\n",
      "1/1 [==============================] - 0s 5ms/step - loss: 0.5902 - mae: 0.5902\n",
      "Epoch 75/100\n",
      "1/1 [==============================] - 0s 5ms/step - loss: 0.2250 - mae: 0.2250\n",
      "Epoch 76/100\n",
      "1/1 [==============================] - 0s 5ms/step - loss: 0.4223 - mae: 0.4223\n",
      "Epoch 77/100\n",
      "1/1 [==============================] - 0s 5ms/step - loss: 0.2412 - mae: 0.2412\n",
      "Epoch 78/100\n",
      "1/1 [==============================] - 0s 4ms/step - loss: 0.4274 - mae: 0.4274\n",
      "Epoch 79/100\n",
      "1/1 [==============================] - 0s 4ms/step - loss: 0.4451 - mae: 0.4451\n",
      "Epoch 80/100\n",
      "1/1 [==============================] - 0s 4ms/step - loss: 0.3525 - mae: 0.3525\n",
      "Epoch 81/100\n",
      "1/1 [==============================] - 0s 4ms/step - loss: 0.4075 - mae: 0.4075\n",
      "Epoch 82/100\n",
      "1/1 [==============================] - 0s 4ms/step - loss: 0.1078 - mae: 0.1078\n",
      "Epoch 83/100\n",
      "1/1 [==============================] - 0s 5ms/step - loss: 0.3463 - mae: 0.3463\n",
      "Epoch 84/100\n",
      "1/1 [==============================] - 0s 4ms/step - loss: 0.1326 - mae: 0.1326\n",
      "Epoch 85/100\n",
      "1/1 [==============================] - 0s 4ms/step - loss: 0.2501 - mae: 0.2501\n",
      "Epoch 86/100\n",
      "1/1 [==============================] - 0s 4ms/step - loss: 0.1859 - mae: 0.1859\n",
      "Epoch 87/100\n",
      "1/1 [==============================] - 0s 4ms/step - loss: 0.3623 - mae: 0.3623\n",
      "Epoch 88/100\n",
      "1/1 [==============================] - 0s 4ms/step - loss: 0.2337 - mae: 0.2337\n",
      "Epoch 89/100\n",
      "1/1 [==============================] - 0s 4ms/step - loss: 0.4149 - mae: 0.4149\n",
      "Epoch 90/100\n",
      "1/1 [==============================] - 0s 4ms/step - loss: 0.4145 - mae: 0.4145\n",
      "Epoch 91/100\n",
      "1/1 [==============================] - 0s 4ms/step - loss: 0.1334 - mae: 0.1334\n",
      "Epoch 92/100\n",
      "1/1 [==============================] - 0s 4ms/step - loss: 0.0817 - mae: 0.0817\n",
      "Epoch 93/100\n",
      "1/1 [==============================] - 0s 4ms/step - loss: 0.2563 - mae: 0.2563\n",
      "Epoch 94/100\n",
      "1/1 [==============================] - 0s 3ms/step - loss: 0.1455 - mae: 0.1455\n",
      "Epoch 95/100\n",
      "1/1 [==============================] - 0s 3ms/step - loss: 0.0937 - mae: 0.0937\n",
      "Epoch 96/100\n",
      "1/1 [==============================] - 0s 5ms/step - loss: 0.2368 - mae: 0.2368\n",
      "Epoch 97/100\n",
      "1/1 [==============================] - 0s 5ms/step - loss: 0.0909 - mae: 0.0909\n",
      "Epoch 98/100\n",
      "1/1 [==============================] - 0s 5ms/step - loss: 0.0695 - mae: 0.0695\n",
      "Epoch 99/100\n",
      "1/1 [==============================] - 0s 5ms/step - loss: 0.0728 - mae: 0.0728\n",
      "Epoch 100/100\n",
      "1/1 [==============================] - 0s 4ms/step - loss: 0.2563 - mae: 0.2563\n"
     ]
    },
    {
     "data": {
      "text/plain": "<keras.src.callbacks.History at 0x7f1264e245b0>"
     },
     "execution_count": 14,
     "metadata": {},
     "output_type": "execute_result"
    }
   ],
   "source": [
    "# Let's see if we can make another to improve our model\n",
    "\n",
    "# 1. Create the model (with hidden layer with 100 hidden units)\n",
    "model = tf.keras.Sequential([\n",
    "    tf.keras.layers.Dense(100, activation=\"relu\"),\n",
    "    tf.keras.layers.Dense(100, activation=\"relu\"),\n",
    "    tf.keras.layers.Dense(1)\n",
    "])\n",
    "\n",
    "# 2. Compile the model\n",
    "model.compile(loss=tf.keras.losses.mae,\n",
    "              optimizer=tf.keras.optimizers.Adam(learning_rate=0.01),\n",
    "              metrics=[\"mae\"])\n",
    "\n",
    "# 3. Fit the model\n",
    "model.fit(tf.expand_dims(X, axis=-1), y, epochs=100)"
   ],
   "metadata": {
    "collapsed": false,
    "ExecuteTime": {
     "end_time": "2023-10-22T07:55:33.729836963Z",
     "start_time": "2023-10-22T07:55:32.337878983Z"
    }
   },
   "id": "f294593b265431b5"
  },
  {
   "cell_type": "code",
   "execution_count": 15,
   "outputs": [
    {
     "name": "stdout",
     "output_type": "stream",
     "text": [
      "1/1 [==============================] - 0s 51ms/step\n"
     ]
    },
    {
     "data": {
      "text/plain": "array([[28.195105]], dtype=float32)"
     },
     "execution_count": 15,
     "metadata": {},
     "output_type": "execute_result"
    }
   ],
   "source": [
    "# Let's see if our models's prediction has improved\n",
    "model.predict([18.0])"
   ],
   "metadata": {
    "collapsed": false,
    "ExecuteTime": {
     "end_time": "2023-10-22T07:55:33.829084793Z",
     "start_time": "2023-10-22T07:55:33.497530366Z"
    }
   },
   "id": "b0924e554afceffb"
  },
  {
   "cell_type": "markdown",
   "source": [
    "## Evaluting a model\n",
    "\n",
    "In practice, a typical workflow you'll go through when building a neural networks is:\n",
    "\n",
    "```\n",
    "Build a model -> fit it -> evaluate it -> tweak a model -> fit it -> evaluate it -> tweak a model -> fit it -> evaluate it...\n",
    "```"
   ],
   "metadata": {
    "collapsed": false
   },
   "id": "d831fde983abb033"
  },
  {
   "cell_type": "markdown",
   "source": [
    "when it comes to evaluation...there are 3 words you should memorize:\n",
    "\n",
    "> \"Visualize, visualize, visualize\"\n",
    "\n",
    "It's a good idea to visualize:\n",
    "* The data - what data are working with? what does it look like?\n",
    "* The model itself - what does our model look like?\n",
    "* The training of a model - how does a model perform while it learns?\n",
    "* The predictions of the model - how do the predictions of a model line up against the ground truth ( the originals labels)?"
   ],
   "metadata": {
    "collapsed": false
   },
   "id": "234802e8b7574c19"
  },
  {
   "cell_type": "code",
   "execution_count": 16,
   "outputs": [
    {
     "data": {
      "text/plain": "<tf.Tensor: shape=(50,), dtype=int32, numpy=\narray([-100,  -96,  -92,  -88,  -84,  -80,  -76,  -72,  -68,  -64,  -60,\n        -56,  -52,  -48,  -44,  -40,  -36,  -32,  -28,  -24,  -20,  -16,\n        -12,   -8,   -4,    0,    4,    8,   12,   16,   20,   24,   28,\n         32,   36,   40,   44,   48,   52,   56,   60,   64,   68,   72,\n         76,   80,   84,   88,   92,   96], dtype=int32)>"
     },
     "execution_count": 16,
     "metadata": {},
     "output_type": "execute_result"
    }
   ],
   "source": [
    "# Make a bigger dataset\n",
    "X = tf.range(-100,100, 4)\n",
    "X"
   ],
   "metadata": {
    "collapsed": false,
    "ExecuteTime": {
     "end_time": "2023-10-22T07:55:33.920371851Z",
     "start_time": "2023-10-22T07:55:33.584438230Z"
    }
   },
   "id": "16d855a8a21d5759"
  },
  {
   "cell_type": "code",
   "execution_count": 17,
   "outputs": [
    {
     "data": {
      "text/plain": "<tf.Tensor: shape=(50,), dtype=int32, numpy=\narray([-90, -86, -82, -78, -74, -70, -66, -62, -58, -54, -50, -46, -42,\n       -38, -34, -30, -26, -22, -18, -14, -10,  -6,  -2,   2,   6,  10,\n        14,  18,  22,  26,  30,  34,  38,  42,  46,  50,  54,  58,  62,\n        66,  70,  74,  78,  82,  86,  90,  94,  98, 102, 106], dtype=int32)>"
     },
     "execution_count": 17,
     "metadata": {},
     "output_type": "execute_result"
    }
   ],
   "source": [
    "# Make labels for the dataset\n",
    "y = X + 10\n",
    "y"
   ],
   "metadata": {
    "collapsed": false,
    "ExecuteTime": {
     "end_time": "2023-10-22T07:55:33.922277904Z",
     "start_time": "2023-10-22T07:55:33.632532577Z"
    }
   },
   "id": "9ad0c6e3f71b0eac"
  },
  {
   "cell_type": "code",
   "execution_count": 18,
   "outputs": [
    {
     "data": {
      "text/plain": "<matplotlib.collections.PathCollection at 0x7f1264e09ed0>"
     },
     "execution_count": 18,
     "metadata": {},
     "output_type": "execute_result"
    },
    {
     "data": {
      "text/plain": "<Figure size 640x480 with 1 Axes>",
      "image/png": "[encoded data removed]"
     },
     "metadata": {},
     "output_type": "display_data"
    }
   ],
   "source": [
    "# Visualize the data\n",
    "import matplotlib.pyplot as plt\n",
    "\n",
    "plt.scatter(X, y)"
   ],
   "metadata": {
    "collapsed": false,
    "ExecuteTime": {
     "end_time": "2023-10-22T07:55:33.999598286Z",
     "start_time": "2023-10-22T07:55:33.632779838Z"
    }
   },
   "id": "d57a0f53b88cf44c"
  },
  {
   "cell_type": "markdown",
   "source": [
    "### The 3 sets...\n",
    "\n",
    "* **Training set** - the model learns from this data, which is typically 70-80% of the total data you have available.\n",
    "* **Validation set** - the model gets tuned on this data, which is typically 10-15% of the data available.\n",
    "* **Test set** - the model gets evaluated on this data to test what is has learned, this set is typically 10-15% of the total data available."
   ],
   "metadata": {
    "collapsed": false
   },
   "id": "9b13e93a47947b8b"
  },
  {
   "cell_type": "code",
   "execution_count": 19,
   "outputs": [
    {
     "data": {
      "text/plain": "50"
     },
     "execution_count": 19,
     "metadata": {},
     "output_type": "execute_result"
    }
   ],
   "source": [
    "# Check the length of how many samples we have\n",
    "len(X)"
   ],
   "metadata": {
    "collapsed": false,
    "ExecuteTime": {
     "end_time": "2023-10-22T07:55:33.999991362Z",
     "start_time": "2023-10-22T07:55:33.784453898Z"
    }
   },
   "id": "708ea0ae161c0180"
  },
  {
   "cell_type": "code",
   "execution_count": 20,
   "outputs": [
    {
     "data": {
      "text/plain": "(40, 10)"
     },
     "execution_count": 20,
     "metadata": {},
     "output_type": "execute_result"
    }
   ],
   "source": [
    "# Split the data into train and test sets\n",
    "X_train = X[:40]\n",
    "y_train = y[:40]\n",
    "\n",
    "X_test = X[40:]\n",
    "y_test = y[40:]\n",
    "\n",
    "len(X_train), len(X_test)"
   ],
   "metadata": {
    "collapsed": false,
    "ExecuteTime": {
     "end_time": "2023-10-22T07:55:34.000337373Z",
     "start_time": "2023-10-22T07:55:33.784674028Z"
    }
   },
   "id": "90d21e76bd6e11f6"
  },
  {
   "cell_type": "markdown",
   "source": [
    "### Visualizing the data\n",
    "\n",
    "Now we've got our data in training and test sets...let's visualize it again!"
   ],
   "metadata": {
    "collapsed": false
   },
   "id": "8ae7ba288b1cbba9"
  },
  {
   "cell_type": "code",
   "execution_count": 21,
   "outputs": [
    {
     "data": {
      "text/plain": "<matplotlib.legend.Legend at 0x7f125cf24370>"
     },
     "execution_count": 21,
     "metadata": {},
     "output_type": "execute_result"
    },
    {
     "data": {
      "text/plain": "<Figure size 1000x700 with 1 Axes>",
      "image/png": "[encoded data removed]"
     },
     "metadata": {},
     "output_type": "display_data"
    }
   ],
   "source": [
    "plt.figure(figsize=(10,7))\n",
    "# Plot training data in blue\n",
    "plt.scatter(X_train, y_train, c=\"b\", label=\"Training data\")\n",
    "# Plot test data in green\n",
    "plt.scatter(X_test, y_test, c='g', label=\"Testing data\")\n",
    "# Show a legend\n",
    "plt.legend()"
   ],
   "metadata": {
    "collapsed": false,
    "ExecuteTime": {
     "end_time": "2023-10-22T07:55:34.156433790Z",
     "start_time": "2023-10-22T07:55:33.784789545Z"
    }
   },
   "id": "5e98ed1d27d9d011"
  },
  {
   "cell_type": "code",
   "execution_count": 22,
   "outputs": [],
   "source": [
    "# Let's have a look at how to build a neural network for our data\n",
    "\n",
    "# 1. Create a model\n",
    "model = tf.keras.Sequential([\n",
    "    tf.keras.layers.Dense(1)\n",
    "])\n",
    "\n",
    "# 2. Compile the model\n",
    "model.compile(loss=tf.keras.losses.mae,\n",
    "              optimizer=tf.keras.optimizers.SGD(),\n",
    "              metrics=[\"mae\"])\n",
    "\n",
    "# # 3. Fit the model\n",
    "# model.fit(X_train, y_train, epochs=100)"
   ],
   "metadata": {
    "collapsed": false,
    "ExecuteTime": {
     "end_time": "2023-10-22T07:55:34.156958473Z",
     "start_time": "2023-10-22T07:55:34.008611606Z"
    }
   },
   "id": "cb4168a930a5b03c"
  },
  {
   "cell_type": "markdown",
   "source": [
    "### Visualizing the model"
   ],
   "metadata": {
    "collapsed": false
   },
   "id": "6ea9d9098a9c57f1"
  },
  {
   "cell_type": "code",
   "execution_count": 23,
   "outputs": [
    {
     "ename": "ValueError",
     "evalue": "This model has not yet been built. Build the model first by calling `build()` or by calling the model on a batch of data.",
     "output_type": "error",
     "traceback": [
      "\u001B[0;31m---------------------------------------------------------------------------\u001B[0m",
      "\u001B[0;31mValueError\u001B[0m                                Traceback (most recent call last)",
      "Cell \u001B[0;32mIn[23], line 1\u001B[0m\n\u001B[0;32m----> 1\u001B[0m \u001B[43mmodel\u001B[49m\u001B[38;5;241;43m.\u001B[39;49m\u001B[43msummary\u001B[49m\u001B[43m(\u001B[49m\u001B[43m)\u001B[49m\n",
      "File \u001B[0;32m~/github/tensorflow/venv/lib/python3.10/site-packages/keras/src/engine/training.py:3482\u001B[0m, in \u001B[0;36mModel.summary\u001B[0;34m(self, line_length, positions, print_fn, expand_nested, show_trainable, layer_range)\u001B[0m\n\u001B[1;32m   3451\u001B[0m \u001B[38;5;250m\u001B[39m\u001B[38;5;124;03m\"\"\"Prints a string summary of the network.\u001B[39;00m\n\u001B[1;32m   3452\u001B[0m \n\u001B[1;32m   3453\u001B[0m \u001B[38;5;124;03mArgs:\u001B[39;00m\n\u001B[0;32m   (...)\u001B[0m\n\u001B[1;32m   3479\u001B[0m \u001B[38;5;124;03m    ValueError: if `summary()` is called before the model is built.\u001B[39;00m\n\u001B[1;32m   3480\u001B[0m \u001B[38;5;124;03m\"\"\"\u001B[39;00m\n\u001B[1;32m   3481\u001B[0m \u001B[38;5;28;01mif\u001B[39;00m \u001B[38;5;129;01mnot\u001B[39;00m \u001B[38;5;28mself\u001B[39m\u001B[38;5;241m.\u001B[39mbuilt:\n\u001B[0;32m-> 3482\u001B[0m     \u001B[38;5;28;01mraise\u001B[39;00m \u001B[38;5;167;01mValueError\u001B[39;00m(\n\u001B[1;32m   3483\u001B[0m         \u001B[38;5;124m\"\u001B[39m\u001B[38;5;124mThis model has not yet been built. \u001B[39m\u001B[38;5;124m\"\u001B[39m\n\u001B[1;32m   3484\u001B[0m         \u001B[38;5;124m\"\u001B[39m\u001B[38;5;124mBuild the model first by calling `build()` or by calling \u001B[39m\u001B[38;5;124m\"\u001B[39m\n\u001B[1;32m   3485\u001B[0m         \u001B[38;5;124m\"\u001B[39m\u001B[38;5;124mthe model on a batch of data.\u001B[39m\u001B[38;5;124m\"\u001B[39m\n\u001B[1;32m   3486\u001B[0m     )\n\u001B[1;32m   3487\u001B[0m layer_utils\u001B[38;5;241m.\u001B[39mprint_summary(\n\u001B[1;32m   3488\u001B[0m     \u001B[38;5;28mself\u001B[39m,\n\u001B[1;32m   3489\u001B[0m     line_length\u001B[38;5;241m=\u001B[39mline_length,\n\u001B[0;32m   (...)\u001B[0m\n\u001B[1;32m   3494\u001B[0m     layer_range\u001B[38;5;241m=\u001B[39mlayer_range,\n\u001B[1;32m   3495\u001B[0m )\n",
      "\u001B[0;31mValueError\u001B[0m: This model has not yet been built. Build the model first by calling `build()` or by calling the model on a batch of data."
     ]
    }
   ],
   "source": [
    "model.summary()"
   ],
   "metadata": {
    "collapsed": false,
    "ExecuteTime": {
     "end_time": "2023-10-22T07:55:34.491265571Z",
     "start_time": "2023-10-22T07:55:34.008893747Z"
    }
   },
   "id": "52318216877b073"
  },
  {
   "cell_type": "code",
   "execution_count": 39,
   "outputs": [],
   "source": [
    "# Let's create a model which builds automatically by defining the input_shape argument\n",
    "tf.random.set_seed(42)\n",
    "\n",
    "# 1. Create a model\n",
    "model = tf.keras.Sequential([\n",
    "    tf.keras.layers.Dense(10, input_shape=[1], name=\"input_layer\"),\n",
    "    tf.keras.layers.Dense(1, name=\"output_layer\")\n",
    "], name=\"model_1\")\n",
    "\n",
    "# 2. Compile the model\n",
    "model.compile(loss=tf.keras.losses.mae,\n",
    "              optimizer=tf.keras.optimizers.SGD(),\n",
    "              metrics=[\"mae\"])"
   ],
   "metadata": {
    "collapsed": false,
    "ExecuteTime": {
     "end_time": "2023-10-22T07:58:49.530343084Z",
     "start_time": "2023-10-22T07:58:49.473491938Z"
    }
   },
   "id": "a16075b074508b1"
  },
  {
   "cell_type": "code",
   "execution_count": 40,
   "outputs": [
    {
     "name": "stdout",
     "output_type": "stream",
     "text": [
      "Model: \"model_1\"\n",
      "_________________________________________________________________\n",
      " Layer (type)                Output Shape              Param #   \n",
      "=================================================================\n",
      " input_layer (Dense)         (None, 10)                20        \n",
      "                                                                 \n",
      " output_layer (Dense)        (None, 1)                 11        \n",
      "                                                                 \n",
      "=================================================================\n",
      "Total params: 31 (124.00 Byte)\n",
      "Trainable params: 31 (124.00 Byte)\n",
      "Non-trainable params: 0 (0.00 Byte)\n",
      "_________________________________________________________________\n"
     ]
    }
   ],
   "source": [
    "model.summary()"
   ],
   "metadata": {
    "collapsed": false,
    "ExecuteTime": {
     "end_time": "2023-10-22T07:58:50.491891786Z",
     "start_time": "2023-10-22T07:58:50.422105494Z"
    }
   },
   "id": "9f86bee93b80ff45"
  },
  {
   "cell_type": "markdown",
   "source": [
    "* Total params - total number of parameters in the model.\n",
    "* Trainable parameters - these are the parameters (patterns) the model can update as it trains.\n",
    "* Non-trainable parameter - these aren't updated during training (this is typical when you bring in already learn patterns or parameters from other model during **transfer learning**)."
   ],
   "metadata": {
    "collapsed": false
   },
   "id": "c90f88245f040d90"
  },
  {
   "cell_type": "code",
   "execution_count": 41,
   "outputs": [
    {
     "data": {
      "text/plain": "<keras.src.callbacks.History at 0x7f1264ccd8a0>"
     },
     "execution_count": 41,
     "metadata": {},
     "output_type": "execute_result"
    }
   ],
   "source": [
    "# Let's fit our model to the training data\n",
    "model.fit(X_train, y_train, epochs=100, verbose=0)"
   ],
   "metadata": {
    "collapsed": false,
    "ExecuteTime": {
     "end_time": "2023-10-22T07:58:52.584159349Z",
     "start_time": "2023-10-22T07:58:52.051770121Z"
    }
   },
   "id": "a599e056db5a3eef"
  },
  {
   "cell_type": "code",
   "execution_count": 42,
   "outputs": [
    {
     "name": "stdout",
     "output_type": "stream",
     "text": [
      "Model: \"model_1\"\n",
      "_________________________________________________________________\n",
      " Layer (type)                Output Shape              Param #   \n",
      "=================================================================\n",
      " input_layer (Dense)         (None, 10)                20        \n",
      "                                                                 \n",
      " output_layer (Dense)        (None, 1)                 11        \n",
      "                                                                 \n",
      "=================================================================\n",
      "Total params: 31 (124.00 Byte)\n",
      "Trainable params: 31 (124.00 Byte)\n",
      "Non-trainable params: 0 (0.00 Byte)\n",
      "_________________________________________________________________\n"
     ]
    }
   ],
   "source": [
    "# Get a summary of our model\n",
    "model.summary()"
   ],
   "metadata": {
    "collapsed": false,
    "ExecuteTime": {
     "end_time": "2023-10-22T07:58:53.368867166Z",
     "start_time": "2023-10-22T07:58:53.322210419Z"
    }
   },
   "id": "1e34de72a85b868a"
  },
  {
   "cell_type": "code",
   "execution_count": 43,
   "outputs": [
    {
     "data": {
      "image/png": "[encoded data removed]",
      "text/plain": "<IPython.core.display.Image object>"
     },
     "execution_count": 43,
     "metadata": {},
     "output_type": "execute_result"
    }
   ],
   "source": [
    "from tensorflow.keras.utils import plot_model\n",
    "plot_model(model=model, show_shapes=True, to_file=\"model.png\")"
   ],
   "metadata": {
    "collapsed": false,
    "ExecuteTime": {
     "end_time": "2023-10-22T07:58:55.018664412Z",
     "start_time": "2023-10-22T07:58:54.980917627Z"
    }
   },
   "id": "6a2f3b0042bfe22a"
  },
  {
   "cell_type": "markdown",
   "source": [
    "### Visualizing our model's prediction\n",
    "\n",
    "To visualize predictions, it's a good idea to plot them against the ground truth labels.\n",
    "\n",
    "Often you'll see this in the form of `y_set` or `y_true` versus `y_pred` (ground truth versus your model's predictions)."
   ],
   "metadata": {
    "collapsed": false
   },
   "id": "d85923fdbed2739d"
  },
  {
   "cell_type": "code",
   "execution_count": 44,
   "outputs": [
    {
     "name": "stdout",
     "output_type": "stream",
     "text": [
      "1/1 [==============================] - 0s 39ms/step\n"
     ]
    },
    {
     "data": {
      "text/plain": "array([[ 70.39301 ],\n       [ 74.97188 ],\n       [ 79.550735],\n       [ 84.12959 ],\n       [ 88.70845 ],\n       [ 93.287315],\n       [ 97.86617 ],\n       [102.44503 ],\n       [107.02389 ],\n       [111.60274 ]], dtype=float32)"
     },
     "execution_count": 44,
     "metadata": {},
     "output_type": "execute_result"
    }
   ],
   "source": [
    "# Make some predictions\n",
    "y_pred = model.predict(X_test)\n",
    "y_pred"
   ],
   "metadata": {
    "collapsed": false,
    "ExecuteTime": {
     "end_time": "2023-10-22T07:58:57.439779276Z",
     "start_time": "2023-10-22T07:58:57.350571679Z"
    }
   },
   "id": "c7827ad20bdc4808"
  },
  {
   "cell_type": "code",
   "execution_count": 45,
   "outputs": [
    {
     "data": {
      "text/plain": "<tf.Tensor: shape=(10,), dtype=int32, numpy=array([ 70,  74,  78,  82,  86,  90,  94,  98, 102, 106], dtype=int32)>"
     },
     "execution_count": 45,
     "metadata": {},
     "output_type": "execute_result"
    }
   ],
   "source": [
    "y_test"
   ],
   "metadata": {
    "collapsed": false,
    "ExecuteTime": {
     "end_time": "2023-10-22T07:58:58.465991286Z",
     "start_time": "2023-10-22T07:58:58.417253180Z"
    }
   },
   "id": "fd6715cbcff63bda"
  },
  {
   "cell_type": "code",
   "execution_count": 46,
   "outputs": [],
   "source": [
    "# Let's create a plotting function\n",
    "def plot_predictions(train_data=X_train,\n",
    "                     train_labels=y_train,\n",
    "                     test_data=X_test,\n",
    "                     test_labels=y_test,\n",
    "                     predictions=y_pred):\n",
    "    \"\"\"\n",
    "    PLots training data, test data and compares predictions to ground truth label\n",
    "    :param train_data: list of training data\n",
    "    :param train_labels: \n",
    "    :param test_data: \n",
    "    :param test_labels: \n",
    "    :param predictions: \n",
    "    :return: show the legend relation between train_data, train_labels and test_data, test_labels\n",
    "    \"\"\"\n",
    "    plt.figure(figsize=(10,7))\n",
    "    # Plot training data in blue\n",
    "    plt.scatter(train_data, train_labels, c=\"b\", label=\"Training data\")\n",
    "    # Plot testing data in green\n",
    "    plt.scatter(test_data, test_labels, c=\"g\", label=\"Testing data\")\n",
    "    # Plot model's predictions in red\n",
    "    plt.scatter(test_data, predictions, c=\"r\", label=\"Predictions\")\n",
    "    # Show the legend\n",
    "    plt.legend()"
   ],
   "metadata": {
    "collapsed": false,
    "ExecuteTime": {
     "end_time": "2023-10-22T07:58:59.258308529Z",
     "start_time": "2023-10-22T07:58:59.228081585Z"
    }
   },
   "id": "5d72e7d72cb7e1ab"
  },
  {
   "cell_type": "code",
   "execution_count": 47,
   "outputs": [
    {
     "data": {
      "text/plain": "<Figure size 1000x700 with 1 Axes>",
      "image/png": "[encoded data removed]"
     },
     "metadata": {},
     "output_type": "display_data"
    }
   ],
   "source": [
    "plot_predictions(train_data=X_train, \n",
    "                 train_labels=y_train, \n",
    "                 test_data=X_test, \n",
    "                 test_labels=y_test, \n",
    "                 predictions=y_pred)"
   ],
   "metadata": {
    "collapsed": false,
    "ExecuteTime": {
     "end_time": "2023-10-22T07:59:00.043770139Z",
     "start_time": "2023-10-22T07:58:59.832093587Z"
    }
   },
   "id": "a86f97828e9ef858"
  },
  {
   "cell_type": "markdown",
   "source": [
    "### Evaluating our model's predictions with regression evaluation metrics\n",
    "\n",
    "Depending on the problem you're working on, there will be different evaluation metrics to evaluate your model's performance.\n",
    "\n",
    "Since we're working on a regression, two of the main metrics:\n",
    "* MAE - mean absolute error, \"on average, how wrong is each of my model's predictions\"\n",
    "* MSE - mean square error, \"square the average errors\""
   ],
   "metadata": {
    "collapsed": false
   },
   "id": "6744fa81053ae66c"
  },
  {
   "cell_type": "code",
   "execution_count": 48,
   "outputs": [
    {
     "name": "stdout",
     "output_type": "stream",
     "text": [
      "1/1 [==============================] - 0s 98ms/step - loss: 2.9979 - mae: 2.9979\n"
     ]
    },
    {
     "data": {
      "text/plain": "[2.9978814125061035, 2.9978814125061035]"
     },
     "execution_count": 48,
     "metadata": {},
     "output_type": "execute_result"
    }
   ],
   "source": [
    "# Evaluate the model on the test\n",
    "model.evaluate(X_test, y_test)"
   ],
   "metadata": {
    "collapsed": false,
    "ExecuteTime": {
     "end_time": "2023-10-22T07:59:01.387904574Z",
     "start_time": "2023-10-22T07:59:01.247029690Z"
    }
   },
   "id": "79795da68408e70d"
  },
  {
   "cell_type": "code",
   "execution_count": 49,
   "outputs": [
    {
     "data": {
      "text/plain": "array([[ 70.39301 ],\n       [ 74.97188 ],\n       [ 79.550735],\n       [ 84.12959 ],\n       [ 88.70845 ],\n       [ 93.287315],\n       [ 97.86617 ],\n       [102.44503 ],\n       [107.02389 ],\n       [111.60274 ]], dtype=float32)"
     },
     "execution_count": 49,
     "metadata": {},
     "output_type": "execute_result"
    }
   ],
   "source": [
    "y_pred"
   ],
   "metadata": {
    "collapsed": false,
    "ExecuteTime": {
     "end_time": "2023-10-22T07:59:01.846038469Z",
     "start_time": "2023-10-22T07:59:01.833112044Z"
    }
   },
   "id": "1c9308da80f1c561"
  },
  {
   "cell_type": "code",
   "execution_count": 50,
   "outputs": [
    {
     "data": {
      "text/plain": "<tf.Tensor: shape=(10,), dtype=int32, numpy=array([ 70,  74,  78,  82,  86,  90,  94,  98, 102, 106], dtype=int32)>"
     },
     "execution_count": 50,
     "metadata": {},
     "output_type": "execute_result"
    }
   ],
   "source": [
    "y_test"
   ],
   "metadata": {
    "collapsed": false,
    "ExecuteTime": {
     "end_time": "2023-10-22T07:59:02.759256639Z",
     "start_time": "2023-10-22T07:59:02.734310213Z"
    }
   },
   "id": "760721ceeb327398"
  },
  {
   "cell_type": "code",
   "execution_count": 51,
   "outputs": [
    {
     "data": {
      "text/plain": "<tf.Tensor: shape=(10,), dtype=float32, numpy=\narray([17.685589, 14.216873, 11.779706, 10.374082, 10.      , 10.657463,\n       12.346469, 15.156024, 19.023888, 23.602737], dtype=float32)>"
     },
     "execution_count": 51,
     "metadata": {},
     "output_type": "execute_result"
    }
   ],
   "source": [
    "# Calculate the mean absolute error\n",
    "mae = tf.metrics.mean_absolute_error(y_true=y_test, y_pred=y_pred)\n",
    "mae"
   ],
   "metadata": {
    "collapsed": false,
    "ExecuteTime": {
     "end_time": "2023-10-22T07:59:03.791951228Z",
     "start_time": "2023-10-22T07:59:03.780758897Z"
    }
   },
   "id": "56660c7012b74741"
  },
  {
   "cell_type": "code",
   "execution_count": 52,
   "outputs": [
    {
     "data": {
      "text/plain": "<tf.Tensor: shape=(10,), dtype=float32, numpy=\narray([ 70.39301 ,  74.97188 ,  79.550735,  84.12959 ,  88.70845 ,\n        93.287315,  97.86617 , 102.44503 , 107.02389 , 111.60274 ],\n      dtype=float32)>"
     },
     "execution_count": 52,
     "metadata": {},
     "output_type": "execute_result"
    }
   ],
   "source": [
    "tf.squeeze(y_pred)"
   ],
   "metadata": {
    "collapsed": false,
    "ExecuteTime": {
     "end_time": "2023-10-22T08:00:06.321599903Z",
     "start_time": "2023-10-22T08:00:06.254537191Z"
    }
   },
   "id": "a541cdffd3c2d98d"
  },
  {
   "cell_type": "code",
   "execution_count": 53,
   "outputs": [
    {
     "data": {
      "text/plain": "<tf.Tensor: shape=(), dtype=float32, numpy=2.9978814>"
     },
     "execution_count": 53,
     "metadata": {},
     "output_type": "execute_result"
    }
   ],
   "source": [
    "# Calculate the mean absolute error\n",
    "mae = tf.metrics.mean_absolute_error(y_true=y_test, y_pred=tf.squeeze(y_pred))\n",
    "mae"
   ],
   "metadata": {
    "collapsed": false,
    "ExecuteTime": {
     "end_time": "2023-10-22T08:01:07.545088692Z",
     "start_time": "2023-10-22T08:01:07.457693998Z"
    }
   },
   "id": "d9c44ffb60b4f4cb"
  },
  {
   "cell_type": "code",
   "execution_count": 54,
   "outputs": [
    {
     "data": {
      "text/plain": "<tf.Tensor: shape=(), dtype=float32, numpy=11.75168>"
     },
     "execution_count": 54,
     "metadata": {},
     "output_type": "execute_result"
    }
   ],
   "source": [
    "# Calculate the mean square error\n",
    "mse = tf.metrics.mean_squared_error(y_true=y_test, y_pred=tf.squeeze(y_pred))\n",
    "mse"
   ],
   "metadata": {
    "collapsed": false,
    "ExecuteTime": {
     "end_time": "2023-10-22T08:02:09.539661422Z",
     "start_time": "2023-10-22T08:02:09.487890104Z"
    }
   },
   "id": "7b229cc099f06580"
  },
  {
   "cell_type": "code",
   "execution_count": 64,
   "outputs": [],
   "source": [
    "# Make some functions to reuse MAE and MSE\n",
    "def mae(y_true, y_pred):\n",
    "    return tf.metrics.mean_absolute_error(y_true=y_true, y_pred=tf.squeeze(y_pred))\n",
    "\n",
    "def mse(y_true, y_pred):\n",
    "    return tf.metrics.mean_squared_error(y_true=y_true, y_pred=tf.squeeze(y_pred))"
   ],
   "metadata": {
    "collapsed": false,
    "ExecuteTime": {
     "end_time": "2023-10-22T08:19:49.754699229Z",
     "start_time": "2023-10-22T08:19:49.720299577Z"
    }
   },
   "id": "4fd6470e8d3350a4"
  },
  {
   "cell_type": "markdown",
   "source": [
    "### Running experiments to improve our model\n",
    "\n",
    "\n",
    "```Build a model -> fit it -> evaluate it -> tweak it -> fit it -> evaluate it -> tweak it > fit it -> evaluate it...```\n",
    "\n",
    "1. Get more data - get more examples for your model to train on (more opportunities to learn patterns or relationships between features and labels).\n",
    "2. Make your model larger (using a more complex model) - this might come in the form of more layers or more hidden units in each layer.\n",
    "3. Train for longer - give your model more of a chance to find patterns in the data\n",
    "\n",
    "Let's do 3 modelling experiments:\n",
    "\n",
    "1. `model_1` - same as the original model, 1 layer, trained for 100 epochs.\n",
    "2. `model_2` - 2 layers, trained for 100 epochs.\n",
    "3. `model_3` - 2 layers, trained for 500 epochs."
   ],
   "metadata": {
    "collapsed": false
   },
   "id": "f763540d49ae259d"
  },
  {
   "cell_type": "markdown",
   "source": [
    "#### **Build `model_1`**"
   ],
   "metadata": {
    "collapsed": false
   },
   "id": "3c545cdef0337626"
  },
  {
   "cell_type": "code",
   "execution_count": 59,
   "outputs": [
    {
     "name": "stdout",
     "output_type": "stream",
     "text": [
      "Epoch 1/100\n",
      "2/2 [==============================] - 0s 6ms/step - loss: 47.7876 - mae: 47.7876\n",
      "Epoch 2/100\n",
      "2/2 [==============================] - 0s 3ms/step - loss: 16.1996 - mae: 16.1996\n",
      "Epoch 3/100\n",
      "2/2 [==============================] - 0s 4ms/step - loss: 15.0969 - mae: 15.0969\n",
      "Epoch 4/100\n",
      "2/2 [==============================] - 0s 4ms/step - loss: 8.1930 - mae: 8.1930\n",
      "Epoch 5/100\n",
      "2/2 [==============================] - 0s 9ms/step - loss: 10.6578 - mae: 10.6578\n",
      "Epoch 6/100\n",
      "2/2 [==============================] - 0s 4ms/step - loss: 9.8631 - mae: 9.8631\n",
      "Epoch 7/100\n",
      "2/2 [==============================] - 0s 4ms/step - loss: 8.9336 - mae: 8.9336\n",
      "Epoch 8/100\n",
      "2/2 [==============================] - 0s 4ms/step - loss: 9.0850 - mae: 9.0850\n",
      "Epoch 9/100\n",
      "2/2 [==============================] - 0s 5ms/step - loss: 19.6411 - mae: 19.6411\n",
      "Epoch 10/100\n",
      "2/2 [==============================] - 0s 4ms/step - loss: 10.6166 - mae: 10.6166\n",
      "Epoch 11/100\n",
      "2/2 [==============================] - 0s 4ms/step - loss: 8.6001 - mae: 8.6001\n",
      "Epoch 12/100\n",
      "2/2 [==============================] - 0s 4ms/step - loss: 11.1193 - mae: 11.1193\n",
      "Epoch 13/100\n",
      "2/2 [==============================] - 0s 4ms/step - loss: 12.1683 - mae: 12.1683\n",
      "Epoch 14/100\n",
      "2/2 [==============================] - 0s 5ms/step - loss: 14.1716 - mae: 14.1716\n",
      "Epoch 15/100\n",
      "2/2 [==============================] - 0s 5ms/step - loss: 11.5743 - mae: 11.5743\n",
      "Epoch 16/100\n",
      "2/2 [==============================] - 0s 5ms/step - loss: 8.5027 - mae: 8.5027\n",
      "Epoch 17/100\n",
      "2/2 [==============================] - 0s 4ms/step - loss: 13.5377 - mae: 13.5377\n",
      "Epoch 18/100\n",
      "2/2 [==============================] - 0s 4ms/step - loss: 11.3387 - mae: 11.3387\n",
      "Epoch 19/100\n",
      "2/2 [==============================] - 0s 6ms/step - loss: 18.0870 - mae: 18.0870\n",
      "Epoch 20/100\n",
      "2/2 [==============================] - 0s 4ms/step - loss: 15.2204 - mae: 15.2204\n",
      "Epoch 21/100\n",
      "2/2 [==============================] - 0s 3ms/step - loss: 11.1669 - mae: 11.1669\n",
      "Epoch 22/100\n",
      "2/2 [==============================] - 0s 4ms/step - loss: 8.2900 - mae: 8.2900\n",
      "Epoch 23/100\n",
      "2/2 [==============================] - 0s 5ms/step - loss: 9.4350 - mae: 9.4350\n",
      "Epoch 24/100\n",
      "2/2 [==============================] - 0s 4ms/step - loss: 7.7031 - mae: 7.7031\n",
      "Epoch 25/100\n",
      "2/2 [==============================] - 0s 5ms/step - loss: 12.9815 - mae: 12.9815\n",
      "Epoch 26/100\n",
      "2/2 [==============================] - 0s 5ms/step - loss: 16.5895 - mae: 16.5895\n",
      "Epoch 27/100\n",
      "2/2 [==============================] - 0s 4ms/step - loss: 13.3080 - mae: 13.3080\n",
      "Epoch 28/100\n",
      "2/2 [==============================] - 0s 4ms/step - loss: 14.4353 - mae: 14.4353\n",
      "Epoch 29/100\n",
      "2/2 [==============================] - 0s 4ms/step - loss: 10.1260 - mae: 10.1260\n",
      "Epoch 30/100\n",
      "2/2 [==============================] - 0s 3ms/step - loss: 16.6009 - mae: 16.6009\n",
      "Epoch 31/100\n",
      "2/2 [==============================] - 0s 5ms/step - loss: 23.4172 - mae: 23.4172\n",
      "Epoch 32/100\n",
      "2/2 [==============================] - 0s 3ms/step - loss: 7.3759 - mae: 7.3759\n",
      "Epoch 33/100\n",
      "2/2 [==============================] - 0s 4ms/step - loss: 9.7961 - mae: 9.7961\n",
      "Epoch 34/100\n",
      "2/2 [==============================] - 0s 3ms/step - loss: 12.2268 - mae: 12.2268\n",
      "Epoch 35/100\n",
      "2/2 [==============================] - 0s 4ms/step - loss: 11.1972 - mae: 11.1972\n",
      "Epoch 36/100\n",
      "2/2 [==============================] - 0s 3ms/step - loss: 13.4476 - mae: 13.4476\n",
      "Epoch 37/100\n",
      "2/2 [==============================] - 0s 4ms/step - loss: 9.4406 - mae: 9.4406\n",
      "Epoch 38/100\n",
      "2/2 [==============================] - 0s 3ms/step - loss: 10.0901 - mae: 10.0901\n",
      "Epoch 39/100\n",
      "2/2 [==============================] - 0s 3ms/step - loss: 8.9687 - mae: 8.9687\n",
      "Epoch 40/100\n",
      "2/2 [==============================] - 0s 4ms/step - loss: 9.5952 - mae: 9.5952\n",
      "Epoch 41/100\n",
      "2/2 [==============================] - 0s 3ms/step - loss: 10.5530 - mae: 10.5530\n",
      "Epoch 42/100\n",
      "2/2 [==============================] - 0s 3ms/step - loss: 10.6032 - mae: 10.6032\n",
      "Epoch 43/100\n",
      "2/2 [==============================] - 0s 3ms/step - loss: 7.2205 - mae: 7.2205\n",
      "Epoch 44/100\n",
      "2/2 [==============================] - 0s 3ms/step - loss: 8.0119 - mae: 8.0119\n",
      "Epoch 45/100\n",
      "2/2 [==============================] - 0s 3ms/step - loss: 9.8082 - mae: 9.8082\n",
      "Epoch 46/100\n",
      "2/2 [==============================] - 0s 3ms/step - loss: 8.8851 - mae: 8.8851\n",
      "Epoch 47/100\n",
      "2/2 [==============================] - 0s 2ms/step - loss: 7.5809 - mae: 7.5809\n",
      "Epoch 48/100\n",
      "2/2 [==============================] - 0s 4ms/step - loss: 8.5712 - mae: 8.5712\n",
      "Epoch 49/100\n",
      "2/2 [==============================] - 0s 3ms/step - loss: 10.0153 - mae: 10.0153\n",
      "Epoch 50/100\n",
      "2/2 [==============================] - 0s 3ms/step - loss: 9.0212 - mae: 9.0212\n",
      "Epoch 51/100\n",
      "2/2 [==============================] - 0s 3ms/step - loss: 10.6869 - mae: 10.6869\n",
      "Epoch 52/100\n",
      "2/2 [==============================] - 0s 3ms/step - loss: 15.2950 - mae: 15.2950\n",
      "Epoch 53/100\n",
      "2/2 [==============================] - 0s 3ms/step - loss: 14.3176 - mae: 14.3176\n",
      "Epoch 54/100\n",
      "2/2 [==============================] - 0s 2ms/step - loss: 21.5997 - mae: 21.5997\n",
      "Epoch 55/100\n",
      "2/2 [==============================] - 0s 3ms/step - loss: 16.0103 - mae: 16.0103\n",
      "Epoch 56/100\n",
      "2/2 [==============================] - 0s 2ms/step - loss: 10.2844 - mae: 10.2844\n",
      "Epoch 57/100\n",
      "2/2 [==============================] - 0s 3ms/step - loss: 9.7834 - mae: 9.7834\n",
      "Epoch 58/100\n",
      "2/2 [==============================] - 0s 3ms/step - loss: 9.0687 - mae: 9.0687\n",
      "Epoch 59/100\n",
      "2/2 [==============================] - 0s 3ms/step - loss: 8.2720 - mae: 8.2720\n",
      "Epoch 60/100\n",
      "2/2 [==============================] - 0s 3ms/step - loss: 9.3689 - mae: 9.3689\n",
      "Epoch 61/100\n",
      "2/2 [==============================] - 0s 3ms/step - loss: 11.1831 - mae: 11.1831\n",
      "Epoch 62/100\n",
      "2/2 [==============================] - 0s 3ms/step - loss: 12.0728 - mae: 12.0728\n",
      "Epoch 63/100\n",
      "2/2 [==============================] - 0s 3ms/step - loss: 7.2785 - mae: 7.2785\n",
      "Epoch 64/100\n",
      "2/2 [==============================] - 0s 3ms/step - loss: 12.4453 - mae: 12.4453\n",
      "Epoch 65/100\n",
      "2/2 [==============================] - 0s 3ms/step - loss: 10.5189 - mae: 10.5189\n",
      "Epoch 66/100\n",
      "2/2 [==============================] - 0s 5ms/step - loss: 15.6049 - mae: 15.6049\n",
      "Epoch 67/100\n",
      "2/2 [==============================] - 0s 3ms/step - loss: 10.0110 - mae: 10.0110\n",
      "Epoch 68/100\n",
      "2/2 [==============================] - 0s 3ms/step - loss: 8.7268 - mae: 8.7268\n",
      "Epoch 69/100\n",
      "2/2 [==============================] - 0s 3ms/step - loss: 13.4821 - mae: 13.4821\n",
      "Epoch 70/100\n",
      "2/2 [==============================] - 0s 3ms/step - loss: 7.4781 - mae: 7.4781\n",
      "Epoch 71/100\n",
      "2/2 [==============================] - 0s 3ms/step - loss: 12.2458 - mae: 12.2458\n",
      "Epoch 72/100\n",
      "2/2 [==============================] - 0s 2ms/step - loss: 8.5344 - mae: 8.5344\n",
      "Epoch 73/100\n",
      "2/2 [==============================] - 0s 3ms/step - loss: 7.0473 - mae: 7.0473\n",
      "Epoch 74/100\n",
      "2/2 [==============================] - 0s 3ms/step - loss: 9.9260 - mae: 9.9260\n",
      "Epoch 75/100\n",
      "2/2 [==============================] - 0s 3ms/step - loss: 9.9527 - mae: 9.9527\n",
      "Epoch 76/100\n",
      "2/2 [==============================] - 0s 3ms/step - loss: 10.1174 - mae: 10.1174\n",
      "Epoch 77/100\n",
      "2/2 [==============================] - 0s 3ms/step - loss: 12.9715 - mae: 12.9715\n",
      "Epoch 78/100\n",
      "2/2 [==============================] - 0s 2ms/step - loss: 10.9136 - mae: 10.9136\n",
      "Epoch 79/100\n",
      "2/2 [==============================] - 0s 3ms/step - loss: 15.4124 - mae: 15.4124\n",
      "Epoch 80/100\n",
      "2/2 [==============================] - 0s 3ms/step - loss: 11.7174 - mae: 11.7174\n",
      "Epoch 81/100\n",
      "2/2 [==============================] - 0s 3ms/step - loss: 9.2843 - mae: 9.2843\n",
      "Epoch 82/100\n",
      "2/2 [==============================] - 0s 3ms/step - loss: 12.7155 - mae: 12.7155\n",
      "Epoch 83/100\n",
      "2/2 [==============================] - 0s 3ms/step - loss: 8.2749 - mae: 8.2749\n",
      "Epoch 84/100\n",
      "2/2 [==============================] - 0s 3ms/step - loss: 7.3180 - mae: 7.3180\n",
      "Epoch 85/100\n",
      "2/2 [==============================] - 0s 3ms/step - loss: 10.4928 - mae: 10.4928\n",
      "Epoch 86/100\n",
      "2/2 [==============================] - 0s 3ms/step - loss: 9.1579 - mae: 9.1579\n",
      "Epoch 87/100\n",
      "2/2 [==============================] - 0s 3ms/step - loss: 11.8780 - mae: 11.8780\n",
      "Epoch 88/100\n",
      "2/2 [==============================] - 0s 3ms/step - loss: 10.4881 - mae: 10.4881\n",
      "Epoch 89/100\n",
      "2/2 [==============================] - 0s 3ms/step - loss: 6.9760 - mae: 6.9760\n",
      "Epoch 90/100\n",
      "2/2 [==============================] - 0s 4ms/step - loss: 13.8164 - mae: 13.8164\n",
      "Epoch 91/100\n",
      "2/2 [==============================] - 0s 3ms/step - loss: 7.8868 - mae: 7.8868\n",
      "Epoch 92/100\n",
      "2/2 [==============================] - 0s 4ms/step - loss: 7.4577 - mae: 7.4577\n",
      "Epoch 93/100\n",
      "2/2 [==============================] - 0s 3ms/step - loss: 9.1632 - mae: 9.1632\n",
      "Epoch 94/100\n",
      "2/2 [==============================] - 0s 3ms/step - loss: 8.5659 - mae: 8.5659\n",
      "Epoch 95/100\n",
      "2/2 [==============================] - 0s 4ms/step - loss: 11.5106 - mae: 11.5106\n",
      "Epoch 96/100\n",
      "2/2 [==============================] - 0s 3ms/step - loss: 10.2889 - mae: 10.2889\n",
      "Epoch 97/100\n",
      "2/2 [==============================] - 0s 3ms/step - loss: 7.6908 - mae: 7.6908\n",
      "Epoch 98/100\n",
      "2/2 [==============================] - 0s 3ms/step - loss: 8.6254 - mae: 8.6254\n",
      "Epoch 99/100\n",
      "2/2 [==============================] - 0s 3ms/step - loss: 9.4050 - mae: 9.4050\n",
      "Epoch 100/100\n",
      "2/2 [==============================] - 0s 2ms/step - loss: 8.8482 - mae: 8.8482\n"
     ]
    },
    {
     "data": {
      "text/plain": "<keras.src.callbacks.History at 0x7f125e56a860>"
     },
     "execution_count": 59,
     "metadata": {},
     "output_type": "execute_result"
    }
   ],
   "source": [
    "# set random seed\n",
    "tf.random.set_seed(42)\n",
    "\n",
    "# 1. Create the model\n",
    "model_1 = tf.keras.Sequential([\n",
    "    tf.keras.layers.Dense(1)\n",
    "])\n",
    "\n",
    "# 2. Compile the model\n",
    "model_1.compile(loss=tf.keras.losses.mae,\n",
    "                optimizer=tf.keras.optimizers.SGD(),\n",
    "                metrics=[\"mae\"])\n",
    "\n",
    "# 3. Fit the model\n",
    "model_1.fit(tf.expand_dims(X_train, axis=-1), y_train, epochs=100)"
   ],
   "metadata": {
    "collapsed": false,
    "ExecuteTime": {
     "end_time": "2023-10-22T08:15:18.722555110Z",
     "start_time": "2023-10-22T08:15:17.628843230Z"
    }
   },
   "id": "de29a3e325a496df"
  },
  {
   "cell_type": "code",
   "execution_count": 60,
   "outputs": [
    {
     "name": "stdout",
     "output_type": "stream",
     "text": [
      "WARNING:tensorflow:5 out of the last 5 calls to <function Model.make_predict_function.<locals>.predict_function at 0x7f125e6ab1c0> triggered tf.function retracing. Tracing is expensive and the excessive number of tracings could be due to (1) creating @tf.function repeatedly in a loop, (2) passing tensors with different shapes, (3) passing Python objects instead of tensors. For (1), please define your @tf.function outside of the loop. For (2), @tf.function has reduce_retracing=True option that can avoid unnecessary retracing. For (3), please refer to https://www.tensorflow.org/guide/function#controlling_retracing and https://www.tensorflow.org/api_docs/python/tf/function for  more details.\n",
      "1/1 [==============================] - 0s 37ms/step\n"
     ]
    },
    {
     "data": {
      "text/plain": "<Figure size 1000x700 with 1 Axes>",
      "image/png": "[encoded data removed]"
     },
     "metadata": {},
     "output_type": "display_data"
    }
   ],
   "source": [
    "# Make and plot predictions for model_1\n",
    "y_preds_1 = model_1.predict(X_test)\n",
    "plot_predictions(predictions=y_preds_1)"
   ],
   "metadata": {
    "collapsed": false,
    "ExecuteTime": {
     "end_time": "2023-10-22T08:16:50.182825656Z",
     "start_time": "2023-10-22T08:16:49.879527939Z"
    }
   },
   "id": "34834412d58d2410"
  },
  {
   "cell_type": "code",
   "execution_count": 65,
   "outputs": [
    {
     "data": {
      "text/plain": "(<tf.Tensor: shape=(), dtype=float32, numpy=8.644353>,\n <tf.Tensor: shape=(), dtype=float32, numpy=81.25682>)"
     },
     "execution_count": 65,
     "metadata": {},
     "output_type": "execute_result"
    }
   ],
   "source": [
    "# Calculate model_1 evaluation metrics\n",
    "mae_1 = mae(y_test, y_preds_1)\n",
    "mse_1 = mse(y_test, y_preds_1)\n",
    "mae_1, mse_1"
   ],
   "metadata": {
    "collapsed": false,
    "ExecuteTime": {
     "end_time": "2023-10-22T08:20:02.821603724Z",
     "start_time": "2023-10-22T08:20:02.779526197Z"
    }
   },
   "id": "2c070f245c1d39e1"
  },
  {
   "cell_type": "markdown",
   "source": [
    "#### **Build `model_2`**\n",
    "\n",
    "* 2 dense layers, trained for 100 epochs"
   ],
   "metadata": {
    "collapsed": false
   },
   "id": "ea9ad305ebd263c3"
  },
  {
   "cell_type": "code",
   "execution_count": 71,
   "outputs": [
    {
     "name": "stdout",
     "output_type": "stream",
     "text": [
      "Epoch 1/100\n",
      "2/2 [==============================] - 1s 12ms/step - loss: 49.3294 - mae: 49.3294\n",
      "Epoch 2/100\n",
      "2/2 [==============================] - 0s 7ms/step - loss: 35.4981 - mae: 35.4981\n",
      "Epoch 3/100\n",
      "2/2 [==============================] - 0s 5ms/step - loss: 39.5211 - mae: 39.5211\n",
      "Epoch 4/100\n",
      "2/2 [==============================] - 0s 6ms/step - loss: 27.3209 - mae: 27.3209\n",
      "Epoch 5/100\n",
      "2/2 [==============================] - 0s 9ms/step - loss: 14.9252 - mae: 14.9252\n",
      "Epoch 6/100\n",
      "2/2 [==============================] - 0s 6ms/step - loss: 11.8939 - mae: 11.8939\n",
      "Epoch 7/100\n",
      "2/2 [==============================] - 0s 7ms/step - loss: 13.0030 - mae: 13.0030\n",
      "Epoch 8/100\n",
      "2/2 [==============================] - 0s 7ms/step - loss: 11.1677 - mae: 11.1677\n",
      "Epoch 9/100\n",
      "2/2 [==============================] - 0s 6ms/step - loss: 41.1247 - mae: 41.1247\n",
      "Epoch 10/100\n",
      "2/2 [==============================] - 0s 6ms/step - loss: 28.4348 - mae: 28.4348\n",
      "Epoch 11/100\n",
      "2/2 [==============================] - 0s 6ms/step - loss: 9.3966 - mae: 9.3966\n",
      "Epoch 12/100\n",
      "2/2 [==============================] - 0s 6ms/step - loss: 26.3747 - mae: 26.3747\n",
      "Epoch 13/100\n",
      "2/2 [==============================] - 0s 6ms/step - loss: 14.4221 - mae: 14.4221\n",
      "Epoch 14/100\n",
      "2/2 [==============================] - 0s 6ms/step - loss: 29.7652 - mae: 29.7652\n",
      "Epoch 15/100\n",
      "2/2 [==============================] - 0s 7ms/step - loss: 19.6460 - mae: 19.6460\n",
      "Epoch 16/100\n",
      "2/2 [==============================] - 0s 6ms/step - loss: 9.8247 - mae: 9.8247\n",
      "Epoch 17/100\n",
      "2/2 [==============================] - 0s 7ms/step - loss: 17.6022 - mae: 17.6022\n",
      "Epoch 18/100\n",
      "2/2 [==============================] - 0s 6ms/step - loss: 14.0738 - mae: 14.0738\n",
      "Epoch 19/100\n",
      "2/2 [==============================] - 0s 6ms/step - loss: 13.9119 - mae: 13.9119\n",
      "Epoch 20/100\n",
      "2/2 [==============================] - 0s 6ms/step - loss: 11.1921 - mae: 11.1921\n",
      "Epoch 21/100\n",
      "2/2 [==============================] - 0s 6ms/step - loss: 17.2258 - mae: 17.2258\n",
      "Epoch 22/100\n",
      "2/2 [==============================] - 0s 6ms/step - loss: 15.4641 - mae: 15.4641\n",
      "Epoch 23/100\n",
      "2/2 [==============================] - 0s 6ms/step - loss: 9.2502 - mae: 9.2502\n",
      "Epoch 24/100\n",
      "2/2 [==============================] - 0s 7ms/step - loss: 17.2908 - mae: 17.2908\n",
      "Epoch 25/100\n",
      "2/2 [==============================] - 0s 6ms/step - loss: 15.9594 - mae: 15.9594\n",
      "Epoch 26/100\n",
      "2/2 [==============================] - 0s 6ms/step - loss: 20.9733 - mae: 20.9733\n",
      "Epoch 27/100\n",
      "2/2 [==============================] - 0s 6ms/step - loss: 25.8697 - mae: 25.8697\n",
      "Epoch 28/100\n",
      "2/2 [==============================] - 0s 7ms/step - loss: 18.3808 - mae: 18.3808\n",
      "Epoch 29/100\n",
      "2/2 [==============================] - 0s 6ms/step - loss: 9.2466 - mae: 9.2466\n",
      "Epoch 30/100\n",
      "2/2 [==============================] - 0s 6ms/step - loss: 28.9857 - mae: 28.9857\n",
      "Epoch 31/100\n",
      "2/2 [==============================] - 0s 5ms/step - loss: 52.4884 - mae: 52.4884\n",
      "Epoch 32/100\n",
      "2/2 [==============================] - 0s 6ms/step - loss: 11.8933 - mae: 11.8933\n",
      "Epoch 33/100\n",
      "2/2 [==============================] - 0s 6ms/step - loss: 15.4567 - mae: 15.4567\n",
      "Epoch 34/100\n",
      "2/2 [==============================] - 0s 5ms/step - loss: 12.5715 - mae: 12.5715\n",
      "Epoch 35/100\n",
      "2/2 [==============================] - 0s 7ms/step - loss: 9.1882 - mae: 9.1882\n",
      "Epoch 36/100\n",
      "2/2 [==============================] - 0s 6ms/step - loss: 16.4229 - mae: 16.4229\n",
      "Epoch 37/100\n",
      "2/2 [==============================] - 0s 5ms/step - loss: 11.1045 - mae: 11.1045\n",
      "Epoch 38/100\n",
      "2/2 [==============================] - 0s 7ms/step - loss: 18.2352 - mae: 18.2352\n",
      "Epoch 39/100\n",
      "2/2 [==============================] - 0s 6ms/step - loss: 19.1655 - mae: 19.1655\n",
      "Epoch 40/100\n",
      "2/2 [==============================] - 0s 7ms/step - loss: 20.5473 - mae: 20.5473\n",
      "Epoch 41/100\n",
      "2/2 [==============================] - 0s 6ms/step - loss: 14.7732 - mae: 14.7732\n",
      "Epoch 42/100\n",
      "2/2 [==============================] - 0s 6ms/step - loss: 12.1782 - mae: 12.1782\n",
      "Epoch 43/100\n",
      "2/2 [==============================] - 0s 6ms/step - loss: 10.6878 - mae: 10.6878\n",
      "Epoch 44/100\n",
      "2/2 [==============================] - 0s 5ms/step - loss: 32.1602 - mae: 32.1602\n",
      "Epoch 45/100\n",
      "2/2 [==============================] - 0s 6ms/step - loss: 12.4447 - mae: 12.4447\n",
      "Epoch 46/100\n",
      "2/2 [==============================] - 0s 6ms/step - loss: 17.4330 - mae: 17.4330\n",
      "Epoch 47/100\n",
      "2/2 [==============================] - 0s 5ms/step - loss: 15.7898 - mae: 15.7898\n",
      "Epoch 48/100\n",
      "2/2 [==============================] - 0s 6ms/step - loss: 8.3985 - mae: 8.3985\n",
      "Epoch 49/100\n",
      "2/2 [==============================] - 0s 6ms/step - loss: 14.2497 - mae: 14.2497\n",
      "Epoch 50/100\n",
      "2/2 [==============================] - 0s 5ms/step - loss: 15.1794 - mae: 15.1794\n",
      "Epoch 51/100\n",
      "2/2 [==============================] - 0s 6ms/step - loss: 13.6957 - mae: 13.6957\n",
      "Epoch 52/100\n",
      "2/2 [==============================] - 0s 6ms/step - loss: 18.1106 - mae: 18.1106\n",
      "Epoch 53/100\n",
      "2/2 [==============================] - 0s 6ms/step - loss: 22.7714 - mae: 22.7714\n",
      "Epoch 54/100\n",
      "2/2 [==============================] - 0s 5ms/step - loss: 26.8014 - mae: 26.8014\n",
      "Epoch 55/100\n",
      "2/2 [==============================] - 0s 7ms/step - loss: 26.4358 - mae: 26.4358\n",
      "Epoch 56/100\n",
      "2/2 [==============================] - 0s 8ms/step - loss: 11.3645 - mae: 11.3645\n",
      "Epoch 57/100\n",
      "2/2 [==============================] - 0s 6ms/step - loss: 13.3864 - mae: 13.3864\n",
      "Epoch 58/100\n",
      "2/2 [==============================] - 0s 7ms/step - loss: 9.9655 - mae: 9.9655\n",
      "Epoch 59/100\n",
      "2/2 [==============================] - 0s 6ms/step - loss: 13.9367 - mae: 13.9367\n",
      "Epoch 60/100\n",
      "2/2 [==============================] - 0s 6ms/step - loss: 10.0062 - mae: 10.0062\n",
      "Epoch 61/100\n",
      "2/2 [==============================] - 0s 7ms/step - loss: 14.9886 - mae: 14.9886\n",
      "Epoch 62/100\n",
      "2/2 [==============================] - 0s 8ms/step - loss: 11.9412 - mae: 11.9412\n",
      "Epoch 63/100\n",
      "2/2 [==============================] - 0s 7ms/step - loss: 10.2990 - mae: 10.2990\n",
      "Epoch 64/100\n",
      "2/2 [==============================] - 0s 7ms/step - loss: 23.8968 - mae: 23.8968\n",
      "Epoch 65/100\n",
      "2/2 [==============================] - 0s 5ms/step - loss: 10.4752 - mae: 10.4752\n",
      "Epoch 66/100\n",
      "2/2 [==============================] - 0s 6ms/step - loss: 20.9393 - mae: 20.9393\n",
      "Epoch 67/100\n",
      "2/2 [==============================] - 0s 5ms/step - loss: 10.4517 - mae: 10.4517\n",
      "Epoch 68/100\n",
      "2/2 [==============================] - 0s 6ms/step - loss: 14.1802 - mae: 14.1802\n",
      "Epoch 69/100\n",
      "2/2 [==============================] - 0s 7ms/step - loss: 10.5207 - mae: 10.5207\n",
      "Epoch 70/100\n",
      "2/2 [==============================] - 0s 6ms/step - loss: 12.5916 - mae: 12.5916\n",
      "Epoch 71/100\n",
      "2/2 [==============================] - 0s 6ms/step - loss: 13.0187 - mae: 13.0187\n",
      "Epoch 72/100\n",
      "2/2 [==============================] - 0s 6ms/step - loss: 19.3505 - mae: 19.3505\n",
      "Epoch 73/100\n",
      "2/2 [==============================] - 0s 6ms/step - loss: 11.1339 - mae: 11.1339\n",
      "Epoch 74/100\n",
      "2/2 [==============================] - 0s 6ms/step - loss: 21.4287 - mae: 21.4287\n",
      "Epoch 75/100\n",
      "2/2 [==============================] - 0s 5ms/step - loss: 9.4620 - mae: 9.4620\n",
      "Epoch 76/100\n",
      "2/2 [==============================] - 0s 6ms/step - loss: 12.2837 - mae: 12.2837\n",
      "Epoch 77/100\n",
      "2/2 [==============================] - 0s 7ms/step - loss: 16.3045 - mae: 16.3045\n",
      "Epoch 78/100\n",
      "2/2 [==============================] - 0s 6ms/step - loss: 9.0143 - mae: 9.0143\n",
      "Epoch 79/100\n",
      "2/2 [==============================] - 0s 7ms/step - loss: 23.5409 - mae: 23.5409\n",
      "Epoch 80/100\n",
      "2/2 [==============================] - 0s 6ms/step - loss: 26.2320 - mae: 26.2320\n",
      "Epoch 81/100\n",
      "2/2 [==============================] - 0s 6ms/step - loss: 11.4340 - mae: 11.4340\n",
      "Epoch 82/100\n",
      "2/2 [==============================] - 0s 6ms/step - loss: 12.4549 - mae: 12.4549\n",
      "Epoch 83/100\n",
      "2/2 [==============================] - 0s 6ms/step - loss: 17.1265 - mae: 17.1265\n",
      "Epoch 84/100\n",
      "2/2 [==============================] - 0s 6ms/step - loss: 6.5652 - mae: 6.5652\n",
      "Epoch 85/100\n",
      "2/2 [==============================] - 0s 6ms/step - loss: 20.4088 - mae: 20.4088\n",
      "Epoch 86/100\n",
      "2/2 [==============================] - 0s 6ms/step - loss: 10.1774 - mae: 10.1774\n",
      "Epoch 87/100\n",
      "2/2 [==============================] - 0s 7ms/step - loss: 24.4685 - mae: 24.4685\n",
      "Epoch 88/100\n",
      "2/2 [==============================] - 0s 6ms/step - loss: 19.1292 - mae: 19.1292\n",
      "Epoch 89/100\n",
      "2/2 [==============================] - 0s 7ms/step - loss: 7.1535 - mae: 7.1535\n",
      "Epoch 90/100\n",
      "2/2 [==============================] - 0s 6ms/step - loss: 18.2106 - mae: 18.2106\n",
      "Epoch 91/100\n",
      "2/2 [==============================] - 0s 6ms/step - loss: 13.2592 - mae: 13.2592\n",
      "Epoch 92/100\n",
      "2/2 [==============================] - 0s 6ms/step - loss: 14.7939 - mae: 14.7939\n",
      "Epoch 93/100\n",
      "2/2 [==============================] - 0s 7ms/step - loss: 11.0911 - mae: 11.0911\n",
      "Epoch 94/100\n",
      "2/2 [==============================] - 0s 7ms/step - loss: 16.6798 - mae: 16.6798\n",
      "Epoch 95/100\n",
      "2/2 [==============================] - 0s 6ms/step - loss: 16.0499 - mae: 16.0499\n",
      "Epoch 96/100\n",
      "2/2 [==============================] - 0s 7ms/step - loss: 10.5677 - mae: 10.5677\n",
      "Epoch 97/100\n",
      "2/2 [==============================] - 0s 7ms/step - loss: 21.2183 - mae: 21.2183\n",
      "Epoch 98/100\n",
      "2/2 [==============================] - 0s 9ms/step - loss: 10.4385 - mae: 10.4385\n",
      "Epoch 99/100\n",
      "2/2 [==============================] - 0s 6ms/step - loss: 14.5155 - mae: 14.5155\n",
      "Epoch 100/100\n",
      "2/2 [==============================] - 0s 5ms/step - loss: 17.6700 - mae: 17.6700\n"
     ]
    },
    {
     "data": {
      "text/plain": "<keras.src.callbacks.History at 0x7f125e2138e0>"
     },
     "execution_count": 71,
     "metadata": {},
     "output_type": "execute_result"
    }
   ],
   "source": [
    "# Set the random seed\n",
    "tf.random.set_seed(42)\n",
    "\n",
    "# 1. Create the model\n",
    "model_2 = tf.keras.Sequential([\n",
    "    tf.keras.layers.Dense(10),\n",
    "    tf.keras.layers.Dense(1)\n",
    "])\n",
    "\n",
    "# 2. Compile the model\n",
    "model_2.compile(loss=tf.keras.losses.mae,\n",
    "                optimizer=tf.keras.optimizers.SGD(),\n",
    "                metrics=[\"mae\"])\n",
    "\n",
    "# 3. Fit the model\n",
    "model_2.fit(tf.expand_dims(X_train, axis=-1), y_train, epochs=100)"
   ],
   "metadata": {
    "collapsed": false,
    "ExecuteTime": {
     "end_time": "2023-10-22T08:27:22.192644705Z",
     "start_time": "2023-10-22T08:27:19.558216224Z"
    }
   },
   "id": "24589cd27cc1ef3d"
  },
  {
   "cell_type": "code",
   "execution_count": 72,
   "outputs": [
    {
     "name": "stdout",
     "output_type": "stream",
     "text": [
      "1/1 [==============================] - 0s 81ms/step\n"
     ]
    },
    {
     "data": {
      "text/plain": "<Figure size 1000x700 with 1 Axes>",
      "image/png": "[encoded data removed]"
     },
     "metadata": {},
     "output_type": "display_data"
    }
   ],
   "source": [
    "# Make and plot predictions of model 2\n",
    "y_preds_2 = model_2.predict(X_test)\n",
    "plot_predictions(predictions=y_preds_2)"
   ],
   "metadata": {
    "collapsed": false,
    "ExecuteTime": {
     "end_time": "2023-10-22T08:27:25.962161374Z",
     "start_time": "2023-10-22T08:27:25.330226974Z"
    }
   },
   "id": "b25b6d218b74f897"
  },
  {
   "cell_type": "code",
   "execution_count": 73,
   "outputs": [
    {
     "data": {
      "text/plain": "(<tf.Tensor: shape=(), dtype=float32, numpy=1.8926246>,\n <tf.Tensor: shape=(), dtype=float32, numpy=5.359721>)"
     },
     "execution_count": 73,
     "metadata": {},
     "output_type": "execute_result"
    }
   ],
   "source": [
    "# Calculate model_2 evaluation metrics\n",
    "mae_2 = mae(y_test, y_preds_2)\n",
    "mse_2 = mse(y_test, y_preds_2)\n",
    "mae_2, mse_2"
   ],
   "metadata": {
    "collapsed": false,
    "ExecuteTime": {
     "end_time": "2023-10-22T08:27:28.620564236Z",
     "start_time": "2023-10-22T08:27:28.569875565Z"
    }
   },
   "id": "b96febeefdeda641"
  },
  {
   "cell_type": "markdown",
   "source": [
    "#### **Build `model_3`**\n",
    "\n",
    "* 2 layers, trained for 500 epochs."
   ],
   "metadata": {
    "collapsed": false
   },
   "id": "a583dda60e46e109"
  },
  {
   "cell_type": "code",
   "execution_count": 74,
   "outputs": [
    {
     "name": "stdout",
     "output_type": "stream",
     "text": [
      "Epoch 1/500\n",
      "2/2 [==============================] - 0s 5ms/step - loss: 69.7333 - mae: 69.7333\n",
      "Epoch 2/500\n",
      "2/2 [==============================] - 0s 2ms/step - loss: 29.4044 - mae: 29.4044\n",
      "Epoch 3/500\n",
      "2/2 [==============================] - 0s 2ms/step - loss: 20.3067 - mae: 20.3067\n",
      "Epoch 4/500\n",
      "2/2 [==============================] - 0s 3ms/step - loss: 13.1584 - mae: 13.1584\n",
      "Epoch 5/500\n",
      "2/2 [==============================] - 0s 3ms/step - loss: 16.7488 - mae: 16.7488\n",
      "Epoch 6/500\n",
      "2/2 [==============================] - 0s 3ms/step - loss: 11.3526 - mae: 11.3526\n",
      "Epoch 7/500\n",
      "2/2 [==============================] - 0s 3ms/step - loss: 12.3947 - mae: 12.3947\n",
      "Epoch 8/500\n",
      "2/2 [==============================] - 0s 2ms/step - loss: 10.9897 - mae: 10.9897\n",
      "Epoch 9/500\n",
      "2/2 [==============================] - 0s 3ms/step - loss: 38.8845 - mae: 38.8845\n",
      "Epoch 10/500\n",
      "2/2 [==============================] - 0s 3ms/step - loss: 26.4807 - mae: 26.4807\n",
      "Epoch 11/500\n",
      "2/2 [==============================] - 0s 3ms/step - loss: 11.8208 - mae: 11.8208\n",
      "Epoch 12/500\n",
      "2/2 [==============================] - 0s 2ms/step - loss: 23.6392 - mae: 23.6392\n",
      "Epoch 13/500\n",
      "2/2 [==============================] - 0s 3ms/step - loss: 21.1198 - mae: 21.1198\n",
      "Epoch 14/500\n",
      "2/2 [==============================] - 0s 2ms/step - loss: 23.5649 - mae: 23.5649\n",
      "Epoch 15/500\n",
      "2/2 [==============================] - 0s 2ms/step - loss: 15.6817 - mae: 15.6817\n",
      "Epoch 16/500\n",
      "2/2 [==============================] - 0s 2ms/step - loss: 10.4114 - mae: 10.4114\n",
      "Epoch 17/500\n",
      "2/2 [==============================] - 0s 2ms/step - loss: 19.5942 - mae: 19.5942\n",
      "Epoch 18/500\n",
      "2/2 [==============================] - 0s 2ms/step - loss: 13.2446 - mae: 13.2446\n",
      "Epoch 19/500\n",
      "2/2 [==============================] - 0s 2ms/step - loss: 15.9909 - mae: 15.9909\n",
      "Epoch 20/500\n",
      "2/2 [==============================] - 0s 2ms/step - loss: 10.1890 - mae: 10.1890\n",
      "Epoch 21/500\n",
      "2/2 [==============================] - 0s 2ms/step - loss: 13.7209 - mae: 13.7209\n",
      "Epoch 22/500\n",
      "2/2 [==============================] - 0s 2ms/step - loss: 21.8818 - mae: 21.8818\n",
      "Epoch 23/500\n",
      "2/2 [==============================] - 0s 2ms/step - loss: 10.4759 - mae: 10.4759\n",
      "Epoch 24/500\n",
      "2/2 [==============================] - 0s 2ms/step - loss: 15.7748 - mae: 15.7748\n",
      "Epoch 25/500\n",
      "2/2 [==============================] - 0s 2ms/step - loss: 14.9219 - mae: 14.9219\n",
      "Epoch 26/500\n",
      "2/2 [==============================] - 0s 2ms/step - loss: 19.5633 - mae: 19.5633\n",
      "Epoch 27/500\n",
      "2/2 [==============================] - 0s 2ms/step - loss: 20.4605 - mae: 20.4605\n",
      "Epoch 28/500\n",
      "2/2 [==============================] - 0s 2ms/step - loss: 14.5824 - mae: 14.5824\n",
      "Epoch 29/500\n",
      "2/2 [==============================] - 0s 2ms/step - loss: 9.3491 - mae: 9.3491\n",
      "Epoch 30/500\n",
      "2/2 [==============================] - 0s 2ms/step - loss: 27.4760 - mae: 27.4760\n",
      "Epoch 31/500\n",
      "2/2 [==============================] - 0s 2ms/step - loss: 49.5874 - mae: 49.5874\n",
      "Epoch 32/500\n",
      "2/2 [==============================] - 0s 2ms/step - loss: 11.0296 - mae: 11.0296\n",
      "Epoch 33/500\n",
      "2/2 [==============================] - 0s 2ms/step - loss: 17.7075 - mae: 17.7075\n",
      "Epoch 34/500\n",
      "2/2 [==============================] - 0s 2ms/step - loss: 10.8419 - mae: 10.8419\n",
      "Epoch 35/500\n",
      "2/2 [==============================] - 0s 3ms/step - loss: 9.1619 - mae: 9.1619\n",
      "Epoch 36/500\n",
      "2/2 [==============================] - 0s 3ms/step - loss: 16.3067 - mae: 16.3067\n",
      "Epoch 37/500\n",
      "2/2 [==============================] - 0s 2ms/step - loss: 11.1387 - mae: 11.1387\n",
      "Epoch 38/500\n",
      "2/2 [==============================] - 0s 2ms/step - loss: 18.2721 - mae: 18.2721\n",
      "Epoch 39/500\n",
      "2/2 [==============================] - 0s 2ms/step - loss: 19.1986 - mae: 19.1986\n",
      "Epoch 40/500\n",
      "2/2 [==============================] - 0s 2ms/step - loss: 20.6067 - mae: 20.6067\n",
      "Epoch 41/500\n",
      "2/2 [==============================] - 0s 3ms/step - loss: 14.7025 - mae: 14.7025\n",
      "Epoch 42/500\n",
      "2/2 [==============================] - 0s 2ms/step - loss: 12.1250 - mae: 12.1250\n",
      "Epoch 43/500\n",
      "2/2 [==============================] - 0s 2ms/step - loss: 10.6673 - mae: 10.6673\n",
      "Epoch 44/500\n",
      "2/2 [==============================] - 0s 2ms/step - loss: 31.9609 - mae: 31.9609\n",
      "Epoch 45/500\n",
      "2/2 [==============================] - 0s 2ms/step - loss: 12.3932 - mae: 12.3932\n",
      "Epoch 46/500\n",
      "2/2 [==============================] - 0s 2ms/step - loss: 17.2783 - mae: 17.2783\n",
      "Epoch 47/500\n",
      "2/2 [==============================] - 0s 2ms/step - loss: 15.8484 - mae: 15.8484\n",
      "Epoch 48/500\n",
      "2/2 [==============================] - 0s 2ms/step - loss: 8.8180 - mae: 8.8180\n",
      "Epoch 49/500\n",
      "2/2 [==============================] - 0s 3ms/step - loss: 13.0340 - mae: 13.0340\n",
      "Epoch 50/500\n",
      "2/2 [==============================] - 0s 2ms/step - loss: 12.6241 - mae: 12.6241\n",
      "Epoch 51/500\n",
      "2/2 [==============================] - 0s 2ms/step - loss: 14.6872 - mae: 14.6872\n",
      "Epoch 52/500\n",
      "2/2 [==============================] - 0s 2ms/step - loss: 18.6047 - mae: 18.6047\n",
      "Epoch 53/500\n",
      "2/2 [==============================] - 0s 2ms/step - loss: 23.8945 - mae: 23.8945\n",
      "Epoch 54/500\n",
      "2/2 [==============================] - 0s 2ms/step - loss: 24.0582 - mae: 24.0582\n",
      "Epoch 55/500\n",
      "2/2 [==============================] - 0s 2ms/step - loss: 23.2924 - mae: 23.2924\n",
      "Epoch 56/500\n",
      "2/2 [==============================] - 0s 2ms/step - loss: 10.9321 - mae: 10.9321\n",
      "Epoch 57/500\n",
      "2/2 [==============================] - 0s 3ms/step - loss: 12.8008 - mae: 12.8008\n",
      "Epoch 58/500\n",
      "2/2 [==============================] - 0s 2ms/step - loss: 9.6366 - mae: 9.6366\n",
      "Epoch 59/500\n",
      "2/2 [==============================] - 0s 3ms/step - loss: 12.5632 - mae: 12.5632\n",
      "Epoch 60/500\n",
      "2/2 [==============================] - 0s 2ms/step - loss: 12.3628 - mae: 12.3628\n",
      "Epoch 61/500\n",
      "2/2 [==============================] - 0s 2ms/step - loss: 13.2586 - mae: 13.2586\n",
      "Epoch 62/500\n",
      "2/2 [==============================] - 0s 2ms/step - loss: 17.0785 - mae: 17.0785\n",
      "Epoch 63/500\n",
      "2/2 [==============================] - 0s 3ms/step - loss: 9.0726 - mae: 9.0726\n",
      "Epoch 64/500\n",
      "2/2 [==============================] - 0s 3ms/step - loss: 17.7207 - mae: 17.7207\n",
      "Epoch 65/500\n",
      "2/2 [==============================] - 0s 2ms/step - loss: 10.5443 - mae: 10.5443\n",
      "Epoch 66/500\n",
      "2/2 [==============================] - 0s 2ms/step - loss: 21.1922 - mae: 21.1922\n",
      "Epoch 67/500\n",
      "2/2 [==============================] - 0s 3ms/step - loss: 10.5362 - mae: 10.5362\n",
      "Epoch 68/500\n",
      "2/2 [==============================] - 0s 2ms/step - loss: 14.3594 - mae: 14.3594\n",
      "Epoch 69/500\n",
      "2/2 [==============================] - 0s 2ms/step - loss: 10.6207 - mae: 10.6207\n",
      "Epoch 70/500\n",
      "2/2 [==============================] - 0s 2ms/step - loss: 12.7036 - mae: 12.7036\n",
      "Epoch 71/500\n",
      "2/2 [==============================] - 0s 2ms/step - loss: 13.1276 - mae: 13.1276\n",
      "Epoch 72/500\n",
      "2/2 [==============================] - 0s 2ms/step - loss: 19.5868 - mae: 19.5868\n",
      "Epoch 73/500\n",
      "2/2 [==============================] - 0s 2ms/step - loss: 11.2007 - mae: 11.2007\n",
      "Epoch 74/500\n",
      "2/2 [==============================] - 0s 2ms/step - loss: 21.8444 - mae: 21.8444\n",
      "Epoch 75/500\n",
      "2/2 [==============================] - 0s 2ms/step - loss: 7.2198 - mae: 7.2198\n",
      "Epoch 76/500\n",
      "2/2 [==============================] - 0s 2ms/step - loss: 9.4368 - mae: 9.4368\n",
      "Epoch 77/500\n",
      "2/2 [==============================] - 0s 2ms/step - loss: 22.0842 - mae: 22.0842\n",
      "Epoch 78/500\n",
      "2/2 [==============================] - 0s 2ms/step - loss: 17.6360 - mae: 17.6360\n",
      "Epoch 79/500\n",
      "2/2 [==============================] - 0s 2ms/step - loss: 14.8271 - mae: 14.8271\n",
      "Epoch 80/500\n",
      "2/2 [==============================] - 0s 2ms/step - loss: 25.0963 - mae: 25.0963\n",
      "Epoch 81/500\n",
      "2/2 [==============================] - 0s 2ms/step - loss: 10.9061 - mae: 10.9061\n",
      "Epoch 82/500\n",
      "2/2 [==============================] - 0s 2ms/step - loss: 12.7741 - mae: 12.7741\n",
      "Epoch 83/500\n",
      "2/2 [==============================] - 0s 2ms/step - loss: 17.5577 - mae: 17.5577\n",
      "Epoch 84/500\n",
      "2/2 [==============================] - 0s 3ms/step - loss: 7.3078 - mae: 7.3078\n",
      "Epoch 85/500\n",
      "2/2 [==============================] - 0s 2ms/step - loss: 15.0740 - mae: 15.0740\n",
      "Epoch 86/500\n",
      "2/2 [==============================] - 0s 3ms/step - loss: 15.3758 - mae: 15.3758\n",
      "Epoch 87/500\n",
      "2/2 [==============================] - 0s 2ms/step - loss: 19.2798 - mae: 19.2798\n",
      "Epoch 88/500\n",
      "2/2 [==============================] - 0s 2ms/step - loss: 29.3825 - mae: 29.3825\n",
      "Epoch 89/500\n",
      "2/2 [==============================] - 0s 3ms/step - loss: 10.1307 - mae: 10.1307\n",
      "Epoch 90/500\n",
      "2/2 [==============================] - 0s 2ms/step - loss: 21.1555 - mae: 21.1555\n",
      "Epoch 91/500\n",
      "2/2 [==============================] - 0s 2ms/step - loss: 10.5021 - mae: 10.5021\n",
      "Epoch 92/500\n",
      "2/2 [==============================] - 0s 3ms/step - loss: 18.0627 - mae: 18.0627\n",
      "Epoch 93/500\n",
      "2/2 [==============================] - 0s 2ms/step - loss: 6.5657 - mae: 6.5657\n",
      "Epoch 94/500\n",
      "2/2 [==============================] - 0s 2ms/step - loss: 11.1557 - mae: 11.1557\n",
      "Epoch 95/500\n",
      "2/2 [==============================] - 0s 2ms/step - loss: 24.4577 - mae: 24.4577\n",
      "Epoch 96/500\n",
      "2/2 [==============================] - 0s 2ms/step - loss: 10.7630 - mae: 10.7630\n",
      "Epoch 97/500\n",
      "2/2 [==============================] - 0s 3ms/step - loss: 15.4187 - mae: 15.4187\n",
      "Epoch 98/500\n",
      "2/2 [==============================] - 0s 2ms/step - loss: 8.2676 - mae: 8.2676\n",
      "Epoch 99/500\n",
      "2/2 [==============================] - 0s 2ms/step - loss: 16.5847 - mae: 16.5847\n",
      "Epoch 100/500\n",
      "2/2 [==============================] - 0s 2ms/step - loss: 14.3523 - mae: 14.3523\n",
      "Epoch 101/500\n",
      "2/2 [==============================] - 0s 2ms/step - loss: 15.3575 - mae: 15.3575\n",
      "Epoch 102/500\n",
      "2/2 [==============================] - 0s 2ms/step - loss: 10.8105 - mae: 10.8105\n",
      "Epoch 103/500\n",
      "2/2 [==============================] - 0s 2ms/step - loss: 9.1989 - mae: 9.1989\n",
      "Epoch 104/500\n",
      "2/2 [==============================] - 0s 3ms/step - loss: 23.9166 - mae: 23.9166\n",
      "Epoch 105/500\n",
      "2/2 [==============================] - 0s 3ms/step - loss: 10.8831 - mae: 10.8831\n",
      "Epoch 106/500\n",
      "2/2 [==============================] - 0s 2ms/step - loss: 11.3336 - mae: 11.3336\n",
      "Epoch 107/500\n",
      "2/2 [==============================] - 0s 3ms/step - loss: 21.4700 - mae: 21.4700\n",
      "Epoch 108/500\n",
      "2/2 [==============================] - 0s 2ms/step - loss: 6.6086 - mae: 6.6086\n",
      "Epoch 109/500\n",
      "2/2 [==============================] - 0s 2ms/step - loss: 13.3270 - mae: 13.3270\n",
      "Epoch 110/500\n",
      "2/2 [==============================] - 0s 2ms/step - loss: 8.0017 - mae: 8.0017\n",
      "Epoch 111/500\n",
      "2/2 [==============================] - 0s 3ms/step - loss: 15.7821 - mae: 15.7821\n",
      "Epoch 112/500\n",
      "2/2 [==============================] - 0s 3ms/step - loss: 8.7582 - mae: 8.7582\n",
      "Epoch 113/500\n",
      "2/2 [==============================] - 0s 2ms/step - loss: 22.6278 - mae: 22.6278\n",
      "Epoch 114/500\n",
      "2/2 [==============================] - 0s 2ms/step - loss: 18.9877 - mae: 18.9877\n",
      "Epoch 115/500\n",
      "2/2 [==============================] - 0s 3ms/step - loss: 11.0943 - mae: 11.0943\n",
      "Epoch 116/500\n",
      "2/2 [==============================] - 0s 3ms/step - loss: 23.0689 - mae: 23.0689\n",
      "Epoch 117/500\n",
      "2/2 [==============================] - 0s 3ms/step - loss: 9.5707 - mae: 9.5707\n",
      "Epoch 118/500\n",
      "2/2 [==============================] - 0s 3ms/step - loss: 10.6267 - mae: 10.6267\n",
      "Epoch 119/500\n",
      "2/2 [==============================] - 0s 3ms/step - loss: 8.0579 - mae: 8.0579\n",
      "Epoch 120/500\n",
      "2/2 [==============================] - 0s 3ms/step - loss: 29.3222 - mae: 29.3222\n",
      "Epoch 121/500\n",
      "2/2 [==============================] - 0s 3ms/step - loss: 8.0938 - mae: 8.0938\n",
      "Epoch 122/500\n",
      "2/2 [==============================] - 0s 2ms/step - loss: 27.9946 - mae: 27.9946\n",
      "Epoch 123/500\n",
      "2/2 [==============================] - 0s 3ms/step - loss: 32.5108 - mae: 32.5108\n",
      "Epoch 124/500\n",
      "2/2 [==============================] - 0s 3ms/step - loss: 19.3445 - mae: 19.3445\n",
      "Epoch 125/500\n",
      "2/2 [==============================] - 0s 3ms/step - loss: 9.5354 - mae: 9.5354\n",
      "Epoch 126/500\n",
      "2/2 [==============================] - 0s 3ms/step - loss: 9.6064 - mae: 9.6064\n",
      "Epoch 127/500\n",
      "2/2 [==============================] - 0s 3ms/step - loss: 12.6980 - mae: 12.6980\n",
      "Epoch 128/500\n",
      "2/2 [==============================] - 0s 3ms/step - loss: 12.8100 - mae: 12.8100\n",
      "Epoch 129/500\n",
      "2/2 [==============================] - 0s 3ms/step - loss: 13.9192 - mae: 13.9192\n",
      "Epoch 130/500\n",
      "2/2 [==============================] - 0s 2ms/step - loss: 10.2462 - mae: 10.2462\n",
      "Epoch 131/500\n",
      "2/2 [==============================] - 0s 3ms/step - loss: 21.6538 - mae: 21.6538\n",
      "Epoch 132/500\n",
      "2/2 [==============================] - 0s 3ms/step - loss: 8.2862 - mae: 8.2862\n",
      "Epoch 133/500\n",
      "2/2 [==============================] - 0s 3ms/step - loss: 9.0670 - mae: 9.0670\n",
      "Epoch 134/500\n",
      "2/2 [==============================] - 0s 3ms/step - loss: 16.8642 - mae: 16.8642\n",
      "Epoch 135/500\n",
      "2/2 [==============================] - 0s 2ms/step - loss: 10.6542 - mae: 10.6542\n",
      "Epoch 136/500\n",
      "2/2 [==============================] - 0s 3ms/step - loss: 18.4673 - mae: 18.4673\n",
      "Epoch 137/500\n",
      "2/2 [==============================] - 0s 2ms/step - loss: 23.4329 - mae: 23.4329\n",
      "Epoch 138/500\n",
      "2/2 [==============================] - 0s 2ms/step - loss: 9.2657 - mae: 9.2657\n",
      "Epoch 139/500\n",
      "2/2 [==============================] - 0s 2ms/step - loss: 9.0075 - mae: 9.0075\n",
      "Epoch 140/500\n",
      "2/2 [==============================] - 0s 2ms/step - loss: 16.6366 - mae: 16.6366\n",
      "Epoch 141/500\n",
      "2/2 [==============================] - 0s 3ms/step - loss: 8.4713 - mae: 8.4713\n",
      "Epoch 142/500\n",
      "2/2 [==============================] - 0s 2ms/step - loss: 37.1792 - mae: 37.1792\n",
      "Epoch 143/500\n",
      "2/2 [==============================] - 0s 2ms/step - loss: 25.7937 - mae: 25.7937\n",
      "Epoch 144/500\n",
      "2/2 [==============================] - 0s 2ms/step - loss: 9.5650 - mae: 9.5650\n",
      "Epoch 145/500\n",
      "2/2 [==============================] - 0s 2ms/step - loss: 26.5651 - mae: 26.5651\n",
      "Epoch 146/500\n",
      "2/2 [==============================] - 0s 2ms/step - loss: 8.8331 - mae: 8.8331\n",
      "Epoch 147/500\n",
      "2/2 [==============================] - 0s 2ms/step - loss: 15.6080 - mae: 15.6080\n",
      "Epoch 148/500\n",
      "2/2 [==============================] - 0s 2ms/step - loss: 18.2810 - mae: 18.2810\n",
      "Epoch 149/500\n",
      "2/2 [==============================] - 0s 2ms/step - loss: 8.2656 - mae: 8.2656\n",
      "Epoch 150/500\n",
      "2/2 [==============================] - 0s 2ms/step - loss: 7.5450 - mae: 7.5450\n",
      "Epoch 151/500\n",
      "2/2 [==============================] - 0s 2ms/step - loss: 18.3980 - mae: 18.3980\n",
      "Epoch 152/500\n",
      "2/2 [==============================] - 0s 2ms/step - loss: 10.3402 - mae: 10.3402\n",
      "Epoch 153/500\n",
      "2/2 [==============================] - 0s 2ms/step - loss: 29.6996 - mae: 29.6996\n",
      "Epoch 154/500\n",
      "2/2 [==============================] - 0s 2ms/step - loss: 10.5687 - mae: 10.5687\n",
      "Epoch 155/500\n",
      "2/2 [==============================] - 0s 2ms/step - loss: 15.4642 - mae: 15.4642\n",
      "Epoch 156/500\n",
      "2/2 [==============================] - 0s 2ms/step - loss: 17.0254 - mae: 17.0254\n",
      "Epoch 157/500\n",
      "2/2 [==============================] - 0s 3ms/step - loss: 32.8151 - mae: 32.8151\n",
      "Epoch 158/500\n",
      "2/2 [==============================] - 0s 2ms/step - loss: 10.7442 - mae: 10.7442\n",
      "Epoch 159/500\n",
      "2/2 [==============================] - 0s 2ms/step - loss: 8.9397 - mae: 8.9397\n",
      "Epoch 160/500\n",
      "2/2 [==============================] - 0s 3ms/step - loss: 22.1047 - mae: 22.1047\n",
      "Epoch 161/500\n",
      "2/2 [==============================] - 0s 2ms/step - loss: 11.7274 - mae: 11.7274\n",
      "Epoch 162/500\n",
      "2/2 [==============================] - 0s 2ms/step - loss: 21.5340 - mae: 21.5340\n",
      "Epoch 163/500\n",
      "2/2 [==============================] - 0s 2ms/step - loss: 19.2160 - mae: 19.2160\n",
      "Epoch 164/500\n",
      "2/2 [==============================] - 0s 2ms/step - loss: 11.0195 - mae: 11.0195\n",
      "Epoch 165/500\n",
      "2/2 [==============================] - 0s 2ms/step - loss: 9.6452 - mae: 9.6452\n",
      "Epoch 166/500\n",
      "2/2 [==============================] - 0s 2ms/step - loss: 21.6313 - mae: 21.6313\n",
      "Epoch 167/500\n",
      "2/2 [==============================] - 0s 2ms/step - loss: 26.1929 - mae: 26.1929\n",
      "Epoch 168/500\n",
      "2/2 [==============================] - 0s 2ms/step - loss: 9.8727 - mae: 9.8727\n",
      "Epoch 169/500\n",
      "2/2 [==============================] - 0s 2ms/step - loss: 22.4442 - mae: 22.4442\n",
      "Epoch 170/500\n",
      "2/2 [==============================] - 0s 2ms/step - loss: 10.1889 - mae: 10.1889\n",
      "Epoch 171/500\n",
      "2/2 [==============================] - 0s 3ms/step - loss: 18.1080 - mae: 18.1080\n",
      "Epoch 172/500\n",
      "2/2 [==============================] - 0s 3ms/step - loss: 28.6936 - mae: 28.6936\n",
      "Epoch 173/500\n",
      "2/2 [==============================] - 0s 3ms/step - loss: 16.4259 - mae: 16.4259\n",
      "Epoch 174/500\n",
      "2/2 [==============================] - 0s 3ms/step - loss: 11.2420 - mae: 11.2420\n",
      "Epoch 175/500\n",
      "2/2 [==============================] - 0s 2ms/step - loss: 27.6243 - mae: 27.6243\n",
      "Epoch 176/500\n",
      "2/2 [==============================] - 0s 2ms/step - loss: 8.2599 - mae: 8.2599\n",
      "Epoch 177/500\n",
      "2/2 [==============================] - 0s 2ms/step - loss: 9.2615 - mae: 9.2615\n",
      "Epoch 178/500\n",
      "2/2 [==============================] - 0s 2ms/step - loss: 18.0049 - mae: 18.0049\n",
      "Epoch 179/500\n",
      "2/2 [==============================] - 0s 2ms/step - loss: 10.6734 - mae: 10.6734\n",
      "Epoch 180/500\n",
      "2/2 [==============================] - 0s 2ms/step - loss: 7.9082 - mae: 7.9082\n",
      "Epoch 181/500\n",
      "2/2 [==============================] - 0s 3ms/step - loss: 17.2666 - mae: 17.2666\n",
      "Epoch 182/500\n",
      "2/2 [==============================] - 0s 2ms/step - loss: 10.9810 - mae: 10.9810\n",
      "Epoch 183/500\n",
      "2/2 [==============================] - 0s 2ms/step - loss: 11.6444 - mae: 11.6444\n",
      "Epoch 184/500\n",
      "2/2 [==============================] - 0s 2ms/step - loss: 30.1519 - mae: 30.1519\n",
      "Epoch 185/500\n",
      "2/2 [==============================] - 0s 2ms/step - loss: 8.2155 - mae: 8.2155\n",
      "Epoch 186/500\n",
      "2/2 [==============================] - 0s 2ms/step - loss: 18.7259 - mae: 18.7259\n",
      "Epoch 187/500\n",
      "2/2 [==============================] - 0s 3ms/step - loss: 8.7996 - mae: 8.7996\n",
      "Epoch 188/500\n",
      "2/2 [==============================] - 0s 2ms/step - loss: 23.7120 - mae: 23.7120\n",
      "Epoch 189/500\n",
      "2/2 [==============================] - 0s 2ms/step - loss: 9.3916 - mae: 9.3916\n",
      "Epoch 190/500\n",
      "2/2 [==============================] - 0s 2ms/step - loss: 17.0660 - mae: 17.0660\n",
      "Epoch 191/500\n",
      "2/2 [==============================] - 0s 2ms/step - loss: 8.6094 - mae: 8.6094\n",
      "Epoch 192/500\n",
      "2/2 [==============================] - 0s 2ms/step - loss: 15.1870 - mae: 15.1870\n",
      "Epoch 193/500\n",
      "2/2 [==============================] - 0s 2ms/step - loss: 30.0314 - mae: 30.0314\n",
      "Epoch 194/500\n",
      "2/2 [==============================] - 0s 2ms/step - loss: 9.6625 - mae: 9.6625\n",
      "Epoch 195/500\n",
      "2/2 [==============================] - 0s 3ms/step - loss: 12.0293 - mae: 12.0293\n",
      "Epoch 196/500\n",
      "2/2 [==============================] - 0s 2ms/step - loss: 23.4000 - mae: 23.4000\n",
      "Epoch 197/500\n",
      "2/2 [==============================] - 0s 2ms/step - loss: 17.8350 - mae: 17.8350\n",
      "Epoch 198/500\n",
      "2/2 [==============================] - 0s 2ms/step - loss: 12.6216 - mae: 12.6216\n",
      "Epoch 199/500\n",
      "2/2 [==============================] - 0s 3ms/step - loss: 18.0977 - mae: 18.0977\n",
      "Epoch 200/500\n",
      "2/2 [==============================] - 0s 3ms/step - loss: 13.9266 - mae: 13.9266\n",
      "Epoch 201/500\n",
      "2/2 [==============================] - 0s 3ms/step - loss: 6.0929 - mae: 6.0929\n",
      "Epoch 202/500\n",
      "2/2 [==============================] - 0s 3ms/step - loss: 22.9215 - mae: 22.9215\n",
      "Epoch 203/500\n",
      "2/2 [==============================] - 0s 2ms/step - loss: 9.0205 - mae: 9.0205\n",
      "Epoch 204/500\n",
      "2/2 [==============================] - 0s 2ms/step - loss: 18.8658 - mae: 18.8658\n",
      "Epoch 205/500\n",
      "2/2 [==============================] - 0s 3ms/step - loss: 9.4201 - mae: 9.4201\n",
      "Epoch 206/500\n",
      "2/2 [==============================] - 0s 2ms/step - loss: 10.4806 - mae: 10.4806\n",
      "Epoch 207/500\n",
      "2/2 [==============================] - 0s 2ms/step - loss: 21.0777 - mae: 21.0777\n",
      "Epoch 208/500\n",
      "2/2 [==============================] - 0s 2ms/step - loss: 16.4809 - mae: 16.4809\n",
      "Epoch 209/500\n",
      "2/2 [==============================] - 0s 2ms/step - loss: 14.3545 - mae: 14.3545\n",
      "Epoch 210/500\n",
      "2/2 [==============================] - 0s 3ms/step - loss: 17.3209 - mae: 17.3209\n",
      "Epoch 211/500\n",
      "2/2 [==============================] - 0s 2ms/step - loss: 10.2920 - mae: 10.2920\n",
      "Epoch 212/500\n",
      "2/2 [==============================] - 0s 2ms/step - loss: 19.8061 - mae: 19.8061\n",
      "Epoch 213/500\n",
      "2/2 [==============================] - 0s 2ms/step - loss: 14.6669 - mae: 14.6669\n",
      "Epoch 214/500\n",
      "2/2 [==============================] - 0s 2ms/step - loss: 14.3537 - mae: 14.3537\n",
      "Epoch 215/500\n",
      "2/2 [==============================] - 0s 2ms/step - loss: 22.8064 - mae: 22.8064\n",
      "Epoch 216/500\n",
      "2/2 [==============================] - 0s 2ms/step - loss: 14.5188 - mae: 14.5188\n",
      "Epoch 217/500\n",
      "2/2 [==============================] - 0s 3ms/step - loss: 9.2631 - mae: 9.2631\n",
      "Epoch 218/500\n",
      "2/2 [==============================] - 0s 2ms/step - loss: 11.8554 - mae: 11.8554\n",
      "Epoch 219/500\n",
      "2/2 [==============================] - 0s 3ms/step - loss: 6.8372 - mae: 6.8372\n",
      "Epoch 220/500\n",
      "2/2 [==============================] - 0s 2ms/step - loss: 7.1414 - mae: 7.1414\n",
      "Epoch 221/500\n",
      "2/2 [==============================] - 0s 2ms/step - loss: 38.5977 - mae: 38.5977\n",
      "Epoch 222/500\n",
      "2/2 [==============================] - 0s 2ms/step - loss: 38.6412 - mae: 38.6412\n",
      "Epoch 223/500\n",
      "2/2 [==============================] - 0s 2ms/step - loss: 5.0910 - mae: 5.0910\n",
      "Epoch 224/500\n",
      "2/2 [==============================] - 0s 2ms/step - loss: 11.2571 - mae: 11.2571\n",
      "Epoch 225/500\n",
      "2/2 [==============================] - 0s 2ms/step - loss: 31.1006 - mae: 31.1006\n",
      "Epoch 226/500\n",
      "2/2 [==============================] - 0s 2ms/step - loss: 12.2876 - mae: 12.2876\n",
      "Epoch 227/500\n",
      "2/2 [==============================] - 0s 2ms/step - loss: 19.2518 - mae: 19.2518\n",
      "Epoch 228/500\n",
      "2/2 [==============================] - 0s 2ms/step - loss: 11.3012 - mae: 11.3012\n",
      "Epoch 229/500\n",
      "2/2 [==============================] - 0s 2ms/step - loss: 13.7156 - mae: 13.7156\n",
      "Epoch 230/500\n",
      "2/2 [==============================] - 0s 2ms/step - loss: 9.6198 - mae: 9.6198\n",
      "Epoch 231/500\n",
      "2/2 [==============================] - 0s 3ms/step - loss: 19.2634 - mae: 19.2634\n",
      "Epoch 232/500\n",
      "2/2 [==============================] - 0s 3ms/step - loss: 15.7934 - mae: 15.7934\n",
      "Epoch 233/500\n",
      "2/2 [==============================] - 0s 2ms/step - loss: 11.3038 - mae: 11.3038\n",
      "Epoch 234/500\n",
      "2/2 [==============================] - 0s 2ms/step - loss: 11.2279 - mae: 11.2279\n",
      "Epoch 235/500\n",
      "2/2 [==============================] - 0s 3ms/step - loss: 9.6355 - mae: 9.6355\n",
      "Epoch 236/500\n",
      "2/2 [==============================] - 0s 2ms/step - loss: 12.8970 - mae: 12.8970\n",
      "Epoch 237/500\n",
      "2/2 [==============================] - 0s 2ms/step - loss: 10.0488 - mae: 10.0488\n",
      "Epoch 238/500\n",
      "2/2 [==============================] - 0s 2ms/step - loss: 13.7131 - mae: 13.7131\n",
      "Epoch 239/500\n",
      "2/2 [==============================] - 0s 2ms/step - loss: 19.2777 - mae: 19.2777\n",
      "Epoch 240/500\n",
      "2/2 [==============================] - 0s 2ms/step - loss: 24.2180 - mae: 24.2180\n",
      "Epoch 241/500\n",
      "2/2 [==============================] - 0s 2ms/step - loss: 9.4430 - mae: 9.4430\n",
      "Epoch 242/500\n",
      "2/2 [==============================] - 0s 2ms/step - loss: 15.2133 - mae: 15.2133\n",
      "Epoch 243/500\n",
      "2/2 [==============================] - 0s 2ms/step - loss: 10.6244 - mae: 10.6244\n",
      "Epoch 244/500\n",
      "2/2 [==============================] - 0s 3ms/step - loss: 8.5069 - mae: 8.5069\n",
      "Epoch 245/500\n",
      "2/2 [==============================] - 0s 3ms/step - loss: 15.3781 - mae: 15.3781\n",
      "Epoch 246/500\n",
      "2/2 [==============================] - 0s 2ms/step - loss: 16.4604 - mae: 16.4604\n",
      "Epoch 247/500\n",
      "2/2 [==============================] - 0s 2ms/step - loss: 18.5459 - mae: 18.5459\n",
      "Epoch 248/500\n",
      "2/2 [==============================] - 0s 2ms/step - loss: 14.0546 - mae: 14.0546\n",
      "Epoch 249/500\n",
      "2/2 [==============================] - 0s 3ms/step - loss: 15.0838 - mae: 15.0838\n",
      "Epoch 250/500\n",
      "2/2 [==============================] - 0s 2ms/step - loss: 18.8343 - mae: 18.8343\n",
      "Epoch 251/500\n",
      "2/2 [==============================] - 0s 2ms/step - loss: 14.1267 - mae: 14.1267\n",
      "Epoch 252/500\n",
      "2/2 [==============================] - 0s 2ms/step - loss: 29.5264 - mae: 29.5264\n",
      "Epoch 253/500\n",
      "2/2 [==============================] - 0s 2ms/step - loss: 8.2289 - mae: 8.2289\n",
      "Epoch 254/500\n",
      "2/2 [==============================] - 0s 3ms/step - loss: 11.2087 - mae: 11.2087\n",
      "Epoch 255/500\n",
      "2/2 [==============================] - 0s 2ms/step - loss: 18.3881 - mae: 18.3881\n",
      "Epoch 256/500\n",
      "2/2 [==============================] - 0s 2ms/step - loss: 10.1207 - mae: 10.1207\n",
      "Epoch 257/500\n",
      "2/2 [==============================] - 0s 2ms/step - loss: 14.9691 - mae: 14.9691\n",
      "Epoch 258/500\n",
      "2/2 [==============================] - 0s 2ms/step - loss: 4.8027 - mae: 4.8027\n",
      "Epoch 259/500\n",
      "2/2 [==============================] - 0s 2ms/step - loss: 9.5471 - mae: 9.5471\n",
      "Epoch 260/500\n",
      "2/2 [==============================] - 0s 2ms/step - loss: 38.4368 - mae: 38.4368\n",
      "Epoch 261/500\n",
      "2/2 [==============================] - 0s 2ms/step - loss: 15.5378 - mae: 15.5378\n",
      "Epoch 262/500\n",
      "2/2 [==============================] - 0s 2ms/step - loss: 5.7989 - mae: 5.7989\n",
      "Epoch 263/500\n",
      "2/2 [==============================] - 0s 2ms/step - loss: 14.6188 - mae: 14.6188\n",
      "Epoch 264/500\n",
      "2/2 [==============================] - 0s 2ms/step - loss: 18.7836 - mae: 18.7836\n",
      "Epoch 265/500\n",
      "2/2 [==============================] - 0s 3ms/step - loss: 13.0719 - mae: 13.0719\n",
      "Epoch 266/500\n",
      "2/2 [==============================] - 0s 2ms/step - loss: 10.3525 - mae: 10.3525\n",
      "Epoch 267/500\n",
      "2/2 [==============================] - 0s 2ms/step - loss: 6.0683 - mae: 6.0683\n",
      "Epoch 268/500\n",
      "2/2 [==============================] - 0s 3ms/step - loss: 18.7357 - mae: 18.7357\n",
      "Epoch 269/500\n",
      "2/2 [==============================] - 0s 2ms/step - loss: 42.1469 - mae: 42.1469\n",
      "Epoch 270/500\n",
      "2/2 [==============================] - 0s 2ms/step - loss: 13.9106 - mae: 13.9106\n",
      "Epoch 271/500\n",
      "2/2 [==============================] - 0s 3ms/step - loss: 15.0929 - mae: 15.0929\n",
      "Epoch 272/500\n",
      "2/2 [==============================] - 0s 4ms/step - loss: 29.1275 - mae: 29.1275\n",
      "Epoch 273/500\n",
      "2/2 [==============================] - 0s 3ms/step - loss: 5.5664 - mae: 5.5664\n",
      "Epoch 274/500\n",
      "2/2 [==============================] - 0s 2ms/step - loss: 13.9363 - mae: 13.9363\n",
      "Epoch 275/500\n",
      "2/2 [==============================] - 0s 2ms/step - loss: 16.9948 - mae: 16.9948\n",
      "Epoch 276/500\n",
      "2/2 [==============================] - 0s 3ms/step - loss: 12.8368 - mae: 12.8368\n",
      "Epoch 277/500\n",
      "2/2 [==============================] - 0s 2ms/step - loss: 30.4214 - mae: 30.4214\n",
      "Epoch 278/500\n",
      "2/2 [==============================] - 0s 2ms/step - loss: 10.9617 - mae: 10.9617\n",
      "Epoch 279/500\n",
      "2/2 [==============================] - 0s 2ms/step - loss: 16.3312 - mae: 16.3312\n",
      "Epoch 280/500\n",
      "2/2 [==============================] - 0s 3ms/step - loss: 21.7046 - mae: 21.7046\n",
      "Epoch 281/500\n",
      "2/2 [==============================] - 0s 3ms/step - loss: 22.6289 - mae: 22.6289\n",
      "Epoch 282/500\n",
      "2/2 [==============================] - 0s 4ms/step - loss: 7.9666 - mae: 7.9666\n",
      "Epoch 283/500\n",
      "2/2 [==============================] - 0s 4ms/step - loss: 8.2946 - mae: 8.2946\n",
      "Epoch 284/500\n",
      "2/2 [==============================] - 0s 3ms/step - loss: 25.3607 - mae: 25.3607\n",
      "Epoch 285/500\n",
      "2/2 [==============================] - 0s 3ms/step - loss: 14.0182 - mae: 14.0182\n",
      "Epoch 286/500\n",
      "2/2 [==============================] - 0s 2ms/step - loss: 6.9554 - mae: 6.9554\n",
      "Epoch 287/500\n",
      "2/2 [==============================] - 0s 2ms/step - loss: 24.3997 - mae: 24.3997\n",
      "Epoch 288/500\n",
      "2/2 [==============================] - 0s 2ms/step - loss: 20.5606 - mae: 20.5606\n",
      "Epoch 289/500\n",
      "2/2 [==============================] - 0s 2ms/step - loss: 12.4078 - mae: 12.4078\n",
      "Epoch 290/500\n",
      "2/2 [==============================] - 0s 2ms/step - loss: 16.9510 - mae: 16.9510\n",
      "Epoch 291/500\n",
      "2/2 [==============================] - 0s 2ms/step - loss: 17.3473 - mae: 17.3473\n",
      "Epoch 292/500\n",
      "2/2 [==============================] - 0s 2ms/step - loss: 11.0021 - mae: 11.0021\n",
      "Epoch 293/500\n",
      "2/2 [==============================] - 0s 2ms/step - loss: 14.6506 - mae: 14.6506\n",
      "Epoch 294/500\n",
      "2/2 [==============================] - 0s 2ms/step - loss: 21.9311 - mae: 21.9311\n",
      "Epoch 295/500\n",
      "2/2 [==============================] - 0s 2ms/step - loss: 19.6870 - mae: 19.6870\n",
      "Epoch 296/500\n",
      "2/2 [==============================] - 0s 2ms/step - loss: 6.9448 - mae: 6.9448\n",
      "Epoch 297/500\n",
      "2/2 [==============================] - 0s 2ms/step - loss: 9.0762 - mae: 9.0762\n",
      "Epoch 298/500\n",
      "2/2 [==============================] - 0s 2ms/step - loss: 24.3886 - mae: 24.3886\n",
      "Epoch 299/500\n",
      "2/2 [==============================] - 0s 2ms/step - loss: 17.5662 - mae: 17.5662\n",
      "Epoch 300/500\n",
      "2/2 [==============================] - 0s 2ms/step - loss: 7.0175 - mae: 7.0175\n",
      "Epoch 301/500\n",
      "2/2 [==============================] - 0s 2ms/step - loss: 24.9950 - mae: 24.9950\n",
      "Epoch 302/500\n",
      "2/2 [==============================] - 0s 2ms/step - loss: 8.3379 - mae: 8.3379\n",
      "Epoch 303/500\n",
      "2/2 [==============================] - 0s 2ms/step - loss: 21.3366 - mae: 21.3366\n",
      "Epoch 304/500\n",
      "2/2 [==============================] - 0s 2ms/step - loss: 13.8879 - mae: 13.8879\n",
      "Epoch 305/500\n",
      "2/2 [==============================] - 0s 2ms/step - loss: 7.1743 - mae: 7.1743\n",
      "Epoch 306/500\n",
      "2/2 [==============================] - 0s 2ms/step - loss: 19.4133 - mae: 19.4133\n",
      "Epoch 307/500\n",
      "2/2 [==============================] - 0s 2ms/step - loss: 8.9993 - mae: 8.9993\n",
      "Epoch 308/500\n",
      "2/2 [==============================] - 0s 2ms/step - loss: 20.5702 - mae: 20.5702\n",
      "Epoch 309/500\n",
      "2/2 [==============================] - 0s 2ms/step - loss: 13.6623 - mae: 13.6623\n",
      "Epoch 310/500\n",
      "2/2 [==============================] - 0s 2ms/step - loss: 6.6989 - mae: 6.6989\n",
      "Epoch 311/500\n",
      "2/2 [==============================] - 0s 3ms/step - loss: 13.4222 - mae: 13.4222\n",
      "Epoch 312/500\n",
      "2/2 [==============================] - 0s 2ms/step - loss: 30.2051 - mae: 30.2051\n",
      "Epoch 313/500\n",
      "2/2 [==============================] - 0s 2ms/step - loss: 7.2980 - mae: 7.2980\n",
      "Epoch 314/500\n",
      "2/2 [==============================] - 0s 2ms/step - loss: 10.5948 - mae: 10.5948\n",
      "Epoch 315/500\n",
      "2/2 [==============================] - 0s 2ms/step - loss: 23.6096 - mae: 23.6096\n",
      "Epoch 316/500\n",
      "2/2 [==============================] - 0s 2ms/step - loss: 14.3661 - mae: 14.3661\n",
      "Epoch 317/500\n",
      "2/2 [==============================] - 0s 2ms/step - loss: 19.9047 - mae: 19.9047\n",
      "Epoch 318/500\n",
      "2/2 [==============================] - 0s 3ms/step - loss: 8.0357 - mae: 8.0357\n",
      "Epoch 319/500\n",
      "2/2 [==============================] - 0s 2ms/step - loss: 18.0094 - mae: 18.0094\n",
      "Epoch 320/500\n",
      "2/2 [==============================] - 0s 2ms/step - loss: 10.3065 - mae: 10.3065\n",
      "Epoch 321/500\n",
      "2/2 [==============================] - 0s 2ms/step - loss: 8.4213 - mae: 8.4213\n",
      "Epoch 322/500\n",
      "2/2 [==============================] - 0s 2ms/step - loss: 4.4329 - mae: 4.4329\n",
      "Epoch 323/500\n",
      "2/2 [==============================] - 0s 2ms/step - loss: 23.7879 - mae: 23.7879\n",
      "Epoch 324/500\n",
      "2/2 [==============================] - 0s 2ms/step - loss: 6.9698 - mae: 6.9698\n",
      "Epoch 325/500\n",
      "2/2 [==============================] - 0s 3ms/step - loss: 16.5973 - mae: 16.5973\n",
      "Epoch 326/500\n",
      "2/2 [==============================] - 0s 2ms/step - loss: 7.6327 - mae: 7.6327\n",
      "Epoch 327/500\n",
      "2/2 [==============================] - 0s 2ms/step - loss: 20.2606 - mae: 20.2606\n",
      "Epoch 328/500\n",
      "2/2 [==============================] - 0s 2ms/step - loss: 13.7366 - mae: 13.7366\n",
      "Epoch 329/500\n",
      "2/2 [==============================] - 0s 3ms/step - loss: 16.8072 - mae: 16.8072\n",
      "Epoch 330/500\n",
      "2/2 [==============================] - 0s 2ms/step - loss: 7.1568 - mae: 7.1568\n",
      "Epoch 331/500\n",
      "2/2 [==============================] - 0s 3ms/step - loss: 21.5451 - mae: 21.5451\n",
      "Epoch 332/500\n",
      "2/2 [==============================] - 0s 2ms/step - loss: 12.3931 - mae: 12.3931\n",
      "Epoch 333/500\n",
      "2/2 [==============================] - 0s 2ms/step - loss: 11.8969 - mae: 11.8969\n",
      "Epoch 334/500\n",
      "2/2 [==============================] - 0s 2ms/step - loss: 8.3790 - mae: 8.3790\n",
      "Epoch 335/500\n",
      "2/2 [==============================] - 0s 2ms/step - loss: 12.5189 - mae: 12.5189\n",
      "Epoch 336/500\n",
      "2/2 [==============================] - 0s 2ms/step - loss: 32.2150 - mae: 32.2150\n",
      "Epoch 337/500\n",
      "2/2 [==============================] - 0s 2ms/step - loss: 10.4520 - mae: 10.4520\n",
      "Epoch 338/500\n",
      "2/2 [==============================] - 0s 2ms/step - loss: 19.6881 - mae: 19.6881\n",
      "Epoch 339/500\n",
      "2/2 [==============================] - 0s 2ms/step - loss: 35.0708 - mae: 35.0708\n",
      "Epoch 340/500\n",
      "2/2 [==============================] - 0s 2ms/step - loss: 10.0377 - mae: 10.0377\n",
      "Epoch 341/500\n",
      "2/2 [==============================] - 0s 2ms/step - loss: 13.6702 - mae: 13.6702\n",
      "Epoch 342/500\n",
      "2/2 [==============================] - 0s 2ms/step - loss: 15.4084 - mae: 15.4084\n",
      "Epoch 343/500\n",
      "2/2 [==============================] - 0s 2ms/step - loss: 11.0552 - mae: 11.0552\n",
      "Epoch 344/500\n",
      "2/2 [==============================] - 0s 2ms/step - loss: 9.9901 - mae: 9.9901\n",
      "Epoch 345/500\n",
      "2/2 [==============================] - 0s 2ms/step - loss: 31.0086 - mae: 31.0086\n",
      "Epoch 346/500\n",
      "2/2 [==============================] - 0s 3ms/step - loss: 10.7144 - mae: 10.7144\n",
      "Epoch 347/500\n",
      "2/2 [==============================] - 0s 2ms/step - loss: 25.7124 - mae: 25.7124\n",
      "Epoch 348/500\n",
      "2/2 [==============================] - 0s 2ms/step - loss: 12.9511 - mae: 12.9511\n",
      "Epoch 349/500\n",
      "2/2 [==============================] - 0s 2ms/step - loss: 13.1756 - mae: 13.1756\n",
      "Epoch 350/500\n",
      "2/2 [==============================] - 0s 2ms/step - loss: 15.4603 - mae: 15.4603\n",
      "Epoch 351/500\n",
      "2/2 [==============================] - 0s 2ms/step - loss: 32.9545 - mae: 32.9545\n",
      "Epoch 352/500\n",
      "2/2 [==============================] - 0s 2ms/step - loss: 14.2191 - mae: 14.2191\n",
      "Epoch 353/500\n",
      "2/2 [==============================] - 0s 2ms/step - loss: 15.9321 - mae: 15.9321\n",
      "Epoch 354/500\n",
      "2/2 [==============================] - 0s 2ms/step - loss: 19.1079 - mae: 19.1079\n",
      "Epoch 355/500\n",
      "2/2 [==============================] - 0s 2ms/step - loss: 34.0752 - mae: 34.0752\n",
      "Epoch 356/500\n",
      "2/2 [==============================] - 0s 2ms/step - loss: 7.7361 - mae: 7.7361\n",
      "Epoch 357/500\n",
      "2/2 [==============================] - 0s 2ms/step - loss: 25.1550 - mae: 25.1550\n",
      "Epoch 358/500\n",
      "2/2 [==============================] - 0s 2ms/step - loss: 22.6279 - mae: 22.6279\n",
      "Epoch 359/500\n",
      "2/2 [==============================] - 0s 2ms/step - loss: 8.9448 - mae: 8.9448\n",
      "Epoch 360/500\n",
      "2/2 [==============================] - 0s 2ms/step - loss: 21.5203 - mae: 21.5203\n",
      "Epoch 361/500\n",
      "2/2 [==============================] - 0s 2ms/step - loss: 20.5084 - mae: 20.5084\n",
      "Epoch 362/500\n",
      "2/2 [==============================] - 0s 2ms/step - loss: 7.1305 - mae: 7.1305\n",
      "Epoch 363/500\n",
      "2/2 [==============================] - 0s 2ms/step - loss: 25.6821 - mae: 25.6821\n",
      "Epoch 364/500\n",
      "2/2 [==============================] - 0s 2ms/step - loss: 32.0610 - mae: 32.0610\n",
      "Epoch 365/500\n",
      "2/2 [==============================] - 0s 2ms/step - loss: 9.9950 - mae: 9.9950\n",
      "Epoch 366/500\n",
      "2/2 [==============================] - 0s 2ms/step - loss: 9.7306 - mae: 9.7306\n",
      "Epoch 367/500\n",
      "2/2 [==============================] - 0s 3ms/step - loss: 30.4625 - mae: 30.4625\n",
      "Epoch 368/500\n",
      "2/2 [==============================] - 0s 2ms/step - loss: 10.5786 - mae: 10.5786\n",
      "Epoch 369/500\n",
      "2/2 [==============================] - 0s 2ms/step - loss: 15.0670 - mae: 15.0670\n",
      "Epoch 370/500\n",
      "2/2 [==============================] - 0s 3ms/step - loss: 14.7115 - mae: 14.7115\n",
      "Epoch 371/500\n",
      "2/2 [==============================] - 0s 2ms/step - loss: 23.4680 - mae: 23.4680\n",
      "Epoch 372/500\n",
      "2/2 [==============================] - 0s 2ms/step - loss: 12.9554 - mae: 12.9554\n",
      "Epoch 373/500\n",
      "2/2 [==============================] - 0s 2ms/step - loss: 8.8945 - mae: 8.8945\n",
      "Epoch 374/500\n",
      "2/2 [==============================] - 0s 2ms/step - loss: 5.9222 - mae: 5.9222\n",
      "Epoch 375/500\n",
      "2/2 [==============================] - 0s 2ms/step - loss: 14.8156 - mae: 14.8156\n",
      "Epoch 376/500\n",
      "2/2 [==============================] - 0s 2ms/step - loss: 16.5726 - mae: 16.5726\n",
      "Epoch 377/500\n",
      "2/2 [==============================] - 0s 2ms/step - loss: 6.1321 - mae: 6.1321\n",
      "Epoch 378/500\n",
      "2/2 [==============================] - 0s 2ms/step - loss: 18.3509 - mae: 18.3509\n",
      "Epoch 379/500\n",
      "2/2 [==============================] - 0s 2ms/step - loss: 34.7219 - mae: 34.7219\n",
      "Epoch 380/500\n",
      "2/2 [==============================] - 0s 2ms/step - loss: 30.9180 - mae: 30.9180\n",
      "Epoch 381/500\n",
      "2/2 [==============================] - 0s 2ms/step - loss: 7.6205 - mae: 7.6205\n",
      "Epoch 382/500\n",
      "2/2 [==============================] - 0s 2ms/step - loss: 11.2731 - mae: 11.2731\n",
      "Epoch 383/500\n",
      "2/2 [==============================] - 0s 2ms/step - loss: 6.5628 - mae: 6.5628\n",
      "Epoch 384/500\n",
      "2/2 [==============================] - 0s 2ms/step - loss: 6.0793 - mae: 6.0793\n",
      "Epoch 385/500\n",
      "2/2 [==============================] - 0s 2ms/step - loss: 11.8716 - mae: 11.8716\n",
      "Epoch 386/500\n",
      "2/2 [==============================] - 0s 2ms/step - loss: 20.4331 - mae: 20.4331\n",
      "Epoch 387/500\n",
      "2/2 [==============================] - 0s 2ms/step - loss: 23.3237 - mae: 23.3237\n",
      "Epoch 388/500\n",
      "2/2 [==============================] - 0s 2ms/step - loss: 7.4339 - mae: 7.4339\n",
      "Epoch 389/500\n",
      "2/2 [==============================] - 0s 2ms/step - loss: 13.4433 - mae: 13.4433\n",
      "Epoch 390/500\n",
      "2/2 [==============================] - 0s 2ms/step - loss: 6.9752 - mae: 6.9752\n",
      "Epoch 391/500\n",
      "2/2 [==============================] - 0s 2ms/step - loss: 16.5499 - mae: 16.5499\n",
      "Epoch 392/500\n",
      "2/2 [==============================] - 0s 3ms/step - loss: 15.1018 - mae: 15.1018\n",
      "Epoch 393/500\n",
      "2/2 [==============================] - 0s 2ms/step - loss: 5.2986 - mae: 5.2986\n",
      "Epoch 394/500\n",
      "2/2 [==============================] - 0s 2ms/step - loss: 14.4508 - mae: 14.4508\n",
      "Epoch 395/500\n",
      "2/2 [==============================] - 0s 2ms/step - loss: 29.1514 - mae: 29.1514\n",
      "Epoch 396/500\n",
      "2/2 [==============================] - 0s 2ms/step - loss: 7.7491 - mae: 7.7491\n",
      "Epoch 397/500\n",
      "2/2 [==============================] - 0s 2ms/step - loss: 8.8542 - mae: 8.8542\n",
      "Epoch 398/500\n",
      "2/2 [==============================] - 0s 3ms/step - loss: 14.7108 - mae: 14.7108\n",
      "Epoch 399/500\n",
      "2/2 [==============================] - 0s 3ms/step - loss: 11.3186 - mae: 11.3186\n",
      "Epoch 400/500\n",
      "2/2 [==============================] - 0s 2ms/step - loss: 21.8789 - mae: 21.8789\n",
      "Epoch 401/500\n",
      "2/2 [==============================] - 0s 2ms/step - loss: 14.9293 - mae: 14.9293\n",
      "Epoch 402/500\n",
      "2/2 [==============================] - 0s 2ms/step - loss: 8.5936 - mae: 8.5936\n",
      "Epoch 403/500\n",
      "2/2 [==============================] - 0s 2ms/step - loss: 10.4499 - mae: 10.4499\n",
      "Epoch 404/500\n",
      "2/2 [==============================] - 0s 2ms/step - loss: 10.3231 - mae: 10.3231\n",
      "Epoch 405/500\n",
      "2/2 [==============================] - 0s 2ms/step - loss: 6.4074 - mae: 6.4074\n",
      "Epoch 406/500\n",
      "2/2 [==============================] - 0s 3ms/step - loss: 17.4957 - mae: 17.4957\n",
      "Epoch 407/500\n",
      "2/2 [==============================] - 0s 2ms/step - loss: 11.1046 - mae: 11.1046\n",
      "Epoch 408/500\n",
      "2/2 [==============================] - 0s 2ms/step - loss: 21.2133 - mae: 21.2133\n",
      "Epoch 409/500\n",
      "2/2 [==============================] - 0s 2ms/step - loss: 29.8884 - mae: 29.8884\n",
      "Epoch 410/500\n",
      "2/2 [==============================] - 0s 2ms/step - loss: 9.9589 - mae: 9.9589\n",
      "Epoch 411/500\n",
      "2/2 [==============================] - 0s 2ms/step - loss: 14.8002 - mae: 14.8002\n",
      "Epoch 412/500\n",
      "2/2 [==============================] - 0s 2ms/step - loss: 21.5934 - mae: 21.5934\n",
      "Epoch 413/500\n",
      "2/2 [==============================] - 0s 3ms/step - loss: 12.9202 - mae: 12.9202\n",
      "Epoch 414/500\n",
      "2/2 [==============================] - 0s 2ms/step - loss: 5.5439 - mae: 5.5439\n",
      "Epoch 415/500\n",
      "2/2 [==============================] - 0s 3ms/step - loss: 13.5759 - mae: 13.5759\n",
      "Epoch 416/500\n",
      "2/2 [==============================] - 0s 2ms/step - loss: 28.1456 - mae: 28.1456\n",
      "Epoch 417/500\n",
      "2/2 [==============================] - 0s 2ms/step - loss: 8.2366 - mae: 8.2366\n",
      "Epoch 418/500\n",
      "2/2 [==============================] - 0s 2ms/step - loss: 8.0992 - mae: 8.0992\n",
      "Epoch 419/500\n",
      "2/2 [==============================] - 0s 2ms/step - loss: 15.3495 - mae: 15.3495\n",
      "Epoch 420/500\n",
      "2/2 [==============================] - 0s 3ms/step - loss: 23.6208 - mae: 23.6208\n",
      "Epoch 421/500\n",
      "2/2 [==============================] - 0s 3ms/step - loss: 20.3389 - mae: 20.3389\n",
      "Epoch 422/500\n",
      "2/2 [==============================] - 0s 2ms/step - loss: 5.9407 - mae: 5.9407\n",
      "Epoch 423/500\n",
      "2/2 [==============================] - 0s 2ms/step - loss: 21.7070 - mae: 21.7070\n",
      "Epoch 424/500\n",
      "2/2 [==============================] - 0s 2ms/step - loss: 6.1029 - mae: 6.1029\n",
      "Epoch 425/500\n",
      "2/2 [==============================] - 0s 2ms/step - loss: 22.6948 - mae: 22.6948\n",
      "Epoch 426/500\n",
      "2/2 [==============================] - 0s 2ms/step - loss: 10.8976 - mae: 10.8976\n",
      "Epoch 427/500\n",
      "2/2 [==============================] - 0s 2ms/step - loss: 5.3339 - mae: 5.3339\n",
      "Epoch 428/500\n",
      "2/2 [==============================] - 0s 3ms/step - loss: 17.8877 - mae: 17.8877\n",
      "Epoch 429/500\n",
      "2/2 [==============================] - 0s 3ms/step - loss: 13.4007 - mae: 13.4007\n",
      "Epoch 430/500\n",
      "2/2 [==============================] - 0s 3ms/step - loss: 10.6402 - mae: 10.6402\n",
      "Epoch 431/500\n",
      "2/2 [==============================] - 0s 3ms/step - loss: 12.1936 - mae: 12.1936\n",
      "Epoch 432/500\n",
      "2/2 [==============================] - 0s 2ms/step - loss: 7.7236 - mae: 7.7236\n",
      "Epoch 433/500\n",
      "2/2 [==============================] - 0s 3ms/step - loss: 14.9359 - mae: 14.9359\n",
      "Epoch 434/500\n",
      "2/2 [==============================] - 0s 3ms/step - loss: 18.1003 - mae: 18.1003\n",
      "Epoch 435/500\n",
      "2/2 [==============================] - 0s 3ms/step - loss: 9.7463 - mae: 9.7463\n",
      "Epoch 436/500\n",
      "2/2 [==============================] - 0s 2ms/step - loss: 27.6761 - mae: 27.6761\n",
      "Epoch 437/500\n",
      "2/2 [==============================] - 0s 2ms/step - loss: 5.5021 - mae: 5.5021\n",
      "Epoch 438/500\n",
      "2/2 [==============================] - 0s 2ms/step - loss: 5.5972 - mae: 5.5972\n",
      "Epoch 439/500\n",
      "2/2 [==============================] - 0s 2ms/step - loss: 43.1610 - mae: 43.1610\n",
      "Epoch 440/500\n",
      "2/2 [==============================] - 0s 3ms/step - loss: 24.0678 - mae: 24.0678\n",
      "Epoch 441/500\n",
      "2/2 [==============================] - 0s 2ms/step - loss: 5.7297 - mae: 5.7297\n",
      "Epoch 442/500\n",
      "2/2 [==============================] - 0s 2ms/step - loss: 21.4934 - mae: 21.4934\n",
      "Epoch 443/500\n",
      "2/2 [==============================] - 0s 3ms/step - loss: 6.6443 - mae: 6.6443\n",
      "Epoch 444/500\n",
      "2/2 [==============================] - 0s 2ms/step - loss: 18.9829 - mae: 18.9829\n",
      "Epoch 445/500\n",
      "2/2 [==============================] - 0s 3ms/step - loss: 14.2333 - mae: 14.2333\n",
      "Epoch 446/500\n",
      "2/2 [==============================] - 0s 3ms/step - loss: 17.0047 - mae: 17.0047\n",
      "Epoch 447/500\n",
      "2/2 [==============================] - 0s 3ms/step - loss: 6.5676 - mae: 6.5676\n",
      "Epoch 448/500\n",
      "2/2 [==============================] - 0s 3ms/step - loss: 7.5146 - mae: 7.5146\n",
      "Epoch 449/500\n",
      "2/2 [==============================] - 0s 3ms/step - loss: 15.0731 - mae: 15.0731\n",
      "Epoch 450/500\n",
      "2/2 [==============================] - 0s 2ms/step - loss: 17.8139 - mae: 17.8139\n",
      "Epoch 451/500\n",
      "2/2 [==============================] - 0s 3ms/step - loss: 14.7387 - mae: 14.7387\n",
      "Epoch 452/500\n",
      "2/2 [==============================] - 0s 3ms/step - loss: 31.5256 - mae: 31.5256\n",
      "Epoch 453/500\n",
      "2/2 [==============================] - 0s 4ms/step - loss: 11.0951 - mae: 11.0951\n",
      "Epoch 454/500\n",
      "2/2 [==============================] - 0s 3ms/step - loss: 26.7804 - mae: 26.7804\n",
      "Epoch 455/500\n",
      "2/2 [==============================] - 0s 2ms/step - loss: 12.5469 - mae: 12.5469\n",
      "Epoch 456/500\n",
      "2/2 [==============================] - 0s 3ms/step - loss: 15.2867 - mae: 15.2867\n",
      "Epoch 457/500\n",
      "2/2 [==============================] - 0s 3ms/step - loss: 18.9349 - mae: 18.9349\n",
      "Epoch 458/500\n",
      "2/2 [==============================] - 0s 2ms/step - loss: 23.7427 - mae: 23.7427\n",
      "Epoch 459/500\n",
      "2/2 [==============================] - 0s 2ms/step - loss: 17.1718 - mae: 17.1718\n",
      "Epoch 460/500\n",
      "2/2 [==============================] - 0s 2ms/step - loss: 5.4296 - mae: 5.4296\n",
      "Epoch 461/500\n",
      "2/2 [==============================] - 0s 2ms/step - loss: 17.6075 - mae: 17.6075\n",
      "Epoch 462/500\n",
      "2/2 [==============================] - 0s 2ms/step - loss: 14.2731 - mae: 14.2731\n",
      "Epoch 463/500\n",
      "2/2 [==============================] - 0s 2ms/step - loss: 21.4068 - mae: 21.4068\n",
      "Epoch 464/500\n",
      "2/2 [==============================] - 0s 2ms/step - loss: 22.8970 - mae: 22.8970\n",
      "Epoch 465/500\n",
      "2/2 [==============================] - 0s 2ms/step - loss: 12.4032 - mae: 12.4032\n",
      "Epoch 466/500\n",
      "2/2 [==============================] - 0s 3ms/step - loss: 9.4160 - mae: 9.4160\n",
      "Epoch 467/500\n",
      "2/2 [==============================] - 0s 2ms/step - loss: 21.5723 - mae: 21.5723\n",
      "Epoch 468/500\n",
      "2/2 [==============================] - 0s 2ms/step - loss: 23.7737 - mae: 23.7737\n",
      "Epoch 469/500\n",
      "2/2 [==============================] - 0s 2ms/step - loss: 21.1876 - mae: 21.1876\n",
      "Epoch 470/500\n",
      "2/2 [==============================] - 0s 2ms/step - loss: 9.1907 - mae: 9.1907\n",
      "Epoch 471/500\n",
      "2/2 [==============================] - 0s 2ms/step - loss: 19.7470 - mae: 19.7470\n",
      "Epoch 472/500\n",
      "2/2 [==============================] - 0s 2ms/step - loss: 14.0669 - mae: 14.0669\n",
      "Epoch 473/500\n",
      "2/2 [==============================] - 0s 2ms/step - loss: 16.4253 - mae: 16.4253\n",
      "Epoch 474/500\n",
      "2/2 [==============================] - 0s 3ms/step - loss: 47.4528 - mae: 47.4528\n",
      "Epoch 475/500\n",
      "2/2 [==============================] - 0s 3ms/step - loss: 21.6451 - mae: 21.6451\n",
      "Epoch 476/500\n",
      "2/2 [==============================] - 0s 3ms/step - loss: 12.7100 - mae: 12.7100\n",
      "Epoch 477/500\n",
      "2/2 [==============================] - 0s 3ms/step - loss: 28.7747 - mae: 28.7747\n",
      "Epoch 478/500\n",
      "2/2 [==============================] - 0s 3ms/step - loss: 6.5385 - mae: 6.5385\n",
      "Epoch 479/500\n",
      "2/2 [==============================] - 0s 3ms/step - loss: 5.6684 - mae: 5.6684\n",
      "Epoch 480/500\n",
      "2/2 [==============================] - 0s 3ms/step - loss: 17.1324 - mae: 17.1324\n",
      "Epoch 481/500\n",
      "2/2 [==============================] - 0s 2ms/step - loss: 11.2924 - mae: 11.2924\n",
      "Epoch 482/500\n",
      "2/2 [==============================] - 0s 3ms/step - loss: 19.1127 - mae: 19.1127\n",
      "Epoch 483/500\n",
      "2/2 [==============================] - 0s 3ms/step - loss: 30.3042 - mae: 30.3042\n",
      "Epoch 484/500\n",
      "2/2 [==============================] - 0s 3ms/step - loss: 28.6014 - mae: 28.6014\n",
      "Epoch 485/500\n",
      "2/2 [==============================] - 0s 3ms/step - loss: 9.9385 - mae: 9.9385\n",
      "Epoch 486/500\n",
      "2/2 [==============================] - 0s 3ms/step - loss: 7.0205 - mae: 7.0205\n",
      "Epoch 487/500\n",
      "2/2 [==============================] - 0s 3ms/step - loss: 6.3632 - mae: 6.3632\n",
      "Epoch 488/500\n",
      "2/2 [==============================] - 0s 3ms/step - loss: 29.6455 - mae: 29.6455\n",
      "Epoch 489/500\n",
      "2/2 [==============================] - 0s 3ms/step - loss: 12.7191 - mae: 12.7191\n",
      "Epoch 490/500\n",
      "2/2 [==============================] - 0s 2ms/step - loss: 13.1430 - mae: 13.1430\n",
      "Epoch 491/500\n",
      "2/2 [==============================] - 0s 2ms/step - loss: 24.4224 - mae: 24.4224\n",
      "Epoch 492/500\n",
      "2/2 [==============================] - 0s 3ms/step - loss: 18.4756 - mae: 18.4756\n",
      "Epoch 493/500\n",
      "2/2 [==============================] - 0s 3ms/step - loss: 4.8245 - mae: 4.8245\n",
      "Epoch 494/500\n",
      "2/2 [==============================] - 0s 3ms/step - loss: 11.8550 - mae: 11.8550\n",
      "Epoch 495/500\n",
      "2/2 [==============================] - 0s 2ms/step - loss: 13.8042 - mae: 13.8042\n",
      "Epoch 496/500\n",
      "2/2 [==============================] - 0s 2ms/step - loss: 12.0891 - mae: 12.0891\n",
      "Epoch 497/500\n",
      "2/2 [==============================] - 0s 2ms/step - loss: 17.1251 - mae: 17.1251\n",
      "Epoch 498/500\n",
      "2/2 [==============================] - 0s 3ms/step - loss: 9.1492 - mae: 9.1492\n",
      "Epoch 499/500\n",
      "2/2 [==============================] - 0s 2ms/step - loss: 20.7091 - mae: 20.7091\n",
      "Epoch 500/500\n",
      "2/2 [==============================] - 0s 2ms/step - loss: 14.3834 - mae: 14.3834\n"
     ]
    },
    {
     "data": {
      "text/plain": "<keras.src.callbacks.History at 0x7f125e2434c0>"
     },
     "execution_count": 74,
     "metadata": {},
     "output_type": "execute_result"
    }
   ],
   "source": [
    "# Set random seed\n",
    "tf.random.set_seed(42)\n",
    "\n",
    "# 1. Create the model\n",
    "model_3 = tf.keras.Sequential([\n",
    "    tf.keras.layers.Dense(10),\n",
    "    tf.keras.layers.Dense(1)\n",
    "])\n",
    "\n",
    "# 2. Compile the model\n",
    "model_3.compile(loss=tf.keras.losses.mae,\n",
    "                optimizer=tf.keras.optimizers.SGD(),\n",
    "                metrics=[\"mae\"])\n",
    "\n",
    "# 3. Fit the model\n",
    "model_3.fit(tf.expand_dims(X_train, axis=-1), y_train, epochs=500)"
   ],
   "metadata": {
    "collapsed": false,
    "ExecuteTime": {
     "end_time": "2023-10-22T08:30:36.631170173Z",
     "start_time": "2023-10-22T08:30:33.605778242Z"
    }
   },
   "id": "a28904132d03bd77"
  },
  {
   "cell_type": "code",
   "execution_count": 75,
   "outputs": [
    {
     "name": "stdout",
     "output_type": "stream",
     "text": [
      "1/1 [==============================] - 0s 28ms/step\n"
     ]
    },
    {
     "data": {
      "text/plain": "<Figure size 1000x700 with 1 Axes>",
      "image/png": "[encoded data removed]"
     },
     "metadata": {},
     "output_type": "display_data"
    }
   ],
   "source": [
    "# Make and plot some predictions\n",
    "y_preds_3 = model_3.predict(X_test)\n",
    "plot_predictions(predictions=y_preds_3)"
   ],
   "metadata": {
    "collapsed": false,
    "ExecuteTime": {
     "end_time": "2023-10-22T08:31:25.811243797Z",
     "start_time": "2023-10-22T08:31:25.596324725Z"
    }
   },
   "id": "6cb3865ab71ab078"
  },
  {
   "cell_type": "code",
   "execution_count": 76,
   "outputs": [
    {
     "data": {
      "text/plain": "(<tf.Tensor: shape=(), dtype=float32, numpy=67.94086>,\n <tf.Tensor: shape=(), dtype=float32, numpy=4700.593>)"
     },
     "execution_count": 76,
     "metadata": {},
     "output_type": "execute_result"
    }
   ],
   "source": [
    "# Calculate model_3 evaluation metrics\n",
    "mae_3 = mae(y_test, y_preds_3)\n",
    "mse_3 = mse(y_test, y_preds_3)\n",
    "mae_3, mse_3"
   ],
   "metadata": {
    "collapsed": false,
    "ExecuteTime": {
     "end_time": "2023-10-22T08:33:18.636288001Z",
     "start_time": "2023-10-22T08:33:18.569671445Z"
    }
   },
   "id": "53a5cb8f93d406cb"
  },
  {
   "cell_type": "markdown",
   "source": [
    "### Comparing the results of our experiments\n",
    "\n",
    "We're run a few experiments, let's compare the results."
   ],
   "metadata": {
    "collapsed": false
   },
   "id": "392238906f3d427c"
  },
  {
   "cell_type": "code",
   "execution_count": 78,
   "outputs": [
    {
     "data": {
      "text/plain": "     model        mae          mse\n0  model_1   8.644353    81.256821\n1  model_2   1.892625     5.359721\n2  model_3  67.940857  4700.592773",
      "text/html": "<div>\n<style scoped>\n    .dataframe tbody tr th:only-of-type {\n        vertical-align: middle;\n    }\n\n    .dataframe tbody tr th {\n        vertical-align: top;\n    }\n\n    .dataframe thead th {\n        text-align: right;\n    }\n</style>\n<table border=\"1\" class=\"dataframe\">\n  <thead>\n    <tr style=\"text-align: right;\">\n      <th></th>\n      <th>model</th>\n      <th>mae</th>\n      <th>mse</th>\n    </tr>\n  </thead>\n  <tbody>\n    <tr>\n      <th>0</th>\n      <td>model_1</td>\n      <td>8.644353</td>\n      <td>81.256821</td>\n    </tr>\n    <tr>\n      <th>1</th>\n      <td>model_2</td>\n      <td>1.892625</td>\n      <td>5.359721</td>\n    </tr>\n    <tr>\n      <th>2</th>\n      <td>model_3</td>\n      <td>67.940857</td>\n      <td>4700.592773</td>\n    </tr>\n  </tbody>\n</table>\n</div>"
     },
     "execution_count": 78,
     "metadata": {},
     "output_type": "execute_result"
    }
   ],
   "source": [
    "# Let's compare our model's results using a pandas DataFrame\n",
    "import pandas as pd\n",
    "\n",
    "model_results = [[\"model_1\", mae_1.numpy(), mse_1.numpy()],\n",
    "                 [\"model_2\", mae_2.numpy(), mse_2.numpy()],\n",
    "                 [\"model_3\", mae_3.numpy(), mse_3.numpy()]]\n",
    "\n",
    "all_results = pd.DataFrame(model_results, columns=[\"model\", \"mae\", \"mse\"])\n",
    "all_results"
   ],
   "metadata": {
    "collapsed": false,
    "ExecuteTime": {
     "end_time": "2023-10-22T08:38:22.837216004Z",
     "start_time": "2023-10-22T08:38:22.789517540Z"
    }
   },
   "id": "cf1e8c784f0b258a"
  },
  {
   "cell_type": "markdown",
   "source": [
    "Looks like `model_2` performed the best..."
   ],
   "metadata": {
    "collapsed": false
   },
   "id": "f156b2f122096eea"
  },
  {
   "cell_type": "code",
   "execution_count": 79,
   "outputs": [
    {
     "name": "stdout",
     "output_type": "stream",
     "text": [
      "Model: \"sequential_9\"\n",
      "_________________________________________________________________\n",
      " Layer (type)                Output Shape              Param #   \n",
      "=================================================================\n",
      " dense_13 (Dense)            (None, 10)                20        \n",
      "                                                                 \n",
      " dense_14 (Dense)            (None, 1)                 11        \n",
      "                                                                 \n",
      "=================================================================\n",
      "Total params: 31 (124.00 Byte)\n",
      "Trainable params: 31 (124.00 Byte)\n",
      "Non-trainable params: 0 (0.00 Byte)\n",
      "_________________________________________________________________\n"
     ]
    }
   ],
   "source": [
    "model_2.summary()"
   ],
   "metadata": {
    "collapsed": false,
    "ExecuteTime": {
     "end_time": "2023-10-22T08:38:45.818499971Z",
     "start_time": "2023-10-22T08:38:45.746261638Z"
    }
   },
   "id": "2f5f1b3a6e4bf9af"
  },
  {
   "cell_type": "markdown",
   "source": [
    "### Tracking your experiments\n",
    "\n",
    "One really good habit in machine learning modelling is to track the results of your experiments.\n",
    "\n",
    "And when doing so, it can be tedious if you're running lots of experiments.\n",
    "\n",
    "Luckily, there are tools to help us!\n",
    "\n",
    "* TensorBoard - a component of the TensorFlow library to help track modelling experiments \n",
    "* Weights & Biases - a tool for tracking all of kinds of machine learning experiments (plugs straight into TensorBoard)."
   ],
   "metadata": {
    "collapsed": false
   },
   "id": "fc14ca93c6c6e4d2"
  },
  {
   "cell_type": "markdown",
   "source": [
    "### Saving our model\n",
    "\n",
    "Saving our models allow us to use them outside such as in a web application or a mobile app.\n",
    "\n",
    "There are two main formats we can save our model's too:\n",
    "\n",
    "1. The SavedModel format\n",
    "2. The HDF5 format"
   ],
   "metadata": {
    "collapsed": false
   },
   "id": "9d902015264863f7"
  },
  {
   "cell_type": "code",
   "execution_count": 80,
   "outputs": [
    {
     "name": "stdout",
     "output_type": "stream",
     "text": [
      "INFO:tensorflow:Assets written to: best_model_SavedModel_format/assets\n"
     ]
    },
    {
     "name": "stderr",
     "output_type": "stream",
     "text": [
      "INFO:tensorflow:Assets written to: best_model_SavedModel_format/assets\n"
     ]
    }
   ],
   "source": [
    "# Save model using  the SavedModel format\n",
    "model_2.save(\"best_model_SavedModel_format\")"
   ],
   "metadata": {
    "collapsed": false,
    "ExecuteTime": {
     "end_time": "2023-10-22T08:50:48.292192141Z",
     "start_time": "2023-10-22T08:50:48.057713645Z"
    }
   },
   "id": "61240dc2975263bd"
  },
  {
   "cell_type": "code",
   "execution_count": 81,
   "outputs": [
    {
     "name": "stderr",
     "output_type": "stream",
     "text": [
      "/home/dinh/github/tensorflow/venv/lib/python3.10/site-packages/keras/src/engine/training.py:3079: UserWarning: You are saving your model as an HDF5 file via `model.save()`. This file format is considered legacy. We recommend using instead the native Keras format, e.g. `model.save('my_model.keras')`.\n",
      "  saving_api.save_model(\n"
     ]
    }
   ],
   "source": [
    "# Save model using the HDF5 format\n",
    "model_2.save(\"best_model_HDF5_format.h5\")"
   ],
   "metadata": {
    "collapsed": false,
    "ExecuteTime": {
     "end_time": "2023-10-22T08:53:30.989026510Z",
     "start_time": "2023-10-22T08:53:30.944147102Z"
    }
   },
   "id": "766cd5b361902085"
  },
  {
   "cell_type": "markdown",
   "source": [
    "### Loading a saved model"
   ],
   "metadata": {
    "collapsed": false
   },
   "id": "82e42dbc257f9dbf"
  },
  {
   "cell_type": "code",
   "execution_count": 82,
   "outputs": [
    {
     "name": "stdout",
     "output_type": "stream",
     "text": [
      "Model: \"sequential_9\"\n",
      "_________________________________________________________________\n",
      " Layer (type)                Output Shape              Param #   \n",
      "=================================================================\n",
      " dense_13 (Dense)            (None, 10)                20        \n",
      "                                                                 \n",
      " dense_14 (Dense)            (None, 1)                 11        \n",
      "                                                                 \n",
      "=================================================================\n",
      "Total params: 31 (124.00 Byte)\n",
      "Trainable params: 31 (124.00 Byte)\n",
      "Non-trainable params: 0 (0.00 Byte)\n",
      "_________________________________________________________________\n"
     ]
    }
   ],
   "source": [
    "# Load in the SavedModel format model\n",
    "loaded_SavedModel_format = tf.keras.models.load_model('best_model_SavedModel_format')\n",
    "loaded_SavedModel_format.summary()"
   ],
   "metadata": {
    "collapsed": false,
    "ExecuteTime": {
     "end_time": "2023-10-22T08:56:43.836980553Z",
     "start_time": "2023-10-22T08:56:43.532498515Z"
    }
   },
   "id": "107f69f1ee9adee5"
  },
  {
   "cell_type": "code",
   "execution_count": 83,
   "outputs": [
    {
     "name": "stdout",
     "output_type": "stream",
     "text": [
      "Model: \"sequential_9\"\n",
      "_________________________________________________________________\n",
      " Layer (type)                Output Shape              Param #   \n",
      "=================================================================\n",
      " dense_13 (Dense)            (None, 10)                20        \n",
      "                                                                 \n",
      " dense_14 (Dense)            (None, 1)                 11        \n",
      "                                                                 \n",
      "=================================================================\n",
      "Total params: 31 (124.00 Byte)\n",
      "Trainable params: 31 (124.00 Byte)\n",
      "Non-trainable params: 0 (0.00 Byte)\n",
      "_________________________________________________________________\n"
     ]
    }
   ],
   "source": [
    "model_2.summary()"
   ],
   "metadata": {
    "collapsed": false,
    "ExecuteTime": {
     "end_time": "2023-10-22T08:57:03.628353648Z",
     "start_time": "2023-10-22T08:57:03.516799204Z"
    }
   },
   "id": "ce513c6e49b96b44"
  },
  {
   "cell_type": "code",
   "execution_count": 84,
   "outputs": [
    {
     "name": "stdout",
     "output_type": "stream",
     "text": [
      "1/1 [==============================] - 0s 26ms/step\n",
      "1/1 [==============================] - 0s 34ms/step\n"
     ]
    },
    {
     "data": {
      "text/plain": "array([[ True],\n       [ True],\n       [ True],\n       [ True],\n       [ True],\n       [ True],\n       [ True],\n       [ True],\n       [ True],\n       [ True]])"
     },
     "execution_count": 84,
     "metadata": {},
     "output_type": "execute_result"
    }
   ],
   "source": [
    "# Compare model_2 prediction with SavedModel format predition\n",
    "model_2_preds = model_2.predict(X_test)\n",
    "loaded_SavedModel_format_preds = loaded_SavedModel_format.predict(X_test)\n",
    "model_2_preds == loaded_SavedModel_format_preds"
   ],
   "metadata": {
    "collapsed": false,
    "ExecuteTime": {
     "end_time": "2023-10-22T08:58:53.733135689Z",
     "start_time": "2023-10-22T08:58:53.599646412Z"
    }
   },
   "id": "3568a908774ce52d"
  },
  {
   "cell_type": "code",
   "execution_count": 85,
   "outputs": [
    {
     "name": "stdout",
     "output_type": "stream",
     "text": [
      "Model: \"sequential_9\"\n",
      "_________________________________________________________________\n",
      " Layer (type)                Output Shape              Param #   \n",
      "=================================================================\n",
      " dense_13 (Dense)            (None, 10)                20        \n",
      "                                                                 \n",
      " dense_14 (Dense)            (None, 1)                 11        \n",
      "                                                                 \n",
      "=================================================================\n",
      "Total params: 31 (124.00 Byte)\n",
      "Trainable params: 31 (124.00 Byte)\n",
      "Non-trainable params: 0 (0.00 Byte)\n",
      "_________________________________________________________________\n"
     ]
    }
   ],
   "source": [
    "# Load in model using HDF5 format\n",
    "loaded_h5_model = tf.keras.models.load_model(\"best_model_HDF5_format.h5\")\n",
    "loaded_h5_model.summary()"
   ],
   "metadata": {
    "collapsed": false,
    "ExecuteTime": {
     "end_time": "2023-10-22T09:02:23.330246091Z",
     "start_time": "2023-10-22T09:02:23.246923925Z"
    }
   },
   "id": "804d1b769f65396d"
  },
  {
   "cell_type": "code",
   "execution_count": 87,
   "outputs": [
    {
     "data": {
      "text/plain": "<tf.Tensor: shape=(), dtype=bool, numpy=True>"
     },
     "execution_count": 87,
     "metadata": {},
     "output_type": "execute_result"
    }
   ],
   "source": [
    "# Compare the MAE of model_2 preds and loaded_SavedModel_preds\n",
    "mae(y_true=y_test, y_pred=model_2_preds) == mae(y_true=y_test, y_pred=loaded_SavedModel_format_preds)"
   ],
   "metadata": {
    "collapsed": false,
    "ExecuteTime": {
     "end_time": "2023-10-22T09:05:04.085485975Z",
     "start_time": "2023-10-22T09:05:04.004687542Z"
    }
   },
   "id": "a43ea218818cc5b9"
  },
  {
   "cell_type": "code",
   "execution_count": 86,
   "outputs": [
    {
     "name": "stdout",
     "output_type": "stream",
     "text": [
      "1/1 [==============================] - 0s 11ms/step\n",
      "1/1 [==============================] - 0s 41ms/step\n"
     ]
    },
    {
     "data": {
      "text/plain": "array([[ True],\n       [ True],\n       [ True],\n       [ True],\n       [ True],\n       [ True],\n       [ True],\n       [ True],\n       [ True],\n       [ True]])"
     },
     "execution_count": 86,
     "metadata": {},
     "output_type": "execute_result"
    }
   ],
   "source": [
    "# Check to see if loaded .h5 model predictions match model_2\n",
    "model_2_preds = model_2.predict(X_test)\n",
    "loaded_h5_model_preds = loaded_h5_model.predict(X_test)\n",
    "model_2_preds == loaded_h5_model_preds"
   ],
   "metadata": {
    "collapsed": false,
    "ExecuteTime": {
     "start_time": "2023-10-22T09:03:37.505723296Z"
    }
   },
   "id": "3e8973fa5e9b6605"
  },
  {
   "cell_type": "markdown",
   "source": [
    "### A larger example"
   ],
   "metadata": {
    "collapsed": false
   },
   "id": "23f60cef1db30064"
  },
  {
   "cell_type": "code",
   "execution_count": 88,
   "outputs": [],
   "source": [
    "# Imported required libraries\n",
    "import tensorflow as tf\n",
    "import pandas as pd\n",
    "import matplotlib.pyplot as plt"
   ],
   "metadata": {
    "collapsed": false,
    "ExecuteTime": {
     "end_time": "2023-10-22T09:10:34.329465726Z",
     "start_time": "2023-10-22T09:10:34.289552427Z"
    }
   },
   "id": "3c289c0a4a291473"
  },
  {
   "cell_type": "code",
   "execution_count": 89,
   "outputs": [
    {
     "data": {
      "text/plain": "      age     sex     bmi  children smoker     region      charges\n0      19  female  27.900         0    yes  southwest  16884.92400\n1      18    male  33.770         1     no  southeast   1725.55230\n2      28    male  33.000         3     no  southeast   4449.46200\n3      33    male  22.705         0     no  northwest  21984.47061\n4      32    male  28.880         0     no  northwest   3866.85520\n...   ...     ...     ...       ...    ...        ...          ...\n1333   50    male  30.970         3     no  northwest  10600.54830\n1334   18  female  31.920         0     no  northeast   2205.98080\n1335   18  female  36.850         0     no  southeast   1629.83350\n1336   21  female  25.800         0     no  southwest   2007.94500\n1337   61  female  29.070         0    yes  northwest  29141.36030\n\n[1338 rows x 7 columns]",
      "text/html": "<div>\n<style scoped>\n    .dataframe tbody tr th:only-of-type {\n        vertical-align: middle;\n    }\n\n    .dataframe tbody tr th {\n        vertical-align: top;\n    }\n\n    .dataframe thead th {\n        text-align: right;\n    }\n</style>\n<table border=\"1\" class=\"dataframe\">\n  <thead>\n    <tr style=\"text-align: right;\">\n      <th></th>\n      <th>age</th>\n      <th>sex</th>\n      <th>bmi</th>\n      <th>children</th>\n      <th>smoker</th>\n      <th>region</th>\n      <th>charges</th>\n    </tr>\n  </thead>\n  <tbody>\n    <tr>\n      <th>0</th>\n      <td>19</td>\n      <td>female</td>\n      <td>27.900</td>\n      <td>0</td>\n      <td>yes</td>\n      <td>southwest</td>\n      <td>16884.92400</td>\n    </tr>\n    <tr>\n      <th>1</th>\n      <td>18</td>\n      <td>male</td>\n      <td>33.770</td>\n      <td>1</td>\n      <td>no</td>\n      <td>southeast</td>\n      <td>1725.55230</td>\n    </tr>\n    <tr>\n      <th>2</th>\n      <td>28</td>\n      <td>male</td>\n      <td>33.000</td>\n      <td>3</td>\n      <td>no</td>\n      <td>southeast</td>\n      <td>4449.46200</td>\n    </tr>\n    <tr>\n      <th>3</th>\n      <td>33</td>\n      <td>male</td>\n      <td>22.705</td>\n      <td>0</td>\n      <td>no</td>\n      <td>northwest</td>\n      <td>21984.47061</td>\n    </tr>\n    <tr>\n      <th>4</th>\n      <td>32</td>\n      <td>male</td>\n      <td>28.880</td>\n      <td>0</td>\n      <td>no</td>\n      <td>northwest</td>\n      <td>3866.85520</td>\n    </tr>\n    <tr>\n      <th>...</th>\n      <td>...</td>\n      <td>...</td>\n      <td>...</td>\n      <td>...</td>\n      <td>...</td>\n      <td>...</td>\n      <td>...</td>\n    </tr>\n    <tr>\n      <th>1333</th>\n      <td>50</td>\n      <td>male</td>\n      <td>30.970</td>\n      <td>3</td>\n      <td>no</td>\n      <td>northwest</td>\n      <td>10600.54830</td>\n    </tr>\n    <tr>\n      <th>1334</th>\n      <td>18</td>\n      <td>female</td>\n      <td>31.920</td>\n      <td>0</td>\n      <td>no</td>\n      <td>northeast</td>\n      <td>2205.98080</td>\n    </tr>\n    <tr>\n      <th>1335</th>\n      <td>18</td>\n      <td>female</td>\n      <td>36.850</td>\n      <td>0</td>\n      <td>no</td>\n      <td>southeast</td>\n      <td>1629.83350</td>\n    </tr>\n    <tr>\n      <th>1336</th>\n      <td>21</td>\n      <td>female</td>\n      <td>25.800</td>\n      <td>0</td>\n      <td>no</td>\n      <td>southwest</td>\n      <td>2007.94500</td>\n    </tr>\n    <tr>\n      <th>1337</th>\n      <td>61</td>\n      <td>female</td>\n      <td>29.070</td>\n      <td>0</td>\n      <td>yes</td>\n      <td>northwest</td>\n      <td>29141.36030</td>\n    </tr>\n  </tbody>\n</table>\n<p>1338 rows × 7 columns</p>\n</div>"
     },
     "execution_count": 89,
     "metadata": {},
     "output_type": "execute_result"
    }
   ],
   "source": [
    "# Read in the insurance dataset\n",
    "insurance = pd.read_csv(\"https://raw.githubusercontent.com/stedy/Machine-Learning-with-R-datasets/master/insurance.csv\")\n",
    "insurance"
   ],
   "metadata": {
    "collapsed": false,
    "ExecuteTime": {
     "end_time": "2023-10-22T09:11:12.273704702Z",
     "start_time": "2023-10-22T09:11:11.806754497Z"
    }
   },
   "id": "396af8df9eb7e859"
  },
  {
   "cell_type": "code",
   "execution_count": 93,
   "outputs": [
    {
     "data": {
      "text/plain": "   age     bmi  children      charges  sex_female  sex_male  smoker_no  \\\n0   19  27.900         0  16884.92400           1         0          0   \n1   18  33.770         1   1725.55230           0         1          1   \n2   28  33.000         3   4449.46200           0         1          1   \n3   33  22.705         0  21984.47061           0         1          1   \n4   32  28.880         0   3866.85520           0         1          1   \n\n   smoker_yes  region_northeast  region_northwest  region_southeast  \\\n0           1                 0                 0                 0   \n1           0                 0                 0                 1   \n2           0                 0                 0                 1   \n3           0                 0                 1                 0   \n4           0                 0                 1                 0   \n\n   region_southwest  \n0                 1  \n1                 0  \n2                 0  \n3                 0  \n4                 0  ",
      "text/html": "<div>\n<style scoped>\n    .dataframe tbody tr th:only-of-type {\n        vertical-align: middle;\n    }\n\n    .dataframe tbody tr th {\n        vertical-align: top;\n    }\n\n    .dataframe thead th {\n        text-align: right;\n    }\n</style>\n<table border=\"1\" class=\"dataframe\">\n  <thead>\n    <tr style=\"text-align: right;\">\n      <th></th>\n      <th>age</th>\n      <th>bmi</th>\n      <th>children</th>\n      <th>charges</th>\n      <th>sex_female</th>\n      <th>sex_male</th>\n      <th>smoker_no</th>\n      <th>smoker_yes</th>\n      <th>region_northeast</th>\n      <th>region_northwest</th>\n      <th>region_southeast</th>\n      <th>region_southwest</th>\n    </tr>\n  </thead>\n  <tbody>\n    <tr>\n      <th>0</th>\n      <td>19</td>\n      <td>27.900</td>\n      <td>0</td>\n      <td>16884.92400</td>\n      <td>1</td>\n      <td>0</td>\n      <td>0</td>\n      <td>1</td>\n      <td>0</td>\n      <td>0</td>\n      <td>0</td>\n      <td>1</td>\n    </tr>\n    <tr>\n      <th>1</th>\n      <td>18</td>\n      <td>33.770</td>\n      <td>1</td>\n      <td>1725.55230</td>\n      <td>0</td>\n      <td>1</td>\n      <td>1</td>\n      <td>0</td>\n      <td>0</td>\n      <td>0</td>\n      <td>1</td>\n      <td>0</td>\n    </tr>\n    <tr>\n      <th>2</th>\n      <td>28</td>\n      <td>33.000</td>\n      <td>3</td>\n      <td>4449.46200</td>\n      <td>0</td>\n      <td>1</td>\n      <td>1</td>\n      <td>0</td>\n      <td>0</td>\n      <td>0</td>\n      <td>1</td>\n      <td>0</td>\n    </tr>\n    <tr>\n      <th>3</th>\n      <td>33</td>\n      <td>22.705</td>\n      <td>0</td>\n      <td>21984.47061</td>\n      <td>0</td>\n      <td>1</td>\n      <td>1</td>\n      <td>0</td>\n      <td>0</td>\n      <td>1</td>\n      <td>0</td>\n      <td>0</td>\n    </tr>\n    <tr>\n      <th>4</th>\n      <td>32</td>\n      <td>28.880</td>\n      <td>0</td>\n      <td>3866.85520</td>\n      <td>0</td>\n      <td>1</td>\n      <td>1</td>\n      <td>0</td>\n      <td>0</td>\n      <td>1</td>\n      <td>0</td>\n      <td>0</td>\n    </tr>\n  </tbody>\n</table>\n</div>"
     },
     "execution_count": 93,
     "metadata": {},
     "output_type": "execute_result"
    }
   ],
   "source": [
    "# Let's try one-hot encode our DataFrame into numerical\n",
    "insurance_one_hot = pd.get_dummies(insurance, dtype=int)\n",
    "insurance_one_hot.head()"
   ],
   "metadata": {
    "collapsed": false,
    "ExecuteTime": {
     "end_time": "2023-10-22T09:21:00.302832720Z",
     "start_time": "2023-10-22T09:21:00.251750339Z"
    }
   },
   "id": "c1cecceda9d5a12c"
  },
  {
   "cell_type": "code",
   "execution_count": 94,
   "outputs": [],
   "source": [
    "# Create X and y values (features and labels)\n",
    "X = insurance_one_hot.drop(\"charges\", axis=1)\n",
    "y = insurance_one_hot[\"charges\"]"
   ],
   "metadata": {
    "collapsed": false,
    "ExecuteTime": {
     "end_time": "2023-10-22T09:23:50.633500237Z",
     "start_time": "2023-10-22T09:23:50.614323913Z"
    }
   },
   "id": "c0ddf274c9146e"
  },
  {
   "cell_type": "code",
   "execution_count": 95,
   "outputs": [
    {
     "data": {
      "text/plain": "   age     bmi  children  sex_female  sex_male  smoker_no  smoker_yes  \\\n0   19  27.900         0           1         0          0           1   \n1   18  33.770         1           0         1          1           0   \n2   28  33.000         3           0         1          1           0   \n3   33  22.705         0           0         1          1           0   \n4   32  28.880         0           0         1          1           0   \n\n   region_northeast  region_northwest  region_southeast  region_southwest  \n0                 0                 0                 0                 1  \n1                 0                 0                 1                 0  \n2                 0                 0                 1                 0  \n3                 0                 1                 0                 0  \n4                 0                 1                 0                 0  ",
      "text/html": "<div>\n<style scoped>\n    .dataframe tbody tr th:only-of-type {\n        vertical-align: middle;\n    }\n\n    .dataframe tbody tr th {\n        vertical-align: top;\n    }\n\n    .dataframe thead th {\n        text-align: right;\n    }\n</style>\n<table border=\"1\" class=\"dataframe\">\n  <thead>\n    <tr style=\"text-align: right;\">\n      <th></th>\n      <th>age</th>\n      <th>bmi</th>\n      <th>children</th>\n      <th>sex_female</th>\n      <th>sex_male</th>\n      <th>smoker_no</th>\n      <th>smoker_yes</th>\n      <th>region_northeast</th>\n      <th>region_northwest</th>\n      <th>region_southeast</th>\n      <th>region_southwest</th>\n    </tr>\n  </thead>\n  <tbody>\n    <tr>\n      <th>0</th>\n      <td>19</td>\n      <td>27.900</td>\n      <td>0</td>\n      <td>1</td>\n      <td>0</td>\n      <td>0</td>\n      <td>1</td>\n      <td>0</td>\n      <td>0</td>\n      <td>0</td>\n      <td>1</td>\n    </tr>\n    <tr>\n      <th>1</th>\n      <td>18</td>\n      <td>33.770</td>\n      <td>1</td>\n      <td>0</td>\n      <td>1</td>\n      <td>1</td>\n      <td>0</td>\n      <td>0</td>\n      <td>0</td>\n      <td>1</td>\n      <td>0</td>\n    </tr>\n    <tr>\n      <th>2</th>\n      <td>28</td>\n      <td>33.000</td>\n      <td>3</td>\n      <td>0</td>\n      <td>1</td>\n      <td>1</td>\n      <td>0</td>\n      <td>0</td>\n      <td>0</td>\n      <td>1</td>\n      <td>0</td>\n    </tr>\n    <tr>\n      <th>3</th>\n      <td>33</td>\n      <td>22.705</td>\n      <td>0</td>\n      <td>0</td>\n      <td>1</td>\n      <td>1</td>\n      <td>0</td>\n      <td>0</td>\n      <td>1</td>\n      <td>0</td>\n      <td>0</td>\n    </tr>\n    <tr>\n      <th>4</th>\n      <td>32</td>\n      <td>28.880</td>\n      <td>0</td>\n      <td>0</td>\n      <td>1</td>\n      <td>1</td>\n      <td>0</td>\n      <td>0</td>\n      <td>1</td>\n      <td>0</td>\n      <td>0</td>\n    </tr>\n  </tbody>\n</table>\n</div>"
     },
     "execution_count": 95,
     "metadata": {},
     "output_type": "execute_result"
    }
   ],
   "source": [
    "# View X\n",
    "X.head()"
   ],
   "metadata": {
    "collapsed": false,
    "ExecuteTime": {
     "end_time": "2023-10-22T09:23:59.476772545Z",
     "start_time": "2023-10-22T09:23:59.429280907Z"
    }
   },
   "id": "db56bd1dc41be88c"
  },
  {
   "cell_type": "code",
   "execution_count": 96,
   "outputs": [
    {
     "data": {
      "text/plain": "0    16884.92400\n1     1725.55230\n2     4449.46200\n3    21984.47061\n4     3866.85520\nName: charges, dtype: float64"
     },
     "execution_count": 96,
     "metadata": {},
     "output_type": "execute_result"
    }
   ],
   "source": [
    "# View y\n",
    "y.head()"
   ],
   "metadata": {
    "collapsed": false,
    "ExecuteTime": {
     "end_time": "2023-10-22T09:24:10.910666063Z",
     "start_time": "2023-10-22T09:24:10.873781122Z"
    }
   },
   "id": "6b3b1f8207b66e81"
  },
  {
   "cell_type": "code",
   "execution_count": 97,
   "outputs": [
    {
     "data": {
      "text/plain": "(1338, 1070, 268)"
     },
     "execution_count": 97,
     "metadata": {},
     "output_type": "execute_result"
    }
   ],
   "source": [
    "# Create training and test sets\n",
    "from sklearn.model_selection import train_test_split\n",
    "X_train, X_test, y_train, y_test = train_test_split(X, y, test_size=0.2, random_state=42)\n",
    "len(X), len(X_train), len(X_test)"
   ],
   "metadata": {
    "collapsed": false,
    "ExecuteTime": {
     "end_time": "2023-10-22T09:28:29.595135200Z",
     "start_time": "2023-10-22T09:28:29.353322105Z"
    }
   },
   "id": "382cbe7faefb5255"
  },
  {
   "cell_type": "code",
   "execution_count": 103,
   "outputs": [
    {
     "name": "stdout",
     "output_type": "stream",
     "text": [
      "Epoch 1/100\n",
      "34/34 [==============================] - 0s 909us/step - loss: 8673.5049 - mae: 8673.5049\n",
      "Epoch 2/100\n",
      "34/34 [==============================] - 0s 919us/step - loss: 7869.6899 - mae: 7869.6899\n",
      "Epoch 3/100\n",
      "34/34 [==============================] - 0s 987us/step - loss: 7599.8979 - mae: 7599.8979\n",
      "Epoch 4/100\n",
      "34/34 [==============================] - 0s 1ms/step - loss: 7607.5498 - mae: 7607.5498\n",
      "Epoch 5/100\n",
      "34/34 [==============================] - 0s 862us/step - loss: 7702.8413 - mae: 7702.8413\n",
      "Epoch 6/100\n",
      "34/34 [==============================] - 0s 822us/step - loss: 7643.8164 - mae: 7643.8164\n",
      "Epoch 7/100\n",
      "34/34 [==============================] - 0s 879us/step - loss: 7547.4067 - mae: 7547.4067\n",
      "Epoch 8/100\n",
      "34/34 [==============================] - 0s 751us/step - loss: 7771.3940 - mae: 7771.3940\n",
      "Epoch 9/100\n",
      "34/34 [==============================] - 0s 652us/step - loss: 7583.1436 - mae: 7583.1436\n",
      "Epoch 10/100\n",
      "34/34 [==============================] - 0s 634us/step - loss: 7719.2974 - mae: 7719.2974\n",
      "Epoch 11/100\n",
      "34/34 [==============================] - 0s 831us/step - loss: 7769.2051 - mae: 7769.2051\n",
      "Epoch 12/100\n",
      "34/34 [==============================] - 0s 745us/step - loss: 7637.7021 - mae: 7637.7021\n",
      "Epoch 13/100\n",
      "34/34 [==============================] - 0s 700us/step - loss: 7806.3130 - mae: 7806.3130\n",
      "Epoch 14/100\n",
      "34/34 [==============================] - 0s 784us/step - loss: 7630.7656 - mae: 7630.7656\n",
      "Epoch 15/100\n",
      "34/34 [==============================] - 0s 627us/step - loss: 7667.3579 - mae: 7667.3579\n",
      "Epoch 16/100\n",
      "34/34 [==============================] - 0s 624us/step - loss: 7691.4028 - mae: 7691.4028\n",
      "Epoch 17/100\n",
      "34/34 [==============================] - 0s 714us/step - loss: 7567.5405 - mae: 7567.5405\n",
      "Epoch 18/100\n",
      "34/34 [==============================] - 0s 662us/step - loss: 7659.4165 - mae: 7659.4165\n",
      "Epoch 19/100\n",
      "34/34 [==============================] - 0s 635us/step - loss: 7761.9897 - mae: 7761.9897\n",
      "Epoch 20/100\n",
      "34/34 [==============================] - 0s 722us/step - loss: 7883.0215 - mae: 7883.0215\n",
      "Epoch 21/100\n",
      "34/34 [==============================] - 0s 643us/step - loss: 7532.1074 - mae: 7532.1074\n",
      "Epoch 22/100\n",
      "34/34 [==============================] - 0s 642us/step - loss: 7974.9736 - mae: 7974.9736\n",
      "Epoch 23/100\n",
      "34/34 [==============================] - 0s 635us/step - loss: 7635.1230 - mae: 7635.1230\n",
      "Epoch 24/100\n",
      "34/34 [==============================] - 0s 633us/step - loss: 7534.7041 - mae: 7534.7041\n",
      "Epoch 25/100\n",
      "34/34 [==============================] - 0s 653us/step - loss: 7579.6230 - mae: 7579.6230\n",
      "Epoch 26/100\n",
      "34/34 [==============================] - 0s 673us/step - loss: 7716.9658 - mae: 7716.9658\n",
      "Epoch 27/100\n",
      "34/34 [==============================] - 0s 731us/step - loss: 7696.5708 - mae: 7696.5708\n",
      "Epoch 28/100\n",
      "34/34 [==============================] - 0s 709us/step - loss: 7480.3384 - mae: 7480.3384\n",
      "Epoch 29/100\n",
      "34/34 [==============================] - 0s 620us/step - loss: 7539.0342 - mae: 7539.0342\n",
      "Epoch 30/100\n",
      "34/34 [==============================] - 0s 737us/step - loss: 7664.1128 - mae: 7664.1128\n",
      "Epoch 31/100\n",
      "34/34 [==============================] - 0s 730us/step - loss: 7667.0801 - mae: 7667.0801\n",
      "Epoch 32/100\n",
      "34/34 [==============================] - 0s 669us/step - loss: 7448.2300 - mae: 7448.2300\n",
      "Epoch 33/100\n",
      "34/34 [==============================] - 0s 652us/step - loss: 7509.0669 - mae: 7509.0669\n",
      "Epoch 34/100\n",
      "34/34 [==============================] - 0s 775us/step - loss: 7436.4268 - mae: 7436.4268\n",
      "Epoch 35/100\n",
      "34/34 [==============================] - 0s 851us/step - loss: 7611.1104 - mae: 7611.1104\n",
      "Epoch 36/100\n",
      "34/34 [==============================] - 0s 708us/step - loss: 7510.8906 - mae: 7510.8906\n",
      "Epoch 37/100\n",
      "34/34 [==============================] - 0s 706us/step - loss: 7662.4961 - mae: 7662.4961\n",
      "Epoch 38/100\n",
      "34/34 [==============================] - 0s 702us/step - loss: 7518.2266 - mae: 7518.2266\n",
      "Epoch 39/100\n",
      "34/34 [==============================] - 0s 678us/step - loss: 7504.7949 - mae: 7504.7949\n",
      "Epoch 40/100\n",
      "34/34 [==============================] - 0s 692us/step - loss: 7383.5200 - mae: 7383.5200\n",
      "Epoch 41/100\n",
      "34/34 [==============================] - 0s 637us/step - loss: 7738.2935 - mae: 7738.2935\n",
      "Epoch 42/100\n",
      "34/34 [==============================] - 0s 682us/step - loss: 7403.3164 - mae: 7403.3164\n",
      "Epoch 43/100\n",
      "34/34 [==============================] - 0s 700us/step - loss: 7626.3057 - mae: 7626.3057\n",
      "Epoch 44/100\n",
      "34/34 [==============================] - 0s 722us/step - loss: 7392.5366 - mae: 7392.5366\n",
      "Epoch 45/100\n",
      "34/34 [==============================] - 0s 588us/step - loss: 7505.0391 - mae: 7505.0391\n",
      "Epoch 46/100\n",
      "34/34 [==============================] - 0s 630us/step - loss: 7393.8315 - mae: 7393.8315\n",
      "Epoch 47/100\n",
      "34/34 [==============================] - 0s 652us/step - loss: 7322.8447 - mae: 7322.8447\n",
      "Epoch 48/100\n",
      "34/34 [==============================] - 0s 692us/step - loss: 7441.7402 - mae: 7441.7402\n",
      "Epoch 49/100\n",
      "34/34 [==============================] - 0s 655us/step - loss: 7540.5938 - mae: 7540.5938\n",
      "Epoch 50/100\n",
      "34/34 [==============================] - 0s 644us/step - loss: 7506.4399 - mae: 7506.4399\n",
      "Epoch 51/100\n",
      "34/34 [==============================] - 0s 694us/step - loss: 7374.2773 - mae: 7374.2773\n",
      "Epoch 52/100\n",
      "34/34 [==============================] - 0s 724us/step - loss: 7543.9312 - mae: 7543.9312\n",
      "Epoch 53/100\n",
      "34/34 [==============================] - 0s 652us/step - loss: 7572.0923 - mae: 7572.0923\n",
      "Epoch 54/100\n",
      "34/34 [==============================] - 0s 843us/step - loss: 7318.3701 - mae: 7318.3701\n",
      "Epoch 55/100\n",
      "34/34 [==============================] - 0s 1ms/step - loss: 7275.9077 - mae: 7275.9077\n",
      "Epoch 56/100\n",
      "34/34 [==============================] - 0s 859us/step - loss: 7165.3223 - mae: 7165.3223\n",
      "Epoch 57/100\n",
      "34/34 [==============================] - 0s 827us/step - loss: 7536.0356 - mae: 7536.0356\n",
      "Epoch 58/100\n",
      "34/34 [==============================] - 0s 841us/step - loss: 7549.5034 - mae: 7549.5034\n",
      "Epoch 59/100\n",
      "34/34 [==============================] - 0s 829us/step - loss: 7528.2490 - mae: 7528.2490\n",
      "Epoch 60/100\n",
      "34/34 [==============================] - 0s 863us/step - loss: 7499.5186 - mae: 7499.5186\n",
      "Epoch 61/100\n",
      "34/34 [==============================] - 0s 1ms/step - loss: 7610.4795 - mae: 7610.4795\n",
      "Epoch 62/100\n",
      "34/34 [==============================] - 0s 791us/step - loss: 7518.9614 - mae: 7518.9614\n",
      "Epoch 63/100\n",
      "34/34 [==============================] - 0s 1ms/step - loss: 7292.7568 - mae: 7292.7568\n",
      "Epoch 64/100\n",
      "34/34 [==============================] - 0s 936us/step - loss: 7440.7324 - mae: 7440.7324\n",
      "Epoch 65/100\n",
      "34/34 [==============================] - 0s 701us/step - loss: 7604.2910 - mae: 7604.2910\n",
      "Epoch 66/100\n",
      "34/34 [==============================] - 0s 682us/step - loss: 7272.6533 - mae: 7272.6533\n",
      "Epoch 67/100\n",
      "34/34 [==============================] - 0s 731us/step - loss: 7189.9761 - mae: 7189.9761\n",
      "Epoch 68/100\n",
      "34/34 [==============================] - 0s 738us/step - loss: 7566.2588 - mae: 7566.2588\n",
      "Epoch 69/100\n",
      "34/34 [==============================] - 0s 614us/step - loss: 7572.2119 - mae: 7572.2119\n",
      "Epoch 70/100\n",
      "34/34 [==============================] - 0s 639us/step - loss: 7689.0225 - mae: 7689.0225\n",
      "Epoch 71/100\n",
      "34/34 [==============================] - 0s 792us/step - loss: 7357.6685 - mae: 7357.6685\n",
      "Epoch 72/100\n",
      "34/34 [==============================] - 0s 720us/step - loss: 7379.3921 - mae: 7379.3921\n",
      "Epoch 73/100\n",
      "34/34 [==============================] - 0s 781us/step - loss: 7349.9507 - mae: 7349.9507\n",
      "Epoch 74/100\n",
      "34/34 [==============================] - 0s 812us/step - loss: 7505.1909 - mae: 7505.1909\n",
      "Epoch 75/100\n",
      "34/34 [==============================] - 0s 1ms/step - loss: 7239.3359 - mae: 7239.3359\n",
      "Epoch 76/100\n",
      "34/34 [==============================] - 0s 861us/step - loss: 7152.4600 - mae: 7152.4600\n",
      "Epoch 77/100\n",
      "34/34 [==============================] - 0s 840us/step - loss: 7357.1279 - mae: 7357.1279\n",
      "Epoch 78/100\n",
      "34/34 [==============================] - 0s 621us/step - loss: 7136.6523 - mae: 7136.6523\n",
      "Epoch 79/100\n",
      "34/34 [==============================] - 0s 643us/step - loss: 7418.7554 - mae: 7418.7554\n",
      "Epoch 80/100\n",
      "34/34 [==============================] - 0s 849us/step - loss: 7369.5469 - mae: 7369.5469\n",
      "Epoch 81/100\n",
      "34/34 [==============================] - 0s 763us/step - loss: 7209.4756 - mae: 7209.4756\n",
      "Epoch 82/100\n",
      "34/34 [==============================] - 0s 673us/step - loss: 7138.0615 - mae: 7138.0615\n",
      "Epoch 83/100\n",
      "34/34 [==============================] - 0s 692us/step - loss: 7538.7334 - mae: 7538.7334\n",
      "Epoch 84/100\n",
      "34/34 [==============================] - 0s 664us/step - loss: 7101.8496 - mae: 7101.8496\n",
      "Epoch 85/100\n",
      "34/34 [==============================] - 0s 670us/step - loss: 7568.0015 - mae: 7568.0015\n",
      "Epoch 86/100\n",
      "34/34 [==============================] - 0s 696us/step - loss: 7455.1572 - mae: 7455.1572\n",
      "Epoch 87/100\n",
      "34/34 [==============================] - 0s 672us/step - loss: 7251.3623 - mae: 7251.3623\n",
      "Epoch 88/100\n",
      "34/34 [==============================] - 0s 595us/step - loss: 7228.5396 - mae: 7228.5396\n",
      "Epoch 89/100\n",
      "34/34 [==============================] - 0s 628us/step - loss: 7507.8647 - mae: 7507.8647\n",
      "Epoch 90/100\n",
      "34/34 [==============================] - 0s 625us/step - loss: 7042.1460 - mae: 7042.1460\n",
      "Epoch 91/100\n",
      "34/34 [==============================] - 0s 682us/step - loss: 7150.3086 - mae: 7150.3086\n",
      "Epoch 92/100\n",
      "34/34 [==============================] - 0s 843us/step - loss: 7238.0547 - mae: 7238.0547\n",
      "Epoch 93/100\n",
      "34/34 [==============================] - 0s 706us/step - loss: 7509.1660 - mae: 7509.1660\n",
      "Epoch 94/100\n",
      "34/34 [==============================] - 0s 700us/step - loss: 7128.8350 - mae: 7128.8350\n",
      "Epoch 95/100\n",
      "34/34 [==============================] - 0s 832us/step - loss: 7400.1489 - mae: 7400.1489\n",
      "Epoch 96/100\n",
      "34/34 [==============================] - 0s 671us/step - loss: 7363.4326 - mae: 7363.4326\n",
      "Epoch 97/100\n",
      "34/34 [==============================] - 0s 693us/step - loss: 7143.3198 - mae: 7143.3198\n",
      "Epoch 98/100\n",
      "34/34 [==============================] - 0s 701us/step - loss: 7351.1768 - mae: 7351.1768\n",
      "Epoch 99/100\n",
      "34/34 [==============================] - 0s 748us/step - loss: 7154.2480 - mae: 7154.2480\n",
      "Epoch 100/100\n",
      "34/34 [==============================] - 0s 690us/step - loss: 7209.0552 - mae: 7209.0552\n"
     ]
    },
    {
     "data": {
      "text/plain": "<keras.src.callbacks.History at 0x7f12045d37f0>"
     },
     "execution_count": 103,
     "metadata": {},
     "output_type": "execute_result"
    }
   ],
   "source": [
    "# Build a neural network \n",
    "tf.random.set_seed(42)\n",
    "\n",
    "# 1. Create a model\n",
    "insurance_model = tf.keras.Sequential([\n",
    "    tf.keras.layers.Dense(10),\n",
    "    tf.keras.layers.Dense(1)\n",
    "])\n",
    "\n",
    "# 2. Compile the model\n",
    "insurance_model.compile(loss=tf.keras.losses.mae,\n",
    "                        optimizer=tf.keras.optimizers.SGD(),\n",
    "                        metrics=[\"mae\"])\n",
    "# 3. Fit the model\n",
    "insurance_model.fit(tf.constant(X_train), tf.constant(y_train), epochs=100)"
   ],
   "metadata": {
    "collapsed": false,
    "ExecuteTime": {
     "end_time": "2023-10-22T09:34:09.015398501Z",
     "start_time": "2023-10-22T09:34:05.998431892Z"
    }
   },
   "id": "585ad62d6835ef7d"
  },
  {
   "cell_type": "code",
   "execution_count": 105,
   "outputs": [
    {
     "name": "stdout",
     "output_type": "stream",
     "text": [
      "9/9 [==============================] - 0s 1ms/step - loss: 7703.6240 - mae: 7703.6240\n"
     ]
    },
    {
     "data": {
      "text/plain": "[7703.6240234375, 7703.6240234375]"
     },
     "execution_count": 105,
     "metadata": {},
     "output_type": "execute_result"
    }
   ],
   "source": [
    "# Check the results of the insurance model on the test data\n",
    "insurance_model.evaluate(tf.constant(X_test), tf.constant(y_test))"
   ],
   "metadata": {
    "collapsed": false,
    "ExecuteTime": {
     "end_time": "2023-10-22T09:36:14.782088938Z",
     "start_time": "2023-10-22T09:36:14.686254611Z"
    }
   },
   "id": "b7948164bfcf709"
  },
  {
   "cell_type": "code",
   "execution_count": 106,
   "outputs": [
    {
     "data": {
      "text/plain": "13346.089736364485"
     },
     "execution_count": 106,
     "metadata": {},
     "output_type": "execute_result"
    }
   ],
   "source": [
    "y_train.mean()"
   ],
   "metadata": {
    "collapsed": false,
    "ExecuteTime": {
     "end_time": "2023-10-22T09:37:13.754130706Z",
     "start_time": "2023-10-22T09:37:13.674075446Z"
    }
   },
   "id": "bb61c0c33bbaa92d"
  },
  {
   "cell_type": "markdown",
   "source": [
    "#### Right now it looks like our model isn't performing too well...let's try and improve it\n",
    "\n",
    "To (try) improve our model, we'll run 2 experiments:\n",
    "1. Add an extra layer with more hidden units nad use the Adam optimizer\n",
    "2. Train for longer "
   ],
   "metadata": {
    "collapsed": false
   },
   "id": "9e521557e1e342dc"
  },
  {
   "cell_type": "code",
   "execution_count": 111,
   "outputs": [
    {
     "name": "stdout",
     "output_type": "stream",
     "text": [
      "Epoch 1/100\n",
      "34/34 [==============================] - 0s 797us/step - loss: 13294.8584 - mae: 13294.8584\n",
      "Epoch 2/100\n",
      "34/34 [==============================] - 0s 942us/step - loss: 13131.1934 - mae: 13131.1934\n",
      "Epoch 3/100\n",
      "34/34 [==============================] - 0s 834us/step - loss: 12785.7578 - mae: 12785.7578\n",
      "Epoch 4/100\n",
      "34/34 [==============================] - 0s 799us/step - loss: 12102.4814 - mae: 12102.4814\n",
      "Epoch 5/100\n",
      "34/34 [==============================] - 0s 765us/step - loss: 10950.9346 - mae: 10950.9346\n",
      "Epoch 6/100\n",
      "34/34 [==============================] - 0s 764us/step - loss: 9481.5479 - mae: 9481.5479\n",
      "Epoch 7/100\n",
      "34/34 [==============================] - 0s 748us/step - loss: 8144.5522 - mae: 8144.5522\n",
      "Epoch 8/100\n",
      "34/34 [==============================] - 0s 791us/step - loss: 7516.8184 - mae: 7516.8184\n",
      "Epoch 9/100\n",
      "34/34 [==============================] - 0s 807us/step - loss: 7418.0386 - mae: 7418.0386\n",
      "Epoch 10/100\n",
      "34/34 [==============================] - 0s 802us/step - loss: 7398.2119 - mae: 7398.2119\n",
      "Epoch 11/100\n",
      "34/34 [==============================] - 0s 764us/step - loss: 7378.9185 - mae: 7378.9185\n",
      "Epoch 12/100\n",
      "34/34 [==============================] - 0s 765us/step - loss: 7356.9839 - mae: 7356.9839\n",
      "Epoch 13/100\n",
      "34/34 [==============================] - 0s 740us/step - loss: 7336.3486 - mae: 7336.3486\n",
      "Epoch 14/100\n",
      "34/34 [==============================] - 0s 757us/step - loss: 7313.5688 - mae: 7313.5688\n",
      "Epoch 15/100\n",
      "34/34 [==============================] - 0s 752us/step - loss: 7294.6748 - mae: 7294.6748\n",
      "Epoch 16/100\n",
      "34/34 [==============================] - 0s 807us/step - loss: 7272.1401 - mae: 7272.1401\n",
      "Epoch 17/100\n",
      "34/34 [==============================] - 0s 788us/step - loss: 7251.2710 - mae: 7251.2710\n",
      "Epoch 18/100\n",
      "34/34 [==============================] - 0s 762us/step - loss: 7227.5894 - mae: 7227.5894\n",
      "Epoch 19/100\n",
      "34/34 [==============================] - 0s 840us/step - loss: 7204.8623 - mae: 7204.8623\n",
      "Epoch 20/100\n",
      "34/34 [==============================] - 0s 875us/step - loss: 7180.8062 - mae: 7180.8062\n",
      "Epoch 21/100\n",
      "34/34 [==============================] - 0s 817us/step - loss: 7161.3208 - mae: 7161.3208\n",
      "Epoch 22/100\n",
      "34/34 [==============================] - 0s 799us/step - loss: 7133.3813 - mae: 7133.3813\n",
      "Epoch 23/100\n",
      "34/34 [==============================] - 0s 761us/step - loss: 7107.5459 - mae: 7107.5459\n",
      "Epoch 24/100\n",
      "34/34 [==============================] - 0s 829us/step - loss: 7081.5718 - mae: 7081.5718\n",
      "Epoch 25/100\n",
      "34/34 [==============================] - 0s 780us/step - loss: 7062.3970 - mae: 7062.3970\n",
      "Epoch 26/100\n",
      "34/34 [==============================] - 0s 766us/step - loss: 7030.3296 - mae: 7030.3296\n",
      "Epoch 27/100\n",
      "34/34 [==============================] - 0s 783us/step - loss: 7001.3857 - mae: 7001.3857\n",
      "Epoch 28/100\n",
      "34/34 [==============================] - 0s 817us/step - loss: 6972.4810 - mae: 6972.4810\n",
      "Epoch 29/100\n",
      "34/34 [==============================] - 0s 902us/step - loss: 6943.8999 - mae: 6943.8999\n",
      "Epoch 30/100\n",
      "34/34 [==============================] - 0s 842us/step - loss: 6915.2539 - mae: 6915.2539\n",
      "Epoch 31/100\n",
      "34/34 [==============================] - 0s 763us/step - loss: 6884.3267 - mae: 6884.3267\n",
      "Epoch 32/100\n",
      "34/34 [==============================] - 0s 773us/step - loss: 6855.1948 - mae: 6855.1948\n",
      "Epoch 33/100\n",
      "34/34 [==============================] - 0s 783us/step - loss: 6822.8169 - mae: 6822.8169\n",
      "Epoch 34/100\n",
      "34/34 [==============================] - 0s 766us/step - loss: 6792.0444 - mae: 6792.0444\n",
      "Epoch 35/100\n",
      "34/34 [==============================] - 0s 756us/step - loss: 6756.3218 - mae: 6756.3218\n",
      "Epoch 36/100\n",
      "34/34 [==============================] - 0s 777us/step - loss: 6722.7217 - mae: 6722.7217\n",
      "Epoch 37/100\n",
      "34/34 [==============================] - 0s 769us/step - loss: 6685.7910 - mae: 6685.7910\n",
      "Epoch 38/100\n",
      "34/34 [==============================] - 0s 721us/step - loss: 6656.8853 - mae: 6656.8853\n",
      "Epoch 39/100\n",
      "34/34 [==============================] - 0s 833us/step - loss: 6618.2993 - mae: 6618.2993\n",
      "Epoch 40/100\n",
      "34/34 [==============================] - 0s 760us/step - loss: 6584.8384 - mae: 6584.8384\n",
      "Epoch 41/100\n",
      "34/34 [==============================] - 0s 839us/step - loss: 6556.6187 - mae: 6556.6187\n",
      "Epoch 42/100\n",
      "34/34 [==============================] - 0s 850us/step - loss: 6533.8369 - mae: 6533.8369\n",
      "Epoch 43/100\n",
      "34/34 [==============================] - 0s 847us/step - loss: 6510.1558 - mae: 6510.1558\n",
      "Epoch 44/100\n",
      "34/34 [==============================] - 0s 870us/step - loss: 6489.2119 - mae: 6489.2119\n",
      "Epoch 45/100\n",
      "34/34 [==============================] - 0s 830us/step - loss: 6482.1074 - mae: 6482.1074\n",
      "Epoch 46/100\n",
      "34/34 [==============================] - 0s 805us/step - loss: 6462.3159 - mae: 6462.3159\n",
      "Epoch 47/100\n",
      "34/34 [==============================] - 0s 811us/step - loss: 6447.3857 - mae: 6447.3857\n",
      "Epoch 48/100\n",
      "34/34 [==============================] - 0s 888us/step - loss: 6432.7837 - mae: 6432.7837\n",
      "Epoch 49/100\n",
      "34/34 [==============================] - 0s 933us/step - loss: 6420.9072 - mae: 6420.9072\n",
      "Epoch 50/100\n",
      "34/34 [==============================] - 0s 1ms/step - loss: 6406.9619 - mae: 6406.9619\n",
      "Epoch 51/100\n",
      "34/34 [==============================] - 0s 1ms/step - loss: 6393.8682 - mae: 6393.8682\n",
      "Epoch 52/100\n",
      "34/34 [==============================] - 0s 1ms/step - loss: 6381.9629 - mae: 6381.9629\n",
      "Epoch 53/100\n",
      "34/34 [==============================] - 0s 770us/step - loss: 6367.4067 - mae: 6367.4067\n",
      "Epoch 54/100\n",
      "34/34 [==============================] - 0s 784us/step - loss: 6353.5283 - mae: 6353.5283\n",
      "Epoch 55/100\n",
      "34/34 [==============================] - 0s 894us/step - loss: 6340.1509 - mae: 6340.1509\n",
      "Epoch 56/100\n",
      "34/34 [==============================] - 0s 1ms/step - loss: 6326.2173 - mae: 6326.2173\n",
      "Epoch 57/100\n",
      "34/34 [==============================] - 0s 850us/step - loss: 6312.7876 - mae: 6312.7876\n",
      "Epoch 58/100\n",
      "34/34 [==============================] - 0s 932us/step - loss: 6298.3833 - mae: 6298.3833\n",
      "Epoch 59/100\n",
      "34/34 [==============================] - 0s 805us/step - loss: 6284.0073 - mae: 6284.0073\n",
      "Epoch 60/100\n",
      "34/34 [==============================] - 0s 871us/step - loss: 6272.5630 - mae: 6272.5630\n",
      "Epoch 61/100\n",
      "34/34 [==============================] - 0s 866us/step - loss: 6253.0850 - mae: 6253.0850\n",
      "Epoch 62/100\n",
      "34/34 [==============================] - 0s 753us/step - loss: 6240.5713 - mae: 6240.5713\n",
      "Epoch 63/100\n",
      "34/34 [==============================] - 0s 896us/step - loss: 6221.5498 - mae: 6221.5498\n",
      "Epoch 64/100\n",
      "34/34 [==============================] - 0s 785us/step - loss: 6204.2900 - mae: 6204.2900\n",
      "Epoch 65/100\n",
      "34/34 [==============================] - 0s 830us/step - loss: 6186.8208 - mae: 6186.8208\n",
      "Epoch 66/100\n",
      "34/34 [==============================] - 0s 804us/step - loss: 6169.0503 - mae: 6169.0503\n",
      "Epoch 67/100\n",
      "34/34 [==============================] - 0s 850us/step - loss: 6156.2671 - mae: 6156.2671\n",
      "Epoch 68/100\n",
      "34/34 [==============================] - 0s 815us/step - loss: 6132.9473 - mae: 6132.9473\n",
      "Epoch 69/100\n",
      "34/34 [==============================] - 0s 808us/step - loss: 6116.4116 - mae: 6116.4116\n",
      "Epoch 70/100\n",
      "34/34 [==============================] - 0s 801us/step - loss: 6095.4541 - mae: 6095.4541\n",
      "Epoch 71/100\n",
      "34/34 [==============================] - 0s 938us/step - loss: 6075.3423 - mae: 6075.3423\n",
      "Epoch 72/100\n",
      "34/34 [==============================] - 0s 777us/step - loss: 6055.2422 - mae: 6055.2422\n",
      "Epoch 73/100\n",
      "34/34 [==============================] - 0s 774us/step - loss: 6041.1641 - mae: 6041.1641\n",
      "Epoch 74/100\n",
      "34/34 [==============================] - 0s 883us/step - loss: 6011.8022 - mae: 6011.8022\n",
      "Epoch 75/100\n",
      "34/34 [==============================] - 0s 821us/step - loss: 5989.8574 - mae: 5989.8574\n",
      "Epoch 76/100\n",
      "34/34 [==============================] - 0s 782us/step - loss: 5973.9292 - mae: 5973.9292\n",
      "Epoch 77/100\n",
      "34/34 [==============================] - 0s 864us/step - loss: 5941.4766 - mae: 5941.4766\n",
      "Epoch 78/100\n",
      "34/34 [==============================] - 0s 784us/step - loss: 5917.2476 - mae: 5917.2476\n",
      "Epoch 79/100\n",
      "34/34 [==============================] - 0s 828us/step - loss: 5892.2280 - mae: 5892.2280\n",
      "Epoch 80/100\n",
      "34/34 [==============================] - 0s 865us/step - loss: 5863.3325 - mae: 5863.3325\n",
      "Epoch 81/100\n",
      "34/34 [==============================] - 0s 1ms/step - loss: 5836.6274 - mae: 5836.6274\n",
      "Epoch 82/100\n",
      "34/34 [==============================] - 0s 843us/step - loss: 5806.6284 - mae: 5806.6284\n",
      "Epoch 83/100\n",
      "34/34 [==============================] - 0s 893us/step - loss: 5778.1299 - mae: 5778.1299\n",
      "Epoch 84/100\n",
      "34/34 [==============================] - 0s 1ms/step - loss: 5743.0107 - mae: 5743.0107\n",
      "Epoch 85/100\n",
      "34/34 [==============================] - 0s 953us/step - loss: 5716.8926 - mae: 5716.8926\n",
      "Epoch 86/100\n",
      "34/34 [==============================] - 0s 924us/step - loss: 5680.5547 - mae: 5680.5547\n",
      "Epoch 87/100\n",
      "34/34 [==============================] - 0s 854us/step - loss: 5640.9521 - mae: 5640.9521\n",
      "Epoch 88/100\n",
      "34/34 [==============================] - 0s 819us/step - loss: 5604.3330 - mae: 5604.3330\n",
      "Epoch 89/100\n",
      "34/34 [==============================] - 0s 835us/step - loss: 5564.6113 - mae: 5564.6113\n",
      "Epoch 90/100\n",
      "34/34 [==============================] - 0s 872us/step - loss: 5520.6543 - mae: 5520.6543\n",
      "Epoch 91/100\n",
      "34/34 [==============================] - 0s 854us/step - loss: 5482.7153 - mae: 5482.7153\n",
      "Epoch 92/100\n",
      "34/34 [==============================] - 0s 829us/step - loss: 5431.6162 - mae: 5431.6162\n",
      "Epoch 93/100\n",
      "34/34 [==============================] - 0s 848us/step - loss: 5387.0117 - mae: 5387.0117\n",
      "Epoch 94/100\n",
      "34/34 [==============================] - 0s 930us/step - loss: 5337.7017 - mae: 5337.7017\n",
      "Epoch 95/100\n",
      "34/34 [==============================] - 0s 789us/step - loss: 5284.4551 - mae: 5284.4551\n",
      "Epoch 96/100\n",
      "34/34 [==============================] - 0s 779us/step - loss: 5235.2153 - mae: 5235.2153\n",
      "Epoch 97/100\n",
      "34/34 [==============================] - 0s 829us/step - loss: 5180.4727 - mae: 5180.4727\n",
      "Epoch 98/100\n",
      "34/34 [==============================] - 0s 836us/step - loss: 5114.7295 - mae: 5114.7295\n",
      "Epoch 99/100\n",
      "34/34 [==============================] - 0s 862us/step - loss: 5054.3477 - mae: 5054.3477\n",
      "Epoch 100/100\n",
      "34/34 [==============================] - 0s 777us/step - loss: 4995.5996 - mae: 4995.5996\n"
     ]
    },
    {
     "data": {
      "text/plain": "<keras.src.callbacks.History at 0x7f11c1c76a40>"
     },
     "execution_count": 111,
     "metadata": {},
     "output_type": "execute_result"
    }
   ],
   "source": [
    "# Set random seed\n",
    "tf.random.set_seed(42)\n",
    "\n",
    "# 1. Create the model\n",
    "insurance_model_2 = tf.keras.Sequential([\n",
    "    tf.keras.layers.Dense(100),\n",
    "    tf.keras.layers.Dense(10),\n",
    "    tf.keras.layers.Dense(1)\n",
    "])\n",
    "\n",
    "# 2. Compile the model\n",
    "insurance_model_2.compile(loss=tf.keras.losses.mae,\n",
    "                          optimizer=tf.keras.optimizers.Adam(),\n",
    "                          metrics=[\"mae\"])\n",
    "\n",
    "# 3. Fit the model\n",
    "insurance_model_2.fit(tf.constant(X_train), tf.constant(y_train), epochs=100, verbose=1)"
   ],
   "metadata": {
    "collapsed": false,
    "ExecuteTime": {
     "end_time": "2023-10-22T09:44:25.770357100Z",
     "start_time": "2023-10-22T09:44:22.334846372Z"
    }
   },
   "id": "99d21f767b53a9b9"
  },
  {
   "cell_type": "code",
   "execution_count": 112,
   "outputs": [
    {
     "name": "stdout",
     "output_type": "stream",
     "text": [
      "9/9 [==============================] - 0s 1ms/step - loss: 4863.5830 - mae: 4863.5830\n"
     ]
    },
    {
     "data": {
      "text/plain": "[4863.5830078125, 4863.5830078125]"
     },
     "execution_count": 112,
     "metadata": {},
     "output_type": "execute_result"
    }
   ],
   "source": [
    "# Evaluate new model\n",
    "insurance_model_2.evaluate(tf.constant(X_test), tf.constant(y_test))"
   ],
   "metadata": {
    "collapsed": false,
    "ExecuteTime": {
     "end_time": "2023-10-22T09:44:36.213309995Z",
     "start_time": "2023-10-22T09:44:36.119728890Z"
    }
   },
   "id": "571ad3978718329b"
  },
  {
   "cell_type": "code",
   "execution_count": 113,
   "outputs": [
    {
     "name": "stdout",
     "output_type": "stream",
     "text": [
      "9/9 [==============================] - 0s 777us/step - loss: 7703.6240 - mae: 7703.6240\n"
     ]
    },
    {
     "data": {
      "text/plain": "[7703.6240234375, 7703.6240234375]"
     },
     "execution_count": 113,
     "metadata": {},
     "output_type": "execute_result"
    }
   ],
   "source": [
    "insurance_model.evaluate(tf.constant(X_test), tf.constant(y_test))"
   ],
   "metadata": {
    "collapsed": false,
    "ExecuteTime": {
     "end_time": "2023-10-22T09:44:54.006739180Z",
     "start_time": "2023-10-22T09:44:53.909732097Z"
    }
   },
   "id": "42d558b3f7459fe5"
  },
  {
   "cell_type": "code",
   "execution_count": 118,
   "outputs": [
    {
     "name": "stdout",
     "output_type": "stream",
     "text": [
      "Epoch 1/200\n",
      "34/34 [==============================] - 0s 815us/step - loss: 13273.4336 - mae: 13273.4336\n",
      "Epoch 2/200\n",
      "34/34 [==============================] - 0s 892us/step - loss: 13062.6484 - mae: 13062.6484\n",
      "Epoch 3/200\n",
      "34/34 [==============================] - 0s 739us/step - loss: 12642.1484 - mae: 12642.1484\n",
      "Epoch 4/200\n",
      "34/34 [==============================] - 0s 791us/step - loss: 11842.2676 - mae: 11842.2676\n",
      "Epoch 5/200\n",
      "34/34 [==============================] - 0s 745us/step - loss: 10563.7939 - mae: 10563.7939\n",
      "Epoch 6/200\n",
      "34/34 [==============================] - 0s 764us/step - loss: 9056.4355 - mae: 9056.4355\n",
      "Epoch 7/200\n",
      "34/34 [==============================] - 0s 775us/step - loss: 7855.4927 - mae: 7855.4927\n",
      "Epoch 8/200\n",
      "34/34 [==============================] - 0s 691us/step - loss: 7456.4683 - mae: 7456.4683\n",
      "Epoch 9/200\n",
      "34/34 [==============================] - 0s 812us/step - loss: 7404.9307 - mae: 7404.9307\n",
      "Epoch 10/200\n",
      "34/34 [==============================] - 0s 747us/step - loss: 7384.7808 - mae: 7384.7808\n",
      "Epoch 11/200\n",
      "34/34 [==============================] - 0s 731us/step - loss: 7365.2700 - mae: 7365.2700\n",
      "Epoch 12/200\n",
      "34/34 [==============================] - 0s 746us/step - loss: 7342.0132 - mae: 7342.0132\n",
      "Epoch 13/200\n",
      "34/34 [==============================] - 0s 739us/step - loss: 7320.5273 - mae: 7320.5273\n",
      "Epoch 14/200\n",
      "34/34 [==============================] - 0s 722us/step - loss: 7296.9648 - mae: 7296.9648\n",
      "Epoch 15/200\n",
      "34/34 [==============================] - 0s 767us/step - loss: 7276.9619 - mae: 7276.9619\n",
      "Epoch 16/200\n",
      "34/34 [==============================] - 0s 771us/step - loss: 7254.0562 - mae: 7254.0562\n",
      "Epoch 17/200\n",
      "34/34 [==============================] - 0s 751us/step - loss: 7231.0464 - mae: 7231.0464\n",
      "Epoch 18/200\n",
      "34/34 [==============================] - 0s 736us/step - loss: 7206.8271 - mae: 7206.8271\n",
      "Epoch 19/200\n",
      "34/34 [==============================] - 0s 790us/step - loss: 7182.7788 - mae: 7182.7788\n",
      "Epoch 20/200\n",
      "34/34 [==============================] - 0s 781us/step - loss: 7157.1636 - mae: 7157.1636\n",
      "Epoch 21/200\n",
      "34/34 [==============================] - 0s 730us/step - loss: 7135.3892 - mae: 7135.3892\n",
      "Epoch 22/200\n",
      "34/34 [==============================] - 0s 785us/step - loss: 7107.1899 - mae: 7107.1899\n",
      "Epoch 23/200\n",
      "34/34 [==============================] - 0s 765us/step - loss: 7080.1226 - mae: 7080.1226\n",
      "Epoch 24/200\n",
      "34/34 [==============================] - 0s 863us/step - loss: 7052.2734 - mae: 7052.2734\n",
      "Epoch 25/200\n",
      "34/34 [==============================] - 0s 789us/step - loss: 7031.5161 - mae: 7031.5161\n",
      "Epoch 26/200\n",
      "34/34 [==============================] - 0s 731us/step - loss: 6997.2388 - mae: 6997.2388\n",
      "Epoch 27/200\n",
      "34/34 [==============================] - 0s 797us/step - loss: 6967.2534 - mae: 6967.2534\n",
      "Epoch 28/200\n",
      "34/34 [==============================] - 0s 784us/step - loss: 6935.9868 - mae: 6935.9868\n",
      "Epoch 29/200\n",
      "34/34 [==============================] - 0s 775us/step - loss: 6905.4248 - mae: 6905.4248\n",
      "Epoch 30/200\n",
      "34/34 [==============================] - 0s 869us/step - loss: 6876.9360 - mae: 6876.9360\n",
      "Epoch 31/200\n",
      "34/34 [==============================] - 0s 1ms/step - loss: 6842.5708 - mae: 6842.5708\n",
      "Epoch 32/200\n",
      "34/34 [==============================] - 0s 934us/step - loss: 6811.1646 - mae: 6811.1646\n",
      "Epoch 33/200\n",
      "34/34 [==============================] - 0s 876us/step - loss: 6775.9302 - mae: 6775.9302\n",
      "Epoch 34/200\n",
      "34/34 [==============================] - 0s 1ms/step - loss: 6742.0000 - mae: 6742.0000\n",
      "Epoch 35/200\n",
      "34/34 [==============================] - 0s 997us/step - loss: 6705.2261 - mae: 6705.2261\n",
      "Epoch 36/200\n",
      "34/34 [==============================] - 0s 1ms/step - loss: 6669.3950 - mae: 6669.3950\n",
      "Epoch 37/200\n",
      "34/34 [==============================] - 0s 1ms/step - loss: 6632.5693 - mae: 6632.5693\n",
      "Epoch 38/200\n",
      "34/34 [==============================] - 0s 843us/step - loss: 6600.9556 - mae: 6600.9556\n",
      "Epoch 39/200\n",
      "34/34 [==============================] - 0s 759us/step - loss: 6564.8813 - mae: 6564.8813\n",
      "Epoch 40/200\n",
      "34/34 [==============================] - 0s 716us/step - loss: 6537.8394 - mae: 6537.8394\n",
      "Epoch 41/200\n",
      "34/34 [==============================] - 0s 757us/step - loss: 6515.5161 - mae: 6515.5161\n",
      "Epoch 42/200\n",
      "34/34 [==============================] - 0s 852us/step - loss: 6495.9121 - mae: 6495.9121\n",
      "Epoch 43/200\n",
      "34/34 [==============================] - 0s 799us/step - loss: 6478.4595 - mae: 6478.4595\n",
      "Epoch 44/200\n",
      "34/34 [==============================] - 0s 715us/step - loss: 6459.9312 - mae: 6459.9312\n",
      "Epoch 45/200\n",
      "34/34 [==============================] - 0s 776us/step - loss: 6451.9233 - mae: 6451.9233\n",
      "Epoch 46/200\n",
      "34/34 [==============================] - 0s 765us/step - loss: 6433.7476 - mae: 6433.7476\n",
      "Epoch 47/200\n",
      "34/34 [==============================] - 0s 880us/step - loss: 6418.5444 - mae: 6418.5444\n",
      "Epoch 48/200\n",
      "34/34 [==============================] - 0s 756us/step - loss: 6404.4414 - mae: 6404.4414\n",
      "Epoch 49/200\n",
      "34/34 [==============================] - 0s 780us/step - loss: 6393.1489 - mae: 6393.1489\n",
      "Epoch 50/200\n",
      "34/34 [==============================] - 0s 802us/step - loss: 6377.8765 - mae: 6377.8765\n",
      "Epoch 51/200\n",
      "34/34 [==============================] - 0s 767us/step - loss: 6363.5605 - mae: 6363.5605\n",
      "Epoch 52/200\n",
      "34/34 [==============================] - 0s 761us/step - loss: 6350.3555 - mae: 6350.3555\n",
      "Epoch 53/200\n",
      "34/34 [==============================] - 0s 771us/step - loss: 6334.6851 - mae: 6334.6851\n",
      "Epoch 54/200\n",
      "34/34 [==============================] - 0s 755us/step - loss: 6319.7407 - mae: 6319.7407\n",
      "Epoch 55/200\n",
      "34/34 [==============================] - 0s 717us/step - loss: 6305.2983 - mae: 6305.2983\n",
      "Epoch 56/200\n",
      "34/34 [==============================] - 0s 731us/step - loss: 6290.0259 - mae: 6290.0259\n",
      "Epoch 57/200\n",
      "34/34 [==============================] - 0s 731us/step - loss: 6274.8579 - mae: 6274.8579\n",
      "Epoch 58/200\n",
      "34/34 [==============================] - 0s 838us/step - loss: 6259.4663 - mae: 6259.4663\n",
      "Epoch 59/200\n",
      "34/34 [==============================] - 0s 782us/step - loss: 6242.5825 - mae: 6242.5825\n",
      "Epoch 60/200\n",
      "34/34 [==============================] - 0s 806us/step - loss: 6229.9790 - mae: 6229.9790\n",
      "Epoch 61/200\n",
      "34/34 [==============================] - 0s 931us/step - loss: 6207.9463 - mae: 6207.9463\n",
      "Epoch 62/200\n",
      "34/34 [==============================] - 0s 835us/step - loss: 6195.2368 - mae: 6195.2368\n",
      "Epoch 63/200\n",
      "34/34 [==============================] - 0s 815us/step - loss: 6174.4707 - mae: 6174.4707\n",
      "Epoch 64/200\n",
      "34/34 [==============================] - 0s 758us/step - loss: 6155.0693 - mae: 6155.0693\n",
      "Epoch 65/200\n",
      "34/34 [==============================] - 0s 752us/step - loss: 6134.9893 - mae: 6134.9893\n",
      "Epoch 66/200\n",
      "34/34 [==============================] - 0s 752us/step - loss: 6114.7783 - mae: 6114.7783\n",
      "Epoch 67/200\n",
      "34/34 [==============================] - 0s 784us/step - loss: 6100.0581 - mae: 6100.0581\n",
      "Epoch 68/200\n",
      "34/34 [==============================] - 0s 782us/step - loss: 6074.7881 - mae: 6074.7881\n",
      "Epoch 69/200\n",
      "34/34 [==============================] - 0s 777us/step - loss: 6055.4282 - mae: 6055.4282\n",
      "Epoch 70/200\n",
      "34/34 [==============================] - 0s 739us/step - loss: 6031.6816 - mae: 6031.6816\n",
      "Epoch 71/200\n",
      "34/34 [==============================] - 0s 750us/step - loss: 6008.4116 - mae: 6008.4116\n",
      "Epoch 72/200\n",
      "34/34 [==============================] - 0s 1ms/step - loss: 5984.7456 - mae: 5984.7456\n",
      "Epoch 73/200\n",
      "34/34 [==============================] - 0s 793us/step - loss: 5968.5806 - mae: 5968.5806\n",
      "Epoch 74/200\n",
      "34/34 [==============================] - 0s 778us/step - loss: 5934.1763 - mae: 5934.1763\n",
      "Epoch 75/200\n",
      "34/34 [==============================] - 0s 760us/step - loss: 5908.1152 - mae: 5908.1152\n",
      "Epoch 76/200\n",
      "34/34 [==============================] - 0s 763us/step - loss: 5887.8613 - mae: 5887.8613\n",
      "Epoch 77/200\n",
      "34/34 [==============================] - 0s 815us/step - loss: 5852.6338 - mae: 5852.6338\n",
      "Epoch 78/200\n",
      "34/34 [==============================] - 0s 715us/step - loss: 5823.6348 - mae: 5823.6348\n",
      "Epoch 79/200\n",
      "34/34 [==============================] - 0s 2ms/step - loss: 5792.7939 - mae: 5792.7939\n",
      "Epoch 80/200\n",
      "34/34 [==============================] - 0s 776us/step - loss: 5759.7554 - mae: 5759.7554\n",
      "Epoch 81/200\n",
      "34/34 [==============================] - 0s 835us/step - loss: 5727.6030 - mae: 5727.6030\n",
      "Epoch 82/200\n",
      "34/34 [==============================] - 0s 766us/step - loss: 5692.9282 - mae: 5692.9282\n",
      "Epoch 83/200\n",
      "34/34 [==============================] - 0s 737us/step - loss: 5657.5254 - mae: 5657.5254\n",
      "Epoch 84/200\n",
      "34/34 [==============================] - 0s 737us/step - loss: 5616.2085 - mae: 5616.2085\n",
      "Epoch 85/200\n",
      "34/34 [==============================] - 0s 766us/step - loss: 5580.8516 - mae: 5580.8516\n",
      "Epoch 86/200\n",
      "34/34 [==============================] - 0s 807us/step - loss: 5538.9932 - mae: 5538.9932\n",
      "Epoch 87/200\n",
      "34/34 [==============================] - 0s 727us/step - loss: 5494.3481 - mae: 5494.3481\n",
      "Epoch 88/200\n",
      "34/34 [==============================] - 0s 715us/step - loss: 5447.4897 - mae: 5447.4897\n",
      "Epoch 89/200\n",
      "34/34 [==============================] - 0s 751us/step - loss: 5398.6680 - mae: 5398.6680\n",
      "Epoch 90/200\n",
      "34/34 [==============================] - 0s 731us/step - loss: 5345.4307 - mae: 5345.4307\n",
      "Epoch 91/200\n",
      "34/34 [==============================] - 0s 720us/step - loss: 5295.0991 - mae: 5295.0991\n",
      "Epoch 92/200\n",
      "34/34 [==============================] - 0s 767us/step - loss: 5239.5615 - mae: 5239.5615\n",
      "Epoch 93/200\n",
      "34/34 [==============================] - 0s 768us/step - loss: 5182.5820 - mae: 5182.5820\n",
      "Epoch 94/200\n",
      "34/34 [==============================] - 0s 770us/step - loss: 5121.2661 - mae: 5121.2661\n",
      "Epoch 95/200\n",
      "34/34 [==============================] - 0s 790us/step - loss: 5056.3613 - mae: 5056.3613\n",
      "Epoch 96/200\n",
      "34/34 [==============================] - 0s 764us/step - loss: 4998.1338 - mae: 4998.1338\n",
      "Epoch 97/200\n",
      "34/34 [==============================] - 0s 722us/step - loss: 4928.0728 - mae: 4928.0728\n",
      "Epoch 98/200\n",
      "34/34 [==============================] - 0s 746us/step - loss: 4856.5957 - mae: 4856.5957\n",
      "Epoch 99/200\n",
      "34/34 [==============================] - 0s 823us/step - loss: 4770.3481 - mae: 4770.3481\n",
      "Epoch 100/200\n",
      "34/34 [==============================] - 0s 773us/step - loss: 4704.3120 - mae: 4704.3120\n",
      "Epoch 101/200\n",
      "34/34 [==============================] - 0s 692us/step - loss: 4612.7905 - mae: 4612.7905\n",
      "Epoch 102/200\n",
      "34/34 [==============================] - 0s 705us/step - loss: 4520.4292 - mae: 4520.4292\n",
      "Epoch 103/200\n",
      "34/34 [==============================] - 0s 825us/step - loss: 4436.1626 - mae: 4436.1626\n",
      "Epoch 104/200\n",
      "34/34 [==============================] - 0s 702us/step - loss: 4347.2935 - mae: 4347.2935\n",
      "Epoch 105/200\n",
      "34/34 [==============================] - 0s 685us/step - loss: 4259.4072 - mae: 4259.4072\n",
      "Epoch 106/200\n",
      "34/34 [==============================] - 0s 832us/step - loss: 4179.4126 - mae: 4179.4126\n",
      "Epoch 107/200\n",
      "34/34 [==============================] - 0s 799us/step - loss: 4102.2285 - mae: 4102.2285\n",
      "Epoch 108/200\n",
      "34/34 [==============================] - 0s 818us/step - loss: 4035.5027 - mae: 4035.5027\n",
      "Epoch 109/200\n",
      "34/34 [==============================] - 0s 793us/step - loss: 3982.1252 - mae: 3982.1252\n",
      "Epoch 110/200\n",
      "34/34 [==============================] - 0s 851us/step - loss: 3943.0093 - mae: 3943.0093\n",
      "Epoch 111/200\n",
      "34/34 [==============================] - 0s 1ms/step - loss: 3908.6423 - mae: 3908.6423\n",
      "Epoch 112/200\n",
      "34/34 [==============================] - 0s 899us/step - loss: 3885.2202 - mae: 3885.2202\n",
      "Epoch 113/200\n",
      "34/34 [==============================] - 0s 879us/step - loss: 3859.0762 - mae: 3859.0762\n",
      "Epoch 114/200\n",
      "34/34 [==============================] - 0s 890us/step - loss: 3858.7415 - mae: 3858.7415\n",
      "Epoch 115/200\n",
      "34/34 [==============================] - 0s 824us/step - loss: 3840.2251 - mae: 3840.2251\n",
      "Epoch 116/200\n",
      "34/34 [==============================] - 0s 799us/step - loss: 3830.5344 - mae: 3830.5344\n",
      "Epoch 117/200\n",
      "34/34 [==============================] - 0s 813us/step - loss: 3826.0579 - mae: 3826.0579\n",
      "Epoch 118/200\n",
      "34/34 [==============================] - 0s 1ms/step - loss: 3812.8125 - mae: 3812.8125\n",
      "Epoch 119/200\n",
      "34/34 [==============================] - 0s 796us/step - loss: 3805.2417 - mae: 3805.2417\n",
      "Epoch 120/200\n",
      "34/34 [==============================] - 0s 731us/step - loss: 3795.4006 - mae: 3795.4006\n",
      "Epoch 121/200\n",
      "34/34 [==============================] - 0s 817us/step - loss: 3793.8381 - mae: 3793.8381\n",
      "Epoch 122/200\n",
      "34/34 [==============================] - 0s 802us/step - loss: 3793.1348 - mae: 3793.1348\n",
      "Epoch 123/200\n",
      "34/34 [==============================] - 0s 1ms/step - loss: 3786.4429 - mae: 3786.4429\n",
      "Epoch 124/200\n",
      "34/34 [==============================] - 0s 895us/step - loss: 3784.2466 - mae: 3784.2466\n",
      "Epoch 125/200\n",
      "34/34 [==============================] - 0s 1ms/step - loss: 3775.6882 - mae: 3775.6882\n",
      "Epoch 126/200\n",
      "34/34 [==============================] - 0s 944us/step - loss: 3783.0081 - mae: 3783.0081\n",
      "Epoch 127/200\n",
      "34/34 [==============================] - 0s 835us/step - loss: 3779.1836 - mae: 3779.1836\n",
      "Epoch 128/200\n",
      "34/34 [==============================] - 0s 876us/step - loss: 3775.6440 - mae: 3775.6440\n",
      "Epoch 129/200\n",
      "34/34 [==============================] - 0s 1ms/step - loss: 3788.6416 - mae: 3788.6416\n",
      "Epoch 130/200\n",
      "34/34 [==============================] - 0s 914us/step - loss: 3780.6570 - mae: 3780.6570\n",
      "Epoch 131/200\n",
      "34/34 [==============================] - 0s 802us/step - loss: 3769.0696 - mae: 3769.0696\n",
      "Epoch 132/200\n",
      "34/34 [==============================] - 0s 916us/step - loss: 3761.6909 - mae: 3761.6909\n",
      "Epoch 133/200\n",
      "34/34 [==============================] - 0s 784us/step - loss: 3759.4302 - mae: 3759.4302\n",
      "Epoch 134/200\n",
      "34/34 [==============================] - 0s 851us/step - loss: 3760.1335 - mae: 3760.1335\n",
      "Epoch 135/200\n",
      "34/34 [==============================] - 0s 805us/step - loss: 3756.2173 - mae: 3756.2173\n",
      "Epoch 136/200\n",
      "34/34 [==============================] - 0s 762us/step - loss: 3755.7026 - mae: 3755.7026\n",
      "Epoch 137/200\n",
      "34/34 [==============================] - 0s 850us/step - loss: 3759.5811 - mae: 3759.5811\n",
      "Epoch 138/200\n",
      "34/34 [==============================] - 0s 896us/step - loss: 3778.5579 - mae: 3778.5579\n",
      "Epoch 139/200\n",
      "34/34 [==============================] - 0s 918us/step - loss: 3749.7795 - mae: 3749.7795\n",
      "Epoch 140/200\n",
      "34/34 [==============================] - 0s 802us/step - loss: 3750.7717 - mae: 3750.7717\n",
      "Epoch 141/200\n",
      "34/34 [==============================] - 0s 867us/step - loss: 3752.7642 - mae: 3752.7642\n",
      "Epoch 142/200\n",
      "34/34 [==============================] - 0s 847us/step - loss: 3758.3228 - mae: 3758.3228\n",
      "Epoch 143/200\n",
      "34/34 [==============================] - 0s 985us/step - loss: 3744.5061 - mae: 3744.5061\n",
      "Epoch 144/200\n",
      "34/34 [==============================] - 0s 824us/step - loss: 3740.0149 - mae: 3740.0149\n",
      "Epoch 145/200\n",
      "34/34 [==============================] - 0s 831us/step - loss: 3740.9358 - mae: 3740.9358\n",
      "Epoch 146/200\n",
      "34/34 [==============================] - 0s 879us/step - loss: 3747.1709 - mae: 3747.1709\n",
      "Epoch 147/200\n",
      "34/34 [==============================] - 0s 822us/step - loss: 3740.6667 - mae: 3740.6667\n",
      "Epoch 148/200\n",
      "34/34 [==============================] - 0s 761us/step - loss: 3747.6335 - mae: 3747.6335\n",
      "Epoch 149/200\n",
      "34/34 [==============================] - 0s 899us/step - loss: 3733.4346 - mae: 3733.4346\n",
      "Epoch 150/200\n",
      "34/34 [==============================] - 0s 790us/step - loss: 3729.1213 - mae: 3729.1213\n",
      "Epoch 151/200\n",
      "34/34 [==============================] - 0s 913us/step - loss: 3730.4021 - mae: 3730.4021\n",
      "Epoch 152/200\n",
      "34/34 [==============================] - 0s 914us/step - loss: 3731.7217 - mae: 3731.7217\n",
      "Epoch 153/200\n",
      "34/34 [==============================] - 0s 821us/step - loss: 3734.3220 - mae: 3734.3220\n",
      "Epoch 154/200\n",
      "34/34 [==============================] - 0s 900us/step - loss: 3726.9309 - mae: 3726.9309\n",
      "Epoch 155/200\n",
      "34/34 [==============================] - 0s 821us/step - loss: 3728.1675 - mae: 3728.1675\n",
      "Epoch 156/200\n",
      "34/34 [==============================] - 0s 818us/step - loss: 3726.7808 - mae: 3726.7808\n",
      "Epoch 157/200\n",
      "34/34 [==============================] - 0s 868us/step - loss: 3724.1169 - mae: 3724.1169\n",
      "Epoch 158/200\n",
      "34/34 [==============================] - 0s 841us/step - loss: 3719.2109 - mae: 3719.2109\n",
      "Epoch 159/200\n",
      "34/34 [==============================] - 0s 885us/step - loss: 3716.1907 - mae: 3716.1907\n",
      "Epoch 160/200\n",
      "34/34 [==============================] - 0s 828us/step - loss: 3723.7705 - mae: 3723.7705\n",
      "Epoch 161/200\n",
      "34/34 [==============================] - 0s 845us/step - loss: 3720.4438 - mae: 3720.4438\n",
      "Epoch 162/200\n",
      "34/34 [==============================] - 0s 853us/step - loss: 3712.9165 - mae: 3712.9165\n",
      "Epoch 163/200\n",
      "34/34 [==============================] - 0s 780us/step - loss: 3711.7417 - mae: 3711.7417\n",
      "Epoch 164/200\n",
      "34/34 [==============================] - 0s 792us/step - loss: 3716.6233 - mae: 3716.6233\n",
      "Epoch 165/200\n",
      "34/34 [==============================] - 0s 776us/step - loss: 3706.4097 - mae: 3706.4097\n",
      "Epoch 166/200\n",
      "34/34 [==============================] - 0s 848us/step - loss: 3710.2195 - mae: 3710.2195\n",
      "Epoch 167/200\n",
      "34/34 [==============================] - 0s 870us/step - loss: 3707.6946 - mae: 3707.6946\n",
      "Epoch 168/200\n",
      "34/34 [==============================] - 0s 869us/step - loss: 3703.9543 - mae: 3703.9543\n",
      "Epoch 169/200\n",
      "34/34 [==============================] - 0s 919us/step - loss: 3702.9646 - mae: 3702.9646\n",
      "Epoch 170/200\n",
      "34/34 [==============================] - 0s 894us/step - loss: 3697.6279 - mae: 3697.6279\n",
      "Epoch 171/200\n",
      "34/34 [==============================] - 0s 1ms/step - loss: 3698.1855 - mae: 3698.1855\n",
      "Epoch 172/200\n",
      "34/34 [==============================] - 0s 882us/step - loss: 3700.5322 - mae: 3700.5322\n",
      "Epoch 173/200\n",
      "34/34 [==============================] - 0s 947us/step - loss: 3693.9961 - mae: 3693.9961\n",
      "Epoch 174/200\n",
      "34/34 [==============================] - 0s 859us/step - loss: 3698.4023 - mae: 3698.4023\n",
      "Epoch 175/200\n",
      "34/34 [==============================] - 0s 860us/step - loss: 3699.8206 - mae: 3699.8206\n",
      "Epoch 176/200\n",
      "34/34 [==============================] - 0s 1ms/step - loss: 3695.1528 - mae: 3695.1528\n",
      "Epoch 177/200\n",
      "34/34 [==============================] - 0s 956us/step - loss: 3690.6255 - mae: 3690.6255\n",
      "Epoch 178/200\n",
      "34/34 [==============================] - 0s 882us/step - loss: 3682.6428 - mae: 3682.6428\n",
      "Epoch 179/200\n",
      "34/34 [==============================] - 0s 876us/step - loss: 3698.0027 - mae: 3698.0027\n",
      "Epoch 180/200\n",
      "34/34 [==============================] - 0s 797us/step - loss: 3700.1467 - mae: 3700.1467\n",
      "Epoch 181/200\n",
      "34/34 [==============================] - 0s 840us/step - loss: 3684.1362 - mae: 3684.1362\n",
      "Epoch 182/200\n",
      "34/34 [==============================] - 0s 812us/step - loss: 3683.5698 - mae: 3683.5698\n",
      "Epoch 183/200\n",
      "34/34 [==============================] - 0s 901us/step - loss: 3680.6724 - mae: 3680.6724\n",
      "Epoch 184/200\n",
      "34/34 [==============================] - 0s 959us/step - loss: 3688.3164 - mae: 3688.3164\n",
      "Epoch 185/200\n",
      "34/34 [==============================] - 0s 785us/step - loss: 3682.3049 - mae: 3682.3049\n",
      "Epoch 186/200\n",
      "34/34 [==============================] - 0s 1ms/step - loss: 3684.8481 - mae: 3684.8481\n",
      "Epoch 187/200\n",
      "34/34 [==============================] - 0s 1ms/step - loss: 3678.2734 - mae: 3678.2734\n",
      "Epoch 188/200\n",
      "34/34 [==============================] - 0s 1ms/step - loss: 3684.8701 - mae: 3684.8701\n",
      "Epoch 189/200\n",
      "34/34 [==============================] - 0s 997us/step - loss: 3673.3989 - mae: 3673.3989\n",
      "Epoch 190/200\n",
      "34/34 [==============================] - 0s 920us/step - loss: 3673.6045 - mae: 3673.6045\n",
      "Epoch 191/200\n",
      "34/34 [==============================] - 0s 929us/step - loss: 3688.7625 - mae: 3688.7625\n",
      "Epoch 192/200\n",
      "34/34 [==============================] - 0s 972us/step - loss: 3675.6040 - mae: 3675.6040\n",
      "Epoch 193/200\n",
      "34/34 [==============================] - 0s 927us/step - loss: 3664.5513 - mae: 3664.5513\n",
      "Epoch 194/200\n",
      "34/34 [==============================] - 0s 1ms/step - loss: 3663.6770 - mae: 3663.6770\n",
      "Epoch 195/200\n",
      "34/34 [==============================] - 0s 1ms/step - loss: 3662.6943 - mae: 3662.6943\n",
      "Epoch 196/200\n",
      "34/34 [==============================] - 0s 992us/step - loss: 3671.7646 - mae: 3671.7646\n",
      "Epoch 197/200\n",
      "34/34 [==============================] - 0s 2ms/step - loss: 3656.4358 - mae: 3656.4358\n",
      "Epoch 198/200\n",
      "34/34 [==============================] - 0s 1ms/step - loss: 3661.1228 - mae: 3661.1228\n",
      "Epoch 199/200\n",
      "34/34 [==============================] - 0s 1ms/step - loss: 3671.6650 - mae: 3671.6650\n",
      "Epoch 200/200\n",
      "34/34 [==============================] - 0s 1ms/step - loss: 3660.1184 - mae: 3660.1184\n"
     ]
    }
   ],
   "source": [
    "# Set random seed\n",
    "tf.random.set_seed(42)\n",
    "\n",
    "# 1.Create a model\n",
    "insurance_model_3 = tf.keras.Sequential([\n",
    "    tf.keras.layers.Dense(100),\n",
    "    tf.keras.layers.Dense(10),\n",
    "    tf.keras.layers.Dense(1),\n",
    "])\n",
    "\n",
    "# 2. Compile the model\n",
    "insurance_model_3.compile(loss=tf.keras.losses.mae,\n",
    "                          optimizer=tf.keras.optimizers.Adam(),\n",
    "                          metrics=[\"mae\"])\n",
    "\n",
    "# 3. FIt the model\n",
    "history = insurance_model_3.fit(tf.constant(X_train), tf.constant(y_train), epochs=200)"
   ],
   "metadata": {
    "collapsed": false,
    "ExecuteTime": {
     "end_time": "2023-10-22T09:49:00.552889110Z",
     "start_time": "2023-10-22T09:48:53.941751267Z"
    }
   },
   "id": "9424c9ebb99b8b44"
  },
  {
   "cell_type": "code",
   "execution_count": 119,
   "outputs": [
    {
     "name": "stdout",
     "output_type": "stream",
     "text": [
      "9/9 [==============================] - 0s 1ms/step - loss: 3478.1423 - mae: 3478.1423\n"
     ]
    },
    {
     "data": {
      "text/plain": "[3478.142333984375, 3478.142333984375]"
     },
     "execution_count": 119,
     "metadata": {},
     "output_type": "execute_result"
    }
   ],
   "source": [
    "# Evaluate our third model\n",
    "insurance_model_3.evaluate(tf.constant(X_test), tf.constant(y_test))"
   ],
   "metadata": {
    "collapsed": false,
    "ExecuteTime": {
     "end_time": "2023-10-22T09:49:00.692717340Z",
     "start_time": "2023-10-22T09:49:00.536371303Z"
    }
   },
   "id": "da72c9efb346387b"
  },
  {
   "cell_type": "code",
   "execution_count": 120,
   "outputs": [
    {
     "name": "stdout",
     "output_type": "stream",
     "text": [
      "9/9 [==============================] - 0s 846us/step - loss: 7703.6240 - mae: 7703.6240\n"
     ]
    },
    {
     "data": {
      "text/plain": "[7703.6240234375, 7703.6240234375]"
     },
     "execution_count": 120,
     "metadata": {},
     "output_type": "execute_result"
    }
   ],
   "source": [
    "insurance_model.evaluate(tf.constant(X_test), tf.constant(y_test))"
   ],
   "metadata": {
    "collapsed": false,
    "ExecuteTime": {
     "end_time": "2023-10-22T09:49:00.737457703Z",
     "start_time": "2023-10-22T09:49:00.692321699Z"
    }
   },
   "id": "343781ee70c78da6"
  },
  {
   "cell_type": "code",
   "execution_count": 121,
   "outputs": [
    {
     "data": {
      "text/plain": "Text(0.5, 0, 'epochs')"
     },
     "execution_count": 121,
     "metadata": {},
     "output_type": "execute_result"
    },
    {
     "data": {
      "text/plain": "<Figure size 640x480 with 1 Axes>",
      "image/png": "[encoded data removed]"
     },
     "metadata": {},
     "output_type": "display_data"
    }
   ],
   "source": [
    "# Plot history (also known as a loss curve or a training curve)\n",
    "pd.DataFrame(history.history).plot()\n",
    "plt.ylabel(\"loss\")\n",
    "plt.xlabel(\"epochs\")"
   ],
   "metadata": {
    "collapsed": false,
    "ExecuteTime": {
     "end_time": "2023-10-22T09:50:00.659880953Z",
     "start_time": "2023-10-22T09:50:00.458362565Z"
    }
   },
   "id": "a7214ac2c013fe06"
  },
  {
   "cell_type": "markdown",
   "source": [
    "### Preprocessing data (normalization and standardization)"
   ],
   "metadata": {
    "collapsed": false
   },
   "id": "add5fd3b39c4a7ef"
  },
  {
   "cell_type": "code",
   "execution_count": null,
   "outputs": [],
   "source": [],
   "metadata": {
    "collapsed": false
   },
   "id": "99a71f039f5e3e4f"
  }
 ],
 "metadata": {
  "kernelspec": {
   "display_name": "Python 3",
   "language": "python",
   "name": "python3"
  },
  "language_info": {
   "codemirror_mode": {
    "name": "ipython",
    "version": 2
   },
   "file_extension": ".py",
   "mimetype": "text/x-python",
   "name": "python",
   "nbconvert_exporter": "python",
   "pygments_lexer": "ipython2",
   "version": "2.7.6"
  }
 },
 "nbformat": 4,
 "nbformat_minor": 5
}
