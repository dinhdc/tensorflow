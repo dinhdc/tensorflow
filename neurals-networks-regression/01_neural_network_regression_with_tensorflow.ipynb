{
 "cells": [
  {
   "cell_type": "markdown",
   "source": [
    "# Introduction t Regression with Neural Networks in TensorFlow\n",
    "\n",
    "There are many definitions for a regression problem but in our case, we're going to simplify it: predicting a numerical variable based on some other combination of variables, even shorter...predicting a number"
   ],
   "metadata": {
    "collapsed": false
   },
   "id": "11d5ced78528659"
  },
  {
   "cell_type": "code",
   "execution_count": 2,
   "outputs": [
    {
     "name": "stderr",
     "output_type": "stream",
     "text": [
      "2023-10-23 21:17:58.537845: I tensorflow/core/util/port.cc:111] oneDNN custom operations are on. You may see slightly different numerical results due to floating-point round-off errors from different computation orders. To turn them off, set the environment variable `TF_ENABLE_ONEDNN_OPTS=0`.\n",
      "2023-10-23 21:17:58.539309: I tensorflow/tsl/cuda/cudart_stub.cc:28] Could not find cuda drivers on your machine, GPU will not be used.\n",
      "2023-10-23 21:17:58.567309: E tensorflow/compiler/xla/stream_executor/cuda/cuda_dnn.cc:9342] Unable to register cuDNN factory: Attempting to register factory for plugin cuDNN when one has already been registered\n",
      "2023-10-23 21:17:58.567337: E tensorflow/compiler/xla/stream_executor/cuda/cuda_fft.cc:609] Unable to register cuFFT factory: Attempting to register factory for plugin cuFFT when one has already been registered\n",
      "2023-10-23 21:17:58.567352: E tensorflow/compiler/xla/stream_executor/cuda/cuda_blas.cc:1518] Unable to register cuBLAS factory: Attempting to register factory for plugin cuBLAS when one has already been registered\n",
      "2023-10-23 21:17:58.572024: I tensorflow/tsl/cuda/cudart_stub.cc:28] Could not find cuda drivers on your machine, GPU will not be used.\n",
      "2023-10-23 21:17:58.572666: I tensorflow/core/platform/cpu_feature_guard.cc:182] This TensorFlow binary is optimized to use available CPU instructions in performance-critical operations.\n",
      "To enable the following instructions: AVX2 AVX512F AVX512_VNNI FMA, in other operations, rebuild TensorFlow with the appropriate compiler flags.\n",
      "2023-10-23 21:17:59.287133: W tensorflow/compiler/tf2tensorrt/utils/py_utils.cc:38] TF-TRT Warning: Could not find TensorRT\n"
     ]
    },
    {
     "name": "stdout",
     "output_type": "stream",
     "text": [
      "2.14.0\n"
     ]
    }
   ],
   "source": [
    "# Import TensorFlow\n",
    "import tensorflow as tf\n",
    "print(tf.__version__)"
   ],
   "metadata": {
    "collapsed": false,
    "ExecuteTime": {
     "end_time": "2023-10-23T14:18:00.322382909Z",
     "start_time": "2023-10-23T14:17:58.388510480Z"
    }
   },
   "id": "ae0141e0bd93e5ea"
  },
  {
   "cell_type": "markdown",
   "source": [
    "## Creating data to view and fit"
   ],
   "metadata": {
    "collapsed": false
   },
   "id": "8a4537450b2b7090"
  },
  {
   "cell_type": "code",
   "execution_count": 3,
   "outputs": [
    {
     "data": {
      "text/plain": "<matplotlib.collections.PathCollection at 0x7fa27cec3af0>"
     },
     "execution_count": 3,
     "metadata": {},
     "output_type": "execute_result"
    },
    {
     "data": {
      "text/plain": "<Figure size 640x480 with 1 Axes>",
      "image/png": "[encoded data removed]"
     },
     "metadata": {},
     "output_type": "display_data"
    }
   ],
   "source": [
    "import numpy as np\n",
    "import matplotlib.pyplot as plt\n",
    "\n",
    "# Creating features (inputs)\n",
    "X = np.array([-7.0, -4.0, -1.0, 2.0, 5.0, 8.0, 11.0, 14.0])\n",
    "\n",
    "# Create labels\n",
    "y = np.array([3.0, 6.0, 9.0, 12.0, 15.0, 18.0, 21.0, 24.0])\n",
    "\n",
    "# Visualize it\n",
    "plt.scatter(X, y)"
   ],
   "metadata": {
    "collapsed": false,
    "ExecuteTime": {
     "end_time": "2023-10-23T14:18:00.348532435Z",
     "start_time": "2023-10-23T14:18:00.039853359Z"
    }
   },
   "id": "b83d29a20c6f4cfd"
  },
  {
   "cell_type": "markdown",
   "source": [
    "## Input and Output shapes"
   ],
   "metadata": {
    "collapsed": false
   },
   "id": "8c046dd3e884c488"
  },
  {
   "cell_type": "code",
   "execution_count": 4,
   "outputs": [
    {
     "data": {
      "text/plain": "(<tf.Tensor: shape=(3,), dtype=string, numpy=array([b'bedroom', b'bathroom', b'garage'], dtype=object)>,\n <tf.Tensor: shape=(1,), dtype=int32, numpy=array([939700], dtype=int32)>)"
     },
     "execution_count": 4,
     "metadata": {},
     "output_type": "execute_result"
    }
   ],
   "source": [
    "# Create a demo tensor for our housing price prediction problem\n",
    "house_info = tf.constant([\"bedroom\", \"bathroom\", \"garage\"])\n",
    "house_price = tf.constant([939700])\n",
    "house_info, house_price"
   ],
   "metadata": {
    "collapsed": false,
    "ExecuteTime": {
     "end_time": "2023-10-23T14:18:00.517840354Z",
     "start_time": "2023-10-23T14:18:00.342246652Z"
    }
   },
   "id": "ffb63ded75e26719"
  },
  {
   "cell_type": "code",
   "execution_count": 5,
   "outputs": [
    {
     "data": {
      "text/plain": "((8,), (8,))"
     },
     "execution_count": 5,
     "metadata": {},
     "output_type": "execute_result"
    }
   ],
   "source": [
    "input_shape = X.shape\n",
    "output_shape = y.shape\n",
    "input_shape, output_shape"
   ],
   "metadata": {
    "collapsed": false,
    "ExecuteTime": {
     "end_time": "2023-10-23T14:18:00.520025790Z",
     "start_time": "2023-10-23T14:18:00.369290526Z"
    }
   },
   "id": "62805f0a56a668f2"
  },
  {
   "cell_type": "code",
   "execution_count": 6,
   "outputs": [
    {
     "data": {
      "text/plain": "(<tf.Tensor: shape=(8,), dtype=float32, numpy=array([-7., -4., -1.,  2.,  5.,  8., 11., 14.], dtype=float32)>,\n <tf.Tensor: shape=(8,), dtype=float32, numpy=array([ 3.,  6.,  9., 12., 15., 18., 21., 24.], dtype=float32)>)"
     },
     "execution_count": 6,
     "metadata": {},
     "output_type": "execute_result"
    }
   ],
   "source": [
    "# Turn our Numpy arrays into Tensor\n",
    "X = tf.cast(tf.constant(X), dtype=tf.float32)\n",
    "y = tf.cast(tf.constant(y), dtype=tf.float32)\n",
    "X, y"
   ],
   "metadata": {
    "collapsed": false,
    "ExecuteTime": {
     "end_time": "2023-10-23T14:18:00.520604527Z",
     "start_time": "2023-10-23T14:18:00.405801061Z"
    }
   },
   "id": "24589007b270e7df"
  },
  {
   "cell_type": "code",
   "execution_count": 7,
   "outputs": [
    {
     "data": {
      "text/plain": "(TensorShape([]), TensorShape([]))"
     },
     "execution_count": 7,
     "metadata": {},
     "output_type": "execute_result"
    }
   ],
   "source": [
    "input_shape = X[0].shape\n",
    "output_shape = y[0].shape\n",
    "input_shape, output_shape"
   ],
   "metadata": {
    "collapsed": false,
    "ExecuteTime": {
     "end_time": "2023-10-23T14:18:00.521067275Z",
     "start_time": "2023-10-23T14:18:00.406165072Z"
    }
   },
   "id": "9f6fb8999ffca350"
  },
  {
   "cell_type": "code",
   "execution_count": 8,
   "outputs": [
    {
     "data": {
      "text/plain": "<matplotlib.collections.PathCollection at 0x7fa27cdd0af0>"
     },
     "execution_count": 8,
     "metadata": {},
     "output_type": "execute_result"
    },
    {
     "data": {
      "text/plain": "<Figure size 640x480 with 1 Axes>",
      "image/png": "[encoded data removed]"
     },
     "metadata": {},
     "output_type": "display_data"
    }
   ],
   "source": [
    "plt.scatter(X,y)"
   ],
   "metadata": {
    "collapsed": false,
    "ExecuteTime": {
     "end_time": "2023-10-23T14:18:00.681092574Z",
     "start_time": "2023-10-23T14:18:00.449621624Z"
    }
   },
   "id": "eeca3c4a74b31267"
  },
  {
   "cell_type": "markdown",
   "source": [
    "## Steps in modelling with TensorFlow\n",
    "1. **Creating a model** - define the input and output layers, as well as the hidden layers of a deep learning model.\n",
    "2. **Compiling a model** - define the loss function (in other words, the function which tells our model how wrong it is) and the optimizer (tells our model how to improve the patterns its learning) and evaluation metrics (what we can use to interpret the performance of our model).\n",
    "3. **Fitting a model** - letting the model try to find patterns between X & y (features and labels). "
   ],
   "metadata": {
    "collapsed": false
   },
   "id": "f2d82cc3233a123b"
  },
  {
   "cell_type": "code",
   "execution_count": 9,
   "outputs": [
    {
     "name": "stdout",
     "output_type": "stream",
     "text": [
      "Epoch 1/5\n",
      "1/1 [==============================] - 0s 257ms/step - loss: 19.4536 - mae: 19.4536\n",
      "Epoch 2/5\n",
      "1/1 [==============================] - 0s 4ms/step - loss: 19.1723 - mae: 19.1723\n",
      "Epoch 3/5\n",
      "1/1 [==============================] - 0s 3ms/step - loss: 18.8911 - mae: 18.8911\n",
      "Epoch 4/5\n",
      "1/1 [==============================] - 0s 4ms/step - loss: 18.6098 - mae: 18.6098\n",
      "Epoch 5/5\n",
      "1/1 [==============================] - 0s 4ms/step - loss: 18.3286 - mae: 18.3286\n"
     ]
    },
    {
     "data": {
      "text/plain": "<keras.src.callbacks.History at 0x7fa2783ada20>"
     },
     "execution_count": 9,
     "metadata": {},
     "output_type": "execute_result"
    }
   ],
   "source": [
    "# Set random seed\n",
    "tf.random.set_seed(42)\n",
    "\n",
    "# 1. Create a model using the Sequential API\n",
    "model = tf.keras.Sequential([\n",
    "    tf.keras.layers.Dense(1)\n",
    "])\n",
    "\n",
    "# 2. Compile the model\n",
    "model.compile(loss=tf.keras.losses.mae, # mae is short for measure absolute error\n",
    "              optimizer=tf.keras.optimizers.SGD(), # SGD is short for stochastic gradient descent\n",
    "              metrics=[\"mae\"])\n",
    "\n",
    "# 3. Fit the model\n",
    "model.fit(tf.expand_dims(X, axis=-1), y, epochs=5)"
   ],
   "metadata": {
    "collapsed": false,
    "ExecuteTime": {
     "end_time": "2023-10-23T14:18:00.963762945Z",
     "start_time": "2023-10-23T14:18:00.573578206Z"
    }
   },
   "id": "6852cc9eb92b4759"
  },
  {
   "cell_type": "code",
   "execution_count": 10,
   "outputs": [
    {
     "data": {
      "text/plain": "(<tf.Tensor: shape=(8,), dtype=float32, numpy=array([-7., -4., -1.,  2.,  5.,  8., 11., 14.], dtype=float32)>,\n <tf.Tensor: shape=(8,), dtype=float32, numpy=array([ 3.,  6.,  9., 12., 15., 18., 21., 24.], dtype=float32)>)"
     },
     "execution_count": 10,
     "metadata": {},
     "output_type": "execute_result"
    }
   ],
   "source": [
    "# Checkout X and y\n",
    "X, y"
   ],
   "metadata": {
    "collapsed": false,
    "ExecuteTime": {
     "end_time": "2023-10-23T14:18:01.055094108Z",
     "start_time": "2023-10-23T14:18:00.928544851Z"
    }
   },
   "id": "737ce324f33218cc"
  },
  {
   "cell_type": "code",
   "execution_count": 11,
   "outputs": [
    {
     "name": "stdout",
     "output_type": "stream",
     "text": [
      "1/1 [==============================] - 0s 61ms/step\n"
     ]
    },
    {
     "data": {
      "text/plain": "array([[-18.221254]], dtype=float32)"
     },
     "execution_count": 11,
     "metadata": {},
     "output_type": "execute_result"
    }
   ],
   "source": [
    "# Try and make a prediction using our model\n",
    "y_pred = model.predict([18.0])\n",
    "y_pred"
   ],
   "metadata": {
    "collapsed": false,
    "ExecuteTime": {
     "end_time": "2023-10-23T14:18:01.059789482Z",
     "start_time": "2023-10-23T14:18:00.969710092Z"
    }
   },
   "id": "e649fb5f7e219db5"
  },
  {
   "cell_type": "markdown",
   "source": [
    "## Improving our model\n",
    "\n",
    "We can improve our model, by altering the steps we took to create a model.\n",
    "\n",
    "1. **Creating a model** - here we might add more layers, increase the number of hidden units (all called neurons) within each of the hidden layers, change the activation function of each layer.\n",
    "2. **Compiling a model** - here we might change the optimization function or perhaps the **learning rate** of the optimization function.\n",
    "3. **Fitting a model** - here we might fit a model for more **epochs** (leave it training for longer) or on more data (give the model more examples to learn from)."
   ],
   "metadata": {
    "collapsed": false
   },
   "id": "eeb93cfba3984d19"
  },
  {
   "cell_type": "code",
   "execution_count": 12,
   "outputs": [
    {
     "name": "stdout",
     "output_type": "stream",
     "text": [
      "Epoch 1/100\n",
      "1/1 [==============================] - 0s 289ms/step - loss: 16.6893 - mae: 16.6893\n",
      "Epoch 2/100\n",
      "1/1 [==============================] - 0s 3ms/step - loss: 16.4081 - mae: 16.4081\n",
      "Epoch 3/100\n",
      "1/1 [==============================] - 0s 3ms/step - loss: 16.1268 - mae: 16.1268\n",
      "Epoch 4/100\n",
      "1/1 [==============================] - 0s 2ms/step - loss: 15.8456 - mae: 15.8456\n",
      "Epoch 5/100\n",
      "1/1 [==============================] - 0s 4ms/step - loss: 15.5643 - mae: 15.5643\n",
      "Epoch 6/100\n",
      "1/1 [==============================] - 0s 3ms/step - loss: 15.2831 - mae: 15.2831\n",
      "Epoch 7/100\n",
      "1/1 [==============================] - 0s 3ms/step - loss: 15.0018 - mae: 15.0018\n",
      "Epoch 8/100\n",
      "1/1 [==============================] - 0s 3ms/step - loss: 14.7875 - mae: 14.7875\n",
      "Epoch 9/100\n",
      "1/1 [==============================] - 0s 4ms/step - loss: 14.6550 - mae: 14.6550\n",
      "Epoch 10/100\n",
      "1/1 [==============================] - 0s 3ms/step - loss: 14.5225 - mae: 14.5225\n",
      "Epoch 11/100\n",
      "1/1 [==============================] - 0s 4ms/step - loss: 14.3900 - mae: 14.3900\n",
      "Epoch 12/100\n",
      "1/1 [==============================] - 0s 4ms/step - loss: 14.2575 - mae: 14.2575\n",
      "Epoch 13/100\n",
      "1/1 [==============================] - 0s 4ms/step - loss: 14.1250 - mae: 14.1250\n",
      "Epoch 14/100\n",
      "1/1 [==============================] - 0s 3ms/step - loss: 13.9925 - mae: 13.9925\n",
      "Epoch 15/100\n",
      "1/1 [==============================] - 0s 4ms/step - loss: 13.8600 - mae: 13.8600\n",
      "Epoch 16/100\n",
      "1/1 [==============================] - 0s 4ms/step - loss: 13.7275 - mae: 13.7275\n",
      "Epoch 17/100\n",
      "1/1 [==============================] - 0s 4ms/step - loss: 13.5950 - mae: 13.5950\n",
      "Epoch 18/100\n",
      "1/1 [==============================] - 0s 4ms/step - loss: 13.4625 - mae: 13.4625\n",
      "Epoch 19/100\n",
      "1/1 [==============================] - 0s 4ms/step - loss: 13.3300 - mae: 13.3300\n",
      "Epoch 20/100\n",
      "1/1 [==============================] - 0s 4ms/step - loss: 13.1975 - mae: 13.1975\n",
      "Epoch 21/100\n",
      "1/1 [==============================] - 0s 4ms/step - loss: 13.0650 - mae: 13.0650\n",
      "Epoch 22/100\n",
      "1/1 [==============================] - 0s 3ms/step - loss: 12.9325 - mae: 12.9325\n",
      "Epoch 23/100\n",
      "1/1 [==============================] - 0s 3ms/step - loss: 12.8000 - mae: 12.8000\n",
      "Epoch 24/100\n",
      "1/1 [==============================] - 0s 4ms/step - loss: 12.6675 - mae: 12.6675\n",
      "Epoch 25/100\n",
      "1/1 [==============================] - 0s 3ms/step - loss: 12.5350 - mae: 12.5350\n",
      "Epoch 26/100\n",
      "1/1 [==============================] - 0s 3ms/step - loss: 12.4025 - mae: 12.4025\n",
      "Epoch 27/100\n",
      "1/1 [==============================] - 0s 4ms/step - loss: 12.2700 - mae: 12.2700\n",
      "Epoch 28/100\n",
      "1/1 [==============================] - 0s 5ms/step - loss: 12.1375 - mae: 12.1375\n",
      "Epoch 29/100\n",
      "1/1 [==============================] - 0s 4ms/step - loss: 12.0050 - mae: 12.0050\n",
      "Epoch 30/100\n",
      "1/1 [==============================] - 0s 4ms/step - loss: 11.8725 - mae: 11.8725\n",
      "Epoch 31/100\n",
      "1/1 [==============================] - 0s 4ms/step - loss: 11.7400 - mae: 11.7400\n",
      "Epoch 32/100\n",
      "1/1 [==============================] - 0s 4ms/step - loss: 11.6075 - mae: 11.6075\n",
      "Epoch 33/100\n",
      "1/1 [==============================] - 0s 4ms/step - loss: 11.4750 - mae: 11.4750\n",
      "Epoch 34/100\n",
      "1/1 [==============================] - 0s 3ms/step - loss: 11.3425 - mae: 11.3425\n",
      "Epoch 35/100\n",
      "1/1 [==============================] - 0s 4ms/step - loss: 11.2100 - mae: 11.2100\n",
      "Epoch 36/100\n",
      "1/1 [==============================] - 0s 4ms/step - loss: 11.0775 - mae: 11.0775\n",
      "Epoch 37/100\n",
      "1/1 [==============================] - 0s 4ms/step - loss: 10.9450 - mae: 10.9450\n",
      "Epoch 38/100\n",
      "1/1 [==============================] - 0s 4ms/step - loss: 10.8125 - mae: 10.8125\n",
      "Epoch 39/100\n",
      "1/1 [==============================] - 0s 3ms/step - loss: 10.6800 - mae: 10.6800\n",
      "Epoch 40/100\n",
      "1/1 [==============================] - 0s 4ms/step - loss: 10.5475 - mae: 10.5475\n",
      "Epoch 41/100\n",
      "1/1 [==============================] - 0s 4ms/step - loss: 10.4150 - mae: 10.4150\n",
      "Epoch 42/100\n",
      "1/1 [==============================] - 0s 4ms/step - loss: 10.2825 - mae: 10.2825\n",
      "Epoch 43/100\n",
      "1/1 [==============================] - 0s 3ms/step - loss: 10.1500 - mae: 10.1500\n",
      "Epoch 44/100\n",
      "1/1 [==============================] - 0s 4ms/step - loss: 10.0175 - mae: 10.0175\n",
      "Epoch 45/100\n",
      "1/1 [==============================] - 0s 4ms/step - loss: 9.8850 - mae: 9.8850\n",
      "Epoch 46/100\n",
      "1/1 [==============================] - 0s 4ms/step - loss: 9.7525 - mae: 9.7525\n",
      "Epoch 47/100\n",
      "1/1 [==============================] - 0s 3ms/step - loss: 9.6200 - mae: 9.6200\n",
      "Epoch 48/100\n",
      "1/1 [==============================] - 0s 3ms/step - loss: 9.4875 - mae: 9.4875\n",
      "Epoch 49/100\n",
      "1/1 [==============================] - 0s 3ms/step - loss: 9.3550 - mae: 9.3550\n",
      "Epoch 50/100\n",
      "1/1 [==============================] - 0s 3ms/step - loss: 9.2225 - mae: 9.2225\n",
      "Epoch 51/100\n",
      "1/1 [==============================] - 0s 3ms/step - loss: 9.0900 - mae: 9.0900\n",
      "Epoch 52/100\n",
      "1/1 [==============================] - 0s 4ms/step - loss: 8.9575 - mae: 8.9575\n",
      "Epoch 53/100\n",
      "1/1 [==============================] - 0s 4ms/step - loss: 8.8250 - mae: 8.8250\n",
      "Epoch 54/100\n",
      "1/1 [==============================] - 0s 3ms/step - loss: 8.6925 - mae: 8.6925\n",
      "Epoch 55/100\n",
      "1/1 [==============================] - 0s 3ms/step - loss: 8.5600 - mae: 8.5600\n",
      "Epoch 56/100\n",
      "1/1 [==============================] - 0s 4ms/step - loss: 8.4275 - mae: 8.4275\n",
      "Epoch 57/100\n",
      "1/1 [==============================] - 0s 4ms/step - loss: 8.2950 - mae: 8.2950\n",
      "Epoch 58/100\n",
      "1/1 [==============================] - 0s 4ms/step - loss: 8.1625 - mae: 8.1625\n",
      "Epoch 59/100\n",
      "1/1 [==============================] - 0s 5ms/step - loss: 8.0300 - mae: 8.0300\n",
      "Epoch 60/100\n",
      "1/1 [==============================] - 0s 4ms/step - loss: 7.8975 - mae: 7.8975\n",
      "Epoch 61/100\n",
      "1/1 [==============================] - 0s 3ms/step - loss: 7.7650 - mae: 7.7650\n",
      "Epoch 62/100\n",
      "1/1 [==============================] - 0s 3ms/step - loss: 7.6325 - mae: 7.6325\n",
      "Epoch 63/100\n",
      "1/1 [==============================] - 0s 4ms/step - loss: 7.5000 - mae: 7.5000\n",
      "Epoch 64/100\n",
      "1/1 [==============================] - 0s 3ms/step - loss: 7.3675 - mae: 7.3675\n",
      "Epoch 65/100\n",
      "1/1 [==============================] - 0s 3ms/step - loss: 7.2350 - mae: 7.2350\n",
      "Epoch 66/100\n",
      "1/1 [==============================] - 0s 4ms/step - loss: 7.1025 - mae: 7.1025\n",
      "Epoch 67/100\n",
      "1/1 [==============================] - 0s 4ms/step - loss: 7.0181 - mae: 7.0181\n",
      "Epoch 68/100\n",
      "1/1 [==============================] - 0s 3ms/step - loss: 7.0125 - mae: 7.0125\n",
      "Epoch 69/100\n",
      "1/1 [==============================] - 0s 3ms/step - loss: 7.0069 - mae: 7.0069\n",
      "Epoch 70/100\n",
      "1/1 [==============================] - 0s 3ms/step - loss: 7.0013 - mae: 7.0013\n",
      "Epoch 71/100\n",
      "1/1 [==============================] - 0s 3ms/step - loss: 6.9956 - mae: 6.9956\n",
      "Epoch 72/100\n",
      "1/1 [==============================] - 0s 3ms/step - loss: 6.9900 - mae: 6.9900\n",
      "Epoch 73/100\n",
      "1/1 [==============================] - 0s 3ms/step - loss: 6.9844 - mae: 6.9844\n",
      "Epoch 74/100\n",
      "1/1 [==============================] - 0s 4ms/step - loss: 6.9788 - mae: 6.9788\n",
      "Epoch 75/100\n",
      "1/1 [==============================] - 0s 3ms/step - loss: 6.9731 - mae: 6.9731\n",
      "Epoch 76/100\n",
      "1/1 [==============================] - 0s 3ms/step - loss: 6.9675 - mae: 6.9675\n",
      "Epoch 77/100\n",
      "1/1 [==============================] - 0s 3ms/step - loss: 6.9619 - mae: 6.9619\n",
      "Epoch 78/100\n",
      "1/1 [==============================] - 0s 3ms/step - loss: 6.9563 - mae: 6.9563\n",
      "Epoch 79/100\n",
      "1/1 [==============================] - 0s 3ms/step - loss: 6.9506 - mae: 6.9506\n",
      "Epoch 80/100\n",
      "1/1 [==============================] - 0s 4ms/step - loss: 6.9450 - mae: 6.9450\n",
      "Epoch 81/100\n",
      "1/1 [==============================] - 0s 3ms/step - loss: 6.9394 - mae: 6.9394\n",
      "Epoch 82/100\n",
      "1/1 [==============================] - 0s 3ms/step - loss: 6.9338 - mae: 6.9338\n",
      "Epoch 83/100\n",
      "1/1 [==============================] - 0s 3ms/step - loss: 6.9281 - mae: 6.9281\n",
      "Epoch 84/100\n",
      "1/1 [==============================] - 0s 3ms/step - loss: 6.9225 - mae: 6.9225\n",
      "Epoch 85/100\n",
      "1/1 [==============================] - 0s 3ms/step - loss: 6.9169 - mae: 6.9169\n",
      "Epoch 86/100\n",
      "1/1 [==============================] - 0s 3ms/step - loss: 6.9113 - mae: 6.9113\n",
      "Epoch 87/100\n",
      "1/1 [==============================] - 0s 4ms/step - loss: 6.9056 - mae: 6.9056\n",
      "Epoch 88/100\n",
      "1/1 [==============================] - 0s 4ms/step - loss: 6.9000 - mae: 6.9000\n",
      "Epoch 89/100\n",
      "1/1 [==============================] - 0s 4ms/step - loss: 6.8944 - mae: 6.8944\n",
      "Epoch 90/100\n",
      "1/1 [==============================] - 0s 4ms/step - loss: 6.8888 - mae: 6.8888\n",
      "Epoch 91/100\n",
      "1/1 [==============================] - 0s 4ms/step - loss: 6.8831 - mae: 6.8831\n",
      "Epoch 92/100\n",
      "1/1 [==============================] - 0s 4ms/step - loss: 6.8775 - mae: 6.8775\n",
      "Epoch 93/100\n",
      "1/1 [==============================] - 0s 4ms/step - loss: 6.8719 - mae: 6.8719\n",
      "Epoch 94/100\n",
      "1/1 [==============================] - 0s 4ms/step - loss: 6.8663 - mae: 6.8663\n",
      "Epoch 95/100\n",
      "1/1 [==============================] - 0s 4ms/step - loss: 6.8606 - mae: 6.8606\n",
      "Epoch 96/100\n",
      "1/1 [==============================] - 0s 3ms/step - loss: 6.8550 - mae: 6.8550\n",
      "Epoch 97/100\n",
      "1/1 [==============================] - 0s 3ms/step - loss: 6.8494 - mae: 6.8494\n",
      "Epoch 98/100\n",
      "1/1 [==============================] - 0s 4ms/step - loss: 6.8438 - mae: 6.8438\n",
      "Epoch 99/100\n",
      "1/1 [==============================] - 0s 4ms/step - loss: 6.8381 - mae: 6.8381\n",
      "Epoch 100/100\n",
      "1/1 [==============================] - 0s 3ms/step - loss: 6.8325 - mae: 6.8325\n"
     ]
    },
    {
     "data": {
      "text/plain": "<keras.src.callbacks.History at 0x7fa2781be800>"
     },
     "execution_count": 12,
     "metadata": {},
     "output_type": "execute_result"
    }
   ],
   "source": [
    "# Let's rebuild our model\n",
    "\n",
    "# 1. Create a model\n",
    "model = tf.keras.Sequential([\n",
    "    tf.keras.layers.Dense(1)\n",
    "])\n",
    "\n",
    "# 2. Compile the model\n",
    "model.compile(loss=tf.keras.losses.mae,\n",
    "              optimizer=tf.keras.optimizers.SGD(),\n",
    "              metrics=[\"mae\"])\n",
    "\n",
    "# 3. Fit the model\n",
    "model.fit(tf.expand_dims(X, axis=-1), y, epochs=100)"
   ],
   "metadata": {
    "collapsed": false,
    "ExecuteTime": {
     "end_time": "2023-10-23T14:18:02.189695379Z",
     "start_time": "2023-10-23T14:18:01.033615535Z"
    }
   },
   "id": "fe0a731f9cd7aedb"
  },
  {
   "cell_type": "code",
   "execution_count": 13,
   "outputs": [
    {
     "data": {
      "text/plain": "(<tf.Tensor: shape=(8,), dtype=float32, numpy=array([-7., -4., -1.,  2.,  5.,  8., 11., 14.], dtype=float32)>,\n <tf.Tensor: shape=(8,), dtype=float32, numpy=array([ 3.,  6.,  9., 12., 15., 18., 21., 24.], dtype=float32)>)"
     },
     "execution_count": 13,
     "metadata": {},
     "output_type": "execute_result"
    }
   ],
   "source": [
    "# Remind ourselves of the data\n",
    "X, y"
   ],
   "metadata": {
    "collapsed": false,
    "ExecuteTime": {
     "end_time": "2023-10-23T14:18:02.190582072Z",
     "start_time": "2023-10-23T14:18:01.852778624Z"
    }
   },
   "id": "78e0a7b2bde9b233"
  },
  {
   "cell_type": "code",
   "execution_count": 14,
   "outputs": [
    {
     "name": "stdout",
     "output_type": "stream",
     "text": [
      "1/1 [==============================] - 0s 38ms/step\n"
     ]
    },
    {
     "data": {
      "text/plain": "array([[31.17616]], dtype=float32)"
     },
     "execution_count": 14,
     "metadata": {},
     "output_type": "execute_result"
    }
   ],
   "source": [
    "# Let's see if our models's prediction has improved\n",
    "model.predict([18.0])"
   ],
   "metadata": {
    "collapsed": false,
    "ExecuteTime": {
     "end_time": "2023-10-23T14:18:02.463688752Z",
     "start_time": "2023-10-23T14:18:01.855500341Z"
    }
   },
   "id": "bd9ec1f903d4e442"
  },
  {
   "cell_type": "code",
   "execution_count": 15,
   "outputs": [
    {
     "name": "stdout",
     "output_type": "stream",
     "text": [
      "Epoch 1/100\n",
      "1/1 [==============================] - 0s 398ms/step - loss: 12.8311 - mae: 12.8311\n",
      "Epoch 2/100\n",
      "1/1 [==============================] - 0s 5ms/step - loss: 9.6642 - mae: 9.6642\n",
      "Epoch 3/100\n",
      "1/1 [==============================] - 0s 4ms/step - loss: 7.1644 - mae: 7.1644\n",
      "Epoch 4/100\n",
      "1/1 [==============================] - 0s 5ms/step - loss: 4.4984 - mae: 4.4984\n",
      "Epoch 5/100\n",
      "1/1 [==============================] - 0s 5ms/step - loss: 4.5096 - mae: 4.5096\n",
      "Epoch 6/100\n",
      "1/1 [==============================] - 0s 5ms/step - loss: 5.5661 - mae: 5.5661\n",
      "Epoch 7/100\n",
      "1/1 [==============================] - 0s 4ms/step - loss: 5.8818 - mae: 5.8818\n",
      "Epoch 8/100\n",
      "1/1 [==============================] - 0s 4ms/step - loss: 5.6589 - mae: 5.6589\n",
      "Epoch 9/100\n",
      "1/1 [==============================] - 0s 4ms/step - loss: 5.0724 - mae: 5.0724\n",
      "Epoch 10/100\n",
      "1/1 [==============================] - 0s 5ms/step - loss: 4.2823 - mae: 4.2823\n",
      "Epoch 11/100\n",
      "1/1 [==============================] - 0s 5ms/step - loss: 3.7604 - mae: 3.7604\n",
      "Epoch 12/100\n",
      "1/1 [==============================] - 0s 5ms/step - loss: 3.7493 - mae: 3.7493\n",
      "Epoch 13/100\n",
      "1/1 [==============================] - 0s 3ms/step - loss: 4.2586 - mae: 4.2586\n",
      "Epoch 14/100\n",
      "1/1 [==============================] - 0s 4ms/step - loss: 4.4462 - mae: 4.4462\n",
      "Epoch 15/100\n",
      "1/1 [==============================] - 0s 5ms/step - loss: 3.9420 - mae: 3.9420\n",
      "Epoch 16/100\n",
      "1/1 [==============================] - 0s 4ms/step - loss: 3.4007 - mae: 3.4007\n",
      "Epoch 17/100\n",
      "1/1 [==============================] - 0s 4ms/step - loss: 3.3407 - mae: 3.3407\n",
      "Epoch 18/100\n",
      "1/1 [==============================] - 0s 3ms/step - loss: 3.4474 - mae: 3.4474\n",
      "Epoch 19/100\n",
      "1/1 [==============================] - 0s 3ms/step - loss: 3.5267 - mae: 3.5267\n",
      "Epoch 20/100\n",
      "1/1 [==============================] - 0s 4ms/step - loss: 3.2600 - mae: 3.2600\n",
      "Epoch 21/100\n",
      "1/1 [==============================] - 0s 4ms/step - loss: 2.9453 - mae: 2.9453\n",
      "Epoch 22/100\n",
      "1/1 [==============================] - 0s 4ms/step - loss: 2.6814 - mae: 2.6814\n",
      "Epoch 23/100\n",
      "1/1 [==============================] - 0s 4ms/step - loss: 2.4166 - mae: 2.4166\n",
      "Epoch 24/100\n",
      "1/1 [==============================] - 0s 4ms/step - loss: 2.1653 - mae: 2.1653\n",
      "Epoch 25/100\n",
      "1/1 [==============================] - 0s 4ms/step - loss: 2.0502 - mae: 2.0502\n",
      "Epoch 26/100\n",
      "1/1 [==============================] - 0s 3ms/step - loss: 1.7305 - mae: 1.7305\n",
      "Epoch 27/100\n",
      "1/1 [==============================] - 0s 3ms/step - loss: 1.5225 - mae: 1.5225\n",
      "Epoch 28/100\n",
      "1/1 [==============================] - 0s 3ms/step - loss: 1.1715 - mae: 1.1715\n",
      "Epoch 29/100\n",
      "1/1 [==============================] - 0s 3ms/step - loss: 1.3100 - mae: 1.3100\n",
      "Epoch 30/100\n",
      "1/1 [==============================] - 0s 4ms/step - loss: 0.5981 - mae: 0.5981\n",
      "Epoch 31/100\n",
      "1/1 [==============================] - 0s 4ms/step - loss: 0.7031 - mae: 0.7031\n",
      "Epoch 32/100\n",
      "1/1 [==============================] - 0s 4ms/step - loss: 0.4575 - mae: 0.4575\n",
      "Epoch 33/100\n",
      "1/1 [==============================] - 0s 3ms/step - loss: 0.3718 - mae: 0.3718\n",
      "Epoch 34/100\n",
      "1/1 [==============================] - 0s 4ms/step - loss: 0.6232 - mae: 0.6232\n",
      "Epoch 35/100\n",
      "1/1 [==============================] - 0s 4ms/step - loss: 0.5598 - mae: 0.5598\n",
      "Epoch 36/100\n",
      "1/1 [==============================] - 0s 3ms/step - loss: 0.8002 - mae: 0.8002\n",
      "Epoch 37/100\n",
      "1/1 [==============================] - 0s 3ms/step - loss: 0.3743 - mae: 0.3743\n",
      "Epoch 38/100\n",
      "1/1 [==============================] - 0s 4ms/step - loss: 0.2415 - mae: 0.2415\n",
      "Epoch 39/100\n",
      "1/1 [==============================] - 0s 4ms/step - loss: 0.3073 - mae: 0.3073\n",
      "Epoch 40/100\n",
      "1/1 [==============================] - 0s 4ms/step - loss: 0.5291 - mae: 0.5291\n",
      "Epoch 41/100\n",
      "1/1 [==============================] - 0s 3ms/step - loss: 0.3388 - mae: 0.3388\n",
      "Epoch 42/100\n",
      "1/1 [==============================] - 0s 4ms/step - loss: 0.6853 - mae: 0.6853\n",
      "Epoch 43/100\n",
      "1/1 [==============================] - 0s 4ms/step - loss: 0.7249 - mae: 0.7249\n",
      "Epoch 44/100\n",
      "1/1 [==============================] - 0s 4ms/step - loss: 0.4519 - mae: 0.4519\n",
      "Epoch 45/100\n",
      "1/1 [==============================] - 0s 4ms/step - loss: 0.8656 - mae: 0.8656\n",
      "Epoch 46/100\n",
      "1/1 [==============================] - 0s 3ms/step - loss: 0.7383 - mae: 0.7383\n",
      "Epoch 47/100\n",
      "1/1 [==============================] - 0s 4ms/step - loss: 0.4596 - mae: 0.4596\n",
      "Epoch 48/100\n",
      "1/1 [==============================] - 0s 5ms/step - loss: 0.7278 - mae: 0.7278\n",
      "Epoch 49/100\n",
      "1/1 [==============================] - 0s 4ms/step - loss: 0.4035 - mae: 0.4035\n",
      "Epoch 50/100\n",
      "1/1 [==============================] - 0s 4ms/step - loss: 0.5397 - mae: 0.5397\n",
      "Epoch 51/100\n",
      "1/1 [==============================] - 0s 4ms/step - loss: 0.6206 - mae: 0.6206\n",
      "Epoch 52/100\n",
      "1/1 [==============================] - 0s 4ms/step - loss: 0.2393 - mae: 0.2393\n",
      "Epoch 53/100\n",
      "1/1 [==============================] - 0s 5ms/step - loss: 0.2729 - mae: 0.2729\n",
      "Epoch 54/100\n",
      "1/1 [==============================] - 0s 4ms/step - loss: 0.5506 - mae: 0.5506\n",
      "Epoch 55/100\n",
      "1/1 [==============================] - 0s 4ms/step - loss: 0.4715 - mae: 0.4715\n",
      "Epoch 56/100\n",
      "1/1 [==============================] - 0s 4ms/step - loss: 0.3939 - mae: 0.3939\n",
      "Epoch 57/100\n",
      "1/1 [==============================] - 0s 4ms/step - loss: 0.3339 - mae: 0.3339\n",
      "Epoch 58/100\n",
      "1/1 [==============================] - 0s 5ms/step - loss: 0.6332 - mae: 0.6332\n",
      "Epoch 59/100\n",
      "1/1 [==============================] - 0s 4ms/step - loss: 0.6387 - mae: 0.6387\n",
      "Epoch 60/100\n",
      "1/1 [==============================] - 0s 4ms/step - loss: 0.2675 - mae: 0.2675\n",
      "Epoch 61/100\n",
      "1/1 [==============================] - 0s 4ms/step - loss: 0.7128 - mae: 0.7128\n",
      "Epoch 62/100\n",
      "1/1 [==============================] - 0s 3ms/step - loss: 0.8193 - mae: 0.8193\n",
      "Epoch 63/100\n",
      "1/1 [==============================] - 0s 5ms/step - loss: 0.3287 - mae: 0.3287\n",
      "Epoch 64/100\n",
      "1/1 [==============================] - 0s 3ms/step - loss: 0.7426 - mae: 0.7426\n",
      "Epoch 65/100\n",
      "1/1 [==============================] - 0s 3ms/step - loss: 0.9516 - mae: 0.9516\n",
      "Epoch 66/100\n",
      "1/1 [==============================] - 0s 4ms/step - loss: 0.5661 - mae: 0.5661\n",
      "Epoch 67/100\n",
      "1/1 [==============================] - 0s 4ms/step - loss: 0.5335 - mae: 0.5335\n",
      "Epoch 68/100\n",
      "1/1 [==============================] - 0s 3ms/step - loss: 0.7674 - mae: 0.7674\n",
      "Epoch 69/100\n",
      "1/1 [==============================] - 0s 4ms/step - loss: 0.5723 - mae: 0.5723\n",
      "Epoch 70/100\n",
      "1/1 [==============================] - 0s 3ms/step - loss: 0.3261 - mae: 0.3261\n",
      "Epoch 71/100\n",
      "1/1 [==============================] - 0s 3ms/step - loss: 0.3545 - mae: 0.3545\n",
      "Epoch 72/100\n",
      "1/1 [==============================] - 0s 3ms/step - loss: 0.3131 - mae: 0.3131\n",
      "Epoch 73/100\n",
      "1/1 [==============================] - 0s 3ms/step - loss: 0.1643 - mae: 0.1643\n",
      "Epoch 74/100\n",
      "1/1 [==============================] - 0s 3ms/step - loss: 0.4602 - mae: 0.4602\n",
      "Epoch 75/100\n",
      "1/1 [==============================] - 0s 4ms/step - loss: 0.3917 - mae: 0.3917\n",
      "Epoch 76/100\n",
      "1/1 [==============================] - 0s 3ms/step - loss: 0.3559 - mae: 0.3559\n",
      "Epoch 77/100\n",
      "1/1 [==============================] - 0s 4ms/step - loss: 0.3451 - mae: 0.3451\n",
      "Epoch 78/100\n",
      "1/1 [==============================] - 0s 4ms/step - loss: 0.3581 - mae: 0.3581\n",
      "Epoch 79/100\n",
      "1/1 [==============================] - 0s 4ms/step - loss: 0.3305 - mae: 0.3305\n",
      "Epoch 80/100\n",
      "1/1 [==============================] - 0s 4ms/step - loss: 0.2353 - mae: 0.2353\n",
      "Epoch 81/100\n",
      "1/1 [==============================] - 0s 4ms/step - loss: 0.2086 - mae: 0.2086\n",
      "Epoch 82/100\n",
      "1/1 [==============================] - 0s 3ms/step - loss: 0.3919 - mae: 0.3919\n",
      "Epoch 83/100\n",
      "1/1 [==============================] - 0s 3ms/step - loss: 0.2783 - mae: 0.2783\n",
      "Epoch 84/100\n",
      "1/1 [==============================] - 0s 4ms/step - loss: 0.4397 - mae: 0.4397\n",
      "Epoch 85/100\n",
      "1/1 [==============================] - 0s 3ms/step - loss: 0.3073 - mae: 0.3073\n",
      "Epoch 86/100\n",
      "1/1 [==============================] - 0s 3ms/step - loss: 0.4118 - mae: 0.4118\n",
      "Epoch 87/100\n",
      "1/1 [==============================] - 0s 3ms/step - loss: 0.4708 - mae: 0.4708\n",
      "Epoch 88/100\n",
      "1/1 [==============================] - 0s 4ms/step - loss: 0.2094 - mae: 0.2094\n",
      "Epoch 89/100\n",
      "1/1 [==============================] - 0s 4ms/step - loss: 0.2768 - mae: 0.2768\n",
      "Epoch 90/100\n",
      "1/1 [==============================] - 0s 3ms/step - loss: 0.2672 - mae: 0.2672\n",
      "Epoch 91/100\n",
      "1/1 [==============================] - 0s 4ms/step - loss: 0.1262 - mae: 0.1262\n",
      "Epoch 92/100\n",
      "1/1 [==============================] - 0s 4ms/step - loss: 0.2784 - mae: 0.2784\n",
      "Epoch 93/100\n",
      "1/1 [==============================] - 0s 4ms/step - loss: 0.1422 - mae: 0.1422\n",
      "Epoch 94/100\n",
      "1/1 [==============================] - 0s 4ms/step - loss: 0.5084 - mae: 0.5084\n",
      "Epoch 95/100\n",
      "1/1 [==============================] - 0s 4ms/step - loss: 0.4482 - mae: 0.4482\n",
      "Epoch 96/100\n",
      "1/1 [==============================] - 0s 4ms/step - loss: 0.1023 - mae: 0.1023\n",
      "Epoch 97/100\n",
      "1/1 [==============================] - 0s 4ms/step - loss: 0.0861 - mae: 0.0861\n",
      "Epoch 98/100\n",
      "1/1 [==============================] - 0s 4ms/step - loss: 0.3704 - mae: 0.3704\n",
      "Epoch 99/100\n",
      "1/1 [==============================] - 0s 3ms/step - loss: 0.1061 - mae: 0.1061\n",
      "Epoch 100/100\n",
      "1/1 [==============================] - 0s 3ms/step - loss: 0.5475 - mae: 0.5475\n"
     ]
    },
    {
     "data": {
      "text/plain": "<keras.src.callbacks.History at 0x7fa27079a0e0>"
     },
     "execution_count": 15,
     "metadata": {},
     "output_type": "execute_result"
    }
   ],
   "source": [
    "# Let's see if we can make another to improve our model\n",
    "\n",
    "# 1. Create the model (with hidden layer with 100 hidden units)\n",
    "model = tf.keras.Sequential([\n",
    "    tf.keras.layers.Dense(100, activation=\"relu\"),\n",
    "    tf.keras.layers.Dense(100, activation=\"relu\"),\n",
    "    tf.keras.layers.Dense(1)\n",
    "])\n",
    "\n",
    "# 2. Compile the model\n",
    "model.compile(loss=tf.keras.losses.mae,\n",
    "              optimizer=tf.keras.optimizers.Adam(learning_rate=0.01),\n",
    "              metrics=[\"mae\"])\n",
    "\n",
    "# 3. Fit the model\n",
    "model.fit(tf.expand_dims(X, axis=-1), y, epochs=100)"
   ],
   "metadata": {
    "collapsed": false,
    "ExecuteTime": {
     "end_time": "2023-10-23T14:18:03.406185154Z",
     "start_time": "2023-10-23T14:18:01.929227671Z"
    }
   },
   "id": "f294593b265431b5"
  },
  {
   "cell_type": "code",
   "execution_count": 16,
   "outputs": [
    {
     "name": "stdout",
     "output_type": "stream",
     "text": [
      "1/1 [==============================] - 0s 50ms/step\n"
     ]
    },
    {
     "data": {
      "text/plain": "array([[26.618202]], dtype=float32)"
     },
     "execution_count": 16,
     "metadata": {},
     "output_type": "execute_result"
    }
   ],
   "source": [
    "# Let's see if our models's prediction has improved\n",
    "model.predict([18.0])"
   ],
   "metadata": {
    "collapsed": false,
    "ExecuteTime": {
     "end_time": "2023-10-23T14:18:03.406730914Z",
     "start_time": "2023-10-23T14:18:02.887914681Z"
    }
   },
   "id": "b0924e554afceffb"
  },
  {
   "cell_type": "markdown",
   "source": [
    "## Evaluting a model\n",
    "\n",
    "In practice, a typical workflow you'll go through when building a neural networks is:\n",
    "\n",
    "```\n",
    "Build a model -> fit it -> evaluate it -> tweak a model -> fit it -> evaluate it -> tweak a model -> fit it -> evaluate it...\n",
    "```"
   ],
   "metadata": {
    "collapsed": false
   },
   "id": "d831fde983abb033"
  },
  {
   "cell_type": "markdown",
   "source": [
    "when it comes to evaluation...there are 3 words you should memorize:\n",
    "\n",
    "> \"Visualize, visualize, visualize\"\n",
    "\n",
    "It's a good idea to visualize:\n",
    "* The data - what data are working with? what does it look like?\n",
    "* The model itself - what does our model look like?\n",
    "* The training of a model - how does a model perform while it learns?\n",
    "* The predictions of the model - how do the predictions of a model line up against the ground truth ( the originals labels)?"
   ],
   "metadata": {
    "collapsed": false
   },
   "id": "234802e8b7574c19"
  },
  {
   "cell_type": "code",
   "execution_count": 17,
   "outputs": [
    {
     "data": {
      "text/plain": "<tf.Tensor: shape=(50,), dtype=int32, numpy=\narray([-100,  -96,  -92,  -88,  -84,  -80,  -76,  -72,  -68,  -64,  -60,\n        -56,  -52,  -48,  -44,  -40,  -36,  -32,  -28,  -24,  -20,  -16,\n        -12,   -8,   -4,    0,    4,    8,   12,   16,   20,   24,   28,\n         32,   36,   40,   44,   48,   52,   56,   60,   64,   68,   72,\n         76,   80,   84,   88,   92,   96], dtype=int32)>"
     },
     "execution_count": 17,
     "metadata": {},
     "output_type": "execute_result"
    }
   ],
   "source": [
    "# Make a bigger dataset\n",
    "X = tf.range(-100,100, 4)\n",
    "X"
   ],
   "metadata": {
    "collapsed": false,
    "ExecuteTime": {
     "end_time": "2023-10-23T14:18:03.407130331Z",
     "start_time": "2023-10-23T14:18:02.963199750Z"
    }
   },
   "id": "16d855a8a21d5759"
  },
  {
   "cell_type": "code",
   "execution_count": 18,
   "outputs": [
    {
     "data": {
      "text/plain": "<tf.Tensor: shape=(50,), dtype=int32, numpy=\narray([-90, -86, -82, -78, -74, -70, -66, -62, -58, -54, -50, -46, -42,\n       -38, -34, -30, -26, -22, -18, -14, -10,  -6,  -2,   2,   6,  10,\n        14,  18,  22,  26,  30,  34,  38,  42,  46,  50,  54,  58,  62,\n        66,  70,  74,  78,  82,  86,  90,  94,  98, 102, 106], dtype=int32)>"
     },
     "execution_count": 18,
     "metadata": {},
     "output_type": "execute_result"
    }
   ],
   "source": [
    "# Make labels for the dataset\n",
    "y = X + 10\n",
    "y"
   ],
   "metadata": {
    "collapsed": false,
    "ExecuteTime": {
     "end_time": "2023-10-23T14:18:03.407411236Z",
     "start_time": "2023-10-23T14:18:03.005540126Z"
    }
   },
   "id": "9ad0c6e3f71b0eac"
  },
  {
   "cell_type": "code",
   "execution_count": 19,
   "outputs": [
    {
     "data": {
      "text/plain": "<matplotlib.collections.PathCollection at 0x7fa2706eb670>"
     },
     "execution_count": 19,
     "metadata": {},
     "output_type": "execute_result"
    },
    {
     "data": {
      "text/plain": "<Figure size 640x480 with 1 Axes>",
      "image/png": "[encoded data removed]"
     },
     "metadata": {},
     "output_type": "display_data"
    }
   ],
   "source": [
    "# Visualize the data\n",
    "import matplotlib.pyplot as plt\n",
    "\n",
    "plt.scatter(X, y)"
   ],
   "metadata": {
    "collapsed": false,
    "ExecuteTime": {
     "end_time": "2023-10-23T14:18:04.480865701Z",
     "start_time": "2023-10-23T14:18:03.005790804Z"
    }
   },
   "id": "d57a0f53b88cf44c"
  },
  {
   "cell_type": "markdown",
   "source": [
    "### The 3 sets...\n",
    "\n",
    "* **Training set** - the model learns from this data, which is typically 70-80% of the total data you have available.\n",
    "* **Validation set** - the model gets tuned on this data, which is typically 10-15% of the data available.\n",
    "* **Test set** - the model gets evaluated on this data to test what is has learned, this set is typically 10-15% of the total data available."
   ],
   "metadata": {
    "collapsed": false
   },
   "id": "9b13e93a47947b8b"
  },
  {
   "cell_type": "code",
   "execution_count": 20,
   "outputs": [
    {
     "data": {
      "text/plain": "50"
     },
     "execution_count": 20,
     "metadata": {},
     "output_type": "execute_result"
    }
   ],
   "source": [
    "# Check the length of how many samples we have\n",
    "len(X)"
   ],
   "metadata": {
    "collapsed": false,
    "ExecuteTime": {
     "end_time": "2023-10-23T14:18:04.481343379Z",
     "start_time": "2023-10-23T14:18:03.181519813Z"
    }
   },
   "id": "708ea0ae161c0180"
  },
  {
   "cell_type": "code",
   "execution_count": 21,
   "outputs": [
    {
     "data": {
      "text/plain": "(40, 10)"
     },
     "execution_count": 21,
     "metadata": {},
     "output_type": "execute_result"
    }
   ],
   "source": [
    "# Split the data into train and test sets\n",
    "X_train = X[:40]\n",
    "y_train = y[:40]\n",
    "\n",
    "X_test = X[40:]\n",
    "y_test = y[40:]\n",
    "\n",
    "len(X_train), len(X_test)"
   ],
   "metadata": {
    "collapsed": false,
    "ExecuteTime": {
     "end_time": "2023-10-23T14:18:04.481586686Z",
     "start_time": "2023-10-23T14:18:03.181733259Z"
    }
   },
   "id": "90d21e76bd6e11f6"
  },
  {
   "cell_type": "markdown",
   "source": [
    "### Visualizing the data\n",
    "\n",
    "Now we've got our data in training and test sets...let's visualize it again!"
   ],
   "metadata": {
    "collapsed": false
   },
   "id": "8ae7ba288b1cbba9"
  },
  {
   "cell_type": "code",
   "execution_count": 22,
   "outputs": [
    {
     "data": {
      "text/plain": "<matplotlib.legend.Legend at 0x7fa2244d94e0>"
     },
     "execution_count": 22,
     "metadata": {},
     "output_type": "execute_result"
    },
    {
     "data": {
      "text/plain": "<Figure size 1000x700 with 1 Axes>",
      "image/png": "[encoded data removed]"
     },
     "metadata": {},
     "output_type": "display_data"
    }
   ],
   "source": [
    "plt.figure(figsize=(10,7))\n",
    "# Plot training data in blue\n",
    "plt.scatter(X_train, y_train, c=\"b\", label=\"Training data\")\n",
    "# Plot test data in green\n",
    "plt.scatter(X_test, y_test, c='g', label=\"Testing data\")\n",
    "# Show a legend\n",
    "plt.legend()"
   ],
   "metadata": {
    "collapsed": false,
    "ExecuteTime": {
     "end_time": "2023-10-23T14:18:04.481899511Z",
     "start_time": "2023-10-23T14:18:03.181818351Z"
    }
   },
   "id": "5e98ed1d27d9d011"
  },
  {
   "cell_type": "code",
   "execution_count": 23,
   "outputs": [],
   "source": [
    "# Let's have a look at how to build a neural network for our data\n",
    "\n",
    "# 1. Create a model\n",
    "model = tf.keras.Sequential([\n",
    "    tf.keras.layers.Dense(1)\n",
    "])\n",
    "\n",
    "# 2. Compile the model\n",
    "model.compile(loss=tf.keras.losses.mae,\n",
    "              optimizer=tf.keras.optimizers.SGD(),\n",
    "              metrics=[\"mae\"])\n",
    "\n",
    "# # 3. Fit the model\n",
    "# model.fit(X_train, y_train, epochs=100)"
   ],
   "metadata": {
    "collapsed": false,
    "ExecuteTime": {
     "end_time": "2023-10-23T14:18:04.482011330Z",
     "start_time": "2023-10-23T14:18:03.397494191Z"
    }
   },
   "id": "cb4168a930a5b03c"
  },
  {
   "cell_type": "markdown",
   "source": [
    "### Visualizing the model"
   ],
   "metadata": {
    "collapsed": false
   },
   "id": "6ea9d9098a9c57f1"
  },
  {
   "cell_type": "code",
   "execution_count": 24,
   "outputs": [
    {
     "ename": "ValueError",
     "evalue": "This model has not yet been built. Build the model first by calling `build()` or by calling the model on a batch of data.",
     "output_type": "error",
     "traceback": [
      "\u001B[0;31m---------------------------------------------------------------------------\u001B[0m",
      "\u001B[0;31mValueError\u001B[0m                                Traceback (most recent call last)",
      "Cell \u001B[0;32mIn[24], line 1\u001B[0m\n\u001B[0;32m----> 1\u001B[0m \u001B[43mmodel\u001B[49m\u001B[38;5;241;43m.\u001B[39;49m\u001B[43msummary\u001B[49m\u001B[43m(\u001B[49m\u001B[43m)\u001B[49m\n",
      "File \u001B[0;32m~/github/tensorflow/venv/lib/python3.10/site-packages/keras/src/engine/training.py:3482\u001B[0m, in \u001B[0;36mModel.summary\u001B[0;34m(self, line_length, positions, print_fn, expand_nested, show_trainable, layer_range)\u001B[0m\n\u001B[1;32m   3451\u001B[0m \u001B[38;5;250m\u001B[39m\u001B[38;5;124;03m\"\"\"Prints a string summary of the network.\u001B[39;00m\n\u001B[1;32m   3452\u001B[0m \n\u001B[1;32m   3453\u001B[0m \u001B[38;5;124;03mArgs:\u001B[39;00m\n\u001B[0;32m   (...)\u001B[0m\n\u001B[1;32m   3479\u001B[0m \u001B[38;5;124;03m    ValueError: if `summary()` is called before the model is built.\u001B[39;00m\n\u001B[1;32m   3480\u001B[0m \u001B[38;5;124;03m\"\"\"\u001B[39;00m\n\u001B[1;32m   3481\u001B[0m \u001B[38;5;28;01mif\u001B[39;00m \u001B[38;5;129;01mnot\u001B[39;00m \u001B[38;5;28mself\u001B[39m\u001B[38;5;241m.\u001B[39mbuilt:\n\u001B[0;32m-> 3482\u001B[0m     \u001B[38;5;28;01mraise\u001B[39;00m \u001B[38;5;167;01mValueError\u001B[39;00m(\n\u001B[1;32m   3483\u001B[0m         \u001B[38;5;124m\"\u001B[39m\u001B[38;5;124mThis model has not yet been built. \u001B[39m\u001B[38;5;124m\"\u001B[39m\n\u001B[1;32m   3484\u001B[0m         \u001B[38;5;124m\"\u001B[39m\u001B[38;5;124mBuild the model first by calling `build()` or by calling \u001B[39m\u001B[38;5;124m\"\u001B[39m\n\u001B[1;32m   3485\u001B[0m         \u001B[38;5;124m\"\u001B[39m\u001B[38;5;124mthe model on a batch of data.\u001B[39m\u001B[38;5;124m\"\u001B[39m\n\u001B[1;32m   3486\u001B[0m     )\n\u001B[1;32m   3487\u001B[0m layer_utils\u001B[38;5;241m.\u001B[39mprint_summary(\n\u001B[1;32m   3488\u001B[0m     \u001B[38;5;28mself\u001B[39m,\n\u001B[1;32m   3489\u001B[0m     line_length\u001B[38;5;241m=\u001B[39mline_length,\n\u001B[0;32m   (...)\u001B[0m\n\u001B[1;32m   3494\u001B[0m     layer_range\u001B[38;5;241m=\u001B[39mlayer_range,\n\u001B[1;32m   3495\u001B[0m )\n",
      "\u001B[0;31mValueError\u001B[0m: This model has not yet been built. Build the model first by calling `build()` or by calling the model on a batch of data."
     ]
    }
   ],
   "source": [
    "model.summary()"
   ],
   "metadata": {
    "collapsed": false,
    "ExecuteTime": {
     "end_time": "2023-10-23T14:18:04.627244784Z",
     "start_time": "2023-10-23T14:18:03.397688842Z"
    }
   },
   "id": "52318216877b073"
  },
  {
   "cell_type": "code",
   "execution_count": null,
   "outputs": [],
   "source": [
    "# Let's create a model which builds automatically by defining the input_shape argument\n",
    "tf.random.set_seed(42)\n",
    "\n",
    "# 1. Create a model\n",
    "model = tf.keras.Sequential([\n",
    "    tf.keras.layers.Dense(10, input_shape=[1], name=\"input_layer\"),\n",
    "    tf.keras.layers.Dense(1, name=\"output_layer\")\n",
    "], name=\"model_1\")\n",
    "\n",
    "# 2. Compile the model\n",
    "model.compile(loss=tf.keras.losses.mae,\n",
    "              optimizer=tf.keras.optimizers.SGD(),\n",
    "              metrics=[\"mae\"])"
   ],
   "metadata": {
    "collapsed": false,
    "ExecuteTime": {
     "start_time": "2023-10-23T14:18:03.635730939Z"
    }
   },
   "id": "a16075b074508b1"
  },
  {
   "cell_type": "code",
   "execution_count": null,
   "outputs": [],
   "source": [
    "model.summary()"
   ],
   "metadata": {
    "collapsed": false,
    "ExecuteTime": {
     "start_time": "2023-10-23T14:18:03.637654537Z"
    }
   },
   "id": "9f86bee93b80ff45"
  },
  {
   "cell_type": "markdown",
   "source": [
    "* Total params - total number of parameters in the model.\n",
    "* Trainable parameters - these are the parameters (patterns) the model can update as it trains.\n",
    "* Non-trainable parameter - these aren't updated during training (this is typical when you bring in already learn patterns or parameters from other model during **transfer learning**)."
   ],
   "metadata": {
    "collapsed": false
   },
   "id": "c90f88245f040d90"
  },
  {
   "cell_type": "code",
   "execution_count": null,
   "outputs": [],
   "source": [
    "# Let's fit our model to the training data\n",
    "model.fit(X_train, y_train, epochs=100, verbose=0)"
   ],
   "metadata": {
    "collapsed": false,
    "ExecuteTime": {
     "start_time": "2023-10-23T14:18:03.639906501Z"
    }
   },
   "id": "a599e056db5a3eef"
  },
  {
   "cell_type": "code",
   "execution_count": null,
   "outputs": [],
   "source": [
    "# Get a summary of our model\n",
    "model.summary()"
   ],
   "metadata": {
    "collapsed": false,
    "ExecuteTime": {
     "start_time": "2023-10-23T14:18:03.642223886Z"
    }
   },
   "id": "1e34de72a85b868a"
  },
  {
   "cell_type": "code",
   "execution_count": null,
   "outputs": [],
   "source": [
    "from tensorflow.keras.utils import plot_model\n",
    "plot_model(model=model, show_shapes=True, to_file=\"model.png\")"
   ],
   "metadata": {
    "collapsed": false,
    "ExecuteTime": {
     "start_time": "2023-10-23T14:18:03.644751503Z"
    }
   },
   "id": "6a2f3b0042bfe22a"
  },
  {
   "cell_type": "markdown",
   "source": [
    "### Visualizing our model's prediction\n",
    "\n",
    "To visualize predictions, it's a good idea to plot them against the ground truth labels.\n",
    "\n",
    "Often you'll see this in the form of `y_set` or `y_true` versus `y_pred` (ground truth versus your model's predictions)."
   ],
   "metadata": {
    "collapsed": false
   },
   "id": "d85923fdbed2739d"
  },
  {
   "cell_type": "code",
   "execution_count": 25,
   "outputs": [
    {
     "ename": "ValueError",
     "evalue": "in user code:\n\n    File \"/home/dinh/github/tensorflow/venv/lib/python3.10/site-packages/keras/src/engine/training.py\", line 2416, in predict_function  *\n        return step_function(self, iterator)\n    File \"/home/dinh/github/tensorflow/venv/lib/python3.10/site-packages/keras/src/engine/training.py\", line 2401, in step_function  **\n        outputs = model.distribute_strategy.run(run_step, args=(data,))\n    File \"/home/dinh/github/tensorflow/venv/lib/python3.10/site-packages/keras/src/engine/training.py\", line 2389, in run_step  **\n        outputs = model.predict_step(data)\n    File \"/home/dinh/github/tensorflow/venv/lib/python3.10/site-packages/keras/src/engine/training.py\", line 2357, in predict_step\n        return self(x, training=False)\n    File \"/home/dinh/github/tensorflow/venv/lib/python3.10/site-packages/keras/src/utils/traceback_utils.py\", line 70, in error_handler\n        raise e.with_traceback(filtered_tb) from None\n    File \"/home/dinh/github/tensorflow/venv/lib/python3.10/site-packages/keras/src/engine/input_spec.py\", line 253, in assert_input_compatibility\n        raise ValueError(\n\n    ValueError: Exception encountered when calling layer 'sequential_3' (type Sequential).\n    \n    Input 0 of layer \"dense_5\" is incompatible with the layer: expected min_ndim=2, found ndim=1. Full shape received: (None,)\n    \n    Call arguments received by layer 'sequential_3' (type Sequential):\n      • inputs=tf.Tensor(shape=(None,), dtype=int32)\n      • training=False\n      • mask=None\n",
     "output_type": "error",
     "traceback": [
      "\u001B[0;31m---------------------------------------------------------------------------\u001B[0m",
      "\u001B[0;31mValueError\u001B[0m                                Traceback (most recent call last)",
      "Cell \u001B[0;32mIn[25], line 2\u001B[0m\n\u001B[1;32m      1\u001B[0m \u001B[38;5;66;03m# Make some predictions\u001B[39;00m\n\u001B[0;32m----> 2\u001B[0m y_pred \u001B[38;5;241m=\u001B[39m \u001B[43mmodel\u001B[49m\u001B[38;5;241;43m.\u001B[39;49m\u001B[43mpredict\u001B[49m\u001B[43m(\u001B[49m\u001B[43mX_test\u001B[49m\u001B[43m)\u001B[49m\n\u001B[1;32m      3\u001B[0m y_pred\n",
      "File \u001B[0;32m~/github/tensorflow/venv/lib/python3.10/site-packages/keras/src/utils/traceback_utils.py:70\u001B[0m, in \u001B[0;36mfilter_traceback.<locals>.error_handler\u001B[0;34m(*args, **kwargs)\u001B[0m\n\u001B[1;32m     67\u001B[0m     filtered_tb \u001B[38;5;241m=\u001B[39m _process_traceback_frames(e\u001B[38;5;241m.\u001B[39m__traceback__)\n\u001B[1;32m     68\u001B[0m     \u001B[38;5;66;03m# To get the full stack trace, call:\u001B[39;00m\n\u001B[1;32m     69\u001B[0m     \u001B[38;5;66;03m# `tf.debugging.disable_traceback_filtering()`\u001B[39;00m\n\u001B[0;32m---> 70\u001B[0m     \u001B[38;5;28;01mraise\u001B[39;00m e\u001B[38;5;241m.\u001B[39mwith_traceback(filtered_tb) \u001B[38;5;28;01mfrom\u001B[39;00m \u001B[38;5;28;01mNone\u001B[39;00m\n\u001B[1;32m     71\u001B[0m \u001B[38;5;28;01mfinally\u001B[39;00m:\n\u001B[1;32m     72\u001B[0m     \u001B[38;5;28;01mdel\u001B[39;00m filtered_tb\n",
      "File \u001B[0;32m/tmp/__autograph_generated_file359w11tz.py:15\u001B[0m, in \u001B[0;36mouter_factory.<locals>.inner_factory.<locals>.tf__predict_function\u001B[0;34m(iterator)\u001B[0m\n\u001B[1;32m     13\u001B[0m \u001B[38;5;28;01mtry\u001B[39;00m:\n\u001B[1;32m     14\u001B[0m     do_return \u001B[38;5;241m=\u001B[39m \u001B[38;5;28;01mTrue\u001B[39;00m\n\u001B[0;32m---> 15\u001B[0m     retval_ \u001B[38;5;241m=\u001B[39m ag__\u001B[38;5;241m.\u001B[39mconverted_call(ag__\u001B[38;5;241m.\u001B[39mld(step_function), (ag__\u001B[38;5;241m.\u001B[39mld(\u001B[38;5;28mself\u001B[39m), ag__\u001B[38;5;241m.\u001B[39mld(iterator)), \u001B[38;5;28;01mNone\u001B[39;00m, fscope)\n\u001B[1;32m     16\u001B[0m \u001B[38;5;28;01mexcept\u001B[39;00m:\n\u001B[1;32m     17\u001B[0m     do_return \u001B[38;5;241m=\u001B[39m \u001B[38;5;28;01mFalse\u001B[39;00m\n",
      "\u001B[0;31mValueError\u001B[0m: in user code:\n\n    File \"/home/dinh/github/tensorflow/venv/lib/python3.10/site-packages/keras/src/engine/training.py\", line 2416, in predict_function  *\n        return step_function(self, iterator)\n    File \"/home/dinh/github/tensorflow/venv/lib/python3.10/site-packages/keras/src/engine/training.py\", line 2401, in step_function  **\n        outputs = model.distribute_strategy.run(run_step, args=(data,))\n    File \"/home/dinh/github/tensorflow/venv/lib/python3.10/site-packages/keras/src/engine/training.py\", line 2389, in run_step  **\n        outputs = model.predict_step(data)\n    File \"/home/dinh/github/tensorflow/venv/lib/python3.10/site-packages/keras/src/engine/training.py\", line 2357, in predict_step\n        return self(x, training=False)\n    File \"/home/dinh/github/tensorflow/venv/lib/python3.10/site-packages/keras/src/utils/traceback_utils.py\", line 70, in error_handler\n        raise e.with_traceback(filtered_tb) from None\n    File \"/home/dinh/github/tensorflow/venv/lib/python3.10/site-packages/keras/src/engine/input_spec.py\", line 253, in assert_input_compatibility\n        raise ValueError(\n\n    ValueError: Exception encountered when calling layer 'sequential_3' (type Sequential).\n    \n    Input 0 of layer \"dense_5\" is incompatible with the layer: expected min_ndim=2, found ndim=1. Full shape received: (None,)\n    \n    Call arguments received by layer 'sequential_3' (type Sequential):\n      • inputs=tf.Tensor(shape=(None,), dtype=int32)\n      • training=False\n      • mask=None\n"
     ]
    }
   ],
   "source": [
    "# Make some predictions\n",
    "y_pred = model.predict(X_test)\n",
    "y_pred"
   ],
   "metadata": {
    "collapsed": false,
    "ExecuteTime": {
     "end_time": "2023-10-23T14:18:09.603744116Z",
     "start_time": "2023-10-23T14:18:09.524054124Z"
    }
   },
   "id": "c7827ad20bdc4808"
  },
  {
   "cell_type": "code",
   "execution_count": 26,
   "outputs": [
    {
     "data": {
      "text/plain": "<tf.Tensor: shape=(10,), dtype=int32, numpy=array([ 70,  74,  78,  82,  86,  90,  94,  98, 102, 106], dtype=int32)>"
     },
     "execution_count": 26,
     "metadata": {},
     "output_type": "execute_result"
    }
   ],
   "source": [
    "y_test"
   ],
   "metadata": {
    "collapsed": false,
    "ExecuteTime": {
     "end_time": "2023-10-23T14:18:11.417296031Z",
     "start_time": "2023-10-23T14:18:11.395968903Z"
    }
   },
   "id": "fd6715cbcff63bda"
  },
  {
   "cell_type": "code",
   "execution_count": 27,
   "outputs": [],
   "source": [
    "# Let's create a plotting function\n",
    "def plot_predictions(train_data=X_train,\n",
    "                     train_labels=y_train,\n",
    "                     test_data=X_test,\n",
    "                     test_labels=y_test,\n",
    "                     predictions=y_pred):\n",
    "    \"\"\"\n",
    "    PLots training data, test data and compares predictions to ground truth label\n",
    "    :param train_data: list of training data\n",
    "    :param train_labels: \n",
    "    :param test_data: \n",
    "    :param test_labels: \n",
    "    :param predictions: \n",
    "    :return: show the legend relation between train_data, train_labels and test_data, test_labels\n",
    "    \"\"\"\n",
    "    plt.figure(figsize=(10,7))\n",
    "    # Plot training data in blue\n",
    "    plt.scatter(train_data, train_labels, c=\"b\", label=\"Training data\")\n",
    "    # Plot testing data in green\n",
    "    plt.scatter(test_data, test_labels, c=\"g\", label=\"Testing data\")\n",
    "    # Plot model's predictions in red\n",
    "    plt.scatter(test_data, predictions, c=\"r\", label=\"Predictions\")\n",
    "    # Show the legend\n",
    "    plt.legend()"
   ],
   "metadata": {
    "collapsed": false,
    "ExecuteTime": {
     "end_time": "2023-10-23T14:18:11.668941644Z",
     "start_time": "2023-10-23T14:18:11.648176187Z"
    }
   },
   "id": "5d72e7d72cb7e1ab"
  },
  {
   "cell_type": "code",
   "execution_count": 28,
   "outputs": [
    {
     "ename": "ValueError",
     "evalue": "x and y must be the same size",
     "output_type": "error",
     "traceback": [
      "\u001B[0;31m---------------------------------------------------------------------------\u001B[0m",
      "\u001B[0;31mValueError\u001B[0m                                Traceback (most recent call last)",
      "Cell \u001B[0;32mIn[28], line 1\u001B[0m\n\u001B[0;32m----> 1\u001B[0m \u001B[43mplot_predictions\u001B[49m\u001B[43m(\u001B[49m\u001B[43mtrain_data\u001B[49m\u001B[38;5;241;43m=\u001B[39;49m\u001B[43mX_train\u001B[49m\u001B[43m,\u001B[49m\u001B[43m \u001B[49m\n\u001B[1;32m      2\u001B[0m \u001B[43m                 \u001B[49m\u001B[43mtrain_labels\u001B[49m\u001B[38;5;241;43m=\u001B[39;49m\u001B[43my_train\u001B[49m\u001B[43m,\u001B[49m\u001B[43m \u001B[49m\n\u001B[1;32m      3\u001B[0m \u001B[43m                 \u001B[49m\u001B[43mtest_data\u001B[49m\u001B[38;5;241;43m=\u001B[39;49m\u001B[43mX_test\u001B[49m\u001B[43m,\u001B[49m\u001B[43m \u001B[49m\n\u001B[1;32m      4\u001B[0m \u001B[43m                 \u001B[49m\u001B[43mtest_labels\u001B[49m\u001B[38;5;241;43m=\u001B[39;49m\u001B[43my_test\u001B[49m\u001B[43m,\u001B[49m\u001B[43m \u001B[49m\n\u001B[1;32m      5\u001B[0m \u001B[43m                 \u001B[49m\u001B[43mpredictions\u001B[49m\u001B[38;5;241;43m=\u001B[39;49m\u001B[43my_pred\u001B[49m\u001B[43m)\u001B[49m\n",
      "Cell \u001B[0;32mIn[27], line 22\u001B[0m, in \u001B[0;36mplot_predictions\u001B[0;34m(train_data, train_labels, test_data, test_labels, predictions)\u001B[0m\n\u001B[1;32m     20\u001B[0m plt\u001B[38;5;241m.\u001B[39mscatter(test_data, test_labels, c\u001B[38;5;241m=\u001B[39m\u001B[38;5;124m\"\u001B[39m\u001B[38;5;124mg\u001B[39m\u001B[38;5;124m\"\u001B[39m, label\u001B[38;5;241m=\u001B[39m\u001B[38;5;124m\"\u001B[39m\u001B[38;5;124mTesting data\u001B[39m\u001B[38;5;124m\"\u001B[39m)\n\u001B[1;32m     21\u001B[0m \u001B[38;5;66;03m# Plot model's predictions in red\u001B[39;00m\n\u001B[0;32m---> 22\u001B[0m \u001B[43mplt\u001B[49m\u001B[38;5;241;43m.\u001B[39;49m\u001B[43mscatter\u001B[49m\u001B[43m(\u001B[49m\u001B[43mtest_data\u001B[49m\u001B[43m,\u001B[49m\u001B[43m \u001B[49m\u001B[43mpredictions\u001B[49m\u001B[43m,\u001B[49m\u001B[43m \u001B[49m\u001B[43mc\u001B[49m\u001B[38;5;241;43m=\u001B[39;49m\u001B[38;5;124;43m\"\u001B[39;49m\u001B[38;5;124;43mr\u001B[39;49m\u001B[38;5;124;43m\"\u001B[39;49m\u001B[43m,\u001B[49m\u001B[43m \u001B[49m\u001B[43mlabel\u001B[49m\u001B[38;5;241;43m=\u001B[39;49m\u001B[38;5;124;43m\"\u001B[39;49m\u001B[38;5;124;43mPredictions\u001B[39;49m\u001B[38;5;124;43m\"\u001B[39;49m\u001B[43m)\u001B[49m\n\u001B[1;32m     23\u001B[0m \u001B[38;5;66;03m# Show the legend\u001B[39;00m\n\u001B[1;32m     24\u001B[0m plt\u001B[38;5;241m.\u001B[39mlegend()\n",
      "File \u001B[0;32m~/github/tensorflow/venv/lib/python3.10/site-packages/matplotlib/pyplot.py:3687\u001B[0m, in \u001B[0;36mscatter\u001B[0;34m(x, y, s, c, marker, cmap, norm, vmin, vmax, alpha, linewidths, edgecolors, plotnonfinite, data, **kwargs)\u001B[0m\n\u001B[1;32m   3668\u001B[0m \u001B[38;5;129m@_copy_docstring_and_deprecators\u001B[39m(Axes\u001B[38;5;241m.\u001B[39mscatter)\n\u001B[1;32m   3669\u001B[0m \u001B[38;5;28;01mdef\u001B[39;00m \u001B[38;5;21mscatter\u001B[39m(\n\u001B[1;32m   3670\u001B[0m     x: \u001B[38;5;28mfloat\u001B[39m \u001B[38;5;241m|\u001B[39m ArrayLike,\n\u001B[0;32m   (...)\u001B[0m\n\u001B[1;32m   3685\u001B[0m     \u001B[38;5;241m*\u001B[39m\u001B[38;5;241m*\u001B[39mkwargs,\n\u001B[1;32m   3686\u001B[0m ) \u001B[38;5;241m-\u001B[39m\u001B[38;5;241m>\u001B[39m PathCollection:\n\u001B[0;32m-> 3687\u001B[0m     __ret \u001B[38;5;241m=\u001B[39m \u001B[43mgca\u001B[49m\u001B[43m(\u001B[49m\u001B[43m)\u001B[49m\u001B[38;5;241;43m.\u001B[39;49m\u001B[43mscatter\u001B[49m\u001B[43m(\u001B[49m\n\u001B[1;32m   3688\u001B[0m \u001B[43m        \u001B[49m\u001B[43mx\u001B[49m\u001B[43m,\u001B[49m\n\u001B[1;32m   3689\u001B[0m \u001B[43m        \u001B[49m\u001B[43my\u001B[49m\u001B[43m,\u001B[49m\n\u001B[1;32m   3690\u001B[0m \u001B[43m        \u001B[49m\u001B[43ms\u001B[49m\u001B[38;5;241;43m=\u001B[39;49m\u001B[43ms\u001B[49m\u001B[43m,\u001B[49m\n\u001B[1;32m   3691\u001B[0m \u001B[43m        \u001B[49m\u001B[43mc\u001B[49m\u001B[38;5;241;43m=\u001B[39;49m\u001B[43mc\u001B[49m\u001B[43m,\u001B[49m\n\u001B[1;32m   3692\u001B[0m \u001B[43m        \u001B[49m\u001B[43mmarker\u001B[49m\u001B[38;5;241;43m=\u001B[39;49m\u001B[43mmarker\u001B[49m\u001B[43m,\u001B[49m\n\u001B[1;32m   3693\u001B[0m \u001B[43m        \u001B[49m\u001B[43mcmap\u001B[49m\u001B[38;5;241;43m=\u001B[39;49m\u001B[43mcmap\u001B[49m\u001B[43m,\u001B[49m\n\u001B[1;32m   3694\u001B[0m \u001B[43m        \u001B[49m\u001B[43mnorm\u001B[49m\u001B[38;5;241;43m=\u001B[39;49m\u001B[43mnorm\u001B[49m\u001B[43m,\u001B[49m\n\u001B[1;32m   3695\u001B[0m \u001B[43m        \u001B[49m\u001B[43mvmin\u001B[49m\u001B[38;5;241;43m=\u001B[39;49m\u001B[43mvmin\u001B[49m\u001B[43m,\u001B[49m\n\u001B[1;32m   3696\u001B[0m \u001B[43m        \u001B[49m\u001B[43mvmax\u001B[49m\u001B[38;5;241;43m=\u001B[39;49m\u001B[43mvmax\u001B[49m\u001B[43m,\u001B[49m\n\u001B[1;32m   3697\u001B[0m \u001B[43m        \u001B[49m\u001B[43malpha\u001B[49m\u001B[38;5;241;43m=\u001B[39;49m\u001B[43malpha\u001B[49m\u001B[43m,\u001B[49m\n\u001B[1;32m   3698\u001B[0m \u001B[43m        \u001B[49m\u001B[43mlinewidths\u001B[49m\u001B[38;5;241;43m=\u001B[39;49m\u001B[43mlinewidths\u001B[49m\u001B[43m,\u001B[49m\n\u001B[1;32m   3699\u001B[0m \u001B[43m        \u001B[49m\u001B[43medgecolors\u001B[49m\u001B[38;5;241;43m=\u001B[39;49m\u001B[43medgecolors\u001B[49m\u001B[43m,\u001B[49m\n\u001B[1;32m   3700\u001B[0m \u001B[43m        \u001B[49m\u001B[43mplotnonfinite\u001B[49m\u001B[38;5;241;43m=\u001B[39;49m\u001B[43mplotnonfinite\u001B[49m\u001B[43m,\u001B[49m\n\u001B[1;32m   3701\u001B[0m \u001B[43m        \u001B[49m\u001B[38;5;241;43m*\u001B[39;49m\u001B[38;5;241;43m*\u001B[39;49m\u001B[43m(\u001B[49m\u001B[43m{\u001B[49m\u001B[38;5;124;43m\"\u001B[39;49m\u001B[38;5;124;43mdata\u001B[39;49m\u001B[38;5;124;43m\"\u001B[39;49m\u001B[43m:\u001B[49m\u001B[43m \u001B[49m\u001B[43mdata\u001B[49m\u001B[43m}\u001B[49m\u001B[43m \u001B[49m\u001B[38;5;28;43;01mif\u001B[39;49;00m\u001B[43m \u001B[49m\u001B[43mdata\u001B[49m\u001B[43m \u001B[49m\u001B[38;5;129;43;01mis\u001B[39;49;00m\u001B[43m \u001B[49m\u001B[38;5;129;43;01mnot\u001B[39;49;00m\u001B[43m \u001B[49m\u001B[38;5;28;43;01mNone\u001B[39;49;00m\u001B[43m \u001B[49m\u001B[38;5;28;43;01melse\u001B[39;49;00m\u001B[43m \u001B[49m\u001B[43m{\u001B[49m\u001B[43m}\u001B[49m\u001B[43m)\u001B[49m\u001B[43m,\u001B[49m\n\u001B[1;32m   3702\u001B[0m \u001B[43m        \u001B[49m\u001B[38;5;241;43m*\u001B[39;49m\u001B[38;5;241;43m*\u001B[39;49m\u001B[43mkwargs\u001B[49m\u001B[43m,\u001B[49m\n\u001B[1;32m   3703\u001B[0m \u001B[43m    \u001B[49m\u001B[43m)\u001B[49m\n\u001B[1;32m   3704\u001B[0m     sci(__ret)\n\u001B[1;32m   3705\u001B[0m     \u001B[38;5;28;01mreturn\u001B[39;00m __ret\n",
      "File \u001B[0;32m~/github/tensorflow/venv/lib/python3.10/site-packages/matplotlib/__init__.py:1465\u001B[0m, in \u001B[0;36m_preprocess_data.<locals>.inner\u001B[0;34m(ax, data, *args, **kwargs)\u001B[0m\n\u001B[1;32m   1462\u001B[0m \u001B[38;5;129m@functools\u001B[39m\u001B[38;5;241m.\u001B[39mwraps(func)\n\u001B[1;32m   1463\u001B[0m \u001B[38;5;28;01mdef\u001B[39;00m \u001B[38;5;21minner\u001B[39m(ax, \u001B[38;5;241m*\u001B[39margs, data\u001B[38;5;241m=\u001B[39m\u001B[38;5;28;01mNone\u001B[39;00m, \u001B[38;5;241m*\u001B[39m\u001B[38;5;241m*\u001B[39mkwargs):\n\u001B[1;32m   1464\u001B[0m     \u001B[38;5;28;01mif\u001B[39;00m data \u001B[38;5;129;01mis\u001B[39;00m \u001B[38;5;28;01mNone\u001B[39;00m:\n\u001B[0;32m-> 1465\u001B[0m         \u001B[38;5;28;01mreturn\u001B[39;00m \u001B[43mfunc\u001B[49m\u001B[43m(\u001B[49m\u001B[43max\u001B[49m\u001B[43m,\u001B[49m\u001B[43m \u001B[49m\u001B[38;5;241;43m*\u001B[39;49m\u001B[38;5;28;43mmap\u001B[39;49m\u001B[43m(\u001B[49m\u001B[43msanitize_sequence\u001B[49m\u001B[43m,\u001B[49m\u001B[43m \u001B[49m\u001B[43margs\u001B[49m\u001B[43m)\u001B[49m\u001B[43m,\u001B[49m\u001B[43m \u001B[49m\u001B[38;5;241;43m*\u001B[39;49m\u001B[38;5;241;43m*\u001B[39;49m\u001B[43mkwargs\u001B[49m\u001B[43m)\u001B[49m\n\u001B[1;32m   1467\u001B[0m     bound \u001B[38;5;241m=\u001B[39m new_sig\u001B[38;5;241m.\u001B[39mbind(ax, \u001B[38;5;241m*\u001B[39margs, \u001B[38;5;241m*\u001B[39m\u001B[38;5;241m*\u001B[39mkwargs)\n\u001B[1;32m   1468\u001B[0m     auto_label \u001B[38;5;241m=\u001B[39m (bound\u001B[38;5;241m.\u001B[39marguments\u001B[38;5;241m.\u001B[39mget(label_namer)\n\u001B[1;32m   1469\u001B[0m                   \u001B[38;5;129;01mor\u001B[39;00m bound\u001B[38;5;241m.\u001B[39mkwargs\u001B[38;5;241m.\u001B[39mget(label_namer))\n",
      "File \u001B[0;32m~/github/tensorflow/venv/lib/python3.10/site-packages/matplotlib/axes/_axes.py:4652\u001B[0m, in \u001B[0;36mAxes.scatter\u001B[0;34m(self, x, y, s, c, marker, cmap, norm, vmin, vmax, alpha, linewidths, edgecolors, plotnonfinite, **kwargs)\u001B[0m\n\u001B[1;32m   4650\u001B[0m y \u001B[38;5;241m=\u001B[39m np\u001B[38;5;241m.\u001B[39mma\u001B[38;5;241m.\u001B[39mravel(y)\n\u001B[1;32m   4651\u001B[0m \u001B[38;5;28;01mif\u001B[39;00m x\u001B[38;5;241m.\u001B[39msize \u001B[38;5;241m!=\u001B[39m y\u001B[38;5;241m.\u001B[39msize:\n\u001B[0;32m-> 4652\u001B[0m     \u001B[38;5;28;01mraise\u001B[39;00m \u001B[38;5;167;01mValueError\u001B[39;00m(\u001B[38;5;124m\"\u001B[39m\u001B[38;5;124mx and y must be the same size\u001B[39m\u001B[38;5;124m\"\u001B[39m)\n\u001B[1;32m   4654\u001B[0m \u001B[38;5;28;01mif\u001B[39;00m s \u001B[38;5;129;01mis\u001B[39;00m \u001B[38;5;28;01mNone\u001B[39;00m:\n\u001B[1;32m   4655\u001B[0m     s \u001B[38;5;241m=\u001B[39m (\u001B[38;5;241m20\u001B[39m \u001B[38;5;28;01mif\u001B[39;00m mpl\u001B[38;5;241m.\u001B[39mrcParams[\u001B[38;5;124m'\u001B[39m\u001B[38;5;124m_internal.classic_mode\u001B[39m\u001B[38;5;124m'\u001B[39m] \u001B[38;5;28;01melse\u001B[39;00m\n\u001B[1;32m   4656\u001B[0m          mpl\u001B[38;5;241m.\u001B[39mrcParams[\u001B[38;5;124m'\u001B[39m\u001B[38;5;124mlines.markersize\u001B[39m\u001B[38;5;124m'\u001B[39m] \u001B[38;5;241m*\u001B[39m\u001B[38;5;241m*\u001B[39m \u001B[38;5;241m2.0\u001B[39m)\n",
      "\u001B[0;31mValueError\u001B[0m: x and y must be the same size"
     ]
    },
    {
     "data": {
      "text/plain": "<Figure size 1000x700 with 1 Axes>",
      "image/png": "[encoded data removed]"
     },
     "metadata": {},
     "output_type": "display_data"
    }
   ],
   "source": [
    "plot_predictions(train_data=X_train, \n",
    "                 train_labels=y_train, \n",
    "                 test_data=X_test, \n",
    "                 test_labels=y_test, \n",
    "                 predictions=y_pred)"
   ],
   "metadata": {
    "collapsed": false,
    "ExecuteTime": {
     "end_time": "2023-10-23T14:18:12.619489553Z",
     "start_time": "2023-10-23T14:18:11.892234436Z"
    }
   },
   "id": "a86f97828e9ef858"
  },
  {
   "cell_type": "markdown",
   "source": [
    "### Evaluating our model's predictions with regression evaluation metrics\n",
    "\n",
    "Depending on the problem you're working on, there will be different evaluation metrics to evaluate your model's performance.\n",
    "\n",
    "Since we're working on a regression, two of the main metrics:\n",
    "* MAE - mean absolute error, \"on average, how wrong is each of my model's predictions\"\n",
    "* MSE - mean square error, \"square the average errors\""
   ],
   "metadata": {
    "collapsed": false
   },
   "id": "6744fa81053ae66c"
  },
  {
   "cell_type": "code",
   "execution_count": null,
   "outputs": [],
   "source": [
    "# Evaluate the model on the test\n",
    "model.evaluate(X_test, y_test)"
   ],
   "metadata": {
    "collapsed": false,
    "ExecuteTime": {
     "start_time": "2023-10-23T14:18:12.606934568Z"
    }
   },
   "id": "79795da68408e70d"
  },
  {
   "cell_type": "code",
   "execution_count": null,
   "outputs": [],
   "source": [
    "y_pred"
   ],
   "metadata": {
    "collapsed": false,
    "ExecuteTime": {
     "end_time": "2023-10-23T14:18:12.780524617Z",
     "start_time": "2023-10-23T14:18:12.649423092Z"
    }
   },
   "id": "1c9308da80f1c561"
  },
  {
   "cell_type": "code",
   "execution_count": 29,
   "outputs": [
    {
     "data": {
      "text/plain": "<tf.Tensor: shape=(10,), dtype=int32, numpy=array([ 70,  74,  78,  82,  86,  90,  94,  98, 102, 106], dtype=int32)>"
     },
     "execution_count": 29,
     "metadata": {},
     "output_type": "execute_result"
    }
   ],
   "source": [
    "y_test"
   ],
   "metadata": {
    "collapsed": false,
    "ExecuteTime": {
     "end_time": "2023-10-23T14:18:12.802939114Z",
     "start_time": "2023-10-23T14:18:12.664287293Z"
    }
   },
   "id": "760721ceeb327398"
  },
  {
   "cell_type": "code",
   "execution_count": 30,
   "outputs": [
    {
     "data": {
      "text/plain": "<tf.Tensor: shape=(1,), dtype=float32, numpy=array([106.22125], dtype=float32)>"
     },
     "execution_count": 30,
     "metadata": {},
     "output_type": "execute_result"
    }
   ],
   "source": [
    "# Calculate the mean absolute error\n",
    "mae = tf.metrics.mean_absolute_error(y_true=y_test, y_pred=y_pred)\n",
    "mae"
   ],
   "metadata": {
    "collapsed": false,
    "ExecuteTime": {
     "end_time": "2023-10-23T14:18:12.927663786Z",
     "start_time": "2023-10-23T14:18:12.869463948Z"
    }
   },
   "id": "56660c7012b74741"
  },
  {
   "cell_type": "code",
   "execution_count": 31,
   "outputs": [
    {
     "data": {
      "text/plain": "<tf.Tensor: shape=(), dtype=float32, numpy=-18.221254>"
     },
     "execution_count": 31,
     "metadata": {},
     "output_type": "execute_result"
    }
   ],
   "source": [
    "tf.squeeze(y_pred)"
   ],
   "metadata": {
    "collapsed": false,
    "ExecuteTime": {
     "end_time": "2023-10-23T14:18:13.061192041Z",
     "start_time": "2023-10-23T14:18:13.008821285Z"
    }
   },
   "id": "a541cdffd3c2d98d"
  },
  {
   "cell_type": "code",
   "execution_count": 32,
   "outputs": [
    {
     "data": {
      "text/plain": "<tf.Tensor: shape=(), dtype=float32, numpy=106.22125>"
     },
     "execution_count": 32,
     "metadata": {},
     "output_type": "execute_result"
    }
   ],
   "source": [
    "# Calculate the mean absolute error\n",
    "mae = tf.metrics.mean_absolute_error(y_true=y_test, y_pred=tf.squeeze(y_pred))\n",
    "mae"
   ],
   "metadata": {
    "collapsed": false,
    "ExecuteTime": {
     "end_time": "2023-10-23T14:18:13.231787080Z",
     "start_time": "2023-10-23T14:18:13.174004751Z"
    }
   },
   "id": "d9c44ffb60b4f4cb"
  },
  {
   "cell_type": "code",
   "execution_count": 33,
   "outputs": [
    {
     "data": {
      "text/plain": "<tf.Tensor: shape=(), dtype=float32, numpy=11414.955>"
     },
     "execution_count": 33,
     "metadata": {},
     "output_type": "execute_result"
    }
   ],
   "source": [
    "# Calculate the mean square error\n",
    "mse = tf.metrics.mean_squared_error(y_true=y_test, y_pred=tf.squeeze(y_pred))\n",
    "mse"
   ],
   "metadata": {
    "collapsed": false,
    "ExecuteTime": {
     "end_time": "2023-10-23T14:18:13.362193484Z",
     "start_time": "2023-10-23T14:18:13.339924679Z"
    }
   },
   "id": "7b229cc099f06580"
  },
  {
   "cell_type": "code",
   "execution_count": 34,
   "outputs": [],
   "source": [
    "# Make some functions to reuse MAE and MSE\n",
    "def mae(y_true, y_pred):\n",
    "    return tf.metrics.mean_absolute_error(y_true=y_true, y_pred=tf.squeeze(y_pred))\n",
    "\n",
    "def mse(y_true, y_pred):\n",
    "    return tf.metrics.mean_squared_error(y_true=y_true, y_pred=tf.squeeze(y_pred))"
   ],
   "metadata": {
    "collapsed": false,
    "ExecuteTime": {
     "end_time": "2023-10-23T14:18:13.570154511Z",
     "start_time": "2023-10-23T14:18:13.538668700Z"
    }
   },
   "id": "4fd6470e8d3350a4"
  },
  {
   "cell_type": "markdown",
   "source": [
    "### Running experiments to improve our model\n",
    "\n",
    "\n",
    "```Build a model -> fit it -> evaluate it -> tweak it -> fit it -> evaluate it -> tweak it > fit it -> evaluate it...```\n",
    "\n",
    "1. Get more data - get more examples for your model to train on (more opportunities to learn patterns or relationships between features and labels).\n",
    "2. Make your model larger (using a more complex model) - this might come in the form of more layers or more hidden units in each layer.\n",
    "3. Train for longer - give your model more of a chance to find patterns in the data\n",
    "\n",
    "Let's do 3 modelling experiments:\n",
    "\n",
    "1. `model_1` - same as the original model, 1 layer, trained for 100 epochs.\n",
    "2. `model_2` - 2 layers, trained for 100 epochs.\n",
    "3. `model_3` - 2 layers, trained for 500 epochs."
   ],
   "metadata": {
    "collapsed": false
   },
   "id": "f763540d49ae259d"
  },
  {
   "cell_type": "markdown",
   "source": [
    "#### **Build `model_1`**"
   ],
   "metadata": {
    "collapsed": false
   },
   "id": "3c545cdef0337626"
  },
  {
   "cell_type": "code",
   "execution_count": 35,
   "outputs": [
    {
     "name": "stdout",
     "output_type": "stream",
     "text": [
      "Epoch 1/100\n",
      "2/2 [==============================] - 0s 5ms/step - loss: 30.5373 - mae: 30.5373\n",
      "Epoch 2/100\n",
      "2/2 [==============================] - 0s 3ms/step - loss: 9.7810 - mae: 9.7810\n",
      "Epoch 3/100\n",
      "2/2 [==============================] - 0s 3ms/step - loss: 10.7706 - mae: 10.7706\n",
      "Epoch 4/100\n",
      "2/2 [==============================] - 0s 3ms/step - loss: 9.4925 - mae: 9.4925\n",
      "Epoch 5/100\n",
      "2/2 [==============================] - 0s 4ms/step - loss: 10.3919 - mae: 10.3919\n",
      "Epoch 6/100\n",
      "2/2 [==============================] - 0s 3ms/step - loss: 9.6265 - mae: 9.6265\n",
      "Epoch 7/100\n",
      "2/2 [==============================] - 0s 3ms/step - loss: 8.7334 - mae: 8.7334\n",
      "Epoch 8/100\n",
      "2/2 [==============================] - 0s 3ms/step - loss: 9.0511 - mae: 9.0511\n",
      "Epoch 9/100\n",
      "2/2 [==============================] - 0s 3ms/step - loss: 19.1731 - mae: 19.1731\n",
      "Epoch 10/100\n",
      "2/2 [==============================] - 0s 3ms/step - loss: 10.3436 - mae: 10.3436\n",
      "Epoch 11/100\n",
      "2/2 [==============================] - 0s 3ms/step - loss: 8.4830 - mae: 8.4830\n",
      "Epoch 12/100\n",
      "2/2 [==============================] - 0s 4ms/step - loss: 10.8461 - mae: 10.8461\n",
      "Epoch 13/100\n",
      "2/2 [==============================] - 0s 3ms/step - loss: 9.8901 - mae: 9.8901\n",
      "Epoch 14/100\n",
      "2/2 [==============================] - 0s 2ms/step - loss: 12.1134 - mae: 12.1134\n",
      "Epoch 15/100\n",
      "2/2 [==============================] - 0s 3ms/step - loss: 12.3452 - mae: 12.3452\n",
      "Epoch 16/100\n",
      "2/2 [==============================] - 0s 3ms/step - loss: 8.4261 - mae: 8.4261\n",
      "Epoch 17/100\n",
      "2/2 [==============================] - 0s 3ms/step - loss: 13.3838 - mae: 13.3838\n",
      "Epoch 18/100\n",
      "2/2 [==============================] - 0s 4ms/step - loss: 11.1519 - mae: 11.1519\n",
      "Epoch 19/100\n",
      "2/2 [==============================] - 0s 3ms/step - loss: 18.3707 - mae: 18.3707\n",
      "Epoch 20/100\n",
      "2/2 [==============================] - 0s 3ms/step - loss: 15.0726 - mae: 15.0726\n",
      "Epoch 21/100\n",
      "2/2 [==============================] - 0s 4ms/step - loss: 11.0384 - mae: 11.0384\n",
      "Epoch 22/100\n",
      "2/2 [==============================] - 0s 3ms/step - loss: 8.1693 - mae: 8.1693\n",
      "Epoch 23/100\n",
      "2/2 [==============================] - 0s 4ms/step - loss: 9.4870 - mae: 9.4870\n",
      "Epoch 24/100\n",
      "2/2 [==============================] - 0s 4ms/step - loss: 7.6568 - mae: 7.6568\n",
      "Epoch 25/100\n",
      "2/2 [==============================] - 0s 4ms/step - loss: 13.1422 - mae: 13.1422\n",
      "Epoch 26/100\n",
      "2/2 [==============================] - 0s 3ms/step - loss: 16.4439 - mae: 16.4439\n",
      "Epoch 27/100\n",
      "2/2 [==============================] - 0s 3ms/step - loss: 13.1831 - mae: 13.1831\n",
      "Epoch 28/100\n",
      "2/2 [==============================] - 0s 3ms/step - loss: 14.2796 - mae: 14.2796\n",
      "Epoch 29/100\n",
      "2/2 [==============================] - 0s 2ms/step - loss: 10.0665 - mae: 10.0665\n",
      "Epoch 30/100\n",
      "2/2 [==============================] - 0s 3ms/step - loss: 16.3819 - mae: 16.3819\n",
      "Epoch 31/100\n",
      "2/2 [==============================] - 0s 3ms/step - loss: 23.5995 - mae: 23.5995\n",
      "Epoch 32/100\n",
      "2/2 [==============================] - 0s 2ms/step - loss: 7.6050 - mae: 7.6050\n",
      "Epoch 33/100\n",
      "2/2 [==============================] - 0s 2ms/step - loss: 9.3036 - mae: 9.3036\n",
      "Epoch 34/100\n",
      "2/2 [==============================] - 0s 2ms/step - loss: 13.6921 - mae: 13.6921\n",
      "Epoch 35/100\n",
      "2/2 [==============================] - 0s 3ms/step - loss: 11.1369 - mae: 11.1369\n",
      "Epoch 36/100\n",
      "2/2 [==============================] - 0s 3ms/step - loss: 13.3516 - mae: 13.3516\n",
      "Epoch 37/100\n",
      "2/2 [==============================] - 0s 3ms/step - loss: 9.4528 - mae: 9.4528\n",
      "Epoch 38/100\n",
      "2/2 [==============================] - 0s 3ms/step - loss: 10.1080 - mae: 10.1080\n",
      "Epoch 39/100\n",
      "2/2 [==============================] - 0s 3ms/step - loss: 10.1888 - mae: 10.1888\n",
      "Epoch 40/100\n",
      "2/2 [==============================] - 0s 3ms/step - loss: 10.9309 - mae: 10.9309\n",
      "Epoch 41/100\n",
      "2/2 [==============================] - 0s 3ms/step - loss: 7.9169 - mae: 7.9169\n",
      "Epoch 42/100\n",
      "2/2 [==============================] - 0s 3ms/step - loss: 10.0646 - mae: 10.0646\n",
      "Epoch 43/100\n",
      "2/2 [==============================] - 0s 3ms/step - loss: 8.6839 - mae: 8.6839\n",
      "Epoch 44/100\n",
      "2/2 [==============================] - 0s 3ms/step - loss: 12.1653 - mae: 12.1653\n",
      "Epoch 45/100\n",
      "2/2 [==============================] - 0s 3ms/step - loss: 13.8205 - mae: 13.8205\n",
      "Epoch 46/100\n",
      "2/2 [==============================] - 0s 3ms/step - loss: 8.4803 - mae: 8.4803\n",
      "Epoch 47/100\n",
      "2/2 [==============================] - 0s 3ms/step - loss: 9.1091 - mae: 9.1091\n",
      "Epoch 48/100\n",
      "2/2 [==============================] - 0s 3ms/step - loss: 10.5876 - mae: 10.5876\n",
      "Epoch 49/100\n",
      "2/2 [==============================] - 0s 2ms/step - loss: 7.7287 - mae: 7.7287\n",
      "Epoch 50/100\n",
      "2/2 [==============================] - 0s 2ms/step - loss: 9.5116 - mae: 9.5116\n",
      "Epoch 51/100\n",
      "2/2 [==============================] - 0s 4ms/step - loss: 9.1446 - mae: 9.1446\n",
      "Epoch 52/100\n",
      "2/2 [==============================] - 0s 3ms/step - loss: 16.3173 - mae: 16.3173\n",
      "Epoch 53/100\n",
      "2/2 [==============================] - 0s 2ms/step - loss: 14.1414 - mae: 14.1414\n",
      "Epoch 54/100\n",
      "2/2 [==============================] - 0s 3ms/step - loss: 21.1672 - mae: 21.1672\n",
      "Epoch 55/100\n",
      "2/2 [==============================] - 0s 3ms/step - loss: 16.3526 - mae: 16.3526\n",
      "Epoch 56/100\n",
      "2/2 [==============================] - 0s 2ms/step - loss: 10.0035 - mae: 10.0035\n",
      "Epoch 57/100\n",
      "2/2 [==============================] - 0s 2ms/step - loss: 9.9331 - mae: 9.9331\n",
      "Epoch 58/100\n",
      "2/2 [==============================] - 0s 3ms/step - loss: 9.1955 - mae: 9.1955\n",
      "Epoch 59/100\n",
      "2/2 [==============================] - 0s 3ms/step - loss: 8.3999 - mae: 8.3999\n",
      "Epoch 60/100\n",
      "2/2 [==============================] - 0s 3ms/step - loss: 9.4652 - mae: 9.4652\n",
      "Epoch 61/100\n",
      "2/2 [==============================] - 0s 3ms/step - loss: 11.4001 - mae: 11.4001\n",
      "Epoch 62/100\n",
      "2/2 [==============================] - 0s 2ms/step - loss: 11.7106 - mae: 11.7106\n",
      "Epoch 63/100\n",
      "2/2 [==============================] - 0s 3ms/step - loss: 7.0646 - mae: 7.0646\n",
      "Epoch 64/100\n",
      "2/2 [==============================] - 0s 3ms/step - loss: 16.9928 - mae: 16.9928\n",
      "Epoch 65/100\n",
      "2/2 [==============================] - 0s 3ms/step - loss: 12.4754 - mae: 12.4754\n",
      "Epoch 66/100\n",
      "2/2 [==============================] - 0s 2ms/step - loss: 13.0415 - mae: 13.0415\n",
      "Epoch 67/100\n",
      "2/2 [==============================] - 0s 3ms/step - loss: 8.0620 - mae: 8.0620\n",
      "Epoch 68/100\n",
      "2/2 [==============================] - 0s 3ms/step - loss: 10.1992 - mae: 10.1992\n",
      "Epoch 69/100\n",
      "2/2 [==============================] - 0s 4ms/step - loss: 12.3882 - mae: 12.3882\n",
      "Epoch 70/100\n",
      "2/2 [==============================] - 0s 3ms/step - loss: 9.0266 - mae: 9.0266\n",
      "Epoch 71/100\n",
      "2/2 [==============================] - 0s 4ms/step - loss: 10.0113 - mae: 10.0113\n",
      "Epoch 72/100\n",
      "2/2 [==============================] - 0s 3ms/step - loss: 10.0292 - mae: 10.0292\n",
      "Epoch 73/100\n",
      "2/2 [==============================] - 0s 3ms/step - loss: 12.5778 - mae: 12.5778\n",
      "Epoch 74/100\n",
      "2/2 [==============================] - 0s 3ms/step - loss: 10.4055 - mae: 10.4055\n",
      "Epoch 75/100\n",
      "2/2 [==============================] - 0s 2ms/step - loss: 9.6988 - mae: 9.6988\n",
      "Epoch 76/100\n",
      "2/2 [==============================] - 0s 3ms/step - loss: 11.1946 - mae: 11.1946\n",
      "Epoch 77/100\n",
      "2/2 [==============================] - 0s 2ms/step - loss: 8.3418 - mae: 8.3418\n",
      "Epoch 78/100\n",
      "2/2 [==============================] - 0s 4ms/step - loss: 9.0921 - mae: 9.0921\n",
      "Epoch 79/100\n",
      "2/2 [==============================] - 0s 3ms/step - loss: 19.5437 - mae: 19.5437\n",
      "Epoch 80/100\n",
      "2/2 [==============================] - 0s 3ms/step - loss: 14.8528 - mae: 14.8528\n",
      "Epoch 81/100\n",
      "2/2 [==============================] - 0s 3ms/step - loss: 9.0315 - mae: 9.0315\n",
      "Epoch 82/100\n",
      "2/2 [==============================] - 0s 3ms/step - loss: 12.9842 - mae: 12.9842\n",
      "Epoch 83/100\n",
      "2/2 [==============================] - 0s 3ms/step - loss: 7.9010 - mae: 7.9010\n",
      "Epoch 84/100\n",
      "2/2 [==============================] - 0s 3ms/step - loss: 7.6876 - mae: 7.6876\n",
      "Epoch 85/100\n",
      "2/2 [==============================] - 0s 3ms/step - loss: 10.0466 - mae: 10.0466\n",
      "Epoch 86/100\n",
      "2/2 [==============================] - 0s 3ms/step - loss: 9.2492 - mae: 9.2492\n",
      "Epoch 87/100\n",
      "2/2 [==============================] - 0s 3ms/step - loss: 12.0399 - mae: 12.0399\n",
      "Epoch 88/100\n",
      "2/2 [==============================] - 0s 3ms/step - loss: 10.6583 - mae: 10.6583\n",
      "Epoch 89/100\n",
      "2/2 [==============================] - 0s 3ms/step - loss: 7.2596 - mae: 7.2596\n",
      "Epoch 90/100\n",
      "2/2 [==============================] - 0s 3ms/step - loss: 12.8015 - mae: 12.8015\n",
      "Epoch 91/100\n",
      "2/2 [==============================] - 0s 3ms/step - loss: 7.4736 - mae: 7.4736\n",
      "Epoch 92/100\n",
      "2/2 [==============================] - 0s 2ms/step - loss: 6.7420 - mae: 6.7420\n",
      "Epoch 93/100\n",
      "2/2 [==============================] - 0s 2ms/step - loss: 11.9506 - mae: 11.9506\n",
      "Epoch 94/100\n",
      "2/2 [==============================] - 0s 2ms/step - loss: 8.8792 - mae: 8.8792\n",
      "Epoch 95/100\n",
      "2/2 [==============================] - 0s 3ms/step - loss: 7.7153 - mae: 7.7153\n",
      "Epoch 96/100\n",
      "2/2 [==============================] - 0s 2ms/step - loss: 6.7423 - mae: 6.7423\n",
      "Epoch 97/100\n",
      "2/2 [==============================] - 0s 2ms/step - loss: 8.6320 - mae: 8.6320\n",
      "Epoch 98/100\n",
      "2/2 [==============================] - 0s 3ms/step - loss: 9.3791 - mae: 9.3791\n",
      "Epoch 99/100\n",
      "2/2 [==============================] - 0s 3ms/step - loss: 9.1160 - mae: 9.1160\n",
      "Epoch 100/100\n",
      "2/2 [==============================] - 0s 3ms/step - loss: 10.4704 - mae: 10.4704\n"
     ]
    },
    {
     "data": {
      "text/plain": "<keras.src.callbacks.History at 0x7fa261065c00>"
     },
     "execution_count": 35,
     "metadata": {},
     "output_type": "execute_result"
    }
   ],
   "source": [
    "# set random seed\n",
    "tf.random.set_seed(42)\n",
    "\n",
    "# 1. Create the model\n",
    "model_1 = tf.keras.Sequential([\n",
    "    tf.keras.layers.Dense(1)\n",
    "])\n",
    "\n",
    "# 2. Compile the model\n",
    "model_1.compile(loss=tf.keras.losses.mae,\n",
    "                optimizer=tf.keras.optimizers.SGD(),\n",
    "                metrics=[\"mae\"])\n",
    "\n",
    "# 3. Fit the model\n",
    "model_1.fit(tf.expand_dims(X_train, axis=-1), y_train, epochs=100)"
   ],
   "metadata": {
    "collapsed": false,
    "ExecuteTime": {
     "end_time": "2023-10-23T14:18:15.504648403Z",
     "start_time": "2023-10-23T14:18:14.071424294Z"
    }
   },
   "id": "de29a3e325a496df"
  },
  {
   "cell_type": "code",
   "execution_count": 36,
   "outputs": [
    {
     "name": "stdout",
     "output_type": "stream",
     "text": [
      "1/1 [==============================] - 0s 29ms/step\n"
     ]
    },
    {
     "data": {
      "text/plain": "<Figure size 1000x700 with 1 Axes>",
      "image/png": "[encoded data removed]"
     },
     "metadata": {},
     "output_type": "display_data"
    }
   ],
   "source": [
    "# Make and plot predictions for model_1\n",
    "y_preds_1 = model_1.predict(X_test)\n",
    "plot_predictions(predictions=y_preds_1)"
   ],
   "metadata": {
    "collapsed": false,
    "ExecuteTime": {
     "end_time": "2023-10-23T14:18:16.172385879Z",
     "start_time": "2023-10-23T14:18:14.929715345Z"
    }
   },
   "id": "34834412d58d2410"
  },
  {
   "cell_type": "code",
   "execution_count": 37,
   "outputs": [
    {
     "data": {
      "text/plain": "(<tf.Tensor: shape=(), dtype=float32, numpy=14.904498>,\n <tf.Tensor: shape=(), dtype=float32, numpy=222.98198>)"
     },
     "execution_count": 37,
     "metadata": {},
     "output_type": "execute_result"
    }
   ],
   "source": [
    "# Calculate model_1 evaluation metrics\n",
    "mae_1 = mae(y_test, y_preds_1)\n",
    "mse_1 = mse(y_test, y_preds_1)\n",
    "mae_1, mse_1"
   ],
   "metadata": {
    "collapsed": false,
    "ExecuteTime": {
     "end_time": "2023-10-23T14:18:16.308297023Z",
     "start_time": "2023-10-23T14:18:15.201560203Z"
    }
   },
   "id": "2c070f245c1d39e1"
  },
  {
   "cell_type": "markdown",
   "source": [
    "#### **Build `model_2`**\n",
    "\n",
    "* 2 dense layers, trained for 100 epochs"
   ],
   "metadata": {
    "collapsed": false
   },
   "id": "ea9ad305ebd263c3"
  },
  {
   "cell_type": "code",
   "execution_count": 38,
   "outputs": [
    {
     "name": "stdout",
     "output_type": "stream",
     "text": [
      "Epoch 1/100\n",
      "2/2 [==============================] - 0s 6ms/step - loss: 31.7761 - mae: 31.7761\n",
      "Epoch 2/100\n",
      "2/2 [==============================] - 0s 4ms/step - loss: 11.1378 - mae: 11.1378\n",
      "Epoch 3/100\n",
      "2/2 [==============================] - 0s 3ms/step - loss: 28.0228 - mae: 28.0228\n",
      "Epoch 4/100\n",
      "2/2 [==============================] - 0s 3ms/step - loss: 14.1033 - mae: 14.1033\n",
      "Epoch 5/100\n",
      "2/2 [==============================] - 0s 4ms/step - loss: 15.7471 - mae: 15.7471\n",
      "Epoch 6/100\n",
      "2/2 [==============================] - 0s 3ms/step - loss: 12.4903 - mae: 12.4903\n",
      "Epoch 7/100\n",
      "2/2 [==============================] - 0s 3ms/step - loss: 11.7727 - mae: 11.7727\n",
      "Epoch 8/100\n",
      "2/2 [==============================] - 0s 3ms/step - loss: 12.1550 - mae: 12.1550\n",
      "Epoch 9/100\n",
      "2/2 [==============================] - 0s 3ms/step - loss: 38.3495 - mae: 38.3495\n",
      "Epoch 10/100\n",
      "2/2 [==============================] - 0s 3ms/step - loss: 25.8844 - mae: 25.8844\n",
      "Epoch 11/100\n",
      "2/2 [==============================] - 0s 4ms/step - loss: 10.2446 - mae: 10.2446\n",
      "Epoch 12/100\n",
      "2/2 [==============================] - 0s 3ms/step - loss: 25.2219 - mae: 25.2219\n",
      "Epoch 13/100\n",
      "2/2 [==============================] - 0s 2ms/step - loss: 17.6108 - mae: 17.6108\n",
      "Epoch 14/100\n",
      "2/2 [==============================] - 0s 3ms/step - loss: 23.7824 - mae: 23.7824\n",
      "Epoch 15/100\n",
      "2/2 [==============================] - 0s 3ms/step - loss: 15.8198 - mae: 15.8198\n",
      "Epoch 16/100\n",
      "2/2 [==============================] - 0s 3ms/step - loss: 10.4491 - mae: 10.4491\n",
      "Epoch 17/100\n",
      "2/2 [==============================] - 0s 2ms/step - loss: 19.7493 - mae: 19.7493\n",
      "Epoch 18/100\n",
      "2/2 [==============================] - 0s 2ms/step - loss: 13.3657 - mae: 13.3657\n",
      "Epoch 19/100\n",
      "2/2 [==============================] - 0s 3ms/step - loss: 16.3877 - mae: 16.3877\n",
      "Epoch 20/100\n",
      "2/2 [==============================] - 0s 3ms/step - loss: 8.2393 - mae: 8.2393\n",
      "Epoch 21/100\n",
      "2/2 [==============================] - 0s 2ms/step - loss: 14.4479 - mae: 14.4479\n",
      "Epoch 22/100\n",
      "2/2 [==============================] - 0s 2ms/step - loss: 12.8676 - mae: 12.8676\n",
      "Epoch 23/100\n",
      "2/2 [==============================] - 0s 2ms/step - loss: 15.4969 - mae: 15.4969\n",
      "Epoch 24/100\n",
      "2/2 [==============================] - 0s 2ms/step - loss: 15.2881 - mae: 15.2881\n",
      "Epoch 25/100\n",
      "2/2 [==============================] - 0s 3ms/step - loss: 14.3495 - mae: 14.3495\n",
      "Epoch 26/100\n",
      "2/2 [==============================] - 0s 3ms/step - loss: 19.3702 - mae: 19.3702\n",
      "Epoch 27/100\n",
      "2/2 [==============================] - 0s 3ms/step - loss: 11.4286 - mae: 11.4286\n",
      "Epoch 28/100\n",
      "2/2 [==============================] - 0s 3ms/step - loss: 29.0135 - mae: 29.0135\n",
      "Epoch 29/100\n",
      "2/2 [==============================] - 0s 3ms/step - loss: 9.2415 - mae: 9.2415\n",
      "Epoch 30/100\n",
      "2/2 [==============================] - 0s 3ms/step - loss: 29.7710 - mae: 29.7710\n",
      "Epoch 31/100\n",
      "2/2 [==============================] - 0s 3ms/step - loss: 54.0099 - mae: 54.0099\n",
      "Epoch 32/100\n",
      "2/2 [==============================] - 0s 2ms/step - loss: 9.5452 - mae: 9.5452\n",
      "Epoch 33/100\n",
      "2/2 [==============================] - 0s 3ms/step - loss: 12.1350 - mae: 12.1350\n",
      "Epoch 34/100\n",
      "2/2 [==============================] - 0s 2ms/step - loss: 23.8282 - mae: 23.8282\n",
      "Epoch 35/100\n",
      "2/2 [==============================] - 0s 3ms/step - loss: 12.6257 - mae: 12.6257\n",
      "Epoch 36/100\n",
      "2/2 [==============================] - 0s 2ms/step - loss: 21.5547 - mae: 21.5547\n",
      "Epoch 37/100\n",
      "2/2 [==============================] - 0s 2ms/step - loss: 11.3475 - mae: 11.3475\n",
      "Epoch 38/100\n",
      "2/2 [==============================] - 0s 2ms/step - loss: 13.4210 - mae: 13.4210\n",
      "Epoch 39/100\n",
      "2/2 [==============================] - 0s 3ms/step - loss: 10.7635 - mae: 10.7635\n",
      "Epoch 40/100\n",
      "2/2 [==============================] - 0s 3ms/step - loss: 16.5465 - mae: 16.5465\n",
      "Epoch 41/100\n",
      "2/2 [==============================] - 0s 3ms/step - loss: 10.9404 - mae: 10.9404\n",
      "Epoch 42/100\n",
      "2/2 [==============================] - 0s 3ms/step - loss: 9.2752 - mae: 9.2752\n",
      "Epoch 43/100\n",
      "2/2 [==============================] - 0s 3ms/step - loss: 9.5795 - mae: 9.5795\n",
      "Epoch 44/100\n",
      "2/2 [==============================] - 0s 3ms/step - loss: 27.9405 - mae: 27.9405\n",
      "Epoch 45/100\n",
      "2/2 [==============================] - 0s 3ms/step - loss: 11.2613 - mae: 11.2613\n",
      "Epoch 46/100\n",
      "2/2 [==============================] - 0s 3ms/step - loss: 14.0323 - mae: 14.0323\n",
      "Epoch 47/100\n",
      "2/2 [==============================] - 0s 3ms/step - loss: 13.5095 - mae: 13.5095\n",
      "Epoch 48/100\n",
      "2/2 [==============================] - 0s 3ms/step - loss: 17.3498 - mae: 17.3498\n",
      "Epoch 49/100\n",
      "2/2 [==============================] - 0s 3ms/step - loss: 9.4987 - mae: 9.4987\n",
      "Epoch 50/100\n",
      "2/2 [==============================] - 0s 3ms/step - loss: 13.6826 - mae: 13.6826\n",
      "Epoch 51/100\n",
      "2/2 [==============================] - 0s 3ms/step - loss: 11.5462 - mae: 11.5462\n",
      "Epoch 52/100\n",
      "2/2 [==============================] - 0s 3ms/step - loss: 30.1972 - mae: 30.1972\n",
      "Epoch 53/100\n",
      "2/2 [==============================] - 0s 3ms/step - loss: 13.7162 - mae: 13.7162\n",
      "Epoch 54/100\n",
      "2/2 [==============================] - 0s 3ms/step - loss: 26.4213 - mae: 26.4213\n",
      "Epoch 55/100\n",
      "2/2 [==============================] - 0s 3ms/step - loss: 26.0077 - mae: 26.0077\n",
      "Epoch 56/100\n",
      "2/2 [==============================] - 0s 3ms/step - loss: 11.2233 - mae: 11.2233\n",
      "Epoch 57/100\n",
      "2/2 [==============================] - 0s 3ms/step - loss: 13.2021 - mae: 13.2021\n",
      "Epoch 58/100\n",
      "2/2 [==============================] - 0s 3ms/step - loss: 9.8585 - mae: 9.8585\n",
      "Epoch 59/100\n",
      "2/2 [==============================] - 0s 3ms/step - loss: 13.4007 - mae: 13.4007\n",
      "Epoch 60/100\n",
      "2/2 [==============================] - 0s 2ms/step - loss: 10.9255 - mae: 10.9255\n",
      "Epoch 61/100\n",
      "2/2 [==============================] - 0s 2ms/step - loss: 13.5532 - mae: 13.5532\n",
      "Epoch 62/100\n",
      "2/2 [==============================] - 0s 3ms/step - loss: 17.8856 - mae: 17.8856\n",
      "Epoch 63/100\n",
      "2/2 [==============================] - 0s 3ms/step - loss: 8.7302 - mae: 8.7302\n",
      "Epoch 64/100\n",
      "2/2 [==============================] - 0s 3ms/step - loss: 16.1426 - mae: 16.1426\n",
      "Epoch 65/100\n",
      "2/2 [==============================] - 0s 2ms/step - loss: 10.7399 - mae: 10.7399\n",
      "Epoch 66/100\n",
      "2/2 [==============================] - 0s 3ms/step - loss: 22.2068 - mae: 22.2068\n",
      "Epoch 67/100\n",
      "2/2 [==============================] - 0s 3ms/step - loss: 10.2652 - mae: 10.2652\n",
      "Epoch 68/100\n",
      "2/2 [==============================] - 0s 4ms/step - loss: 13.4800 - mae: 13.4800\n",
      "Epoch 69/100\n",
      "2/2 [==============================] - 0s 2ms/step - loss: 11.4350 - mae: 11.4350\n",
      "Epoch 70/100\n",
      "2/2 [==============================] - 0s 2ms/step - loss: 13.6217 - mae: 13.6217\n",
      "Epoch 71/100\n",
      "2/2 [==============================] - 0s 3ms/step - loss: 15.6475 - mae: 15.6475\n",
      "Epoch 72/100\n",
      "2/2 [==============================] - 0s 3ms/step - loss: 11.8572 - mae: 11.8572\n",
      "Epoch 73/100\n",
      "2/2 [==============================] - 0s 3ms/step - loss: 16.6491 - mae: 16.6491\n",
      "Epoch 74/100\n",
      "2/2 [==============================] - 0s 3ms/step - loss: 24.2054 - mae: 24.2054\n",
      "Epoch 75/100\n",
      "2/2 [==============================] - 0s 4ms/step - loss: 9.6385 - mae: 9.6385\n",
      "Epoch 76/100\n",
      "2/2 [==============================] - 0s 3ms/step - loss: 12.4942 - mae: 12.4942\n",
      "Epoch 77/100\n",
      "2/2 [==============================] - 0s 3ms/step - loss: 16.7636 - mae: 16.7636\n",
      "Epoch 78/100\n",
      "2/2 [==============================] - 0s 3ms/step - loss: 9.0828 - mae: 9.0828\n",
      "Epoch 79/100\n",
      "2/2 [==============================] - 0s 3ms/step - loss: 24.1054 - mae: 24.1054\n",
      "Epoch 80/100\n",
      "2/2 [==============================] - 0s 3ms/step - loss: 26.9132 - mae: 26.9132\n",
      "Epoch 81/100\n",
      "2/2 [==============================] - 0s 2ms/step - loss: 11.7543 - mae: 11.7543\n",
      "Epoch 82/100\n",
      "2/2 [==============================] - 0s 3ms/step - loss: 11.9803 - mae: 11.9803\n",
      "Epoch 83/100\n",
      "2/2 [==============================] - 0s 3ms/step - loss: 17.3626 - mae: 17.3626\n",
      "Epoch 84/100\n",
      "2/2 [==============================] - 0s 3ms/step - loss: 7.2591 - mae: 7.2591\n",
      "Epoch 85/100\n",
      "2/2 [==============================] - 0s 4ms/step - loss: 14.9222 - mae: 14.9222\n",
      "Epoch 86/100\n",
      "2/2 [==============================] - 0s 2ms/step - loss: 15.2529 - mae: 15.2529\n",
      "Epoch 87/100\n",
      "2/2 [==============================] - 0s 3ms/step - loss: 19.0381 - mae: 19.0381\n",
      "Epoch 88/100\n",
      "2/2 [==============================] - 0s 2ms/step - loss: 30.0094 - mae: 30.0094\n",
      "Epoch 89/100\n",
      "2/2 [==============================] - 0s 3ms/step - loss: 10.2090 - mae: 10.2090\n",
      "Epoch 90/100\n",
      "2/2 [==============================] - 0s 3ms/step - loss: 21.6748 - mae: 21.6748\n",
      "Epoch 91/100\n",
      "2/2 [==============================] - 0s 3ms/step - loss: 10.6147 - mae: 10.6147\n",
      "Epoch 92/100\n",
      "2/2 [==============================] - 0s 3ms/step - loss: 18.5320 - mae: 18.5320\n",
      "Epoch 93/100\n",
      "2/2 [==============================] - 0s 2ms/step - loss: 8.1656 - mae: 8.1656\n",
      "Epoch 94/100\n",
      "2/2 [==============================] - 0s 2ms/step - loss: 11.3770 - mae: 11.3770\n",
      "Epoch 95/100\n",
      "2/2 [==============================] - 0s 2ms/step - loss: 25.4548 - mae: 25.4548\n",
      "Epoch 96/100\n",
      "2/2 [==============================] - 0s 2ms/step - loss: 10.9978 - mae: 10.9978\n",
      "Epoch 97/100\n",
      "2/2 [==============================] - 0s 3ms/step - loss: 16.3182 - mae: 16.3182\n",
      "Epoch 98/100\n",
      "2/2 [==============================] - 0s 2ms/step - loss: 6.8427 - mae: 6.8427\n",
      "Epoch 99/100\n",
      "2/2 [==============================] - 0s 2ms/step - loss: 11.6982 - mae: 11.6982\n",
      "Epoch 100/100\n",
      "2/2 [==============================] - 0s 2ms/step - loss: 23.5226 - mae: 23.5226\n"
     ]
    },
    {
     "data": {
      "text/plain": "<keras.src.callbacks.History at 0x7fa207ff3d00>"
     },
     "execution_count": 38,
     "metadata": {},
     "output_type": "execute_result"
    }
   ],
   "source": [
    "# Set the random seed\n",
    "tf.random.set_seed(42)\n",
    "\n",
    "# 1. Create the model\n",
    "model_2 = tf.keras.Sequential([\n",
    "    tf.keras.layers.Dense(10),\n",
    "    tf.keras.layers.Dense(1)\n",
    "])\n",
    "\n",
    "# 2. Compile the model\n",
    "model_2.compile(loss=tf.keras.losses.mae,\n",
    "                optimizer=tf.keras.optimizers.SGD(),\n",
    "                metrics=[\"mae\"])\n",
    "\n",
    "# 3. Fit the model\n",
    "model_2.fit(tf.expand_dims(X_train, axis=-1), y_train, epochs=100)"
   ],
   "metadata": {
    "collapsed": false,
    "ExecuteTime": {
     "end_time": "2023-10-23T14:18:17.112801865Z",
     "start_time": "2023-10-23T14:18:15.201757986Z"
    }
   },
   "id": "24589cd27cc1ef3d"
  },
  {
   "cell_type": "code",
   "execution_count": 39,
   "outputs": [
    {
     "name": "stdout",
     "output_type": "stream",
     "text": [
      "WARNING:tensorflow:5 out of the last 5 calls to <function Model.make_predict_function.<locals>.predict_function at 0x7fa207f9beb0> triggered tf.function retracing. Tracing is expensive and the excessive number of tracings could be due to (1) creating @tf.function repeatedly in a loop, (2) passing tensors with different shapes, (3) passing Python objects instead of tensors. For (1), please define your @tf.function outside of the loop. For (2), @tf.function has reduce_retracing=True option that can avoid unnecessary retracing. For (3), please refer to https://www.tensorflow.org/guide/function#controlling_retracing and https://www.tensorflow.org/api_docs/python/tf/function for  more details.\n",
      "1/1 [==============================] - 0s 34ms/step\n"
     ]
    },
    {
     "data": {
      "text/plain": "<Figure size 1000x700 with 1 Axes>",
      "image/png": "[encoded data removed]"
     },
     "metadata": {},
     "output_type": "display_data"
    }
   ],
   "source": [
    "# Make and plot predictions of model 2\n",
    "y_preds_2 = model_2.predict(X_test)\n",
    "plot_predictions(predictions=y_preds_2)"
   ],
   "metadata": {
    "collapsed": false,
    "ExecuteTime": {
     "end_time": "2023-10-23T14:18:17.199283398Z",
     "start_time": "2023-10-23T14:18:16.055322956Z"
    }
   },
   "id": "b25b6d218b74f897"
  },
  {
   "cell_type": "code",
   "execution_count": 40,
   "outputs": [
    {
     "data": {
      "text/plain": "(<tf.Tensor: shape=(), dtype=float32, numpy=26.21203>,\n <tf.Tensor: shape=(), dtype=float32, numpy=712.71497>)"
     },
     "execution_count": 40,
     "metadata": {},
     "output_type": "execute_result"
    }
   ],
   "source": [
    "# Calculate model_2 evaluation metrics\n",
    "mae_2 = mae(y_test, y_preds_2)\n",
    "mse_2 = mse(y_test, y_preds_2)\n",
    "mae_2, mse_2"
   ],
   "metadata": {
    "collapsed": false,
    "ExecuteTime": {
     "end_time": "2023-10-23T14:18:17.200621233Z",
     "start_time": "2023-10-23T14:18:16.318532129Z"
    }
   },
   "id": "b96febeefdeda641"
  },
  {
   "cell_type": "markdown",
   "source": [
    "#### **Build `model_3`**\n",
    "\n",
    "* 2 layers, trained for 500 epochs."
   ],
   "metadata": {
    "collapsed": false
   },
   "id": "a583dda60e46e109"
  },
  {
   "cell_type": "code",
   "execution_count": 41,
   "outputs": [
    {
     "name": "stdout",
     "output_type": "stream",
     "text": [
      "Epoch 1/500\n",
      "2/2 [==============================] - 0s 5ms/step - loss: 45.3608 - mae: 45.3608\n",
      "Epoch 2/500\n",
      "2/2 [==============================] - 0s 3ms/step - loss: 30.4414 - mae: 30.4414\n",
      "Epoch 3/500\n",
      "2/2 [==============================] - 0s 2ms/step - loss: 35.6447 - mae: 35.6447\n",
      "Epoch 4/500\n",
      "2/2 [==============================] - 0s 3ms/step - loss: 26.7993 - mae: 26.7993\n",
      "Epoch 5/500\n",
      "2/2 [==============================] - 0s 3ms/step - loss: 14.6685 - mae: 14.6685\n",
      "Epoch 6/500\n",
      "2/2 [==============================] - 0s 3ms/step - loss: 11.6992 - mae: 11.6992\n",
      "Epoch 7/500\n",
      "2/2 [==============================] - 0s 4ms/step - loss: 12.7746 - mae: 12.7746\n",
      "Epoch 8/500\n",
      "2/2 [==============================] - 0s 3ms/step - loss: 11.0833 - mae: 11.0833\n",
      "Epoch 9/500\n",
      "2/2 [==============================] - 0s 2ms/step - loss: 40.1885 - mae: 40.1885\n",
      "Epoch 10/500\n",
      "2/2 [==============================] - 0s 4ms/step - loss: 27.6177 - mae: 27.6177\n",
      "Epoch 11/500\n",
      "2/2 [==============================] - 0s 4ms/step - loss: 10.2515 - mae: 10.2515\n",
      "Epoch 12/500\n",
      "2/2 [==============================] - 0s 3ms/step - loss: 25.3880 - mae: 25.3880\n",
      "Epoch 13/500\n",
      "2/2 [==============================] - 0s 2ms/step - loss: 16.8770 - mae: 16.8770\n",
      "Epoch 14/500\n",
      "2/2 [==============================] - 0s 2ms/step - loss: 25.7144 - mae: 25.7144\n",
      "Epoch 15/500\n",
      "2/2 [==============================] - 0s 3ms/step - loss: 17.5754 - mae: 17.5754\n",
      "Epoch 16/500\n",
      "2/2 [==============================] - 0s 3ms/step - loss: 10.0478 - mae: 10.0478\n",
      "Epoch 17/500\n",
      "2/2 [==============================] - 0s 2ms/step - loss: 18.5884 - mae: 18.5884\n",
      "Epoch 18/500\n",
      "2/2 [==============================] - 0s 2ms/step - loss: 11.7461 - mae: 11.7461\n",
      "Epoch 19/500\n",
      "2/2 [==============================] - 0s 3ms/step - loss: 16.4049 - mae: 16.4049\n",
      "Epoch 20/500\n",
      "2/2 [==============================] - 0s 3ms/step - loss: 8.2464 - mae: 8.2464\n",
      "Epoch 21/500\n",
      "2/2 [==============================] - 0s 3ms/step - loss: 14.4494 - mae: 14.4494\n",
      "Epoch 22/500\n",
      "2/2 [==============================] - 0s 2ms/step - loss: 12.8676 - mae: 12.8676\n",
      "Epoch 23/500\n",
      "2/2 [==============================] - 0s 3ms/step - loss: 15.5006 - mae: 15.5006\n",
      "Epoch 24/500\n",
      "2/2 [==============================] - 0s 3ms/step - loss: 15.2917 - mae: 15.2917\n",
      "Epoch 25/500\n",
      "2/2 [==============================] - 0s 2ms/step - loss: 14.3558 - mae: 14.3558\n",
      "Epoch 26/500\n",
      "2/2 [==============================] - 0s 3ms/step - loss: 19.3766 - mae: 19.3766\n",
      "Epoch 27/500\n",
      "2/2 [==============================] - 0s 3ms/step - loss: 11.4351 - mae: 11.4351\n",
      "Epoch 28/500\n",
      "2/2 [==============================] - 0s 3ms/step - loss: 28.9928 - mae: 28.9928\n",
      "Epoch 29/500\n",
      "2/2 [==============================] - 0s 2ms/step - loss: 9.2496 - mae: 9.2496\n",
      "Epoch 30/500\n",
      "2/2 [==============================] - 0s 3ms/step - loss: 29.7500 - mae: 29.7500\n",
      "Epoch 31/500\n",
      "2/2 [==============================] - 0s 3ms/step - loss: 53.9701 - mae: 53.9701\n",
      "Epoch 32/500\n",
      "2/2 [==============================] - 0s 2ms/step - loss: 9.5485 - mae: 9.5485\n",
      "Epoch 33/500\n",
      "2/2 [==============================] - 0s 2ms/step - loss: 12.1368 - mae: 12.1368\n",
      "Epoch 34/500\n",
      "2/2 [==============================] - 0s 2ms/step - loss: 23.7950 - mae: 23.7950\n",
      "Epoch 35/500\n",
      "2/2 [==============================] - 0s 2ms/step - loss: 12.6374 - mae: 12.6374\n",
      "Epoch 36/500\n",
      "2/2 [==============================] - 0s 2ms/step - loss: 21.5715 - mae: 21.5715\n",
      "Epoch 37/500\n",
      "2/2 [==============================] - 0s 2ms/step - loss: 11.3425 - mae: 11.3425\n",
      "Epoch 38/500\n",
      "2/2 [==============================] - 0s 3ms/step - loss: 13.4023 - mae: 13.4023\n",
      "Epoch 39/500\n",
      "2/2 [==============================] - 0s 2ms/step - loss: 10.7589 - mae: 10.7589\n",
      "Epoch 40/500\n",
      "2/2 [==============================] - 0s 3ms/step - loss: 16.5080 - mae: 16.5080\n",
      "Epoch 41/500\n",
      "2/2 [==============================] - 0s 3ms/step - loss: 10.9269 - mae: 10.9269\n",
      "Epoch 42/500\n",
      "2/2 [==============================] - 0s 2ms/step - loss: 9.2649 - mae: 9.2649\n",
      "Epoch 43/500\n",
      "2/2 [==============================] - 0s 2ms/step - loss: 9.5813 - mae: 9.5813\n",
      "Epoch 44/500\n",
      "2/2 [==============================] - 0s 2ms/step - loss: 27.8550 - mae: 27.8550\n",
      "Epoch 45/500\n",
      "2/2 [==============================] - 0s 2ms/step - loss: 11.2464 - mae: 11.2464\n",
      "Epoch 46/500\n",
      "2/2 [==============================] - 0s 3ms/step - loss: 13.8229 - mae: 13.8229\n",
      "Epoch 47/500\n",
      "2/2 [==============================] - 0s 3ms/step - loss: 11.9330 - mae: 11.9330\n",
      "Epoch 48/500\n",
      "2/2 [==============================] - 0s 3ms/step - loss: 16.9755 - mae: 16.9755\n",
      "Epoch 49/500\n",
      "2/2 [==============================] - 0s 3ms/step - loss: 9.7590 - mae: 9.7590\n",
      "Epoch 50/500\n",
      "2/2 [==============================] - 0s 3ms/step - loss: 14.1401 - mae: 14.1401\n",
      "Epoch 51/500\n",
      "2/2 [==============================] - 0s 3ms/step - loss: 11.7251 - mae: 11.7251\n",
      "Epoch 52/500\n",
      "2/2 [==============================] - 0s 2ms/step - loss: 31.3197 - mae: 31.3197\n",
      "Epoch 53/500\n",
      "2/2 [==============================] - 0s 2ms/step - loss: 14.6949 - mae: 14.6949\n",
      "Epoch 54/500\n",
      "2/2 [==============================] - 0s 2ms/step - loss: 24.5627 - mae: 24.5627\n",
      "Epoch 55/500\n",
      "2/2 [==============================] - 0s 3ms/step - loss: 23.8408 - mae: 23.8408\n",
      "Epoch 56/500\n",
      "2/2 [==============================] - 0s 2ms/step - loss: 11.1013 - mae: 11.1013\n",
      "Epoch 57/500\n",
      "2/2 [==============================] - 0s 2ms/step - loss: 13.0335 - mae: 13.0335\n",
      "Epoch 58/500\n",
      "2/2 [==============================] - 0s 2ms/step - loss: 9.7649 - mae: 9.7649\n",
      "Epoch 59/500\n",
      "2/2 [==============================] - 0s 3ms/step - loss: 13.2096 - mae: 13.2096\n",
      "Epoch 60/500\n",
      "2/2 [==============================] - 0s 2ms/step - loss: 10.8153 - mae: 10.8153\n",
      "Epoch 61/500\n",
      "2/2 [==============================] - 0s 3ms/step - loss: 13.3905 - mae: 13.3905\n",
      "Epoch 62/500\n",
      "2/2 [==============================] - 0s 3ms/step - loss: 17.3401 - mae: 17.3401\n",
      "Epoch 63/500\n",
      "2/2 [==============================] - 0s 2ms/step - loss: 9.1255 - mae: 9.1255\n",
      "Epoch 64/500\n",
      "2/2 [==============================] - 0s 2ms/step - loss: 17.9619 - mae: 17.9619\n",
      "Epoch 65/500\n",
      "2/2 [==============================] - 0s 3ms/step - loss: 10.6105 - mae: 10.6105\n",
      "Epoch 66/500\n",
      "2/2 [==============================] - 0s 3ms/step - loss: 21.4844 - mae: 21.4844\n",
      "Epoch 67/500\n",
      "2/2 [==============================] - 0s 3ms/step - loss: 10.6225 - mae: 10.6225\n",
      "Epoch 68/500\n",
      "2/2 [==============================] - 0s 3ms/step - loss: 14.8672 - mae: 14.8672\n",
      "Epoch 69/500\n",
      "2/2 [==============================] - 0s 3ms/step - loss: 10.7691 - mae: 10.7691\n",
      "Epoch 70/500\n",
      "2/2 [==============================] - 0s 3ms/step - loss: 12.8706 - mae: 12.8706\n",
      "Epoch 71/500\n",
      "2/2 [==============================] - 0s 4ms/step - loss: 13.2921 - mae: 13.2921\n",
      "Epoch 72/500\n",
      "2/2 [==============================] - 0s 3ms/step - loss: 20.1534 - mae: 20.1534\n",
      "Epoch 73/500\n",
      "2/2 [==============================] - 0s 3ms/step - loss: 9.7315 - mae: 9.7315\n",
      "Epoch 74/500\n",
      "2/2 [==============================] - 0s 4ms/step - loss: 27.4670 - mae: 27.4670\n",
      "Epoch 75/500\n",
      "2/2 [==============================] - 0s 3ms/step - loss: 10.0198 - mae: 10.0198\n",
      "Epoch 76/500\n",
      "2/2 [==============================] - 0s 2ms/step - loss: 12.9402 - mae: 12.9402\n",
      "Epoch 77/500\n",
      "2/2 [==============================] - 0s 3ms/step - loss: 17.9520 - mae: 17.9520\n",
      "Epoch 78/500\n",
      "2/2 [==============================] - 0s 3ms/step - loss: 8.9579 - mae: 8.9579\n",
      "Epoch 79/500\n",
      "2/2 [==============================] - 0s 3ms/step - loss: 28.8067 - mae: 28.8067\n",
      "Epoch 80/500\n",
      "2/2 [==============================] - 0s 2ms/step - loss: 31.1581 - mae: 31.1581\n",
      "Epoch 81/500\n",
      "2/2 [==============================] - 0s 2ms/step - loss: 13.5735 - mae: 13.5735\n",
      "Epoch 82/500\n",
      "2/2 [==============================] - 0s 2ms/step - loss: 15.8622 - mae: 15.8622\n",
      "Epoch 83/500\n",
      "2/2 [==============================] - 0s 3ms/step - loss: 9.1289 - mae: 9.1289\n",
      "Epoch 84/500\n",
      "2/2 [==============================] - 0s 2ms/step - loss: 8.1993 - mae: 8.1993\n",
      "Epoch 85/500\n",
      "2/2 [==============================] - 0s 3ms/step - loss: 18.8739 - mae: 18.8739\n",
      "Epoch 86/500\n",
      "2/2 [==============================] - 0s 3ms/step - loss: 21.9789 - mae: 21.9789\n",
      "Epoch 87/500\n",
      "2/2 [==============================] - 0s 4ms/step - loss: 11.2081 - mae: 11.2081\n",
      "Epoch 88/500\n",
      "2/2 [==============================] - 0s 4ms/step - loss: 25.9388 - mae: 25.9388\n",
      "Epoch 89/500\n",
      "2/2 [==============================] - 0s 3ms/step - loss: 9.5157 - mae: 9.5157\n",
      "Epoch 90/500\n",
      "2/2 [==============================] - 0s 2ms/step - loss: 18.2484 - mae: 18.2484\n",
      "Epoch 91/500\n",
      "2/2 [==============================] - 0s 3ms/step - loss: 10.3198 - mae: 10.3198\n",
      "Epoch 92/500\n",
      "2/2 [==============================] - 0s 3ms/step - loss: 17.4998 - mae: 17.4998\n",
      "Epoch 93/500\n",
      "2/2 [==============================] - 0s 3ms/step - loss: 6.8197 - mae: 6.8197\n",
      "Epoch 94/500\n",
      "2/2 [==============================] - 0s 4ms/step - loss: 17.6529 - mae: 17.6529\n",
      "Epoch 95/500\n",
      "2/2 [==============================] - 0s 3ms/step - loss: 17.3672 - mae: 17.3672\n",
      "Epoch 96/500\n",
      "2/2 [==============================] - 0s 3ms/step - loss: 11.5355 - mae: 11.5355\n",
      "Epoch 97/500\n",
      "2/2 [==============================] - 0s 2ms/step - loss: 18.3067 - mae: 18.3067\n",
      "Epoch 98/500\n",
      "2/2 [==============================] - 0s 2ms/step - loss: 9.7512 - mae: 9.7512\n",
      "Epoch 99/500\n",
      "2/2 [==============================] - 0s 3ms/step - loss: 16.9386 - mae: 16.9386\n",
      "Epoch 100/500\n",
      "2/2 [==============================] - 0s 3ms/step - loss: 17.8102 - mae: 17.8102\n",
      "Epoch 101/500\n",
      "2/2 [==============================] - 0s 3ms/step - loss: 16.4798 - mae: 16.4798\n",
      "Epoch 102/500\n",
      "2/2 [==============================] - 0s 2ms/step - loss: 12.9226 - mae: 12.9226\n",
      "Epoch 103/500\n",
      "2/2 [==============================] - 0s 3ms/step - loss: 16.0759 - mae: 16.0759\n",
      "Epoch 104/500\n",
      "2/2 [==============================] - 0s 3ms/step - loss: 22.2560 - mae: 22.2560\n",
      "Epoch 105/500\n",
      "2/2 [==============================] - 0s 3ms/step - loss: 20.3192 - mae: 20.3192\n",
      "Epoch 106/500\n",
      "2/2 [==============================] - 0s 4ms/step - loss: 10.1005 - mae: 10.1005\n",
      "Epoch 107/500\n",
      "2/2 [==============================] - 0s 4ms/step - loss: 24.7791 - mae: 24.7791\n",
      "Epoch 108/500\n",
      "2/2 [==============================] - 0s 3ms/step - loss: 15.1665 - mae: 15.1665\n",
      "Epoch 109/500\n",
      "2/2 [==============================] - 0s 4ms/step - loss: 7.0654 - mae: 7.0654\n",
      "Epoch 110/500\n",
      "2/2 [==============================] - 0s 3ms/step - loss: 10.9444 - mae: 10.9444\n",
      "Epoch 111/500\n",
      "2/2 [==============================] - 0s 3ms/step - loss: 17.5401 - mae: 17.5401\n",
      "Epoch 112/500\n",
      "2/2 [==============================] - 0s 4ms/step - loss: 9.8135 - mae: 9.8135\n",
      "Epoch 113/500\n",
      "2/2 [==============================] - 0s 3ms/step - loss: 18.4531 - mae: 18.4531\n",
      "Epoch 114/500\n",
      "2/2 [==============================] - 0s 2ms/step - loss: 18.0753 - mae: 18.0753\n",
      "Epoch 115/500\n",
      "2/2 [==============================] - 0s 4ms/step - loss: 10.8009 - mae: 10.8009\n",
      "Epoch 116/500\n",
      "2/2 [==============================] - 0s 4ms/step - loss: 21.9821 - mae: 21.9821\n",
      "Epoch 117/500\n",
      "2/2 [==============================] - 0s 3ms/step - loss: 9.2234 - mae: 9.2234\n",
      "Epoch 118/500\n",
      "2/2 [==============================] - 0s 3ms/step - loss: 10.2246 - mae: 10.2246\n",
      "Epoch 119/500\n",
      "2/2 [==============================] - 0s 4ms/step - loss: 8.0345 - mae: 8.0345\n",
      "Epoch 120/500\n",
      "2/2 [==============================] - 0s 3ms/step - loss: 46.4283 - mae: 46.4283\n",
      "Epoch 121/500\n",
      "2/2 [==============================] - 0s 3ms/step - loss: 12.1345 - mae: 12.1345\n",
      "Epoch 122/500\n",
      "2/2 [==============================] - 0s 3ms/step - loss: 23.1362 - mae: 23.1362\n",
      "Epoch 123/500\n",
      "2/2 [==============================] - 0s 3ms/step - loss: 27.8862 - mae: 27.8862\n",
      "Epoch 124/500\n",
      "2/2 [==============================] - 0s 3ms/step - loss: 15.6288 - mae: 15.6288\n",
      "Epoch 125/500\n",
      "2/2 [==============================] - 0s 3ms/step - loss: 8.3990 - mae: 8.3990\n",
      "Epoch 126/500\n",
      "2/2 [==============================] - 0s 4ms/step - loss: 11.2527 - mae: 11.2527\n",
      "Epoch 127/500\n",
      "2/2 [==============================] - 0s 3ms/step - loss: 17.5175 - mae: 17.5175\n",
      "Epoch 128/500\n",
      "2/2 [==============================] - 0s 3ms/step - loss: 11.0373 - mae: 11.0373\n",
      "Epoch 129/500\n",
      "2/2 [==============================] - 0s 4ms/step - loss: 19.6686 - mae: 19.6686\n",
      "Epoch 130/500\n",
      "2/2 [==============================] - 0s 3ms/step - loss: 10.1892 - mae: 10.1892\n",
      "Epoch 131/500\n",
      "2/2 [==============================] - 0s 3ms/step - loss: 21.3144 - mae: 21.3144\n",
      "Epoch 132/500\n",
      "2/2 [==============================] - 0s 3ms/step - loss: 8.2233 - mae: 8.2233\n",
      "Epoch 133/500\n",
      "2/2 [==============================] - 0s 3ms/step - loss: 9.0081 - mae: 9.0081\n",
      "Epoch 134/500\n",
      "2/2 [==============================] - 0s 3ms/step - loss: 16.3737 - mae: 16.3737\n",
      "Epoch 135/500\n",
      "2/2 [==============================] - 0s 4ms/step - loss: 11.3074 - mae: 11.3074\n",
      "Epoch 136/500\n",
      "2/2 [==============================] - 0s 4ms/step - loss: 20.3049 - mae: 20.3049\n",
      "Epoch 137/500\n",
      "2/2 [==============================] - 0s 5ms/step - loss: 23.7654 - mae: 23.7654\n",
      "Epoch 138/500\n",
      "2/2 [==============================] - 0s 3ms/step - loss: 9.4054 - mae: 9.4054\n",
      "Epoch 139/500\n",
      "2/2 [==============================] - 0s 4ms/step - loss: 9.0980 - mae: 9.0980\n",
      "Epoch 140/500\n",
      "2/2 [==============================] - 0s 4ms/step - loss: 17.1308 - mae: 17.1308\n",
      "Epoch 141/500\n",
      "2/2 [==============================] - 0s 3ms/step - loss: 8.3665 - mae: 8.3665\n",
      "Epoch 142/500\n",
      "2/2 [==============================] - 0s 5ms/step - loss: 34.2437 - mae: 34.2437\n",
      "Epoch 143/500\n",
      "2/2 [==============================] - 0s 3ms/step - loss: 23.2876 - mae: 23.2876\n",
      "Epoch 144/500\n",
      "2/2 [==============================] - 0s 3ms/step - loss: 10.4965 - mae: 10.4965\n",
      "Epoch 145/500\n",
      "2/2 [==============================] - 0s 3ms/step - loss: 25.8625 - mae: 25.8625\n",
      "Epoch 146/500\n",
      "2/2 [==============================] - 0s 3ms/step - loss: 9.9281 - mae: 9.9281\n",
      "Epoch 147/500\n",
      "2/2 [==============================] - 0s 2ms/step - loss: 14.7592 - mae: 14.7592\n",
      "Epoch 148/500\n",
      "2/2 [==============================] - 0s 3ms/step - loss: 17.8795 - mae: 17.8795\n",
      "Epoch 149/500\n",
      "2/2 [==============================] - 0s 2ms/step - loss: 8.4366 - mae: 8.4366\n",
      "Epoch 150/500\n",
      "2/2 [==============================] - 0s 2ms/step - loss: 7.6220 - mae: 7.6220\n",
      "Epoch 151/500\n",
      "2/2 [==============================] - 0s 3ms/step - loss: 18.7718 - mae: 18.7718\n",
      "Epoch 152/500\n",
      "2/2 [==============================] - 0s 3ms/step - loss: 10.4559 - mae: 10.4559\n",
      "Epoch 153/500\n",
      "2/2 [==============================] - 0s 3ms/step - loss: 30.2519 - mae: 30.2519\n",
      "Epoch 154/500\n",
      "2/2 [==============================] - 0s 3ms/step - loss: 10.0189 - mae: 10.0189\n",
      "Epoch 155/500\n",
      "2/2 [==============================] - 0s 3ms/step - loss: 15.7684 - mae: 15.7684\n",
      "Epoch 156/500\n",
      "2/2 [==============================] - 0s 3ms/step - loss: 17.7114 - mae: 17.7114\n",
      "Epoch 157/500\n",
      "2/2 [==============================] - 0s 2ms/step - loss: 31.0072 - mae: 31.0072\n",
      "Epoch 158/500\n",
      "2/2 [==============================] - 0s 3ms/step - loss: 10.1947 - mae: 10.1947\n",
      "Epoch 159/500\n",
      "2/2 [==============================] - 0s 4ms/step - loss: 8.6861 - mae: 8.6861\n",
      "Epoch 160/500\n",
      "2/2 [==============================] - 0s 3ms/step - loss: 20.6689 - mae: 20.6689\n",
      "Epoch 161/500\n",
      "2/2 [==============================] - 0s 3ms/step - loss: 11.7894 - mae: 11.7894\n",
      "Epoch 162/500\n",
      "2/2 [==============================] - 0s 3ms/step - loss: 21.6466 - mae: 21.6466\n",
      "Epoch 163/500\n",
      "2/2 [==============================] - 0s 3ms/step - loss: 19.3246 - mae: 19.3246\n",
      "Epoch 164/500\n",
      "2/2 [==============================] - 0s 3ms/step - loss: 11.0969 - mae: 11.0969\n",
      "Epoch 165/500\n",
      "2/2 [==============================] - 0s 2ms/step - loss: 9.6347 - mae: 9.6347\n",
      "Epoch 166/500\n",
      "2/2 [==============================] - 0s 2ms/step - loss: 21.5867 - mae: 21.5867\n",
      "Epoch 167/500\n",
      "2/2 [==============================] - 0s 2ms/step - loss: 26.3122 - mae: 26.3122\n",
      "Epoch 168/500\n",
      "2/2 [==============================] - 0s 3ms/step - loss: 9.9108 - mae: 9.9108\n",
      "Epoch 169/500\n",
      "2/2 [==============================] - 0s 3ms/step - loss: 22.5484 - mae: 22.5484\n",
      "Epoch 170/500\n",
      "2/2 [==============================] - 0s 3ms/step - loss: 10.1801 - mae: 10.1801\n",
      "Epoch 171/500\n",
      "2/2 [==============================] - 0s 3ms/step - loss: 18.0689 - mae: 18.0689\n",
      "Epoch 172/500\n",
      "2/2 [==============================] - 0s 4ms/step - loss: 28.7901 - mae: 28.7901\n",
      "Epoch 173/500\n",
      "2/2 [==============================] - 0s 2ms/step - loss: 16.5071 - mae: 16.5071\n",
      "Epoch 174/500\n",
      "2/2 [==============================] - 0s 2ms/step - loss: 11.2406 - mae: 11.2406\n",
      "Epoch 175/500\n",
      "2/2 [==============================] - 0s 3ms/step - loss: 27.6019 - mae: 27.6019\n",
      "Epoch 176/500\n",
      "2/2 [==============================] - 0s 2ms/step - loss: 8.2993 - mae: 8.2993\n",
      "Epoch 177/500\n",
      "2/2 [==============================] - 0s 2ms/step - loss: 9.2949 - mae: 9.2949\n",
      "Epoch 178/500\n",
      "2/2 [==============================] - 0s 3ms/step - loss: 18.0714 - mae: 18.0714\n",
      "Epoch 179/500\n",
      "2/2 [==============================] - 0s 3ms/step - loss: 10.6487 - mae: 10.6487\n",
      "Epoch 180/500\n",
      "2/2 [==============================] - 0s 3ms/step - loss: 7.9326 - mae: 7.9326\n",
      "Epoch 181/500\n",
      "2/2 [==============================] - 0s 3ms/step - loss: 17.3133 - mae: 17.3133\n",
      "Epoch 182/500\n",
      "2/2 [==============================] - 0s 3ms/step - loss: 11.0151 - mae: 11.0151\n",
      "Epoch 183/500\n",
      "2/2 [==============================] - 0s 3ms/step - loss: 11.6679 - mae: 11.6679\n",
      "Epoch 184/500\n",
      "2/2 [==============================] - 0s 3ms/step - loss: 30.2034 - mae: 30.2034\n",
      "Epoch 185/500\n",
      "2/2 [==============================] - 0s 4ms/step - loss: 8.2224 - mae: 8.2224\n",
      "Epoch 186/500\n",
      "2/2 [==============================] - 0s 3ms/step - loss: 18.7194 - mae: 18.7194\n",
      "Epoch 187/500\n",
      "2/2 [==============================] - 0s 3ms/step - loss: 8.8082 - mae: 8.8082\n",
      "Epoch 188/500\n",
      "2/2 [==============================] - 0s 4ms/step - loss: 23.7088 - mae: 23.7088\n",
      "Epoch 189/500\n",
      "2/2 [==============================] - 0s 4ms/step - loss: 9.4092 - mae: 9.4092\n",
      "Epoch 190/500\n",
      "2/2 [==============================] - 0s 3ms/step - loss: 17.0733 - mae: 17.0733\n",
      "Epoch 191/500\n",
      "2/2 [==============================] - 0s 3ms/step - loss: 8.6145 - mae: 8.6145\n",
      "Epoch 192/500\n",
      "2/2 [==============================] - 0s 3ms/step - loss: 15.1916 - mae: 15.1916\n",
      "Epoch 193/500\n",
      "2/2 [==============================] - 0s 3ms/step - loss: 30.0335 - mae: 30.0335\n",
      "Epoch 194/500\n",
      "2/2 [==============================] - 0s 3ms/step - loss: 9.6732 - mae: 9.6732\n",
      "Epoch 195/500\n",
      "2/2 [==============================] - 0s 3ms/step - loss: 12.0374 - mae: 12.0374\n",
      "Epoch 196/500\n",
      "2/2 [==============================] - 0s 3ms/step - loss: 23.4083 - mae: 23.4083\n",
      "Epoch 197/500\n",
      "2/2 [==============================] - 0s 3ms/step - loss: 17.8241 - mae: 17.8241\n",
      "Epoch 198/500\n",
      "2/2 [==============================] - 0s 3ms/step - loss: 12.6153 - mae: 12.6153\n",
      "Epoch 199/500\n",
      "2/2 [==============================] - 0s 3ms/step - loss: 18.0808 - mae: 18.0808\n",
      "Epoch 200/500\n",
      "2/2 [==============================] - 0s 3ms/step - loss: 13.9110 - mae: 13.9110\n",
      "Epoch 201/500\n",
      "2/2 [==============================] - 0s 3ms/step - loss: 6.1063 - mae: 6.1063\n",
      "Epoch 202/500\n",
      "2/2 [==============================] - 0s 3ms/step - loss: 22.8819 - mae: 22.8819\n",
      "Epoch 203/500\n",
      "2/2 [==============================] - 0s 3ms/step - loss: 9.0257 - mae: 9.0257\n",
      "Epoch 204/500\n",
      "2/2 [==============================] - 0s 3ms/step - loss: 18.8252 - mae: 18.8252\n",
      "Epoch 205/500\n",
      "2/2 [==============================] - 0s 3ms/step - loss: 9.4165 - mae: 9.4165\n",
      "Epoch 206/500\n",
      "2/2 [==============================] - 0s 2ms/step - loss: 10.4781 - mae: 10.4781\n",
      "Epoch 207/500\n",
      "2/2 [==============================] - 0s 3ms/step - loss: 21.0163 - mae: 21.0163\n",
      "Epoch 208/500\n",
      "2/2 [==============================] - 0s 3ms/step - loss: 16.4431 - mae: 16.4431\n",
      "Epoch 209/500\n",
      "2/2 [==============================] - 0s 2ms/step - loss: 14.3115 - mae: 14.3115\n",
      "Epoch 210/500\n",
      "2/2 [==============================] - 0s 2ms/step - loss: 17.2644 - mae: 17.2644\n",
      "Epoch 211/500\n",
      "2/2 [==============================] - 0s 2ms/step - loss: 10.2861 - mae: 10.2861\n",
      "Epoch 212/500\n",
      "2/2 [==============================] - 0s 2ms/step - loss: 19.7178 - mae: 19.7178\n",
      "Epoch 213/500\n",
      "2/2 [==============================] - 0s 2ms/step - loss: 14.6993 - mae: 14.6993\n",
      "Epoch 214/500\n",
      "2/2 [==============================] - 0s 2ms/step - loss: 14.3764 - mae: 14.3764\n",
      "Epoch 215/500\n",
      "2/2 [==============================] - 0s 3ms/step - loss: 22.8828 - mae: 22.8828\n",
      "Epoch 216/500\n",
      "2/2 [==============================] - 0s 2ms/step - loss: 13.8935 - mae: 13.8935\n",
      "Epoch 217/500\n",
      "2/2 [==============================] - 0s 3ms/step - loss: 10.3368 - mae: 10.3368\n",
      "Epoch 218/500\n",
      "2/2 [==============================] - 0s 2ms/step - loss: 12.2728 - mae: 12.2728\n",
      "Epoch 219/500\n",
      "2/2 [==============================] - 0s 2ms/step - loss: 6.5878 - mae: 6.5878\n",
      "Epoch 220/500\n",
      "2/2 [==============================] - 0s 2ms/step - loss: 7.1717 - mae: 7.1717\n",
      "Epoch 221/500\n",
      "2/2 [==============================] - 0s 3ms/step - loss: 37.4388 - mae: 37.4388\n",
      "Epoch 222/500\n",
      "2/2 [==============================] - 0s 3ms/step - loss: 37.2369 - mae: 37.2369\n",
      "Epoch 223/500\n",
      "2/2 [==============================] - 0s 2ms/step - loss: 6.1551 - mae: 6.1551\n",
      "Epoch 224/500\n",
      "2/2 [==============================] - 0s 2ms/step - loss: 14.5390 - mae: 14.5390\n",
      "Epoch 225/500\n",
      "2/2 [==============================] - 0s 6ms/step - loss: 16.5535 - mae: 16.5535\n",
      "Epoch 226/500\n",
      "2/2 [==============================] - 0s 3ms/step - loss: 15.7061 - mae: 15.7061\n",
      "Epoch 227/500\n",
      "2/2 [==============================] - 0s 3ms/step - loss: 16.1727 - mae: 16.1727\n",
      "Epoch 228/500\n",
      "2/2 [==============================] - 0s 2ms/step - loss: 9.3357 - mae: 9.3357\n",
      "Epoch 229/500\n",
      "2/2 [==============================] - 0s 2ms/step - loss: 18.0044 - mae: 18.0044\n",
      "Epoch 230/500\n",
      "2/2 [==============================] - 0s 3ms/step - loss: 15.5998 - mae: 15.5998\n",
      "Epoch 231/500\n",
      "2/2 [==============================] - 0s 3ms/step - loss: 21.1283 - mae: 21.1283\n",
      "Epoch 232/500\n",
      "2/2 [==============================] - 0s 2ms/step - loss: 25.4692 - mae: 25.4692\n",
      "Epoch 233/500\n",
      "2/2 [==============================] - 0s 3ms/step - loss: 16.4832 - mae: 16.4832\n",
      "Epoch 234/500\n",
      "2/2 [==============================] - 0s 3ms/step - loss: 7.3790 - mae: 7.3790\n",
      "Epoch 235/500\n",
      "2/2 [==============================] - 0s 2ms/step - loss: 17.1125 - mae: 17.1125\n",
      "Epoch 236/500\n",
      "2/2 [==============================] - 0s 3ms/step - loss: 7.2293 - mae: 7.2293\n",
      "Epoch 237/500\n",
      "2/2 [==============================] - 0s 2ms/step - loss: 9.3154 - mae: 9.3154\n",
      "Epoch 238/500\n",
      "2/2 [==============================] - 0s 2ms/step - loss: 8.1852 - mae: 8.1852\n",
      "Epoch 239/500\n",
      "2/2 [==============================] - 0s 2ms/step - loss: 17.0784 - mae: 17.0784\n",
      "Epoch 240/500\n",
      "2/2 [==============================] - 0s 3ms/step - loss: 8.9387 - mae: 8.9387\n",
      "Epoch 241/500\n",
      "2/2 [==============================] - 0s 2ms/step - loss: 12.8269 - mae: 12.8269\n",
      "Epoch 242/500\n",
      "2/2 [==============================] - 0s 2ms/step - loss: 10.9457 - mae: 10.9457\n",
      "Epoch 243/500\n",
      "2/2 [==============================] - 0s 3ms/step - loss: 17.3644 - mae: 17.3644\n",
      "Epoch 244/500\n",
      "2/2 [==============================] - 0s 3ms/step - loss: 14.5140 - mae: 14.5140\n",
      "Epoch 245/500\n",
      "2/2 [==============================] - 0s 2ms/step - loss: 15.0846 - mae: 15.0846\n",
      "Epoch 246/500\n",
      "2/2 [==============================] - 0s 3ms/step - loss: 16.1911 - mae: 16.1911\n",
      "Epoch 247/500\n",
      "2/2 [==============================] - 0s 2ms/step - loss: 18.1915 - mae: 18.1915\n",
      "Epoch 248/500\n",
      "2/2 [==============================] - 0s 2ms/step - loss: 13.7223 - mae: 13.7223\n",
      "Epoch 249/500\n",
      "2/2 [==============================] - 0s 2ms/step - loss: 14.8174 - mae: 14.8174\n",
      "Epoch 250/500\n",
      "2/2 [==============================] - 0s 2ms/step - loss: 23.8114 - mae: 23.8114\n",
      "Epoch 251/500\n",
      "2/2 [==============================] - 0s 3ms/step - loss: 13.5720 - mae: 13.5720\n",
      "Epoch 252/500\n",
      "2/2 [==============================] - 0s 2ms/step - loss: 22.4941 - mae: 22.4941\n",
      "Epoch 253/500\n",
      "2/2 [==============================] - 0s 2ms/step - loss: 9.8247 - mae: 9.8247\n",
      "Epoch 254/500\n",
      "2/2 [==============================] - 0s 2ms/step - loss: 15.7747 - mae: 15.7747\n",
      "Epoch 255/500\n",
      "2/2 [==============================] - 0s 3ms/step - loss: 13.5291 - mae: 13.5291\n",
      "Epoch 256/500\n",
      "2/2 [==============================] - 0s 3ms/step - loss: 9.9486 - mae: 9.9486\n",
      "Epoch 257/500\n",
      "2/2 [==============================] - 0s 3ms/step - loss: 14.5805 - mae: 14.5805\n",
      "Epoch 258/500\n",
      "2/2 [==============================] - 0s 3ms/step - loss: 5.2916 - mae: 5.2916\n",
      "Epoch 259/500\n",
      "2/2 [==============================] - 0s 2ms/step - loss: 16.6670 - mae: 16.6670\n",
      "Epoch 260/500\n",
      "2/2 [==============================] - 0s 2ms/step - loss: 49.4791 - mae: 49.4791\n",
      "Epoch 261/500\n",
      "2/2 [==============================] - 0s 2ms/step - loss: 22.4837 - mae: 22.4837\n",
      "Epoch 262/500\n",
      "2/2 [==============================] - 0s 3ms/step - loss: 4.7553 - mae: 4.7553\n",
      "Epoch 263/500\n",
      "2/2 [==============================] - 0s 3ms/step - loss: 9.3325 - mae: 9.3325\n",
      "Epoch 264/500\n",
      "2/2 [==============================] - 0s 3ms/step - loss: 22.8253 - mae: 22.8253\n",
      "Epoch 265/500\n",
      "2/2 [==============================] - 0s 3ms/step - loss: 10.8116 - mae: 10.8116\n",
      "Epoch 266/500\n",
      "2/2 [==============================] - 0s 3ms/step - loss: 13.2581 - mae: 13.2581\n",
      "Epoch 267/500\n",
      "2/2 [==============================] - 0s 3ms/step - loss: 11.0793 - mae: 11.0793\n",
      "Epoch 268/500\n",
      "2/2 [==============================] - 0s 3ms/step - loss: 19.1108 - mae: 19.1108\n",
      "Epoch 269/500\n",
      "2/2 [==============================] - 0s 3ms/step - loss: 40.8651 - mae: 40.8651\n",
      "Epoch 270/500\n",
      "2/2 [==============================] - 0s 2ms/step - loss: 13.0405 - mae: 13.0405\n",
      "Epoch 271/500\n",
      "2/2 [==============================] - 0s 2ms/step - loss: 14.7646 - mae: 14.7646\n",
      "Epoch 272/500\n",
      "2/2 [==============================] - 0s 2ms/step - loss: 28.4941 - mae: 28.4941\n",
      "Epoch 273/500\n",
      "2/2 [==============================] - 0s 2ms/step - loss: 7.4377 - mae: 7.4377\n",
      "Epoch 274/500\n",
      "2/2 [==============================] - 0s 2ms/step - loss: 6.4002 - mae: 6.4002\n",
      "Epoch 275/500\n",
      "2/2 [==============================] - 0s 2ms/step - loss: 36.9511 - mae: 36.9511\n",
      "Epoch 276/500\n",
      "2/2 [==============================] - 0s 2ms/step - loss: 8.3429 - mae: 8.3429\n",
      "Epoch 277/500\n",
      "2/2 [==============================] - 0s 2ms/step - loss: 27.7478 - mae: 27.7478\n",
      "Epoch 278/500\n",
      "2/2 [==============================] - 0s 2ms/step - loss: 10.6997 - mae: 10.6997\n",
      "Epoch 279/500\n",
      "2/2 [==============================] - 0s 2ms/step - loss: 16.1242 - mae: 16.1242\n",
      "Epoch 280/500\n",
      "2/2 [==============================] - 0s 3ms/step - loss: 21.2489 - mae: 21.2489\n",
      "Epoch 281/500\n",
      "2/2 [==============================] - 0s 3ms/step - loss: 23.7602 - mae: 23.7602\n",
      "Epoch 282/500\n",
      "2/2 [==============================] - 0s 2ms/step - loss: 8.3004 - mae: 8.3004\n",
      "Epoch 283/500\n",
      "2/2 [==============================] - 0s 3ms/step - loss: 8.4806 - mae: 8.4806\n",
      "Epoch 284/500\n",
      "2/2 [==============================] - 0s 3ms/step - loss: 26.5627 - mae: 26.5627\n",
      "Epoch 285/500\n",
      "2/2 [==============================] - 0s 2ms/step - loss: 14.1880 - mae: 14.1880\n",
      "Epoch 286/500\n",
      "2/2 [==============================] - 0s 3ms/step - loss: 6.0479 - mae: 6.0479\n",
      "Epoch 287/500\n",
      "2/2 [==============================] - 0s 3ms/step - loss: 18.9931 - mae: 18.9931\n",
      "Epoch 288/500\n",
      "2/2 [==============================] - 0s 3ms/step - loss: 32.8944 - mae: 32.8944\n",
      "Epoch 289/500\n",
      "2/2 [==============================] - 0s 3ms/step - loss: 8.3989 - mae: 8.3989\n",
      "Epoch 290/500\n",
      "2/2 [==============================] - 0s 3ms/step - loss: 16.8838 - mae: 16.8838\n",
      "Epoch 291/500\n",
      "2/2 [==============================] - 0s 3ms/step - loss: 17.2578 - mae: 17.2578\n",
      "Epoch 292/500\n",
      "2/2 [==============================] - 0s 3ms/step - loss: 10.9114 - mae: 10.9114\n",
      "Epoch 293/500\n",
      "2/2 [==============================] - 0s 3ms/step - loss: 14.5940 - mae: 14.5940\n",
      "Epoch 294/500\n",
      "2/2 [==============================] - 0s 3ms/step - loss: 21.8290 - mae: 21.8290\n",
      "Epoch 295/500\n",
      "2/2 [==============================] - 0s 3ms/step - loss: 19.9320 - mae: 19.9320\n",
      "Epoch 296/500\n",
      "2/2 [==============================] - 0s 3ms/step - loss: 7.0220 - mae: 7.0220\n",
      "Epoch 297/500\n",
      "2/2 [==============================] - 0s 3ms/step - loss: 9.0378 - mae: 9.0378\n",
      "Epoch 298/500\n",
      "2/2 [==============================] - 0s 2ms/step - loss: 24.2905 - mae: 24.2905\n",
      "Epoch 299/500\n",
      "2/2 [==============================] - 0s 3ms/step - loss: 17.8003 - mae: 17.8003\n",
      "Epoch 300/500\n",
      "2/2 [==============================] - 0s 2ms/step - loss: 7.0413 - mae: 7.0413\n",
      "Epoch 301/500\n",
      "2/2 [==============================] - 0s 3ms/step - loss: 25.2696 - mae: 25.2696\n",
      "Epoch 302/500\n",
      "2/2 [==============================] - 0s 3ms/step - loss: 8.9585 - mae: 8.9585\n",
      "Epoch 303/500\n",
      "2/2 [==============================] - 0s 3ms/step - loss: 17.8074 - mae: 17.8074\n",
      "Epoch 304/500\n",
      "2/2 [==============================] - 0s 3ms/step - loss: 11.0645 - mae: 11.0645\n",
      "Epoch 305/500\n",
      "2/2 [==============================] - 0s 2ms/step - loss: 12.9396 - mae: 12.9396\n",
      "Epoch 306/500\n",
      "2/2 [==============================] - 0s 2ms/step - loss: 8.4478 - mae: 8.4478\n",
      "Epoch 307/500\n",
      "2/2 [==============================] - 0s 2ms/step - loss: 13.3605 - mae: 13.3605\n",
      "Epoch 308/500\n",
      "2/2 [==============================] - 0s 3ms/step - loss: 8.2996 - mae: 8.2996\n",
      "Epoch 309/500\n",
      "2/2 [==============================] - 0s 3ms/step - loss: 12.2482 - mae: 12.2482\n",
      "Epoch 310/500\n",
      "2/2 [==============================] - 0s 3ms/step - loss: 4.4552 - mae: 4.4552\n",
      "Epoch 311/500\n",
      "2/2 [==============================] - 0s 3ms/step - loss: 12.0357 - mae: 12.0357\n",
      "Epoch 312/500\n",
      "2/2 [==============================] - 0s 3ms/step - loss: 29.3269 - mae: 29.3269\n",
      "Epoch 313/500\n",
      "2/2 [==============================] - 0s 3ms/step - loss: 8.8851 - mae: 8.8851\n",
      "Epoch 314/500\n",
      "2/2 [==============================] - 0s 3ms/step - loss: 6.5365 - mae: 6.5365\n",
      "Epoch 315/500\n",
      "2/2 [==============================] - 0s 3ms/step - loss: 24.0004 - mae: 24.0004\n",
      "Epoch 316/500\n",
      "2/2 [==============================] - 0s 3ms/step - loss: 16.0635 - mae: 16.0635\n",
      "Epoch 317/500\n",
      "2/2 [==============================] - 0s 3ms/step - loss: 20.5261 - mae: 20.5261\n",
      "Epoch 318/500\n",
      "2/2 [==============================] - 0s 3ms/step - loss: 8.6695 - mae: 8.6695\n",
      "Epoch 319/500\n",
      "2/2 [==============================] - 0s 3ms/step - loss: 15.1563 - mae: 15.1563\n",
      "Epoch 320/500\n",
      "2/2 [==============================] - 0s 3ms/step - loss: 8.3055 - mae: 8.3055\n",
      "Epoch 321/500\n",
      "2/2 [==============================] - 0s 4ms/step - loss: 14.5552 - mae: 14.5552\n",
      "Epoch 322/500\n",
      "2/2 [==============================] - 0s 3ms/step - loss: 12.8487 - mae: 12.8487\n",
      "Epoch 323/500\n",
      "2/2 [==============================] - 0s 4ms/step - loss: 17.4648 - mae: 17.4648\n",
      "Epoch 324/500\n",
      "2/2 [==============================] - 0s 3ms/step - loss: 15.7327 - mae: 15.7327\n",
      "Epoch 325/500\n",
      "2/2 [==============================] - 0s 3ms/step - loss: 17.2960 - mae: 17.2960\n",
      "Epoch 326/500\n",
      "2/2 [==============================] - 0s 3ms/step - loss: 13.1146 - mae: 13.1146\n",
      "Epoch 327/500\n",
      "2/2 [==============================] - 0s 3ms/step - loss: 20.9796 - mae: 20.9796\n",
      "Epoch 328/500\n",
      "2/2 [==============================] - 0s 3ms/step - loss: 15.4338 - mae: 15.4338\n",
      "Epoch 329/500\n",
      "2/2 [==============================] - 0s 3ms/step - loss: 9.6147 - mae: 9.6147\n",
      "Epoch 330/500\n",
      "2/2 [==============================] - 0s 2ms/step - loss: 13.7602 - mae: 13.7602\n",
      "Epoch 331/500\n",
      "2/2 [==============================] - 0s 3ms/step - loss: 25.1278 - mae: 25.1278\n",
      "Epoch 332/500\n",
      "2/2 [==============================] - 0s 3ms/step - loss: 18.6635 - mae: 18.6635\n",
      "Epoch 333/500\n",
      "2/2 [==============================] - 0s 3ms/step - loss: 10.7519 - mae: 10.7519\n",
      "Epoch 334/500\n",
      "2/2 [==============================] - 0s 3ms/step - loss: 6.9982 - mae: 6.9982\n",
      "Epoch 335/500\n",
      "2/2 [==============================] - 0s 3ms/step - loss: 12.9982 - mae: 12.9982\n",
      "Epoch 336/500\n",
      "2/2 [==============================] - 0s 3ms/step - loss: 32.3377 - mae: 32.3377\n",
      "Epoch 337/500\n",
      "2/2 [==============================] - 0s 3ms/step - loss: 10.5843 - mae: 10.5843\n",
      "Epoch 338/500\n",
      "2/2 [==============================] - 0s 3ms/step - loss: 19.9960 - mae: 19.9960\n",
      "Epoch 339/500\n",
      "2/2 [==============================] - 0s 3ms/step - loss: 34.2008 - mae: 34.2008\n",
      "Epoch 340/500\n",
      "2/2 [==============================] - 0s 3ms/step - loss: 8.7129 - mae: 8.7129\n",
      "Epoch 341/500\n",
      "2/2 [==============================] - 0s 3ms/step - loss: 21.8507 - mae: 21.8507\n",
      "Epoch 342/500\n",
      "2/2 [==============================] - 0s 3ms/step - loss: 13.8793 - mae: 13.8793\n",
      "Epoch 343/500\n",
      "2/2 [==============================] - 0s 3ms/step - loss: 11.7315 - mae: 11.7315\n",
      "Epoch 344/500\n",
      "2/2 [==============================] - 0s 3ms/step - loss: 10.7066 - mae: 10.7066\n",
      "Epoch 345/500\n",
      "2/2 [==============================] - 0s 3ms/step - loss: 30.9292 - mae: 30.9292\n",
      "Epoch 346/500\n",
      "2/2 [==============================] - 0s 2ms/step - loss: 10.6599 - mae: 10.6599\n",
      "Epoch 347/500\n",
      "2/2 [==============================] - 0s 2ms/step - loss: 25.6012 - mae: 25.6012\n",
      "Epoch 348/500\n",
      "2/2 [==============================] - 0s 4ms/step - loss: 13.2025 - mae: 13.2025\n",
      "Epoch 349/500\n",
      "2/2 [==============================] - 0s 3ms/step - loss: 13.0721 - mae: 13.0721\n",
      "Epoch 350/500\n",
      "2/2 [==============================] - 0s 4ms/step - loss: 15.4168 - mae: 15.4168\n",
      "Epoch 351/500\n",
      "2/2 [==============================] - 0s 2ms/step - loss: 32.8956 - mae: 32.8956\n",
      "Epoch 352/500\n",
      "2/2 [==============================] - 0s 2ms/step - loss: 14.1191 - mae: 14.1191\n",
      "Epoch 353/500\n",
      "2/2 [==============================] - 0s 2ms/step - loss: 15.8526 - mae: 15.8526\n",
      "Epoch 354/500\n",
      "2/2 [==============================] - 0s 3ms/step - loss: 18.9426 - mae: 18.9426\n",
      "Epoch 355/500\n",
      "2/2 [==============================] - 0s 2ms/step - loss: 34.5338 - mae: 34.5338\n",
      "Epoch 356/500\n",
      "2/2 [==============================] - 0s 2ms/step - loss: 8.3639 - mae: 8.3639\n",
      "Epoch 357/500\n",
      "2/2 [==============================] - 0s 3ms/step - loss: 21.9703 - mae: 21.9703\n",
      "Epoch 358/500\n",
      "2/2 [==============================] - 0s 2ms/step - loss: 20.1312 - mae: 20.1312\n",
      "Epoch 359/500\n",
      "2/2 [==============================] - 0s 2ms/step - loss: 11.0478 - mae: 11.0478\n",
      "Epoch 360/500\n",
      "2/2 [==============================] - 0s 3ms/step - loss: 20.2478 - mae: 20.2478\n",
      "Epoch 361/500\n",
      "2/2 [==============================] - 0s 2ms/step - loss: 11.0721 - mae: 11.0721\n",
      "Epoch 362/500\n",
      "2/2 [==============================] - 0s 2ms/step - loss: 6.8586 - mae: 6.8586\n",
      "Epoch 363/500\n",
      "2/2 [==============================] - 0s 2ms/step - loss: 24.0443 - mae: 24.0443\n",
      "Epoch 364/500\n",
      "2/2 [==============================] - 0s 3ms/step - loss: 29.8295 - mae: 29.8295\n",
      "Epoch 365/500\n",
      "2/2 [==============================] - 0s 2ms/step - loss: 8.4027 - mae: 8.4027\n",
      "Epoch 366/500\n",
      "2/2 [==============================] - 0s 4ms/step - loss: 6.1254 - mae: 6.1254\n",
      "Epoch 367/500\n",
      "2/2 [==============================] - 0s 3ms/step - loss: 34.9363 - mae: 34.9363\n",
      "Epoch 368/500\n",
      "2/2 [==============================] - 0s 3ms/step - loss: 7.4479 - mae: 7.4479\n",
      "Epoch 369/500\n",
      "2/2 [==============================] - 0s 3ms/step - loss: 9.2574 - mae: 9.2574\n",
      "Epoch 370/500\n",
      "2/2 [==============================] - 0s 3ms/step - loss: 10.9537 - mae: 10.9537\n",
      "Epoch 371/500\n",
      "2/2 [==============================] - 0s 3ms/step - loss: 9.0159 - mae: 9.0159\n",
      "Epoch 372/500\n",
      "2/2 [==============================] - 0s 3ms/step - loss: 7.7203 - mae: 7.7203\n",
      "Epoch 373/500\n",
      "2/2 [==============================] - 0s 3ms/step - loss: 25.0612 - mae: 25.0612\n",
      "Epoch 374/500\n",
      "2/2 [==============================] - 0s 4ms/step - loss: 13.2217 - mae: 13.2217\n",
      "Epoch 375/500\n",
      "2/2 [==============================] - 0s 2ms/step - loss: 11.8637 - mae: 11.8637\n",
      "Epoch 376/500\n",
      "2/2 [==============================] - 0s 2ms/step - loss: 14.1344 - mae: 14.1344\n",
      "Epoch 377/500\n",
      "2/2 [==============================] - 0s 3ms/step - loss: 15.7314 - mae: 15.7314\n",
      "Epoch 378/500\n",
      "2/2 [==============================] - 0s 3ms/step - loss: 17.0580 - mae: 17.0580\n",
      "Epoch 379/500\n",
      "2/2 [==============================] - 0s 3ms/step - loss: 19.3695 - mae: 19.3695\n",
      "Epoch 380/500\n",
      "2/2 [==============================] - 0s 3ms/step - loss: 15.7290 - mae: 15.7290\n",
      "Epoch 381/500\n",
      "2/2 [==============================] - 0s 2ms/step - loss: 11.4762 - mae: 11.4762\n",
      "Epoch 382/500\n",
      "2/2 [==============================] - 0s 2ms/step - loss: 16.3556 - mae: 16.3556\n",
      "Epoch 383/500\n",
      "2/2 [==============================] - 0s 2ms/step - loss: 22.1168 - mae: 22.1168\n",
      "Epoch 384/500\n",
      "2/2 [==============================] - 0s 2ms/step - loss: 7.7615 - mae: 7.7615\n",
      "Epoch 385/500\n",
      "2/2 [==============================] - 0s 2ms/step - loss: 10.6370 - mae: 10.6370\n",
      "Epoch 386/500\n",
      "2/2 [==============================] - 0s 3ms/step - loss: 19.1280 - mae: 19.1280\n",
      "Epoch 387/500\n",
      "2/2 [==============================] - 0s 3ms/step - loss: 26.4133 - mae: 26.4133\n",
      "Epoch 388/500\n",
      "2/2 [==============================] - 0s 3ms/step - loss: 10.0811 - mae: 10.0811\n",
      "Epoch 389/500\n",
      "2/2 [==============================] - 0s 2ms/step - loss: 5.1890 - mae: 5.1890\n",
      "Epoch 390/500\n",
      "2/2 [==============================] - 0s 2ms/step - loss: 18.7463 - mae: 18.7463\n",
      "Epoch 391/500\n",
      "2/2 [==============================] - 0s 3ms/step - loss: 9.3657 - mae: 9.3657\n",
      "Epoch 392/500\n",
      "2/2 [==============================] - 0s 2ms/step - loss: 14.4291 - mae: 14.4291\n",
      "Epoch 393/500\n",
      "2/2 [==============================] - 0s 2ms/step - loss: 12.1014 - mae: 12.1014\n",
      "Epoch 394/500\n",
      "2/2 [==============================] - 0s 3ms/step - loss: 14.1015 - mae: 14.1015\n",
      "Epoch 395/500\n",
      "2/2 [==============================] - 0s 3ms/step - loss: 28.4672 - mae: 28.4672\n",
      "Epoch 396/500\n",
      "2/2 [==============================] - 0s 2ms/step - loss: 8.4956 - mae: 8.4956\n",
      "Epoch 397/500\n",
      "2/2 [==============================] - 0s 3ms/step - loss: 11.1877 - mae: 11.1877\n",
      "Epoch 398/500\n",
      "2/2 [==============================] - 0s 4ms/step - loss: 6.9019 - mae: 6.9019\n",
      "Epoch 399/500\n",
      "2/2 [==============================] - 0s 3ms/step - loss: 13.9936 - mae: 13.9936\n",
      "Epoch 400/500\n",
      "2/2 [==============================] - 0s 3ms/step - loss: 6.6818 - mae: 6.6818\n",
      "Epoch 401/500\n",
      "2/2 [==============================] - 0s 3ms/step - loss: 7.4995 - mae: 7.4995\n",
      "Epoch 402/500\n",
      "2/2 [==============================] - 0s 3ms/step - loss: 19.4225 - mae: 19.4225\n",
      "Epoch 403/500\n",
      "2/2 [==============================] - 0s 2ms/step - loss: 10.4745 - mae: 10.4745\n",
      "Epoch 404/500\n",
      "2/2 [==============================] - 0s 3ms/step - loss: 23.2280 - mae: 23.2280\n",
      "Epoch 405/500\n",
      "2/2 [==============================] - 0s 2ms/step - loss: 17.4651 - mae: 17.4651\n",
      "Epoch 406/500\n",
      "2/2 [==============================] - 0s 2ms/step - loss: 6.8527 - mae: 6.8527\n",
      "Epoch 407/500\n",
      "2/2 [==============================] - 0s 3ms/step - loss: 11.9494 - mae: 11.9494\n",
      "Epoch 408/500\n",
      "2/2 [==============================] - 0s 2ms/step - loss: 7.1083 - mae: 7.1083\n",
      "Epoch 409/500\n",
      "2/2 [==============================] - 0s 3ms/step - loss: 23.4793 - mae: 23.4793\n",
      "Epoch 410/500\n",
      "2/2 [==============================] - 0s 3ms/step - loss: 12.3958 - mae: 12.3958\n",
      "Epoch 411/500\n",
      "2/2 [==============================] - 0s 2ms/step - loss: 15.1915 - mae: 15.1915\n",
      "Epoch 412/500\n",
      "2/2 [==============================] - 0s 2ms/step - loss: 22.3057 - mae: 22.3057\n",
      "Epoch 413/500\n",
      "2/2 [==============================] - 0s 3ms/step - loss: 15.6956 - mae: 15.6956\n",
      "Epoch 414/500\n",
      "2/2 [==============================] - 0s 3ms/step - loss: 6.6150 - mae: 6.6150\n",
      "Epoch 415/500\n",
      "2/2 [==============================] - 0s 2ms/step - loss: 12.6937 - mae: 12.6937\n",
      "Epoch 416/500\n",
      "2/2 [==============================] - 0s 2ms/step - loss: 26.9167 - mae: 26.9167\n",
      "Epoch 417/500\n",
      "2/2 [==============================] - 0s 3ms/step - loss: 12.0828 - mae: 12.0828\n",
      "Epoch 418/500\n",
      "2/2 [==============================] - 0s 2ms/step - loss: 13.0591 - mae: 13.0591\n",
      "Epoch 419/500\n",
      "2/2 [==============================] - 0s 2ms/step - loss: 16.0321 - mae: 16.0321\n",
      "Epoch 420/500\n",
      "2/2 [==============================] - 0s 2ms/step - loss: 25.0614 - mae: 25.0614\n",
      "Epoch 421/500\n",
      "2/2 [==============================] - 0s 2ms/step - loss: 16.6208 - mae: 16.6208\n",
      "Epoch 422/500\n",
      "2/2 [==============================] - 0s 3ms/step - loss: 8.6979 - mae: 8.6979\n",
      "Epoch 423/500\n",
      "2/2 [==============================] - 0s 2ms/step - loss: 24.7909 - mae: 24.7909\n",
      "Epoch 424/500\n",
      "2/2 [==============================] - 0s 2ms/step - loss: 16.5288 - mae: 16.5288\n",
      "Epoch 425/500\n",
      "2/2 [==============================] - 0s 2ms/step - loss: 7.2571 - mae: 7.2571\n",
      "Epoch 426/500\n",
      "2/2 [==============================] - 0s 2ms/step - loss: 20.6708 - mae: 20.6708\n",
      "Epoch 427/500\n",
      "2/2 [==============================] - 0s 2ms/step - loss: 6.4250 - mae: 6.4250\n",
      "Epoch 428/500\n",
      "2/2 [==============================] - 0s 2ms/step - loss: 13.2211 - mae: 13.2211\n",
      "Epoch 429/500\n",
      "2/2 [==============================] - 0s 3ms/step - loss: 10.9810 - mae: 10.9810\n",
      "Epoch 430/500\n",
      "2/2 [==============================] - 0s 2ms/step - loss: 11.8557 - mae: 11.8557\n",
      "Epoch 431/500\n",
      "2/2 [==============================] - 0s 2ms/step - loss: 7.9853 - mae: 7.9853\n",
      "Epoch 432/500\n",
      "2/2 [==============================] - 0s 2ms/step - loss: 22.3303 - mae: 22.3303\n",
      "Epoch 433/500\n",
      "2/2 [==============================] - 0s 3ms/step - loss: 4.8329 - mae: 4.8329\n",
      "Epoch 434/500\n",
      "2/2 [==============================] - 0s 2ms/step - loss: 33.3004 - mae: 33.3004\n",
      "Epoch 435/500\n",
      "2/2 [==============================] - 0s 3ms/step - loss: 14.1549 - mae: 14.1549\n",
      "Epoch 436/500\n",
      "2/2 [==============================] - 0s 3ms/step - loss: 29.8051 - mae: 29.8051\n",
      "Epoch 437/500\n",
      "2/2 [==============================] - 0s 2ms/step - loss: 10.9035 - mae: 10.9035\n",
      "Epoch 438/500\n",
      "2/2 [==============================] - 0s 3ms/step - loss: 12.6937 - mae: 12.6937\n",
      "Epoch 439/500\n",
      "2/2 [==============================] - 0s 2ms/step - loss: 33.5401 - mae: 33.5401\n",
      "Epoch 440/500\n",
      "2/2 [==============================] - 0s 2ms/step - loss: 14.9125 - mae: 14.9125\n",
      "Epoch 441/500\n",
      "2/2 [==============================] - 0s 2ms/step - loss: 17.3449 - mae: 17.3449\n",
      "Epoch 442/500\n",
      "2/2 [==============================] - 0s 3ms/step - loss: 22.0137 - mae: 22.0137\n",
      "Epoch 443/500\n",
      "2/2 [==============================] - 0s 3ms/step - loss: 24.2783 - mae: 24.2783\n",
      "Epoch 444/500\n",
      "2/2 [==============================] - 0s 3ms/step - loss: 11.5609 - mae: 11.5609\n",
      "Epoch 445/500\n",
      "2/2 [==============================] - 0s 2ms/step - loss: 14.7544 - mae: 14.7544\n",
      "Epoch 446/500\n",
      "2/2 [==============================] - 0s 2ms/step - loss: 17.7619 - mae: 17.7619\n",
      "Epoch 447/500\n",
      "2/2 [==============================] - 0s 3ms/step - loss: 5.6992 - mae: 5.6992\n",
      "Epoch 448/500\n",
      "2/2 [==============================] - 0s 2ms/step - loss: 9.5108 - mae: 9.5108\n",
      "Epoch 449/500\n",
      "2/2 [==============================] - 0s 2ms/step - loss: 14.1728 - mae: 14.1728\n",
      "Epoch 450/500\n",
      "2/2 [==============================] - 0s 3ms/step - loss: 16.9398 - mae: 16.9398\n",
      "Epoch 451/500\n",
      "2/2 [==============================] - 0s 3ms/step - loss: 14.3612 - mae: 14.3612\n",
      "Epoch 452/500\n",
      "2/2 [==============================] - 0s 3ms/step - loss: 30.7646 - mae: 30.7646\n",
      "Epoch 453/500\n",
      "2/2 [==============================] - 0s 2ms/step - loss: 8.4193 - mae: 8.4193\n",
      "Epoch 454/500\n",
      "2/2 [==============================] - 0s 3ms/step - loss: 27.6868 - mae: 27.6868\n",
      "Epoch 455/500\n",
      "2/2 [==============================] - 0s 2ms/step - loss: 9.8484 - mae: 9.8484\n",
      "Epoch 456/500\n",
      "2/2 [==============================] - 0s 2ms/step - loss: 14.6259 - mae: 14.6259\n",
      "Epoch 457/500\n",
      "2/2 [==============================] - 0s 3ms/step - loss: 17.7868 - mae: 17.7868\n",
      "Epoch 458/500\n",
      "2/2 [==============================] - 0s 3ms/step - loss: 14.0636 - mae: 14.0636\n",
      "Epoch 459/500\n",
      "2/2 [==============================] - 0s 2ms/step - loss: 25.9984 - mae: 25.9984\n",
      "Epoch 460/500\n",
      "2/2 [==============================] - 0s 2ms/step - loss: 14.7923 - mae: 14.7923\n",
      "Epoch 461/500\n",
      "2/2 [==============================] - 0s 3ms/step - loss: 12.0195 - mae: 12.0195\n",
      "Epoch 462/500\n",
      "2/2 [==============================] - 0s 3ms/step - loss: 13.3071 - mae: 13.3071\n",
      "Epoch 463/500\n",
      "2/2 [==============================] - 0s 3ms/step - loss: 29.5287 - mae: 29.5287\n",
      "Epoch 464/500\n",
      "2/2 [==============================] - 0s 3ms/step - loss: 3.4672 - mae: 3.4672\n",
      "Epoch 465/500\n",
      "2/2 [==============================] - 0s 3ms/step - loss: 15.1947 - mae: 15.1947\n",
      "Epoch 466/500\n",
      "2/2 [==============================] - 0s 3ms/step - loss: 20.7914 - mae: 20.7914\n",
      "Epoch 467/500\n",
      "2/2 [==============================] - 0s 3ms/step - loss: 30.6264 - mae: 30.6264\n",
      "Epoch 468/500\n",
      "2/2 [==============================] - 0s 2ms/step - loss: 11.1128 - mae: 11.1128\n",
      "Epoch 469/500\n",
      "2/2 [==============================] - 0s 2ms/step - loss: 12.9045 - mae: 12.9045\n",
      "Epoch 470/500\n",
      "2/2 [==============================] - 0s 3ms/step - loss: 3.5726 - mae: 3.5726\n",
      "Epoch 471/500\n",
      "2/2 [==============================] - 0s 2ms/step - loss: 42.0573 - mae: 42.0573\n",
      "Epoch 472/500\n",
      "2/2 [==============================] - 0s 3ms/step - loss: 4.6121 - mae: 4.6121\n",
      "Epoch 473/500\n",
      "2/2 [==============================] - 0s 3ms/step - loss: 18.4583 - mae: 18.4583\n",
      "Epoch 474/500\n",
      "2/2 [==============================] - 0s 2ms/step - loss: 41.5555 - mae: 41.5555\n",
      "Epoch 475/500\n",
      "2/2 [==============================] - 0s 3ms/step - loss: 17.5715 - mae: 17.5715\n",
      "Epoch 476/500\n",
      "2/2 [==============================] - 0s 3ms/step - loss: 13.2570 - mae: 13.2570\n",
      "Epoch 477/500\n",
      "2/2 [==============================] - 0s 2ms/step - loss: 29.3738 - mae: 29.3738\n",
      "Epoch 478/500\n",
      "2/2 [==============================] - 0s 2ms/step - loss: 5.6564 - mae: 5.6564\n",
      "Epoch 479/500\n",
      "2/2 [==============================] - 0s 2ms/step - loss: 7.8147 - mae: 7.8147\n",
      "Epoch 480/500\n",
      "2/2 [==============================] - 0s 2ms/step - loss: 18.4749 - mae: 18.4749\n",
      "Epoch 481/500\n",
      "2/2 [==============================] - 0s 2ms/step - loss: 16.3239 - mae: 16.3239\n",
      "Epoch 482/500\n",
      "2/2 [==============================] - 0s 2ms/step - loss: 15.1114 - mae: 15.1114\n",
      "Epoch 483/500\n",
      "2/2 [==============================] - 0s 3ms/step - loss: 20.6369 - mae: 20.6369\n",
      "Epoch 484/500\n",
      "2/2 [==============================] - 0s 2ms/step - loss: 34.8703 - mae: 34.8703\n",
      "Epoch 485/500\n",
      "2/2 [==============================] - 0s 2ms/step - loss: 13.6651 - mae: 13.6651\n",
      "Epoch 486/500\n",
      "2/2 [==============================] - 0s 3ms/step - loss: 7.3741 - mae: 7.3741\n",
      "Epoch 487/500\n",
      "2/2 [==============================] - 0s 3ms/step - loss: 6.4295 - mae: 6.4295\n",
      "Epoch 488/500\n",
      "2/2 [==============================] - 0s 3ms/step - loss: 31.1911 - mae: 31.1911\n",
      "Epoch 489/500\n",
      "2/2 [==============================] - 0s 2ms/step - loss: 12.3042 - mae: 12.3042\n",
      "Epoch 490/500\n",
      "2/2 [==============================] - 0s 2ms/step - loss: 12.9229 - mae: 12.9229\n",
      "Epoch 491/500\n",
      "2/2 [==============================] - 0s 3ms/step - loss: 23.9928 - mae: 23.9928\n",
      "Epoch 492/500\n",
      "2/2 [==============================] - 0s 3ms/step - loss: 19.6039 - mae: 19.6039\n",
      "Epoch 493/500\n",
      "2/2 [==============================] - 0s 2ms/step - loss: 4.8020 - mae: 4.8020\n",
      "Epoch 494/500\n",
      "2/2 [==============================] - 0s 2ms/step - loss: 12.0140 - mae: 12.0140\n",
      "Epoch 495/500\n",
      "2/2 [==============================] - 0s 2ms/step - loss: 13.7080 - mae: 13.7080\n",
      "Epoch 496/500\n",
      "2/2 [==============================] - 0s 2ms/step - loss: 12.9052 - mae: 12.9052\n",
      "Epoch 497/500\n",
      "2/2 [==============================] - 0s 2ms/step - loss: 18.0378 - mae: 18.0378\n",
      "Epoch 498/500\n",
      "2/2 [==============================] - 0s 2ms/step - loss: 22.6243 - mae: 22.6243\n",
      "Epoch 499/500\n",
      "2/2 [==============================] - 0s 2ms/step - loss: 8.4092 - mae: 8.4092\n",
      "Epoch 500/500\n",
      "2/2 [==============================] - 0s 2ms/step - loss: 14.0256 - mae: 14.0256\n"
     ]
    },
    {
     "data": {
      "text/plain": "<keras.src.callbacks.History at 0x7fa260d1bf70>"
     },
     "execution_count": 41,
     "metadata": {},
     "output_type": "execute_result"
    }
   ],
   "source": [
    "# Set random seed\n",
    "tf.random.set_seed(42)\n",
    "\n",
    "# 1. Create the model\n",
    "model_3 = tf.keras.Sequential([\n",
    "    tf.keras.layers.Dense(10),\n",
    "    tf.keras.layers.Dense(1)\n",
    "])\n",
    "\n",
    "# 2. Compile the model\n",
    "model_3.compile(loss=tf.keras.losses.mae,\n",
    "                optimizer=tf.keras.optimizers.SGD(),\n",
    "                metrics=[\"mae\"])\n",
    "\n",
    "# 3. Fit the model\n",
    "model_3.fit(tf.expand_dims(X_train, axis=-1), y_train, epochs=500)"
   ],
   "metadata": {
    "collapsed": false,
    "ExecuteTime": {
     "end_time": "2023-10-23T14:18:21.822323667Z",
     "start_time": "2023-10-23T14:18:16.361502261Z"
    }
   },
   "id": "a28904132d03bd77"
  },
  {
   "cell_type": "code",
   "execution_count": 42,
   "outputs": [
    {
     "name": "stdout",
     "output_type": "stream",
     "text": [
      "WARNING:tensorflow:6 out of the last 6 calls to <function Model.make_predict_function.<locals>.predict_function at 0x7fa260d09f30> triggered tf.function retracing. Tracing is expensive and the excessive number of tracings could be due to (1) creating @tf.function repeatedly in a loop, (2) passing tensors with different shapes, (3) passing Python objects instead of tensors. For (1), please define your @tf.function outside of the loop. For (2), @tf.function has reduce_retracing=True option that can avoid unnecessary retracing. For (3), please refer to https://www.tensorflow.org/guide/function#controlling_retracing and https://www.tensorflow.org/api_docs/python/tf/function for  more details.\n",
      "1/1 [==============================] - 0s 32ms/step\n"
     ]
    },
    {
     "data": {
      "text/plain": "<Figure size 1000x700 with 1 Axes>",
      "image/png": "[encoded data removed]"
     },
     "metadata": {},
     "output_type": "display_data"
    }
   ],
   "source": [
    "# Make and plot some predictions\n",
    "y_preds_3 = model_3.predict(X_test)\n",
    "plot_predictions(predictions=y_preds_3)"
   ],
   "metadata": {
    "collapsed": false,
    "ExecuteTime": {
     "end_time": "2023-10-23T14:18:21.964734384Z",
     "start_time": "2023-10-23T14:18:19.454298545Z"
    }
   },
   "id": "6cb3865ab71ab078"
  },
  {
   "cell_type": "code",
   "execution_count": 43,
   "outputs": [
    {
     "data": {
      "text/plain": "(<tf.Tensor: shape=(), dtype=float32, numpy=67.303406>,\n <tf.Tensor: shape=(), dtype=float32, numpy=4612.585>)"
     },
     "execution_count": 43,
     "metadata": {},
     "output_type": "execute_result"
    }
   ],
   "source": [
    "# Calculate model_3 evaluation metrics\n",
    "mae_3 = mae(y_test, y_preds_3)\n",
    "mse_3 = mse(y_test, y_preds_3)\n",
    "mae_3, mse_3"
   ],
   "metadata": {
    "collapsed": false,
    "ExecuteTime": {
     "end_time": "2023-10-23T14:18:22.040956583Z",
     "start_time": "2023-10-23T14:18:19.733790617Z"
    }
   },
   "id": "53a5cb8f93d406cb"
  },
  {
   "cell_type": "markdown",
   "source": [
    "### Comparing the results of our experiments\n",
    "\n",
    "We're run a few experiments, let's compare the results."
   ],
   "metadata": {
    "collapsed": false
   },
   "id": "392238906f3d427c"
  },
  {
   "cell_type": "code",
   "execution_count": 44,
   "outputs": [
    {
     "data": {
      "text/plain": "     model        mae          mse\n0  model_1  14.904498   222.981979\n1  model_2  26.212030   712.714966\n2  model_3  67.303406  4612.584961",
      "text/html": "<div>\n<style scoped>\n    .dataframe tbody tr th:only-of-type {\n        vertical-align: middle;\n    }\n\n    .dataframe tbody tr th {\n        vertical-align: top;\n    }\n\n    .dataframe thead th {\n        text-align: right;\n    }\n</style>\n<table border=\"1\" class=\"dataframe\">\n  <thead>\n    <tr style=\"text-align: right;\">\n      <th></th>\n      <th>model</th>\n      <th>mae</th>\n      <th>mse</th>\n    </tr>\n  </thead>\n  <tbody>\n    <tr>\n      <th>0</th>\n      <td>model_1</td>\n      <td>14.904498</td>\n      <td>222.981979</td>\n    </tr>\n    <tr>\n      <th>1</th>\n      <td>model_2</td>\n      <td>26.212030</td>\n      <td>712.714966</td>\n    </tr>\n    <tr>\n      <th>2</th>\n      <td>model_3</td>\n      <td>67.303406</td>\n      <td>4612.584961</td>\n    </tr>\n  </tbody>\n</table>\n</div>"
     },
     "execution_count": 44,
     "metadata": {},
     "output_type": "execute_result"
    }
   ],
   "source": [
    "# Let's compare our model's results using a pandas DataFrame\n",
    "import pandas as pd\n",
    "\n",
    "model_results = [[\"model_1\", mae_1.numpy(), mse_1.numpy()],\n",
    "                 [\"model_2\", mae_2.numpy(), mse_2.numpy()],\n",
    "                 [\"model_3\", mae_3.numpy(), mse_3.numpy()]]\n",
    "\n",
    "all_results = pd.DataFrame(model_results, columns=[\"model\", \"mae\", \"mse\"])\n",
    "all_results"
   ],
   "metadata": {
    "collapsed": false,
    "ExecuteTime": {
     "end_time": "2023-10-23T14:18:22.042098623Z",
     "start_time": "2023-10-23T14:18:19.777522033Z"
    }
   },
   "id": "cf1e8c784f0b258a"
  },
  {
   "cell_type": "markdown",
   "source": [
    "Looks like `model_2` performed the best..."
   ],
   "metadata": {
    "collapsed": false
   },
   "id": "f156b2f122096eea"
  },
  {
   "cell_type": "code",
   "execution_count": 45,
   "outputs": [
    {
     "name": "stdout",
     "output_type": "stream",
     "text": [
      "Model: \"sequential_5\"\n",
      "_________________________________________________________________\n",
      " Layer (type)                Output Shape              Param #   \n",
      "=================================================================\n",
      " dense_7 (Dense)             (None, 10)                20        \n",
      "                                                                 \n",
      " dense_8 (Dense)             (None, 1)                 11        \n",
      "                                                                 \n",
      "=================================================================\n",
      "Total params: 31 (124.00 Byte)\n",
      "Trainable params: 31 (124.00 Byte)\n",
      "Non-trainable params: 0 (0.00 Byte)\n",
      "_________________________________________________________________\n"
     ]
    }
   ],
   "source": [
    "model_2.summary()"
   ],
   "metadata": {
    "collapsed": false,
    "ExecuteTime": {
     "end_time": "2023-10-23T14:18:22.042895915Z",
     "start_time": "2023-10-23T14:18:19.777673877Z"
    }
   },
   "id": "2f5f1b3a6e4bf9af"
  },
  {
   "cell_type": "markdown",
   "source": [
    "### Tracking your experiments\n",
    "\n",
    "One really good habit in machine learning modelling is to track the results of your experiments.\n",
    "\n",
    "And when doing so, it can be tedious if you're running lots of experiments.\n",
    "\n",
    "Luckily, there are tools to help us!\n",
    "\n",
    "* TensorBoard - a component of the TensorFlow library to help track modelling experiments \n",
    "* Weights & Biases - a tool for tracking all of kinds of machine learning experiments (plugs straight into TensorBoard)."
   ],
   "metadata": {
    "collapsed": false
   },
   "id": "fc14ca93c6c6e4d2"
  },
  {
   "cell_type": "markdown",
   "source": [
    "### Saving our model\n",
    "\n",
    "Saving our models allow us to use them outside such as in a web application or a mobile app.\n",
    "\n",
    "There are two main formats we can save our model's too:\n",
    "\n",
    "1. The SavedModel format\n",
    "2. The HDF5 format"
   ],
   "metadata": {
    "collapsed": false
   },
   "id": "9d902015264863f7"
  },
  {
   "cell_type": "code",
   "execution_count": 46,
   "outputs": [
    {
     "name": "stdout",
     "output_type": "stream",
     "text": [
      "INFO:tensorflow:Assets written to: best_model_SavedModel_format/assets\n"
     ]
    },
    {
     "name": "stderr",
     "output_type": "stream",
     "text": [
      "INFO:tensorflow:Assets written to: best_model_SavedModel_format/assets\n"
     ]
    }
   ],
   "source": [
    "# Save model using  the SavedModel format\n",
    "model_2.save(\"best_model_SavedModel_format\")"
   ],
   "metadata": {
    "collapsed": false,
    "ExecuteTime": {
     "end_time": "2023-10-23T14:18:22.763754959Z",
     "start_time": "2023-10-23T14:18:19.777854934Z"
    }
   },
   "id": "61240dc2975263bd"
  },
  {
   "cell_type": "code",
   "execution_count": 47,
   "outputs": [
    {
     "name": "stderr",
     "output_type": "stream",
     "text": [
      "/home/dinh/github/tensorflow/venv/lib/python3.10/site-packages/keras/src/engine/training.py:3079: UserWarning: You are saving your model as an HDF5 file via `model.save()`. This file format is considered legacy. We recommend using instead the native Keras format, e.g. `model.save('my_model.keras')`.\n",
      "  saving_api.save_model(\n"
     ]
    }
   ],
   "source": [
    "# Save model using the HDF5 format\n",
    "model_2.save(\"best_model_HDF5_format.h5\")"
   ],
   "metadata": {
    "collapsed": false,
    "ExecuteTime": {
     "end_time": "2023-10-23T14:18:22.764567157Z",
     "start_time": "2023-10-23T14:18:20.077565069Z"
    }
   },
   "id": "766cd5b361902085"
  },
  {
   "cell_type": "markdown",
   "source": [
    "### Loading a saved model"
   ],
   "metadata": {
    "collapsed": false
   },
   "id": "82e42dbc257f9dbf"
  },
  {
   "cell_type": "code",
   "execution_count": 48,
   "outputs": [
    {
     "name": "stdout",
     "output_type": "stream",
     "text": [
      "Model: \"sequential_5\"\n",
      "_________________________________________________________________\n",
      " Layer (type)                Output Shape              Param #   \n",
      "=================================================================\n",
      " dense_7 (Dense)             (None, 10)                20        \n",
      "                                                                 \n",
      " dense_8 (Dense)             (None, 1)                 11        \n",
      "                                                                 \n",
      "=================================================================\n",
      "Total params: 31 (124.00 Byte)\n",
      "Trainable params: 31 (124.00 Byte)\n",
      "Non-trainable params: 0 (0.00 Byte)\n",
      "_________________________________________________________________\n"
     ]
    }
   ],
   "source": [
    "# Load in the SavedModel format model\n",
    "loaded_SavedModel_format = tf.keras.models.load_model('best_model_SavedModel_format')\n",
    "loaded_SavedModel_format.summary()"
   ],
   "metadata": {
    "collapsed": false,
    "ExecuteTime": {
     "end_time": "2023-10-23T14:18:23.168371676Z",
     "start_time": "2023-10-23T14:18:20.077810091Z"
    }
   },
   "id": "107f69f1ee9adee5"
  },
  {
   "cell_type": "code",
   "execution_count": 49,
   "outputs": [
    {
     "name": "stdout",
     "output_type": "stream",
     "text": [
      "Model: \"sequential_5\"\n",
      "_________________________________________________________________\n",
      " Layer (type)                Output Shape              Param #   \n",
      "=================================================================\n",
      " dense_7 (Dense)             (None, 10)                20        \n",
      "                                                                 \n",
      " dense_8 (Dense)             (None, 1)                 11        \n",
      "                                                                 \n",
      "=================================================================\n",
      "Total params: 31 (124.00 Byte)\n",
      "Trainable params: 31 (124.00 Byte)\n",
      "Non-trainable params: 0 (0.00 Byte)\n",
      "_________________________________________________________________\n"
     ]
    }
   ],
   "source": [
    "model_2.summary()"
   ],
   "metadata": {
    "collapsed": false,
    "ExecuteTime": {
     "end_time": "2023-10-23T14:18:23.169402221Z",
     "start_time": "2023-10-23T14:18:20.201570594Z"
    }
   },
   "id": "ce513c6e49b96b44"
  },
  {
   "cell_type": "code",
   "execution_count": 50,
   "outputs": [
    {
     "name": "stdout",
     "output_type": "stream",
     "text": [
      "1/1 [==============================] - 0s 20ms/step\n",
      "1/1 [==============================] - 0s 31ms/step\n"
     ]
    },
    {
     "data": {
      "text/plain": "array([[ True],\n       [ True],\n       [ True],\n       [ True],\n       [ True],\n       [ True],\n       [ True],\n       [ True],\n       [ True],\n       [ True]])"
     },
     "execution_count": 50,
     "metadata": {},
     "output_type": "execute_result"
    }
   ],
   "source": [
    "# Compare model_2 prediction with SavedModel format predition\n",
    "model_2_preds = model_2.predict(X_test)\n",
    "loaded_SavedModel_format_preds = loaded_SavedModel_format.predict(X_test)\n",
    "model_2_preds == loaded_SavedModel_format_preds"
   ],
   "metadata": {
    "collapsed": false,
    "ExecuteTime": {
     "end_time": "2023-10-23T14:18:23.214650260Z",
     "start_time": "2023-10-23T14:18:20.201853845Z"
    }
   },
   "id": "3568a908774ce52d"
  },
  {
   "cell_type": "code",
   "execution_count": 51,
   "outputs": [
    {
     "name": "stdout",
     "output_type": "stream",
     "text": [
      "Model: \"sequential_5\"\n",
      "_________________________________________________________________\n",
      " Layer (type)                Output Shape              Param #   \n",
      "=================================================================\n",
      " dense_7 (Dense)             (None, 10)                20        \n",
      "                                                                 \n",
      " dense_8 (Dense)             (None, 1)                 11        \n",
      "                                                                 \n",
      "=================================================================\n",
      "Total params: 31 (124.00 Byte)\n",
      "Trainable params: 31 (124.00 Byte)\n",
      "Non-trainable params: 0 (0.00 Byte)\n",
      "_________________________________________________________________\n"
     ]
    }
   ],
   "source": [
    "# Load in model using HDF5 format\n",
    "loaded_h5_model = tf.keras.models.load_model(\"best_model_HDF5_format.h5\")\n",
    "loaded_h5_model.summary()"
   ],
   "metadata": {
    "collapsed": false,
    "ExecuteTime": {
     "end_time": "2023-10-23T14:18:23.215669745Z",
     "start_time": "2023-10-23T14:18:20.309540123Z"
    }
   },
   "id": "804d1b769f65396d"
  },
  {
   "cell_type": "code",
   "execution_count": 52,
   "outputs": [
    {
     "data": {
      "text/plain": "<tf.Tensor: shape=(), dtype=bool, numpy=True>"
     },
     "execution_count": 52,
     "metadata": {},
     "output_type": "execute_result"
    }
   ],
   "source": [
    "# Compare the MAE of model_2 preds and loaded_SavedModel_preds\n",
    "mae(y_true=y_test, y_pred=model_2_preds) == mae(y_true=y_test, y_pred=loaded_SavedModel_format_preds)"
   ],
   "metadata": {
    "collapsed": false,
    "ExecuteTime": {
     "end_time": "2023-10-23T14:18:23.215924383Z",
     "start_time": "2023-10-23T14:18:20.353623961Z"
    }
   },
   "id": "a43ea218818cc5b9"
  },
  {
   "cell_type": "code",
   "execution_count": 53,
   "outputs": [
    {
     "name": "stdout",
     "output_type": "stream",
     "text": [
      "1/1 [==============================] - 0s 13ms/step\n",
      "1/1 [==============================] - 0s 35ms/step\n"
     ]
    },
    {
     "data": {
      "text/plain": "array([[ True],\n       [ True],\n       [ True],\n       [ True],\n       [ True],\n       [ True],\n       [ True],\n       [ True],\n       [ True],\n       [ True]])"
     },
     "execution_count": 53,
     "metadata": {},
     "output_type": "execute_result"
    }
   ],
   "source": [
    "# Check to see if loaded .h5 model predictions match model_2\n",
    "model_2_preds = model_2.predict(X_test)\n",
    "loaded_h5_model_preds = loaded_h5_model.predict(X_test)\n",
    "model_2_preds == loaded_h5_model_preds"
   ],
   "metadata": {
    "collapsed": false,
    "ExecuteTime": {
     "end_time": "2023-10-23T14:18:23.263176436Z",
     "start_time": "2023-10-23T14:18:20.353864389Z"
    }
   },
   "id": "3e8973fa5e9b6605"
  },
  {
   "cell_type": "markdown",
   "source": [
    "### A larger example"
   ],
   "metadata": {
    "collapsed": false
   },
   "id": "23f60cef1db30064"
  },
  {
   "cell_type": "code",
   "execution_count": 54,
   "outputs": [],
   "source": [
    "# Imported required libraries\n",
    "import tensorflow as tf\n",
    "import pandas as pd\n",
    "import matplotlib.pyplot as plt"
   ],
   "metadata": {
    "collapsed": false,
    "ExecuteTime": {
     "end_time": "2023-10-23T14:18:23.267030371Z",
     "start_time": "2023-10-23T14:18:20.432800048Z"
    }
   },
   "id": "3c289c0a4a291473"
  },
  {
   "cell_type": "code",
   "execution_count": 55,
   "outputs": [
    {
     "data": {
      "text/plain": "      age     sex     bmi  children smoker     region      charges\n0      19  female  27.900         0    yes  southwest  16884.92400\n1      18    male  33.770         1     no  southeast   1725.55230\n2      28    male  33.000         3     no  southeast   4449.46200\n3      33    male  22.705         0     no  northwest  21984.47061\n4      32    male  28.880         0     no  northwest   3866.85520\n...   ...     ...     ...       ...    ...        ...          ...\n1333   50    male  30.970         3     no  northwest  10600.54830\n1334   18  female  31.920         0     no  northeast   2205.98080\n1335   18  female  36.850         0     no  southeast   1629.83350\n1336   21  female  25.800         0     no  southwest   2007.94500\n1337   61  female  29.070         0    yes  northwest  29141.36030\n\n[1338 rows x 7 columns]",
      "text/html": "<div>\n<style scoped>\n    .dataframe tbody tr th:only-of-type {\n        vertical-align: middle;\n    }\n\n    .dataframe tbody tr th {\n        vertical-align: top;\n    }\n\n    .dataframe thead th {\n        text-align: right;\n    }\n</style>\n<table border=\"1\" class=\"dataframe\">\n  <thead>\n    <tr style=\"text-align: right;\">\n      <th></th>\n      <th>age</th>\n      <th>sex</th>\n      <th>bmi</th>\n      <th>children</th>\n      <th>smoker</th>\n      <th>region</th>\n      <th>charges</th>\n    </tr>\n  </thead>\n  <tbody>\n    <tr>\n      <th>0</th>\n      <td>19</td>\n      <td>female</td>\n      <td>27.900</td>\n      <td>0</td>\n      <td>yes</td>\n      <td>southwest</td>\n      <td>16884.92400</td>\n    </tr>\n    <tr>\n      <th>1</th>\n      <td>18</td>\n      <td>male</td>\n      <td>33.770</td>\n      <td>1</td>\n      <td>no</td>\n      <td>southeast</td>\n      <td>1725.55230</td>\n    </tr>\n    <tr>\n      <th>2</th>\n      <td>28</td>\n      <td>male</td>\n      <td>33.000</td>\n      <td>3</td>\n      <td>no</td>\n      <td>southeast</td>\n      <td>4449.46200</td>\n    </tr>\n    <tr>\n      <th>3</th>\n      <td>33</td>\n      <td>male</td>\n      <td>22.705</td>\n      <td>0</td>\n      <td>no</td>\n      <td>northwest</td>\n      <td>21984.47061</td>\n    </tr>\n    <tr>\n      <th>4</th>\n      <td>32</td>\n      <td>male</td>\n      <td>28.880</td>\n      <td>0</td>\n      <td>no</td>\n      <td>northwest</td>\n      <td>3866.85520</td>\n    </tr>\n    <tr>\n      <th>...</th>\n      <td>...</td>\n      <td>...</td>\n      <td>...</td>\n      <td>...</td>\n      <td>...</td>\n      <td>...</td>\n      <td>...</td>\n    </tr>\n    <tr>\n      <th>1333</th>\n      <td>50</td>\n      <td>male</td>\n      <td>30.970</td>\n      <td>3</td>\n      <td>no</td>\n      <td>northwest</td>\n      <td>10600.54830</td>\n    </tr>\n    <tr>\n      <th>1334</th>\n      <td>18</td>\n      <td>female</td>\n      <td>31.920</td>\n      <td>0</td>\n      <td>no</td>\n      <td>northeast</td>\n      <td>2205.98080</td>\n    </tr>\n    <tr>\n      <th>1335</th>\n      <td>18</td>\n      <td>female</td>\n      <td>36.850</td>\n      <td>0</td>\n      <td>no</td>\n      <td>southeast</td>\n      <td>1629.83350</td>\n    </tr>\n    <tr>\n      <th>1336</th>\n      <td>21</td>\n      <td>female</td>\n      <td>25.800</td>\n      <td>0</td>\n      <td>no</td>\n      <td>southwest</td>\n      <td>2007.94500</td>\n    </tr>\n    <tr>\n      <th>1337</th>\n      <td>61</td>\n      <td>female</td>\n      <td>29.070</td>\n      <td>0</td>\n      <td>yes</td>\n      <td>northwest</td>\n      <td>29141.36030</td>\n    </tr>\n  </tbody>\n</table>\n<p>1338 rows × 7 columns</p>\n</div>"
     },
     "execution_count": 55,
     "metadata": {},
     "output_type": "execute_result"
    }
   ],
   "source": [
    "# Read in the insurance dataset\n",
    "insurance = pd.read_csv(\"https://raw.githubusercontent.com/stedy/Machine-Learning-with-R-datasets/master/insurance.csv\")\n",
    "insurance"
   ],
   "metadata": {
    "collapsed": false,
    "ExecuteTime": {
     "end_time": "2023-10-23T14:18:23.716587929Z",
     "start_time": "2023-10-23T14:18:20.435925023Z"
    }
   },
   "id": "396af8df9eb7e859"
  },
  {
   "cell_type": "code",
   "execution_count": 56,
   "outputs": [
    {
     "data": {
      "text/plain": "   age     bmi  children      charges  sex_female  sex_male  smoker_no  \\\n0   19  27.900         0  16884.92400           1         0          0   \n1   18  33.770         1   1725.55230           0         1          1   \n2   28  33.000         3   4449.46200           0         1          1   \n3   33  22.705         0  21984.47061           0         1          1   \n4   32  28.880         0   3866.85520           0         1          1   \n\n   smoker_yes  region_northeast  region_northwest  region_southeast  \\\n0           1                 0                 0                 0   \n1           0                 0                 0                 1   \n2           0                 0                 0                 1   \n3           0                 0                 1                 0   \n4           0                 0                 1                 0   \n\n   region_southwest  \n0                 1  \n1                 0  \n2                 0  \n3                 0  \n4                 0  ",
      "text/html": "<div>\n<style scoped>\n    .dataframe tbody tr th:only-of-type {\n        vertical-align: middle;\n    }\n\n    .dataframe tbody tr th {\n        vertical-align: top;\n    }\n\n    .dataframe thead th {\n        text-align: right;\n    }\n</style>\n<table border=\"1\" class=\"dataframe\">\n  <thead>\n    <tr style=\"text-align: right;\">\n      <th></th>\n      <th>age</th>\n      <th>bmi</th>\n      <th>children</th>\n      <th>charges</th>\n      <th>sex_female</th>\n      <th>sex_male</th>\n      <th>smoker_no</th>\n      <th>smoker_yes</th>\n      <th>region_northeast</th>\n      <th>region_northwest</th>\n      <th>region_southeast</th>\n      <th>region_southwest</th>\n    </tr>\n  </thead>\n  <tbody>\n    <tr>\n      <th>0</th>\n      <td>19</td>\n      <td>27.900</td>\n      <td>0</td>\n      <td>16884.92400</td>\n      <td>1</td>\n      <td>0</td>\n      <td>0</td>\n      <td>1</td>\n      <td>0</td>\n      <td>0</td>\n      <td>0</td>\n      <td>1</td>\n    </tr>\n    <tr>\n      <th>1</th>\n      <td>18</td>\n      <td>33.770</td>\n      <td>1</td>\n      <td>1725.55230</td>\n      <td>0</td>\n      <td>1</td>\n      <td>1</td>\n      <td>0</td>\n      <td>0</td>\n      <td>0</td>\n      <td>1</td>\n      <td>0</td>\n    </tr>\n    <tr>\n      <th>2</th>\n      <td>28</td>\n      <td>33.000</td>\n      <td>3</td>\n      <td>4449.46200</td>\n      <td>0</td>\n      <td>1</td>\n      <td>1</td>\n      <td>0</td>\n      <td>0</td>\n      <td>0</td>\n      <td>1</td>\n      <td>0</td>\n    </tr>\n    <tr>\n      <th>3</th>\n      <td>33</td>\n      <td>22.705</td>\n      <td>0</td>\n      <td>21984.47061</td>\n      <td>0</td>\n      <td>1</td>\n      <td>1</td>\n      <td>0</td>\n      <td>0</td>\n      <td>1</td>\n      <td>0</td>\n      <td>0</td>\n    </tr>\n    <tr>\n      <th>4</th>\n      <td>32</td>\n      <td>28.880</td>\n      <td>0</td>\n      <td>3866.85520</td>\n      <td>0</td>\n      <td>1</td>\n      <td>1</td>\n      <td>0</td>\n      <td>0</td>\n      <td>1</td>\n      <td>0</td>\n      <td>0</td>\n    </tr>\n  </tbody>\n</table>\n</div>"
     },
     "execution_count": 56,
     "metadata": {},
     "output_type": "execute_result"
    }
   ],
   "source": [
    "# Let's try one-hot encode our DataFrame into numerical\n",
    "insurance_one_hot = pd.get_dummies(insurance, dtype=int)\n",
    "insurance_one_hot.head()"
   ],
   "metadata": {
    "collapsed": false,
    "ExecuteTime": {
     "end_time": "2023-10-23T14:18:23.718057086Z",
     "start_time": "2023-10-23T14:18:21.093543392Z"
    }
   },
   "id": "c1cecceda9d5a12c"
  },
  {
   "cell_type": "code",
   "execution_count": 57,
   "outputs": [],
   "source": [
    "# Create X and y values (features and labels)\n",
    "X = insurance_one_hot.drop(\"charges\", axis=1)\n",
    "y = insurance_one_hot[\"charges\"]"
   ],
   "metadata": {
    "collapsed": false,
    "ExecuteTime": {
     "end_time": "2023-10-23T14:18:23.718366458Z",
     "start_time": "2023-10-23T14:18:21.093759743Z"
    }
   },
   "id": "c0ddf274c9146e"
  },
  {
   "cell_type": "code",
   "execution_count": 58,
   "outputs": [
    {
     "data": {
      "text/plain": "   age     bmi  children  sex_female  sex_male  smoker_no  smoker_yes  \\\n0   19  27.900         0           1         0          0           1   \n1   18  33.770         1           0         1          1           0   \n2   28  33.000         3           0         1          1           0   \n3   33  22.705         0           0         1          1           0   \n4   32  28.880         0           0         1          1           0   \n\n   region_northeast  region_northwest  region_southeast  region_southwest  \n0                 0                 0                 0                 1  \n1                 0                 0                 1                 0  \n2                 0                 0                 1                 0  \n3                 0                 1                 0                 0  \n4                 0                 1                 0                 0  ",
      "text/html": "<div>\n<style scoped>\n    .dataframe tbody tr th:only-of-type {\n        vertical-align: middle;\n    }\n\n    .dataframe tbody tr th {\n        vertical-align: top;\n    }\n\n    .dataframe thead th {\n        text-align: right;\n    }\n</style>\n<table border=\"1\" class=\"dataframe\">\n  <thead>\n    <tr style=\"text-align: right;\">\n      <th></th>\n      <th>age</th>\n      <th>bmi</th>\n      <th>children</th>\n      <th>sex_female</th>\n      <th>sex_male</th>\n      <th>smoker_no</th>\n      <th>smoker_yes</th>\n      <th>region_northeast</th>\n      <th>region_northwest</th>\n      <th>region_southeast</th>\n      <th>region_southwest</th>\n    </tr>\n  </thead>\n  <tbody>\n    <tr>\n      <th>0</th>\n      <td>19</td>\n      <td>27.900</td>\n      <td>0</td>\n      <td>1</td>\n      <td>0</td>\n      <td>0</td>\n      <td>1</td>\n      <td>0</td>\n      <td>0</td>\n      <td>0</td>\n      <td>1</td>\n    </tr>\n    <tr>\n      <th>1</th>\n      <td>18</td>\n      <td>33.770</td>\n      <td>1</td>\n      <td>0</td>\n      <td>1</td>\n      <td>1</td>\n      <td>0</td>\n      <td>0</td>\n      <td>0</td>\n      <td>1</td>\n      <td>0</td>\n    </tr>\n    <tr>\n      <th>2</th>\n      <td>28</td>\n      <td>33.000</td>\n      <td>3</td>\n      <td>0</td>\n      <td>1</td>\n      <td>1</td>\n      <td>0</td>\n      <td>0</td>\n      <td>0</td>\n      <td>1</td>\n      <td>0</td>\n    </tr>\n    <tr>\n      <th>3</th>\n      <td>33</td>\n      <td>22.705</td>\n      <td>0</td>\n      <td>0</td>\n      <td>1</td>\n      <td>1</td>\n      <td>0</td>\n      <td>0</td>\n      <td>1</td>\n      <td>0</td>\n      <td>0</td>\n    </tr>\n    <tr>\n      <th>4</th>\n      <td>32</td>\n      <td>28.880</td>\n      <td>0</td>\n      <td>0</td>\n      <td>1</td>\n      <td>1</td>\n      <td>0</td>\n      <td>0</td>\n      <td>1</td>\n      <td>0</td>\n      <td>0</td>\n    </tr>\n  </tbody>\n</table>\n</div>"
     },
     "execution_count": 58,
     "metadata": {},
     "output_type": "execute_result"
    }
   ],
   "source": [
    "# View X\n",
    "X.head()"
   ],
   "metadata": {
    "collapsed": false,
    "ExecuteTime": {
     "end_time": "2023-10-23T14:18:23.719869594Z",
     "start_time": "2023-10-23T14:18:21.093879582Z"
    }
   },
   "id": "db56bd1dc41be88c"
  },
  {
   "cell_type": "code",
   "execution_count": 59,
   "outputs": [
    {
     "data": {
      "text/plain": "0    16884.92400\n1     1725.55230\n2     4449.46200\n3    21984.47061\n4     3866.85520\nName: charges, dtype: float64"
     },
     "execution_count": 59,
     "metadata": {},
     "output_type": "execute_result"
    }
   ],
   "source": [
    "# View y\n",
    "y.head()"
   ],
   "metadata": {
    "collapsed": false,
    "ExecuteTime": {
     "end_time": "2023-10-23T14:18:23.720512251Z",
     "start_time": "2023-10-23T14:18:21.094097410Z"
    }
   },
   "id": "6b3b1f8207b66e81"
  },
  {
   "cell_type": "code",
   "execution_count": 60,
   "outputs": [
    {
     "data": {
      "text/plain": "(1338, 1070, 268)"
     },
     "execution_count": 60,
     "metadata": {},
     "output_type": "execute_result"
    }
   ],
   "source": [
    "# Create training and test sets\n",
    "from sklearn.model_selection import train_test_split\n",
    "X_train, X_test, y_train, y_test = train_test_split(X, y, test_size=0.2, random_state=42)\n",
    "len(X), len(X_train), len(X_test)"
   ],
   "metadata": {
    "collapsed": false,
    "ExecuteTime": {
     "end_time": "2023-10-23T14:18:25.313507289Z",
     "start_time": "2023-10-23T14:18:21.137352501Z"
    }
   },
   "id": "382cbe7faefb5255"
  },
  {
   "cell_type": "code",
   "execution_count": 61,
   "outputs": [
    {
     "name": "stdout",
     "output_type": "stream",
     "text": [
      "Epoch 1/100\n",
      "34/34 [==============================] - 0s 931us/step - loss: 8612.6777 - mae: 8612.6777\n",
      "Epoch 2/100\n",
      "34/34 [==============================] - 0s 746us/step - loss: 7875.4111 - mae: 7875.4111\n",
      "Epoch 3/100\n",
      "34/34 [==============================] - 0s 729us/step - loss: 7594.7554 - mae: 7594.7554\n",
      "Epoch 4/100\n",
      "34/34 [==============================] - 0s 655us/step - loss: 7685.4395 - mae: 7685.4395\n",
      "Epoch 5/100\n",
      "34/34 [==============================] - 0s 864us/step - loss: 7727.3784 - mae: 7727.3784\n",
      "Epoch 6/100\n",
      "34/34 [==============================] - 0s 1ms/step - loss: 7653.7974 - mae: 7653.7974\n",
      "Epoch 7/100\n",
      "34/34 [==============================] - 0s 807us/step - loss: 7582.4521 - mae: 7582.4521\n",
      "Epoch 8/100\n",
      "34/34 [==============================] - 0s 907us/step - loss: 7758.3555 - mae: 7758.3555\n",
      "Epoch 9/100\n",
      "34/34 [==============================] - 0s 670us/step - loss: 7585.8276 - mae: 7585.8276\n",
      "Epoch 10/100\n",
      "34/34 [==============================] - 0s 724us/step - loss: 7719.4727 - mae: 7719.4727\n",
      "Epoch 11/100\n",
      "34/34 [==============================] - 0s 718us/step - loss: 7624.5049 - mae: 7624.5049\n",
      "Epoch 12/100\n",
      "34/34 [==============================] - 0s 695us/step - loss: 7601.0229 - mae: 7601.0229\n",
      "Epoch 13/100\n",
      "34/34 [==============================] - 0s 704us/step - loss: 7655.3823 - mae: 7655.3823\n",
      "Epoch 14/100\n",
      "34/34 [==============================] - 0s 961us/step - loss: 7843.7759 - mae: 7843.7759\n",
      "Epoch 15/100\n",
      "34/34 [==============================] - 0s 704us/step - loss: 7494.6606 - mae: 7494.6606\n",
      "Epoch 16/100\n",
      "34/34 [==============================] - 0s 850us/step - loss: 7736.8857 - mae: 7736.8857\n",
      "Epoch 17/100\n",
      "34/34 [==============================] - 0s 760us/step - loss: 7625.7295 - mae: 7625.7295\n",
      "Epoch 18/100\n",
      "34/34 [==============================] - 0s 758us/step - loss: 7737.4702 - mae: 7737.4702\n",
      "Epoch 19/100\n",
      "34/34 [==============================] - 0s 686us/step - loss: 7508.1675 - mae: 7508.1675\n",
      "Epoch 20/100\n",
      "34/34 [==============================] - 0s 700us/step - loss: 7906.2739 - mae: 7906.2739\n",
      "Epoch 21/100\n",
      "34/34 [==============================] - 0s 677us/step - loss: 7557.1968 - mae: 7557.1968\n",
      "Epoch 22/100\n",
      "34/34 [==============================] - 0s 809us/step - loss: 7785.5249 - mae: 7785.5249\n",
      "Epoch 23/100\n",
      "34/34 [==============================] - 0s 766us/step - loss: 7654.2227 - mae: 7654.2227\n",
      "Epoch 24/100\n",
      "34/34 [==============================] - 0s 860us/step - loss: 7531.8726 - mae: 7531.8726\n",
      "Epoch 25/100\n",
      "34/34 [==============================] - 0s 877us/step - loss: 7604.9995 - mae: 7604.9995\n",
      "Epoch 26/100\n",
      "34/34 [==============================] - 0s 793us/step - loss: 7696.9741 - mae: 7696.9741\n",
      "Epoch 27/100\n",
      "34/34 [==============================] - 0s 738us/step - loss: 7705.9766 - mae: 7705.9766\n",
      "Epoch 28/100\n",
      "34/34 [==============================] - 0s 739us/step - loss: 7322.6016 - mae: 7322.6016\n",
      "Epoch 29/100\n",
      "34/34 [==============================] - 0s 748us/step - loss: 7633.4961 - mae: 7633.4961\n",
      "Epoch 30/100\n",
      "34/34 [==============================] - 0s 809us/step - loss: 7658.7085 - mae: 7658.7085\n",
      "Epoch 31/100\n",
      "34/34 [==============================] - 0s 840us/step - loss: 7527.2339 - mae: 7527.2339\n",
      "Epoch 32/100\n",
      "34/34 [==============================] - 0s 687us/step - loss: 7590.8491 - mae: 7590.8491\n",
      "Epoch 33/100\n",
      "34/34 [==============================] - 0s 840us/step - loss: 7599.6406 - mae: 7599.6406\n",
      "Epoch 34/100\n",
      "34/34 [==============================] - 0s 841us/step - loss: 7433.0991 - mae: 7433.0991\n",
      "Epoch 35/100\n",
      "34/34 [==============================] - 0s 1ms/step - loss: 7612.5679 - mae: 7612.5679\n",
      "Epoch 36/100\n",
      "34/34 [==============================] - 0s 1ms/step - loss: 7566.7798 - mae: 7566.7798\n",
      "Epoch 37/100\n",
      "34/34 [==============================] - 0s 1ms/step - loss: 7636.2939 - mae: 7636.2939\n",
      "Epoch 38/100\n",
      "34/34 [==============================] - 0s 1ms/step - loss: 7282.4395 - mae: 7282.4395\n",
      "Epoch 39/100\n",
      "34/34 [==============================] - 0s 1ms/step - loss: 7536.9150 - mae: 7536.9150\n",
      "Epoch 40/100\n",
      "34/34 [==============================] - 0s 971us/step - loss: 7432.0317 - mae: 7432.0317\n",
      "Epoch 41/100\n",
      "34/34 [==============================] - 0s 808us/step - loss: 7600.5933 - mae: 7600.5933\n",
      "Epoch 42/100\n",
      "34/34 [==============================] - 0s 726us/step - loss: 7160.9326 - mae: 7160.9326\n",
      "Epoch 43/100\n",
      "34/34 [==============================] - 0s 751us/step - loss: 7701.6162 - mae: 7701.6162\n",
      "Epoch 44/100\n",
      "34/34 [==============================] - 0s 723us/step - loss: 7439.5967 - mae: 7439.5967\n",
      "Epoch 45/100\n",
      "34/34 [==============================] - 0s 1ms/step - loss: 7530.2480 - mae: 7530.2480\n",
      "Epoch 46/100\n",
      "34/34 [==============================] - 0s 970us/step - loss: 7428.8389 - mae: 7428.8389\n",
      "Epoch 47/100\n",
      "34/34 [==============================] - 0s 974us/step - loss: 7506.0249 - mae: 7506.0249\n",
      "Epoch 48/100\n",
      "34/34 [==============================] - 0s 773us/step - loss: 7493.1147 - mae: 7493.1147\n",
      "Epoch 49/100\n",
      "34/34 [==============================] - 0s 910us/step - loss: 7555.0049 - mae: 7555.0049\n",
      "Epoch 50/100\n",
      "34/34 [==============================] - 0s 791us/step - loss: 7478.0400 - mae: 7478.0400\n",
      "Epoch 51/100\n",
      "34/34 [==============================] - 0s 796us/step - loss: 7419.9980 - mae: 7419.9980\n",
      "Epoch 52/100\n",
      "34/34 [==============================] - 0s 1ms/step - loss: 7305.5928 - mae: 7305.5928\n",
      "Epoch 53/100\n",
      "34/34 [==============================] - 0s 852us/step - loss: 7619.3428 - mae: 7619.3428\n",
      "Epoch 54/100\n",
      "34/34 [==============================] - 0s 818us/step - loss: 7163.7886 - mae: 7163.7886\n",
      "Epoch 55/100\n",
      "34/34 [==============================] - 0s 822us/step - loss: 7163.5430 - mae: 7163.5430\n",
      "Epoch 56/100\n",
      "34/34 [==============================] - 0s 891us/step - loss: 7385.9658 - mae: 7385.9658\n",
      "Epoch 57/100\n",
      "34/34 [==============================] - 0s 838us/step - loss: 7405.1733 - mae: 7405.1733\n",
      "Epoch 58/100\n",
      "34/34 [==============================] - 0s 802us/step - loss: 7252.3770 - mae: 7252.3770\n",
      "Epoch 59/100\n",
      "34/34 [==============================] - 0s 735us/step - loss: 7585.1084 - mae: 7585.1084\n",
      "Epoch 60/100\n",
      "34/34 [==============================] - 0s 828us/step - loss: 7474.9917 - mae: 7474.9917\n",
      "Epoch 61/100\n",
      "34/34 [==============================] - 0s 837us/step - loss: 7239.5781 - mae: 7239.5781\n",
      "Epoch 62/100\n",
      "34/34 [==============================] - 0s 983us/step - loss: 7511.0674 - mae: 7511.0674\n",
      "Epoch 63/100\n",
      "34/34 [==============================] - 0s 1ms/step - loss: 7250.9077 - mae: 7250.9077\n",
      "Epoch 64/100\n",
      "34/34 [==============================] - 0s 913us/step - loss: 7307.9116 - mae: 7307.9116\n",
      "Epoch 65/100\n",
      "34/34 [==============================] - 0s 1ms/step - loss: 7438.0649 - mae: 7438.0649\n",
      "Epoch 66/100\n",
      "34/34 [==============================] - 0s 732us/step - loss: 7582.2627 - mae: 7582.2627\n",
      "Epoch 67/100\n",
      "34/34 [==============================] - 0s 692us/step - loss: 7369.0967 - mae: 7369.0967\n",
      "Epoch 68/100\n",
      "34/34 [==============================] - 0s 719us/step - loss: 7476.6709 - mae: 7476.6709\n",
      "Epoch 69/100\n",
      "34/34 [==============================] - 0s 695us/step - loss: 7538.0327 - mae: 7538.0327\n",
      "Epoch 70/100\n",
      "34/34 [==============================] - 0s 727us/step - loss: 7686.6235 - mae: 7686.6235\n",
      "Epoch 71/100\n",
      "34/34 [==============================] - 0s 924us/step - loss: 7432.6909 - mae: 7432.6909\n",
      "Epoch 72/100\n",
      "34/34 [==============================] - 0s 853us/step - loss: 7363.3477 - mae: 7363.3477\n",
      "Epoch 73/100\n",
      "34/34 [==============================] - 0s 653us/step - loss: 7377.3789 - mae: 7377.3789\n",
      "Epoch 74/100\n",
      "34/34 [==============================] - 0s 749us/step - loss: 7498.3418 - mae: 7498.3418\n",
      "Epoch 75/100\n",
      "34/34 [==============================] - 0s 919us/step - loss: 7249.1929 - mae: 7249.1929\n",
      "Epoch 76/100\n",
      "34/34 [==============================] - 0s 912us/step - loss: 7121.1973 - mae: 7121.1973\n",
      "Epoch 77/100\n",
      "34/34 [==============================] - 0s 751us/step - loss: 7344.6841 - mae: 7344.6841\n",
      "Epoch 78/100\n",
      "34/34 [==============================] - 0s 790us/step - loss: 7358.9028 - mae: 7358.9028\n",
      "Epoch 79/100\n",
      "34/34 [==============================] - 0s 891us/step - loss: 7404.0991 - mae: 7404.0991\n",
      "Epoch 80/100\n",
      "34/34 [==============================] - 0s 962us/step - loss: 7105.1274 - mae: 7105.1274\n",
      "Epoch 81/100\n",
      "34/34 [==============================] - 0s 790us/step - loss: 7290.7393 - mae: 7290.7393\n",
      "Epoch 82/100\n",
      "34/34 [==============================] - 0s 736us/step - loss: 7201.3701 - mae: 7201.3701\n",
      "Epoch 83/100\n",
      "34/34 [==============================] - 0s 782us/step - loss: 7476.2544 - mae: 7476.2544\n",
      "Epoch 84/100\n",
      "34/34 [==============================] - 0s 712us/step - loss: 7257.0098 - mae: 7257.0098\n",
      "Epoch 85/100\n",
      "34/34 [==============================] - 0s 756us/step - loss: 7528.3286 - mae: 7528.3286\n",
      "Epoch 86/100\n",
      "34/34 [==============================] - 0s 914us/step - loss: 7548.8491 - mae: 7548.8491\n",
      "Epoch 87/100\n",
      "34/34 [==============================] - 0s 938us/step - loss: 7245.0806 - mae: 7245.0806\n",
      "Epoch 88/100\n",
      "34/34 [==============================] - 0s 906us/step - loss: 7304.3745 - mae: 7304.3745\n",
      "Epoch 89/100\n",
      "34/34 [==============================] - 0s 691us/step - loss: 7510.8237 - mae: 7510.8237\n",
      "Epoch 90/100\n",
      "34/34 [==============================] - 0s 645us/step - loss: 7129.6470 - mae: 7129.6470\n",
      "Epoch 91/100\n",
      "34/34 [==============================] - 0s 774us/step - loss: 7230.8120 - mae: 7230.8120\n",
      "Epoch 92/100\n",
      "34/34 [==============================] - 0s 826us/step - loss: 7350.5698 - mae: 7350.5698\n",
      "Epoch 93/100\n",
      "34/34 [==============================] - 0s 679us/step - loss: 7406.6792 - mae: 7406.6792\n",
      "Epoch 94/100\n",
      "34/34 [==============================] - 0s 748us/step - loss: 7194.7993 - mae: 7194.7993\n",
      "Epoch 95/100\n",
      "34/34 [==============================] - 0s 979us/step - loss: 7353.5698 - mae: 7353.5698\n",
      "Epoch 96/100\n",
      "34/34 [==============================] - 0s 822us/step - loss: 7139.3530 - mae: 7139.3530\n",
      "Epoch 97/100\n",
      "34/34 [==============================] - 0s 718us/step - loss: 7309.6777 - mae: 7309.6777\n",
      "Epoch 98/100\n",
      "34/34 [==============================] - 0s 743us/step - loss: 7390.2231 - mae: 7390.2231\n",
      "Epoch 99/100\n",
      "34/34 [==============================] - 0s 730us/step - loss: 7318.2373 - mae: 7318.2373\n",
      "Epoch 100/100\n",
      "34/34 [==============================] - 0s 746us/step - loss: 7143.5103 - mae: 7143.5103\n"
     ]
    },
    {
     "data": {
      "text/plain": "<keras.src.callbacks.History at 0x7fa206d27a30>"
     },
     "execution_count": 61,
     "metadata": {},
     "output_type": "execute_result"
    }
   ],
   "source": [
    "# Build a neural network \n",
    "tf.random.set_seed(42)\n",
    "\n",
    "# 1. Create a model\n",
    "insurance_model = tf.keras.Sequential([\n",
    "    tf.keras.layers.Dense(10),\n",
    "    tf.keras.layers.Dense(1)\n",
    "])\n",
    "\n",
    "# 2. Compile the model\n",
    "insurance_model.compile(loss=tf.keras.losses.mae,\n",
    "                        optimizer=tf.keras.optimizers.SGD(),\n",
    "                        metrics=[\"mae\"])\n",
    "# 3. Fit the model\n",
    "insurance_model.fit(tf.constant(X_train), tf.constant(y_train), epochs=100)"
   ],
   "metadata": {
    "collapsed": false,
    "ExecuteTime": {
     "end_time": "2023-10-23T14:18:30.771287845Z",
     "start_time": "2023-10-23T14:18:21.382121966Z"
    }
   },
   "id": "585ad62d6835ef7d"
  },
  {
   "cell_type": "code",
   "execution_count": 62,
   "outputs": [
    {
     "name": "stdout",
     "output_type": "stream",
     "text": [
      "9/9 [==============================] - 0s 925us/step - loss: 7190.1587 - mae: 7190.1587\n"
     ]
    },
    {
     "data": {
      "text/plain": "[7190.15869140625, 7190.15869140625]"
     },
     "execution_count": 62,
     "metadata": {},
     "output_type": "execute_result"
    }
   ],
   "source": [
    "# Check the results of the insurance model on the test data\n",
    "insurance_model.evaluate(tf.constant(X_test), tf.constant(y_test))"
   ],
   "metadata": {
    "collapsed": false,
    "ExecuteTime": {
     "end_time": "2023-10-23T14:18:30.771870987Z",
     "start_time": "2023-10-23T14:18:24.901559986Z"
    }
   },
   "id": "b7948164bfcf709"
  },
  {
   "cell_type": "code",
   "execution_count": 63,
   "outputs": [
    {
     "data": {
      "text/plain": "13346.089736364485"
     },
     "execution_count": 63,
     "metadata": {},
     "output_type": "execute_result"
    }
   ],
   "source": [
    "y_train.mean()"
   ],
   "metadata": {
    "collapsed": false,
    "ExecuteTime": {
     "end_time": "2023-10-23T14:18:30.792382705Z",
     "start_time": "2023-10-23T14:18:25.023299616Z"
    }
   },
   "id": "bb61c0c33bbaa92d"
  },
  {
   "cell_type": "markdown",
   "source": [
    "#### Right now it looks like our model isn't performing too well...let's try and improve it\n",
    "\n",
    "To (try) improve our model, we'll run 2 experiments:\n",
    "1. Add an extra layer with more hidden units nad use the Adam optimizer\n",
    "2. Train for longer "
   ],
   "metadata": {
    "collapsed": false
   },
   "id": "9e521557e1e342dc"
  },
  {
   "cell_type": "code",
   "execution_count": 64,
   "outputs": [
    {
     "name": "stdout",
     "output_type": "stream",
     "text": [
      "Epoch 1/100\n",
      "34/34 [==============================] - 0s 1ms/step - loss: 13304.4785 - mae: 13304.4785\n",
      "Epoch 2/100\n",
      "34/34 [==============================] - 0s 913us/step - loss: 13121.2646 - mae: 13121.2646\n",
      "Epoch 3/100\n",
      "34/34 [==============================] - 0s 961us/step - loss: 12749.9316 - mae: 12749.9316\n",
      "Epoch 4/100\n",
      "34/34 [==============================] - 0s 929us/step - loss: 12038.5215 - mae: 12038.5215\n",
      "Epoch 5/100\n",
      "34/34 [==============================] - 0s 911us/step - loss: 10880.1367 - mae: 10880.1367\n",
      "Epoch 6/100\n",
      "34/34 [==============================] - 0s 956us/step - loss: 9441.7285 - mae: 9441.7285\n",
      "Epoch 7/100\n",
      "34/34 [==============================] - 0s 823us/step - loss: 8155.1685 - mae: 8155.1685\n",
      "Epoch 8/100\n",
      "34/34 [==============================] - 0s 988us/step - loss: 7549.2368 - mae: 7549.2368\n",
      "Epoch 9/100\n",
      "34/34 [==============================] - 0s 951us/step - loss: 7449.1284 - mae: 7449.1284\n",
      "Epoch 10/100\n",
      "34/34 [==============================] - 0s 861us/step - loss: 7428.2661 - mae: 7428.2661\n",
      "Epoch 11/100\n",
      "34/34 [==============================] - 0s 1ms/step - loss: 7408.9312 - mae: 7408.9312\n",
      "Epoch 12/100\n",
      "34/34 [==============================] - 0s 819us/step - loss: 7386.2773 - mae: 7386.2773\n",
      "Epoch 13/100\n",
      "34/34 [==============================] - 0s 922us/step - loss: 7365.2622 - mae: 7365.2622\n",
      "Epoch 14/100\n",
      "34/34 [==============================] - 0s 941us/step - loss: 7342.3584 - mae: 7342.3584\n",
      "Epoch 15/100\n",
      "34/34 [==============================] - 0s 871us/step - loss: 7322.4956 - mae: 7322.4956\n",
      "Epoch 16/100\n",
      "34/34 [==============================] - 0s 852us/step - loss: 7298.8032 - mae: 7298.8032\n",
      "Epoch 17/100\n",
      "34/34 [==============================] - 0s 852us/step - loss: 7278.6104 - mae: 7278.6104\n",
      "Epoch 18/100\n",
      "34/34 [==============================] - 0s 827us/step - loss: 7253.4707 - mae: 7253.4707\n",
      "Epoch 19/100\n",
      "34/34 [==============================] - 0s 964us/step - loss: 7230.1797 - mae: 7230.1797\n",
      "Epoch 20/100\n",
      "34/34 [==============================] - 0s 873us/step - loss: 7205.6450 - mae: 7205.6450\n",
      "Epoch 21/100\n",
      "34/34 [==============================] - 0s 815us/step - loss: 7185.1997 - mae: 7185.1997\n",
      "Epoch 22/100\n",
      "34/34 [==============================] - 0s 831us/step - loss: 7155.8306 - mae: 7155.8306\n",
      "Epoch 23/100\n",
      "34/34 [==============================] - 0s 818us/step - loss: 7129.1943 - mae: 7129.1943\n",
      "Epoch 24/100\n",
      "34/34 [==============================] - 0s 865us/step - loss: 7102.1235 - mae: 7102.1235\n",
      "Epoch 25/100\n",
      "34/34 [==============================] - 0s 886us/step - loss: 7081.8564 - mae: 7081.8564\n",
      "Epoch 26/100\n",
      "34/34 [==============================] - 0s 896us/step - loss: 7047.3833 - mae: 7047.3833\n",
      "Epoch 27/100\n",
      "34/34 [==============================] - 0s 922us/step - loss: 7015.9478 - mae: 7015.9478\n",
      "Epoch 28/100\n",
      "34/34 [==============================] - 0s 814us/step - loss: 6984.6147 - mae: 6984.6147\n",
      "Epoch 29/100\n",
      "34/34 [==============================] - 0s 834us/step - loss: 6952.9712 - mae: 6952.9712\n",
      "Epoch 30/100\n",
      "34/34 [==============================] - 0s 831us/step - loss: 6922.1733 - mae: 6922.1733\n",
      "Epoch 31/100\n",
      "34/34 [==============================] - 0s 868us/step - loss: 6887.5483 - mae: 6887.5483\n",
      "Epoch 32/100\n",
      "34/34 [==============================] - 0s 963us/step - loss: 6855.7671 - mae: 6855.7671\n",
      "Epoch 33/100\n",
      "34/34 [==============================] - 0s 891us/step - loss: 6820.9619 - mae: 6820.9619\n",
      "Epoch 34/100\n",
      "34/34 [==============================] - 0s 914us/step - loss: 6785.3853 - mae: 6785.3853\n",
      "Epoch 35/100\n",
      "34/34 [==============================] - 0s 852us/step - loss: 6746.6245 - mae: 6746.6245\n",
      "Epoch 36/100\n",
      "34/34 [==============================] - 0s 861us/step - loss: 6709.0908 - mae: 6709.0908\n",
      "Epoch 37/100\n",
      "34/34 [==============================] - 0s 984us/step - loss: 6668.3442 - mae: 6668.3442\n",
      "Epoch 38/100\n",
      "34/34 [==============================] - 0s 886us/step - loss: 6635.3843 - mae: 6635.3843\n",
      "Epoch 39/100\n",
      "34/34 [==============================] - 0s 1ms/step - loss: 6594.8267 - mae: 6594.8267\n",
      "Epoch 40/100\n",
      "34/34 [==============================] - 0s 934us/step - loss: 6560.8237 - mae: 6560.8237\n",
      "Epoch 41/100\n",
      "34/34 [==============================] - 0s 929us/step - loss: 6533.6353 - mae: 6533.6353\n",
      "Epoch 42/100\n",
      "34/34 [==============================] - 0s 845us/step - loss: 6510.4819 - mae: 6510.4819\n",
      "Epoch 43/100\n",
      "34/34 [==============================] - 0s 876us/step - loss: 6487.4497 - mae: 6487.4497\n",
      "Epoch 44/100\n",
      "34/34 [==============================] - 0s 972us/step - loss: 6468.4746 - mae: 6468.4746\n",
      "Epoch 45/100\n",
      "34/34 [==============================] - 0s 906us/step - loss: 6459.0488 - mae: 6459.0488\n",
      "Epoch 46/100\n",
      "34/34 [==============================] - 0s 898us/step - loss: 6441.1816 - mae: 6441.1816\n",
      "Epoch 47/100\n",
      "34/34 [==============================] - 0s 944us/step - loss: 6424.7773 - mae: 6424.7773\n",
      "Epoch 48/100\n",
      "34/34 [==============================] - 0s 912us/step - loss: 6409.9902 - mae: 6409.9902\n",
      "Epoch 49/100\n",
      "34/34 [==============================] - 0s 875us/step - loss: 6399.0508 - mae: 6399.0508\n",
      "Epoch 50/100\n",
      "34/34 [==============================] - 0s 942us/step - loss: 6384.0381 - mae: 6384.0381\n",
      "Epoch 51/100\n",
      "34/34 [==============================] - 0s 853us/step - loss: 6369.6421 - mae: 6369.6421\n",
      "Epoch 52/100\n",
      "34/34 [==============================] - 0s 908us/step - loss: 6356.0571 - mae: 6356.0571\n",
      "Epoch 53/100\n",
      "34/34 [==============================] - 0s 899us/step - loss: 6341.2783 - mae: 6341.2783\n",
      "Epoch 54/100\n",
      "34/34 [==============================] - 0s 1ms/step - loss: 6326.3452 - mae: 6326.3452\n",
      "Epoch 55/100\n",
      "34/34 [==============================] - 0s 1ms/step - loss: 6312.5122 - mae: 6312.5122\n",
      "Epoch 56/100\n",
      "34/34 [==============================] - 0s 1ms/step - loss: 6297.4121 - mae: 6297.4121\n",
      "Epoch 57/100\n",
      "34/34 [==============================] - 0s 962us/step - loss: 6282.6479 - mae: 6282.6479\n",
      "Epoch 58/100\n",
      "34/34 [==============================] - 0s 974us/step - loss: 6268.7104 - mae: 6268.7104\n",
      "Epoch 59/100\n",
      "34/34 [==============================] - 0s 1ms/step - loss: 6251.1196 - mae: 6251.1196\n",
      "Epoch 60/100\n",
      "34/34 [==============================] - 0s 1ms/step - loss: 6239.5776 - mae: 6239.5776\n",
      "Epoch 61/100\n",
      "34/34 [==============================] - 0s 947us/step - loss: 6217.6069 - mae: 6217.6069\n",
      "Epoch 62/100\n",
      "34/34 [==============================] - 0s 872us/step - loss: 6204.8130 - mae: 6204.8130\n",
      "Epoch 63/100\n",
      "34/34 [==============================] - 0s 913us/step - loss: 6183.5684 - mae: 6183.5684\n",
      "Epoch 64/100\n",
      "34/34 [==============================] - 0s 986us/step - loss: 6165.4170 - mae: 6165.4170\n",
      "Epoch 65/100\n",
      "34/34 [==============================] - 0s 935us/step - loss: 6147.0552 - mae: 6147.0552\n",
      "Epoch 66/100\n",
      "34/34 [==============================] - 0s 848us/step - loss: 6127.8350 - mae: 6127.8350\n",
      "Epoch 67/100\n",
      "34/34 [==============================] - 0s 848us/step - loss: 6114.5054 - mae: 6114.5054\n",
      "Epoch 68/100\n",
      "34/34 [==============================] - 0s 815us/step - loss: 6088.4346 - mae: 6088.4346\n",
      "Epoch 69/100\n",
      "34/34 [==============================] - 0s 877us/step - loss: 6071.3438 - mae: 6071.3438\n",
      "Epoch 70/100\n",
      "34/34 [==============================] - 0s 980us/step - loss: 6048.2959 - mae: 6048.2959\n",
      "Epoch 71/100\n",
      "34/34 [==============================] - 0s 1ms/step - loss: 6026.7554 - mae: 6026.7554\n",
      "Epoch 72/100\n",
      "34/34 [==============================] - 0s 1ms/step - loss: 6003.7954 - mae: 6003.7954\n",
      "Epoch 73/100\n",
      "34/34 [==============================] - 0s 1ms/step - loss: 5988.5859 - mae: 5988.5859\n",
      "Epoch 74/100\n",
      "34/34 [==============================] - 0s 960us/step - loss: 5956.3315 - mae: 5956.3315\n",
      "Epoch 75/100\n",
      "34/34 [==============================] - 0s 910us/step - loss: 5932.7573 - mae: 5932.7573\n",
      "Epoch 76/100\n",
      "34/34 [==============================] - 0s 1ms/step - loss: 5913.4272 - mae: 5913.4272\n",
      "Epoch 77/100\n",
      "34/34 [==============================] - 0s 1ms/step - loss: 5879.4263 - mae: 5879.4263\n",
      "Epoch 78/100\n",
      "34/34 [==============================] - 0s 980us/step - loss: 5852.9663 - mae: 5852.9663\n",
      "Epoch 79/100\n",
      "34/34 [==============================] - 0s 1ms/step - loss: 5824.8530 - mae: 5824.8530\n",
      "Epoch 80/100\n",
      "34/34 [==============================] - 0s 864us/step - loss: 5793.4302 - mae: 5793.4302\n",
      "Epoch 81/100\n",
      "34/34 [==============================] - 0s 840us/step - loss: 5764.9307 - mae: 5764.9307\n",
      "Epoch 82/100\n",
      "34/34 [==============================] - 0s 863us/step - loss: 5731.2446 - mae: 5731.2446\n",
      "Epoch 83/100\n",
      "34/34 [==============================] - 0s 819us/step - loss: 5699.4263 - mae: 5699.4263\n",
      "Epoch 84/100\n",
      "34/34 [==============================] - 0s 835us/step - loss: 5661.4897 - mae: 5661.4897\n",
      "Epoch 85/100\n",
      "34/34 [==============================] - 0s 843us/step - loss: 5629.9526 - mae: 5629.9526\n",
      "Epoch 86/100\n",
      "34/34 [==============================] - 0s 878us/step - loss: 5592.9316 - mae: 5592.9316\n",
      "Epoch 87/100\n",
      "34/34 [==============================] - 0s 868us/step - loss: 5551.4233 - mae: 5551.4233\n",
      "Epoch 88/100\n",
      "34/34 [==============================] - 0s 858us/step - loss: 5509.4185 - mae: 5509.4185\n",
      "Epoch 89/100\n",
      "34/34 [==============================] - 0s 964us/step - loss: 5465.3726 - mae: 5465.3726\n",
      "Epoch 90/100\n",
      "34/34 [==============================] - 0s 907us/step - loss: 5417.5059 - mae: 5417.5059\n",
      "Epoch 91/100\n",
      "34/34 [==============================] - 0s 967us/step - loss: 5374.1606 - mae: 5374.1606\n",
      "Epoch 92/100\n",
      "34/34 [==============================] - 0s 861us/step - loss: 5323.2725 - mae: 5323.2725\n",
      "Epoch 93/100\n",
      "34/34 [==============================] - 0s 842us/step - loss: 5273.0425 - mae: 5273.0425\n",
      "Epoch 94/100\n",
      "34/34 [==============================] - 0s 837us/step - loss: 5219.1816 - mae: 5219.1816\n",
      "Epoch 95/100\n",
      "34/34 [==============================] - 0s 817us/step - loss: 5161.6299 - mae: 5161.6299\n",
      "Epoch 96/100\n",
      "34/34 [==============================] - 0s 908us/step - loss: 5111.0933 - mae: 5111.0933\n",
      "Epoch 97/100\n",
      "34/34 [==============================] - 0s 919us/step - loss: 5048.9253 - mae: 5048.9253\n",
      "Epoch 98/100\n",
      "34/34 [==============================] - 0s 1ms/step - loss: 4982.6992 - mae: 4982.6992\n",
      "Epoch 99/100\n",
      "34/34 [==============================] - 0s 930us/step - loss: 4911.9663 - mae: 4911.9663\n",
      "Epoch 100/100\n",
      "34/34 [==============================] - 0s 958us/step - loss: 4855.6426 - mae: 4855.6426\n"
     ]
    },
    {
     "data": {
      "text/plain": "<keras.src.callbacks.History at 0x7fa260d1bd30>"
     },
     "execution_count": 64,
     "metadata": {},
     "output_type": "execute_result"
    }
   ],
   "source": [
    "# Set random seed\n",
    "tf.random.set_seed(42)\n",
    "\n",
    "# 1. Create the model\n",
    "insurance_model_2 = tf.keras.Sequential([\n",
    "    tf.keras.layers.Dense(100),\n",
    "    tf.keras.layers.Dense(10),\n",
    "    tf.keras.layers.Dense(1)\n",
    "])\n",
    "\n",
    "# 2. Compile the model\n",
    "insurance_model_2.compile(loss=tf.keras.losses.mae,\n",
    "                          optimizer=tf.keras.optimizers.Adam(),\n",
    "                          metrics=[\"mae\"])\n",
    "\n",
    "# 3. Fit the model\n",
    "insurance_model_2.fit(tf.constant(X_train), tf.constant(y_train), epochs=100, verbose=1)"
   ],
   "metadata": {
    "collapsed": false,
    "ExecuteTime": {
     "end_time": "2023-10-23T14:18:31.054740203Z",
     "start_time": "2023-10-23T14:18:25.081437464Z"
    }
   },
   "id": "99d21f767b53a9b9"
  },
  {
   "cell_type": "code",
   "execution_count": 65,
   "outputs": [
    {
     "name": "stdout",
     "output_type": "stream",
     "text": [
      "9/9 [==============================] - 0s 1ms/step - loss: 4731.4360 - mae: 4731.4360\n"
     ]
    },
    {
     "data": {
      "text/plain": "[4731.43603515625, 4731.43603515625]"
     },
     "execution_count": 65,
     "metadata": {},
     "output_type": "execute_result"
    }
   ],
   "source": [
    "# Evaluate new model\n",
    "insurance_model_2.evaluate(tf.constant(X_test), tf.constant(y_test))"
   ],
   "metadata": {
    "collapsed": false,
    "ExecuteTime": {
     "end_time": "2023-10-23T14:18:31.055245865Z",
     "start_time": "2023-10-23T14:18:28.811548097Z"
    }
   },
   "id": "571ad3978718329b"
  },
  {
   "cell_type": "code",
   "execution_count": 66,
   "outputs": [
    {
     "name": "stdout",
     "output_type": "stream",
     "text": [
      "9/9 [==============================] - 0s 1ms/step - loss: 7190.1587 - mae: 7190.1587\n"
     ]
    },
    {
     "data": {
      "text/plain": "[7190.15869140625, 7190.15869140625]"
     },
     "execution_count": 66,
     "metadata": {},
     "output_type": "execute_result"
    }
   ],
   "source": [
    "insurance_model.evaluate(tf.constant(X_test), tf.constant(y_test))"
   ],
   "metadata": {
    "collapsed": false,
    "ExecuteTime": {
     "end_time": "2023-10-23T14:18:31.055593209Z",
     "start_time": "2023-10-23T14:18:28.920728744Z"
    }
   },
   "id": "42d558b3f7459fe5"
  },
  {
   "cell_type": "code",
   "execution_count": 67,
   "outputs": [
    {
     "name": "stdout",
     "output_type": "stream",
     "text": [
      "Epoch 1/200\n",
      "34/34 [==============================] - 0s 1ms/step - loss: 13292.6230 - mae: 13292.6230\n",
      "Epoch 2/200\n",
      "34/34 [==============================] - 0s 996us/step - loss: 13139.0361 - mae: 13139.0361\n",
      "Epoch 3/200\n",
      "34/34 [==============================] - 0s 901us/step - loss: 12803.6113 - mae: 12803.6113\n",
      "Epoch 4/200\n",
      "34/34 [==============================] - 0s 900us/step - loss: 12134.9727 - mae: 12134.9727\n",
      "Epoch 5/200\n",
      "34/34 [==============================] - 0s 844us/step - loss: 11005.3154 - mae: 11005.3154\n",
      "Epoch 6/200\n",
      "34/34 [==============================] - 0s 971us/step - loss: 9538.2285 - mae: 9538.2285\n",
      "Epoch 7/200\n",
      "34/34 [==============================] - 0s 911us/step - loss: 8185.5684 - mae: 8185.5684\n",
      "Epoch 8/200\n",
      "34/34 [==============================] - 0s 940us/step - loss: 7518.1270 - mae: 7518.1270\n",
      "Epoch 9/200\n",
      "34/34 [==============================] - 0s 913us/step - loss: 7405.2930 - mae: 7405.2930\n",
      "Epoch 10/200\n",
      "34/34 [==============================] - 0s 889us/step - loss: 7384.9150 - mae: 7384.9150\n",
      "Epoch 11/200\n",
      "34/34 [==============================] - 0s 888us/step - loss: 7366.5513 - mae: 7366.5513\n",
      "Epoch 12/200\n",
      "34/34 [==============================] - 0s 893us/step - loss: 7345.2227 - mae: 7345.2227\n",
      "Epoch 13/200\n",
      "34/34 [==============================] - 0s 998us/step - loss: 7325.5298 - mae: 7325.5298\n",
      "Epoch 14/200\n",
      "34/34 [==============================] - 0s 1ms/step - loss: 7303.6772 - mae: 7303.6772\n",
      "Epoch 15/200\n",
      "34/34 [==============================] - 0s 1ms/step - loss: 7285.7666 - mae: 7285.7666\n",
      "Epoch 16/200\n",
      "34/34 [==============================] - 0s 1ms/step - loss: 7264.5898 - mae: 7264.5898\n",
      "Epoch 17/200\n",
      "34/34 [==============================] - 0s 1ms/step - loss: 7243.2710 - mae: 7243.2710\n",
      "Epoch 18/200\n",
      "34/34 [==============================] - 0s 1ms/step - loss: 7221.2358 - mae: 7221.2358\n",
      "Epoch 19/200\n",
      "34/34 [==============================] - 0s 1ms/step - loss: 7199.0928 - mae: 7199.0928\n",
      "Epoch 20/200\n",
      "34/34 [==============================] - 0s 790us/step - loss: 7175.6597 - mae: 7175.6597\n",
      "Epoch 21/200\n",
      "34/34 [==============================] - 0s 1ms/step - loss: 7156.8164 - mae: 7156.8164\n",
      "Epoch 22/200\n",
      "34/34 [==============================] - 0s 1ms/step - loss: 7129.4385 - mae: 7129.4385\n",
      "Epoch 23/200\n",
      "34/34 [==============================] - 0s 1ms/step - loss: 7104.7622 - mae: 7104.7622\n",
      "Epoch 24/200\n",
      "34/34 [==============================] - 0s 1ms/step - loss: 7079.2593 - mae: 7079.2593\n",
      "Epoch 25/200\n",
      "34/34 [==============================] - 0s 1ms/step - loss: 7060.7910 - mae: 7060.7910\n",
      "Epoch 26/200\n",
      "34/34 [==============================] - 0s 1ms/step - loss: 7029.3911 - mae: 7029.3911\n",
      "Epoch 27/200\n",
      "34/34 [==============================] - 0s 1ms/step - loss: 7001.2002 - mae: 7001.2002\n",
      "Epoch 28/200\n",
      "34/34 [==============================] - 0s 960us/step - loss: 6973.1304 - mae: 6973.1304\n",
      "Epoch 29/200\n",
      "34/34 [==============================] - 0s 1ms/step - loss: 6944.6396 - mae: 6944.6396\n",
      "Epoch 30/200\n",
      "34/34 [==============================] - 0s 1ms/step - loss: 6918.2803 - mae: 6918.2803\n",
      "Epoch 31/200\n",
      "34/34 [==============================] - 0s 991us/step - loss: 6887.4404 - mae: 6887.4404\n",
      "Epoch 32/200\n",
      "34/34 [==============================] - 0s 919us/step - loss: 6858.6416 - mae: 6858.6416\n",
      "Epoch 33/200\n",
      "34/34 [==============================] - 0s 923us/step - loss: 6827.3237 - mae: 6827.3237\n",
      "Epoch 34/200\n",
      "34/34 [==============================] - 0s 909us/step - loss: 6796.8423 - mae: 6796.8423\n",
      "Epoch 35/200\n",
      "34/34 [==============================] - 0s 1ms/step - loss: 6762.1968 - mae: 6762.1968\n",
      "Epoch 36/200\n",
      "34/34 [==============================] - 0s 886us/step - loss: 6729.0029 - mae: 6729.0029\n",
      "Epoch 37/200\n",
      "34/34 [==============================] - 0s 901us/step - loss: 6692.9321 - mae: 6692.9321\n",
      "Epoch 38/200\n",
      "34/34 [==============================] - 0s 1ms/step - loss: 6664.3389 - mae: 6664.3389\n",
      "Epoch 39/200\n",
      "34/34 [==============================] - 0s 1ms/step - loss: 6627.1455 - mae: 6627.1455\n",
      "Epoch 40/200\n",
      "34/34 [==============================] - 0s 1ms/step - loss: 6594.7075 - mae: 6594.7075\n",
      "Epoch 41/200\n",
      "34/34 [==============================] - 0s 1ms/step - loss: 6566.5977 - mae: 6566.5977\n",
      "Epoch 42/200\n",
      "34/34 [==============================] - 0s 908us/step - loss: 6544.8027 - mae: 6544.8027\n",
      "Epoch 43/200\n",
      "34/34 [==============================] - 0s 1ms/step - loss: 6520.5386 - mae: 6520.5386\n",
      "Epoch 44/200\n",
      "34/34 [==============================] - 0s 922us/step - loss: 6500.8154 - mae: 6500.8154\n",
      "Epoch 45/200\n",
      "34/34 [==============================] - 0s 1ms/step - loss: 6493.3013 - mae: 6493.3013\n",
      "Epoch 46/200\n",
      "34/34 [==============================] - 0s 1ms/step - loss: 6474.9458 - mae: 6474.9458\n",
      "Epoch 47/200\n",
      "34/34 [==============================] - 0s 2ms/step - loss: 6459.5161 - mae: 6459.5161\n",
      "Epoch 48/200\n",
      "34/34 [==============================] - 0s 1ms/step - loss: 6446.3672 - mae: 6446.3672\n",
      "Epoch 49/200\n",
      "34/34 [==============================] - 0s 983us/step - loss: 6434.0400 - mae: 6434.0400\n",
      "Epoch 50/200\n",
      "34/34 [==============================] - 0s 999us/step - loss: 6420.7954 - mae: 6420.7954\n",
      "Epoch 51/200\n",
      "34/34 [==============================] - 0s 991us/step - loss: 6407.0923 - mae: 6407.0923\n",
      "Epoch 52/200\n",
      "34/34 [==============================] - 0s 1ms/step - loss: 6396.3926 - mae: 6396.3926\n",
      "Epoch 53/200\n",
      "34/34 [==============================] - 0s 1ms/step - loss: 6382.9419 - mae: 6382.9419\n",
      "Epoch 54/200\n",
      "34/34 [==============================] - 0s 885us/step - loss: 6369.6729 - mae: 6369.6729\n",
      "Epoch 55/200\n",
      "34/34 [==============================] - 0s 871us/step - loss: 6356.6992 - mae: 6356.6992\n",
      "Epoch 56/200\n",
      "34/34 [==============================] - 0s 877us/step - loss: 6343.0181 - mae: 6343.0181\n",
      "Epoch 57/200\n",
      "34/34 [==============================] - 0s 939us/step - loss: 6331.0322 - mae: 6331.0322\n",
      "Epoch 58/200\n",
      "34/34 [==============================] - 0s 992us/step - loss: 6316.9600 - mae: 6316.9600\n",
      "Epoch 59/200\n",
      "34/34 [==============================] - 0s 925us/step - loss: 6302.5220 - mae: 6302.5220\n",
      "Epoch 60/200\n",
      "34/34 [==============================] - 0s 946us/step - loss: 6292.4751 - mae: 6292.4751\n",
      "Epoch 61/200\n",
      "34/34 [==============================] - 0s 854us/step - loss: 6273.7114 - mae: 6273.7114\n",
      "Epoch 62/200\n",
      "34/34 [==============================] - 0s 977us/step - loss: 6261.7212 - mae: 6261.7212\n",
      "Epoch 63/200\n",
      "34/34 [==============================] - 0s 1ms/step - loss: 6244.4043 - mae: 6244.4043\n",
      "Epoch 64/200\n",
      "34/34 [==============================] - 0s 1ms/step - loss: 6227.4219 - mae: 6227.4219\n",
      "Epoch 65/200\n",
      "34/34 [==============================] - 0s 925us/step - loss: 6211.4072 - mae: 6211.4072\n",
      "Epoch 66/200\n",
      "34/34 [==============================] - 0s 935us/step - loss: 6194.9648 - mae: 6194.9648\n",
      "Epoch 67/200\n",
      "34/34 [==============================] - 0s 859us/step - loss: 6183.0195 - mae: 6183.0195\n",
      "Epoch 68/200\n",
      "34/34 [==============================] - 0s 924us/step - loss: 6161.6626 - mae: 6161.6626\n",
      "Epoch 69/200\n",
      "34/34 [==============================] - 0s 940us/step - loss: 6145.7393 - mae: 6145.7393\n",
      "Epoch 70/200\n",
      "34/34 [==============================] - 0s 1ms/step - loss: 6126.3315 - mae: 6126.3315\n",
      "Epoch 71/200\n",
      "34/34 [==============================] - 0s 951us/step - loss: 6107.6016 - mae: 6107.6016\n",
      "Epoch 72/200\n",
      "34/34 [==============================] - 0s 1ms/step - loss: 6089.4150 - mae: 6089.4150\n",
      "Epoch 73/200\n",
      "34/34 [==============================] - 0s 1ms/step - loss: 6074.4668 - mae: 6074.4668\n",
      "Epoch 74/200\n",
      "34/34 [==============================] - 0s 1ms/step - loss: 6049.1382 - mae: 6049.1382\n",
      "Epoch 75/200\n",
      "34/34 [==============================] - 0s 1ms/step - loss: 6028.9585 - mae: 6028.9585\n",
      "Epoch 76/200\n",
      "34/34 [==============================] - 0s 1ms/step - loss: 6016.0850 - mae: 6016.0850\n",
      "Epoch 77/200\n",
      "34/34 [==============================] - 0s 1ms/step - loss: 5983.3545 - mae: 5983.3545\n",
      "Epoch 78/200\n",
      "34/34 [==============================] - 0s 1ms/step - loss: 5962.2344 - mae: 5962.2344\n",
      "Epoch 79/200\n",
      "34/34 [==============================] - 0s 1ms/step - loss: 5939.0947 - mae: 5939.0947\n",
      "Epoch 80/200\n",
      "34/34 [==============================] - 0s 1ms/step - loss: 5912.9878 - mae: 5912.9878\n",
      "Epoch 81/200\n",
      "34/34 [==============================] - 0s 1ms/step - loss: 5888.5513 - mae: 5888.5513\n",
      "Epoch 82/200\n",
      "34/34 [==============================] - 0s 1ms/step - loss: 5862.0327 - mae: 5862.0327\n",
      "Epoch 83/200\n",
      "34/34 [==============================] - 0s 928us/step - loss: 5835.3516 - mae: 5835.3516\n",
      "Epoch 84/200\n",
      "34/34 [==============================] - 0s 949us/step - loss: 5803.2891 - mae: 5803.2891\n",
      "Epoch 85/200\n",
      "34/34 [==============================] - 0s 1ms/step - loss: 5778.4912 - mae: 5778.4912\n",
      "Epoch 86/200\n",
      "34/34 [==============================] - 0s 922us/step - loss: 5745.6323 - mae: 5745.6323\n",
      "Epoch 87/200\n",
      "34/34 [==============================] - 0s 909us/step - loss: 5711.4639 - mae: 5711.4639\n",
      "Epoch 88/200\n",
      "34/34 [==============================] - 0s 938us/step - loss: 5680.2227 - mae: 5680.2227\n",
      "Epoch 89/200\n",
      "34/34 [==============================] - 0s 971us/step - loss: 5642.5317 - mae: 5642.5317\n",
      "Epoch 90/200\n",
      "34/34 [==============================] - 0s 920us/step - loss: 5604.4839 - mae: 5604.4839\n",
      "Epoch 91/200\n",
      "34/34 [==============================] - 0s 914us/step - loss: 5573.1108 - mae: 5573.1108\n",
      "Epoch 92/200\n",
      "34/34 [==============================] - 0s 869us/step - loss: 5525.0356 - mae: 5525.0356\n",
      "Epoch 93/200\n",
      "34/34 [==============================] - 0s 960us/step - loss: 5487.4238 - mae: 5487.4238\n",
      "Epoch 94/200\n",
      "34/34 [==============================] - 0s 965us/step - loss: 5446.1562 - mae: 5446.1562\n",
      "Epoch 95/200\n",
      "34/34 [==============================] - 0s 1ms/step - loss: 5396.1216 - mae: 5396.1216\n",
      "Epoch 96/200\n",
      "34/34 [==============================] - 0s 896us/step - loss: 5355.8970 - mae: 5355.8970\n",
      "Epoch 97/200\n",
      "34/34 [==============================] - 0s 958us/step - loss: 5305.8047 - mae: 5305.8047\n",
      "Epoch 98/200\n",
      "34/34 [==============================] - 0s 961us/step - loss: 5248.4849 - mae: 5248.4849\n",
      "Epoch 99/200\n",
      "34/34 [==============================] - 0s 1ms/step - loss: 5193.0825 - mae: 5193.0825\n",
      "Epoch 100/200\n",
      "34/34 [==============================] - 0s 936us/step - loss: 5140.1089 - mae: 5140.1089\n",
      "Epoch 101/200\n",
      "34/34 [==============================] - 0s 847us/step - loss: 5075.9121 - mae: 5075.9121\n",
      "Epoch 102/200\n",
      "34/34 [==============================] - 0s 1ms/step - loss: 5013.9824 - mae: 5013.9824\n",
      "Epoch 103/200\n",
      "34/34 [==============================] - 0s 1ms/step - loss: 4952.2227 - mae: 4952.2227\n",
      "Epoch 104/200\n",
      "34/34 [==============================] - 0s 1ms/step - loss: 4878.6128 - mae: 4878.6128\n",
      "Epoch 105/200\n",
      "34/34 [==============================] - 0s 1ms/step - loss: 4802.8530 - mae: 4802.8530\n",
      "Epoch 106/200\n",
      "34/34 [==============================] - 0s 927us/step - loss: 4725.1016 - mae: 4725.1016\n",
      "Epoch 107/200\n",
      "34/34 [==============================] - 0s 1ms/step - loss: 4644.5322 - mae: 4644.5322\n",
      "Epoch 108/200\n",
      "34/34 [==============================] - 0s 919us/step - loss: 4562.0371 - mae: 4562.0371\n",
      "Epoch 109/200\n",
      "34/34 [==============================] - 0s 961us/step - loss: 4477.6484 - mae: 4477.6484\n",
      "Epoch 110/200\n",
      "34/34 [==============================] - 0s 926us/step - loss: 4390.0215 - mae: 4390.0215\n",
      "Epoch 111/200\n",
      "34/34 [==============================] - 0s 944us/step - loss: 4308.2900 - mae: 4308.2900\n",
      "Epoch 112/200\n",
      "34/34 [==============================] - 0s 922us/step - loss: 4234.5703 - mae: 4234.5703\n",
      "Epoch 113/200\n",
      "34/34 [==============================] - 0s 894us/step - loss: 4155.4375 - mae: 4155.4375\n",
      "Epoch 114/200\n",
      "34/34 [==============================] - 0s 844us/step - loss: 4081.7146 - mae: 4081.7146\n",
      "Epoch 115/200\n",
      "34/34 [==============================] - 0s 870us/step - loss: 4015.6033 - mae: 4015.6033\n",
      "Epoch 116/200\n",
      "34/34 [==============================] - 0s 974us/step - loss: 3972.4495 - mae: 3972.4495\n",
      "Epoch 117/200\n",
      "34/34 [==============================] - 0s 984us/step - loss: 3949.4182 - mae: 3949.4182\n",
      "Epoch 118/200\n",
      "34/34 [==============================] - 0s 959us/step - loss: 3917.7646 - mae: 3917.7646\n",
      "Epoch 119/200\n",
      "34/34 [==============================] - 0s 1ms/step - loss: 3885.0588 - mae: 3885.0588\n",
      "Epoch 120/200\n",
      "34/34 [==============================] - 0s 1ms/step - loss: 3859.7058 - mae: 3859.7058\n",
      "Epoch 121/200\n",
      "34/34 [==============================] - 0s 1ms/step - loss: 3850.1348 - mae: 3850.1348\n",
      "Epoch 122/200\n",
      "34/34 [==============================] - 0s 2ms/step - loss: 3839.2817 - mae: 3839.2817\n",
      "Epoch 123/200\n",
      "34/34 [==============================] - 0s 1ms/step - loss: 3832.9265 - mae: 3832.9265\n",
      "Epoch 124/200\n",
      "34/34 [==============================] - 0s 862us/step - loss: 3820.4395 - mae: 3820.4395\n",
      "Epoch 125/200\n",
      "34/34 [==============================] - 0s 939us/step - loss: 3807.0044 - mae: 3807.0044\n",
      "Epoch 126/200\n",
      "34/34 [==============================] - 0s 906us/step - loss: 3819.4678 - mae: 3819.4678\n",
      "Epoch 127/200\n",
      "34/34 [==============================] - 0s 874us/step - loss: 3807.0291 - mae: 3807.0291\n",
      "Epoch 128/200\n",
      "34/34 [==============================] - 0s 887us/step - loss: 3800.4998 - mae: 3800.4998\n",
      "Epoch 129/200\n",
      "34/34 [==============================] - 0s 964us/step - loss: 3807.3477 - mae: 3807.3477\n",
      "Epoch 130/200\n",
      "34/34 [==============================] - 0s 1ms/step - loss: 3789.2957 - mae: 3789.2957\n",
      "Epoch 131/200\n",
      "34/34 [==============================] - 0s 894us/step - loss: 3787.6123 - mae: 3787.6123\n",
      "Epoch 132/200\n",
      "34/34 [==============================] - 0s 937us/step - loss: 3781.0068 - mae: 3781.0068\n",
      "Epoch 133/200\n",
      "34/34 [==============================] - 0s 867us/step - loss: 3776.1477 - mae: 3776.1477\n",
      "Epoch 134/200\n",
      "34/34 [==============================] - 0s 901us/step - loss: 3776.2058 - mae: 3776.2058\n",
      "Epoch 135/200\n",
      "34/34 [==============================] - 0s 852us/step - loss: 3772.2295 - mae: 3772.2295\n",
      "Epoch 136/200\n",
      "34/34 [==============================] - 0s 1ms/step - loss: 3771.4961 - mae: 3771.4961\n",
      "Epoch 137/200\n",
      "34/34 [==============================] - 0s 1ms/step - loss: 3781.4438 - mae: 3781.4438\n",
      "Epoch 138/200\n",
      "34/34 [==============================] - 0s 1ms/step - loss: 3788.0664 - mae: 3788.0664\n",
      "Epoch 139/200\n",
      "34/34 [==============================] - 0s 1ms/step - loss: 3766.1245 - mae: 3766.1245\n",
      "Epoch 140/200\n",
      "34/34 [==============================] - 0s 942us/step - loss: 3767.1331 - mae: 3767.1331\n",
      "Epoch 141/200\n",
      "34/34 [==============================] - 0s 932us/step - loss: 3767.0811 - mae: 3767.0811\n",
      "Epoch 142/200\n",
      "34/34 [==============================] - 0s 873us/step - loss: 3769.7158 - mae: 3769.7158\n",
      "Epoch 143/200\n",
      "34/34 [==============================] - 0s 1ms/step - loss: 3758.6677 - mae: 3758.6677\n",
      "Epoch 144/200\n",
      "34/34 [==============================] - 0s 863us/step - loss: 3754.8940 - mae: 3754.8940\n",
      "Epoch 145/200\n",
      "34/34 [==============================] - 0s 1ms/step - loss: 3755.4365 - mae: 3755.4365\n",
      "Epoch 146/200\n",
      "34/34 [==============================] - 0s 915us/step - loss: 3759.3938 - mae: 3759.3938\n",
      "Epoch 147/200\n",
      "34/34 [==============================] - 0s 890us/step - loss: 3756.6272 - mae: 3756.6272\n",
      "Epoch 148/200\n",
      "34/34 [==============================] - 0s 970us/step - loss: 3760.2654 - mae: 3760.2654\n",
      "Epoch 149/200\n",
      "34/34 [==============================] - 0s 1ms/step - loss: 3748.0212 - mae: 3748.0212\n",
      "Epoch 150/200\n",
      "34/34 [==============================] - 0s 910us/step - loss: 3742.6257 - mae: 3742.6257\n",
      "Epoch 151/200\n",
      "34/34 [==============================] - 0s 889us/step - loss: 3745.0964 - mae: 3745.0964\n",
      "Epoch 152/200\n",
      "34/34 [==============================] - 0s 1ms/step - loss: 3745.5415 - mae: 3745.5415\n",
      "Epoch 153/200\n",
      "34/34 [==============================] - 0s 1ms/step - loss: 3744.8816 - mae: 3744.8816\n",
      "Epoch 154/200\n",
      "34/34 [==============================] - 0s 975us/step - loss: 3741.7261 - mae: 3741.7261\n",
      "Epoch 155/200\n",
      "34/34 [==============================] - 0s 900us/step - loss: 3745.2371 - mae: 3745.2371\n",
      "Epoch 156/200\n",
      "34/34 [==============================] - 0s 870us/step - loss: 3739.7517 - mae: 3739.7517\n",
      "Epoch 157/200\n",
      "34/34 [==============================] - 0s 842us/step - loss: 3738.3621 - mae: 3738.3621\n",
      "Epoch 158/200\n",
      "34/34 [==============================] - 0s 949us/step - loss: 3733.4160 - mae: 3733.4160\n",
      "Epoch 159/200\n",
      "34/34 [==============================] - 0s 904us/step - loss: 3733.9016 - mae: 3733.9016\n",
      "Epoch 160/200\n",
      "34/34 [==============================] - 0s 859us/step - loss: 3737.5947 - mae: 3737.5947\n",
      "Epoch 161/200\n",
      "34/34 [==============================] - 0s 868us/step - loss: 3732.6941 - mae: 3732.6941\n",
      "Epoch 162/200\n",
      "34/34 [==============================] - 0s 903us/step - loss: 3728.2490 - mae: 3728.2490\n",
      "Epoch 163/200\n",
      "34/34 [==============================] - 0s 858us/step - loss: 3727.0869 - mae: 3727.0869\n",
      "Epoch 164/200\n",
      "34/34 [==============================] - 0s 968us/step - loss: 3730.9136 - mae: 3730.9136\n",
      "Epoch 165/200\n",
      "34/34 [==============================] - 0s 1ms/step - loss: 3720.3923 - mae: 3720.3923\n",
      "Epoch 166/200\n",
      "34/34 [==============================] - 0s 1ms/step - loss: 3724.5649 - mae: 3724.5649\n",
      "Epoch 167/200\n",
      "34/34 [==============================] - 0s 995us/step - loss: 3724.8623 - mae: 3724.8623\n",
      "Epoch 168/200\n",
      "34/34 [==============================] - 0s 1ms/step - loss: 3720.4180 - mae: 3720.4180\n",
      "Epoch 169/200\n",
      "34/34 [==============================] - 0s 1ms/step - loss: 3719.5818 - mae: 3719.5818\n",
      "Epoch 170/200\n",
      "34/34 [==============================] - 0s 1ms/step - loss: 3712.8345 - mae: 3712.8345\n",
      "Epoch 171/200\n",
      "34/34 [==============================] - 0s 949us/step - loss: 3712.6223 - mae: 3712.6223\n",
      "Epoch 172/200\n",
      "34/34 [==============================] - 0s 1ms/step - loss: 3714.8867 - mae: 3714.8867\n",
      "Epoch 173/200\n",
      "34/34 [==============================] - 0s 959us/step - loss: 3708.2502 - mae: 3708.2502\n",
      "Epoch 174/200\n",
      "34/34 [==============================] - 0s 969us/step - loss: 3713.0764 - mae: 3713.0764\n",
      "Epoch 175/200\n",
      "34/34 [==============================] - 0s 968us/step - loss: 3716.1003 - mae: 3716.1003\n",
      "Epoch 176/200\n",
      "34/34 [==============================] - 0s 1ms/step - loss: 3710.3923 - mae: 3710.3923\n",
      "Epoch 177/200\n",
      "34/34 [==============================] - 0s 988us/step - loss: 3705.3289 - mae: 3705.3289\n",
      "Epoch 178/200\n",
      "34/34 [==============================] - 0s 1ms/step - loss: 3701.1885 - mae: 3701.1885\n",
      "Epoch 179/200\n",
      "34/34 [==============================] - 0s 932us/step - loss: 3710.9172 - mae: 3710.9172\n",
      "Epoch 180/200\n",
      "34/34 [==============================] - 0s 1ms/step - loss: 3715.9102 - mae: 3715.9102\n",
      "Epoch 181/200\n",
      "34/34 [==============================] - 0s 903us/step - loss: 3701.6345 - mae: 3701.6345\n",
      "Epoch 182/200\n",
      "34/34 [==============================] - 0s 977us/step - loss: 3699.1008 - mae: 3699.1008\n",
      "Epoch 183/200\n",
      "34/34 [==============================] - 0s 1ms/step - loss: 3696.5596 - mae: 3696.5596\n",
      "Epoch 184/200\n",
      "34/34 [==============================] - 0s 1ms/step - loss: 3703.5828 - mae: 3703.5828\n",
      "Epoch 185/200\n",
      "34/34 [==============================] - 0s 1ms/step - loss: 3698.6819 - mae: 3698.6819\n",
      "Epoch 186/200\n",
      "34/34 [==============================] - 0s 1ms/step - loss: 3701.5850 - mae: 3701.5850\n",
      "Epoch 187/200\n",
      "34/34 [==============================] - 0s 954us/step - loss: 3694.1162 - mae: 3694.1162\n",
      "Epoch 188/200\n",
      "34/34 [==============================] - 0s 920us/step - loss: 3698.8689 - mae: 3698.8689\n",
      "Epoch 189/200\n",
      "34/34 [==============================] - 0s 1ms/step - loss: 3689.6245 - mae: 3689.6245\n",
      "Epoch 190/200\n",
      "34/34 [==============================] - 0s 1ms/step - loss: 3686.9055 - mae: 3686.9055\n",
      "Epoch 191/200\n",
      "34/34 [==============================] - 0s 1ms/step - loss: 3704.2529 - mae: 3704.2529\n",
      "Epoch 192/200\n",
      "34/34 [==============================] - 0s 901us/step - loss: 3690.1497 - mae: 3690.1497\n",
      "Epoch 193/200\n",
      "34/34 [==============================] - 0s 904us/step - loss: 3679.4695 - mae: 3679.4695\n",
      "Epoch 194/200\n",
      "34/34 [==============================] - 0s 898us/step - loss: 3680.4763 - mae: 3680.4763\n",
      "Epoch 195/200\n",
      "34/34 [==============================] - 0s 962us/step - loss: 3678.0688 - mae: 3678.0688\n",
      "Epoch 196/200\n",
      "34/34 [==============================] - 0s 911us/step - loss: 3686.5261 - mae: 3686.5261\n",
      "Epoch 197/200\n",
      "34/34 [==============================] - 0s 906us/step - loss: 3671.0588 - mae: 3671.0588\n",
      "Epoch 198/200\n",
      "34/34 [==============================] - 0s 872us/step - loss: 3677.4590 - mae: 3677.4590\n",
      "Epoch 199/200\n",
      "34/34 [==============================] - 0s 888us/step - loss: 3685.1897 - mae: 3685.1897\n",
      "Epoch 200/200\n",
      "34/34 [==============================] - 0s 844us/step - loss: 3672.3025 - mae: 3672.3025\n"
     ]
    }
   ],
   "source": [
    "# Set random seed\n",
    "tf.random.set_seed(42)\n",
    "\n",
    "# 1.Create a model\n",
    "insurance_model_3 = tf.keras.Sequential([\n",
    "    tf.keras.layers.Dense(100),\n",
    "    tf.keras.layers.Dense(10),\n",
    "    tf.keras.layers.Dense(1),\n",
    "])\n",
    "\n",
    "# 2. Compile the model\n",
    "insurance_model_3.compile(loss=tf.keras.losses.mae,\n",
    "                          optimizer=tf.keras.optimizers.Adam(),\n",
    "                          metrics=[\"mae\"])\n",
    "\n",
    "# 3. FIt the model\n",
    "history = insurance_model_3.fit(tf.constant(X_train), tf.constant(y_train), epochs=200)"
   ],
   "metadata": {
    "collapsed": false,
    "ExecuteTime": {
     "end_time": "2023-10-23T14:18:38.025776470Z",
     "start_time": "2023-10-23T14:18:28.996763747Z"
    }
   },
   "id": "9424c9ebb99b8b44"
  },
  {
   "cell_type": "code",
   "execution_count": 68,
   "outputs": [
    {
     "name": "stdout",
     "output_type": "stream",
     "text": [
      "9/9 [==============================] - 0s 1ms/step - loss: 3500.4124 - mae: 3500.4124\n"
     ]
    },
    {
     "data": {
      "text/plain": "[3500.412353515625, 3500.412353515625]"
     },
     "execution_count": 68,
     "metadata": {},
     "output_type": "execute_result"
    }
   ],
   "source": [
    "# Evaluate our third model\n",
    "insurance_model_3.evaluate(tf.constant(X_test), tf.constant(y_test))"
   ],
   "metadata": {
    "collapsed": false,
    "ExecuteTime": {
     "end_time": "2023-10-23T14:18:38.070385038Z",
     "start_time": "2023-10-23T14:18:36.622957231Z"
    }
   },
   "id": "da72c9efb346387b"
  },
  {
   "cell_type": "code",
   "execution_count": 69,
   "outputs": [
    {
     "name": "stdout",
     "output_type": "stream",
     "text": [
      "9/9 [==============================] - 0s 1ms/step - loss: 7190.1587 - mae: 7190.1587\n"
     ]
    },
    {
     "data": {
      "text/plain": "[7190.15869140625, 7190.15869140625]"
     },
     "execution_count": 69,
     "metadata": {},
     "output_type": "execute_result"
    }
   ],
   "source": [
    "insurance_model.evaluate(tf.constant(X_test), tf.constant(y_test))"
   ],
   "metadata": {
    "collapsed": false,
    "ExecuteTime": {
     "end_time": "2023-10-23T14:18:38.145600632Z",
     "start_time": "2023-10-23T14:18:36.765653338Z"
    }
   },
   "id": "343781ee70c78da6"
  },
  {
   "cell_type": "code",
   "execution_count": 70,
   "outputs": [
    {
     "data": {
      "text/plain": "Text(0.5, 0, 'epochs')"
     },
     "execution_count": 70,
     "metadata": {},
     "output_type": "execute_result"
    },
    {
     "data": {
      "text/plain": "<Figure size 640x480 with 1 Axes>",
      "image/png": "[encoded data removed]"
     },
     "metadata": {},
     "output_type": "display_data"
    }
   ],
   "source": [
    "# Plot history (also known as a loss curve or a training curve)\n",
    "pd.DataFrame(history.history).plot()\n",
    "plt.ylabel(\"loss\")\n",
    "plt.xlabel(\"epochs\")"
   ],
   "metadata": {
    "collapsed": false,
    "ExecuteTime": {
     "end_time": "2023-10-23T14:18:38.218958970Z",
     "start_time": "2023-10-23T14:18:36.809566291Z"
    }
   },
   "id": "a7214ac2c013fe06"
  },
  {
   "cell_type": "markdown",
   "source": [
    "### Preprocessing data (normalization and standardization)\n",
    "\n",
    "In terms of scaling values, neural networks tend to prefer normalization.\n",
    "\n",
    "If you're not sure on which to use, you could try both and see which performs better."
   ],
   "metadata": {
    "collapsed": false
   },
   "id": "add5fd3b39c4a7ef"
  },
  {
   "cell_type": "code",
   "execution_count": 76,
   "outputs": [
    {
     "data": {
      "text/plain": "      age     sex     bmi  children smoker     region      charges\n0      19  female  27.900         0    yes  southwest  16884.92400\n1      18    male  33.770         1     no  southeast   1725.55230\n2      28    male  33.000         3     no  southeast   4449.46200\n3      33    male  22.705         0     no  northwest  21984.47061\n4      32    male  28.880         0     no  northwest   3866.85520\n...   ...     ...     ...       ...    ...        ...          ...\n1333   50    male  30.970         3     no  northwest  10600.54830\n1334   18  female  31.920         0     no  northeast   2205.98080\n1335   18  female  36.850         0     no  southeast   1629.83350\n1336   21  female  25.800         0     no  southwest   2007.94500\n1337   61  female  29.070         0    yes  northwest  29141.36030\n\n[1338 rows x 7 columns]",
      "text/html": "<div>\n<style scoped>\n    .dataframe tbody tr th:only-of-type {\n        vertical-align: middle;\n    }\n\n    .dataframe tbody tr th {\n        vertical-align: top;\n    }\n\n    .dataframe thead th {\n        text-align: right;\n    }\n</style>\n<table border=\"1\" class=\"dataframe\">\n  <thead>\n    <tr style=\"text-align: right;\">\n      <th></th>\n      <th>age</th>\n      <th>sex</th>\n      <th>bmi</th>\n      <th>children</th>\n      <th>smoker</th>\n      <th>region</th>\n      <th>charges</th>\n    </tr>\n  </thead>\n  <tbody>\n    <tr>\n      <th>0</th>\n      <td>19</td>\n      <td>female</td>\n      <td>27.900</td>\n      <td>0</td>\n      <td>yes</td>\n      <td>southwest</td>\n      <td>16884.92400</td>\n    </tr>\n    <tr>\n      <th>1</th>\n      <td>18</td>\n      <td>male</td>\n      <td>33.770</td>\n      <td>1</td>\n      <td>no</td>\n      <td>southeast</td>\n      <td>1725.55230</td>\n    </tr>\n    <tr>\n      <th>2</th>\n      <td>28</td>\n      <td>male</td>\n      <td>33.000</td>\n      <td>3</td>\n      <td>no</td>\n      <td>southeast</td>\n      <td>4449.46200</td>\n    </tr>\n    <tr>\n      <th>3</th>\n      <td>33</td>\n      <td>male</td>\n      <td>22.705</td>\n      <td>0</td>\n      <td>no</td>\n      <td>northwest</td>\n      <td>21984.47061</td>\n    </tr>\n    <tr>\n      <th>4</th>\n      <td>32</td>\n      <td>male</td>\n      <td>28.880</td>\n      <td>0</td>\n      <td>no</td>\n      <td>northwest</td>\n      <td>3866.85520</td>\n    </tr>\n    <tr>\n      <th>...</th>\n      <td>...</td>\n      <td>...</td>\n      <td>...</td>\n      <td>...</td>\n      <td>...</td>\n      <td>...</td>\n      <td>...</td>\n    </tr>\n    <tr>\n      <th>1333</th>\n      <td>50</td>\n      <td>male</td>\n      <td>30.970</td>\n      <td>3</td>\n      <td>no</td>\n      <td>northwest</td>\n      <td>10600.54830</td>\n    </tr>\n    <tr>\n      <th>1334</th>\n      <td>18</td>\n      <td>female</td>\n      <td>31.920</td>\n      <td>0</td>\n      <td>no</td>\n      <td>northeast</td>\n      <td>2205.98080</td>\n    </tr>\n    <tr>\n      <th>1335</th>\n      <td>18</td>\n      <td>female</td>\n      <td>36.850</td>\n      <td>0</td>\n      <td>no</td>\n      <td>southeast</td>\n      <td>1629.83350</td>\n    </tr>\n    <tr>\n      <th>1336</th>\n      <td>21</td>\n      <td>female</td>\n      <td>25.800</td>\n      <td>0</td>\n      <td>no</td>\n      <td>southwest</td>\n      <td>2007.94500</td>\n    </tr>\n    <tr>\n      <th>1337</th>\n      <td>61</td>\n      <td>female</td>\n      <td>29.070</td>\n      <td>0</td>\n      <td>yes</td>\n      <td>northwest</td>\n      <td>29141.36030</td>\n    </tr>\n  </tbody>\n</table>\n<p>1338 rows × 7 columns</p>\n</div>"
     },
     "execution_count": 76,
     "metadata": {},
     "output_type": "execute_result"
    }
   ],
   "source": [
    "import pandas as pd\n",
    "import matplotlib.pyplot as plt\n",
    "import tensorflow as tf\n",
    "\n",
    "# Read in the insurance dataframe\n",
    "insurance = pd.read_csv(\"https://raw.githubusercontent.com/stedy/Machine-Learning-with-R-datasets/master/insurance.csv\")\n",
    "insurance"
   ],
   "metadata": {
    "collapsed": false,
    "ExecuteTime": {
     "end_time": "2023-10-23T14:28:01.089531678Z",
     "start_time": "2023-10-23T14:28:00.565352475Z"
    }
   },
   "id": "8902510df35c6224"
  },
  {
   "cell_type": "markdown",
   "source": [
    "To prepare our data, we can borrow a few classes from Scikit-Learn."
   ],
   "metadata": {
    "collapsed": false
   },
   "id": "f2f5baf592ca5129"
  },
  {
   "cell_type": "code",
   "execution_count": 80,
   "outputs": [
    {
     "data": {
      "text/plain": "array([0.60869565, 0.10734463, 0.4       , 1.        , 0.        ,\n       1.        , 0.        , 0.        , 1.        , 0.        ,\n       0.        ])"
     },
     "execution_count": 80,
     "metadata": {},
     "output_type": "execute_result"
    }
   ],
   "source": [
    "from sklearn.compose import make_column_transformer\n",
    "from sklearn.preprocessing import MinMaxScaler, OneHotEncoder\n",
    "from sklearn.model_selection import train_test_split\n",
    "\n",
    "# Create a column transformer\n",
    "ct = make_column_transformer(\n",
    "    (MinMaxScaler(), [\"age\", \"bmi\", \"children\"]), # turn all values in these columns into zero and one\n",
    "    (OneHotEncoder(handle_unknown=\"ignore\"), [\"sex\", \"smoker\", \"region\"])\n",
    ")\n",
    "\n",
    "# Create X & y values\n",
    "X = insurance.drop(\"charges\", axis=1)\n",
    "y = insurance[\"charges\"]\n",
    "\n",
    "# Build our train and test sets\n",
    "X_train, X_test, y_train, y_test = train_test_split(X, y, test_size=0.2, random_state=42)\n",
    "\n",
    "# Fit the column transformers to our training data\n",
    "ct.fit(X_train)\n",
    "\n",
    "# Transform training and test data with normalization (MinMaxScaler) and OneHotEncoder\n",
    "X_train_normal = ct.transform(X_train)\n",
    "X_test_normal = ct.transform(X_test)\n",
    "X_train_normal[0]"
   ],
   "metadata": {
    "collapsed": false,
    "ExecuteTime": {
     "end_time": "2023-10-23T14:37:34.616412393Z",
     "start_time": "2023-10-23T14:37:34.532792284Z"
    }
   },
   "id": "a495f2a27ce6a2e3"
  },
  {
   "cell_type": "code",
   "execution_count": 81,
   "outputs": [
    {
     "data": {
      "text/plain": "(1070, 11)"
     },
     "execution_count": 81,
     "metadata": {},
     "output_type": "execute_result"
    }
   ],
   "source": [
    "X_train_normal.shape"
   ],
   "metadata": {
    "collapsed": false,
    "ExecuteTime": {
     "end_time": "2023-10-23T14:38:22.626675710Z",
     "start_time": "2023-10-23T14:38:22.553563824Z"
    }
   },
   "id": "6bbcc170aabb590c"
  },
  {
   "cell_type": "code",
   "execution_count": 82,
   "outputs": [
    {
     "name": "stdout",
     "output_type": "stream",
     "text": [
      "Epoch 1/100\n",
      "34/34 [==============================] - 0s 1ms/step - loss: 13343.5166 - mae: 13343.5166\n",
      "Epoch 2/100\n",
      "34/34 [==============================] - 0s 1ms/step - loss: 13334.1445 - mae: 13334.1445\n",
      "Epoch 3/100\n",
      "34/34 [==============================] - 0s 1ms/step - loss: 13311.1367 - mae: 13311.1367\n",
      "Epoch 4/100\n",
      "34/34 [==============================] - 0s 939us/step - loss: 13262.9092 - mae: 13262.9092\n",
      "Epoch 5/100\n",
      "34/34 [==============================] - 0s 1ms/step - loss: 13177.3369 - mae: 13177.3369\n",
      "Epoch 6/100\n",
      "34/34 [==============================] - 0s 1ms/step - loss: 13042.9307 - mae: 13042.9307\n",
      "Epoch 7/100\n",
      "34/34 [==============================] - 0s 1ms/step - loss: 12849.7236 - mae: 12849.7236\n",
      "Epoch 8/100\n",
      "34/34 [==============================] - 0s 1ms/step - loss: 12587.9707 - mae: 12587.9707\n",
      "Epoch 9/100\n",
      "34/34 [==============================] - 0s 1ms/step - loss: 12247.7607 - mae: 12247.7607\n",
      "Epoch 10/100\n",
      "34/34 [==============================] - 0s 1ms/step - loss: 11827.9775 - mae: 11827.9775\n",
      "Epoch 11/100\n",
      "34/34 [==============================] - 0s 1ms/step - loss: 11342.2354 - mae: 11342.2354\n",
      "Epoch 12/100\n",
      "34/34 [==============================] - 0s 995us/step - loss: 10835.5684 - mae: 10835.5684\n",
      "Epoch 13/100\n",
      "34/34 [==============================] - 0s 911us/step - loss: 10335.7500 - mae: 10335.7500\n",
      "Epoch 14/100\n",
      "34/34 [==============================] - 0s 934us/step - loss: 9846.7842 - mae: 9846.7842\n",
      "Epoch 15/100\n",
      "34/34 [==============================] - 0s 966us/step - loss: 9389.4111 - mae: 9389.4111\n",
      "Epoch 16/100\n",
      "34/34 [==============================] - 0s 961us/step - loss: 8986.5361 - mae: 8986.5361\n",
      "Epoch 17/100\n",
      "34/34 [==============================] - 0s 875us/step - loss: 8657.0928 - mae: 8657.0928\n",
      "Epoch 18/100\n",
      "34/34 [==============================] - 0s 937us/step - loss: 8391.5791 - mae: 8391.5791\n",
      "Epoch 19/100\n",
      "34/34 [==============================] - 0s 954us/step - loss: 8197.3545 - mae: 8197.3545\n",
      "Epoch 20/100\n",
      "34/34 [==============================] - 0s 885us/step - loss: 8062.9512 - mae: 8062.9512\n",
      "Epoch 21/100\n",
      "34/34 [==============================] - 0s 1ms/step - loss: 7963.3765 - mae: 7963.3765\n",
      "Epoch 22/100\n",
      "34/34 [==============================] - 0s 1ms/step - loss: 7894.6792 - mae: 7894.6792\n",
      "Epoch 23/100\n",
      "34/34 [==============================] - 0s 971us/step - loss: 7839.5596 - mae: 7839.5596\n",
      "Epoch 24/100\n",
      "34/34 [==============================] - 0s 897us/step - loss: 7788.9785 - mae: 7788.9785\n",
      "Epoch 25/100\n",
      "34/34 [==============================] - 0s 929us/step - loss: 7750.1445 - mae: 7750.1445\n",
      "Epoch 26/100\n",
      "34/34 [==============================] - 0s 997us/step - loss: 7698.2983 - mae: 7698.2983\n",
      "Epoch 27/100\n",
      "34/34 [==============================] - 0s 1ms/step - loss: 7655.4565 - mae: 7655.4565\n",
      "Epoch 28/100\n",
      "34/34 [==============================] - 0s 948us/step - loss: 7612.2598 - mae: 7612.2598\n",
      "Epoch 29/100\n",
      "34/34 [==============================] - 0s 998us/step - loss: 7569.1309 - mae: 7569.1309\n",
      "Epoch 30/100\n",
      "34/34 [==============================] - 0s 962us/step - loss: 7524.8628 - mae: 7524.8628\n",
      "Epoch 31/100\n",
      "34/34 [==============================] - 0s 956us/step - loss: 7480.1392 - mae: 7480.1392\n",
      "Epoch 32/100\n",
      "34/34 [==============================] - 0s 899us/step - loss: 7435.1191 - mae: 7435.1191\n",
      "Epoch 33/100\n",
      "34/34 [==============================] - 0s 934us/step - loss: 7389.9185 - mae: 7389.9185\n",
      "Epoch 34/100\n",
      "34/34 [==============================] - 0s 918us/step - loss: 7340.6421 - mae: 7340.6421\n",
      "Epoch 35/100\n",
      "34/34 [==============================] - 0s 956us/step - loss: 7292.8491 - mae: 7292.8491\n",
      "Epoch 36/100\n",
      "34/34 [==============================] - 0s 946us/step - loss: 7241.4756 - mae: 7241.4756\n",
      "Epoch 37/100\n",
      "34/34 [==============================] - 0s 882us/step - loss: 7189.9360 - mae: 7189.9360\n",
      "Epoch 38/100\n",
      "34/34 [==============================] - 0s 926us/step - loss: 7137.6201 - mae: 7137.6201\n",
      "Epoch 39/100\n",
      "34/34 [==============================] - 0s 886us/step - loss: 7081.4478 - mae: 7081.4478\n",
      "Epoch 40/100\n",
      "34/34 [==============================] - 0s 985us/step - loss: 7024.4971 - mae: 7024.4971\n",
      "Epoch 41/100\n",
      "34/34 [==============================] - 0s 1ms/step - loss: 6966.4243 - mae: 6966.4243\n",
      "Epoch 42/100\n",
      "34/34 [==============================] - 0s 907us/step - loss: 6905.6104 - mae: 6905.6104\n",
      "Epoch 43/100\n",
      "34/34 [==============================] - 0s 891us/step - loss: 6841.1499 - mae: 6841.1499\n",
      "Epoch 44/100\n",
      "34/34 [==============================] - 0s 965us/step - loss: 6772.8682 - mae: 6772.8682\n",
      "Epoch 45/100\n",
      "34/34 [==============================] - 0s 935us/step - loss: 6703.3843 - mae: 6703.3843\n",
      "Epoch 46/100\n",
      "34/34 [==============================] - 0s 927us/step - loss: 6631.9780 - mae: 6631.9780\n",
      "Epoch 47/100\n",
      "34/34 [==============================] - 0s 1ms/step - loss: 6558.2881 - mae: 6558.2881\n",
      "Epoch 48/100\n",
      "34/34 [==============================] - 0s 933us/step - loss: 6476.5771 - mae: 6476.5771\n",
      "Epoch 49/100\n",
      "34/34 [==============================] - 0s 970us/step - loss: 6394.7876 - mae: 6394.7876\n",
      "Epoch 50/100\n",
      "34/34 [==============================] - 0s 897us/step - loss: 6305.7036 - mae: 6305.7036\n",
      "Epoch 51/100\n",
      "34/34 [==============================] - 0s 1ms/step - loss: 6217.6646 - mae: 6217.6646\n",
      "Epoch 52/100\n",
      "34/34 [==============================] - 0s 1ms/step - loss: 6121.3369 - mae: 6121.3369\n",
      "Epoch 53/100\n",
      "34/34 [==============================] - 0s 1ms/step - loss: 6021.5376 - mae: 6021.5376\n",
      "Epoch 54/100\n",
      "34/34 [==============================] - 0s 927us/step - loss: 5918.7485 - mae: 5918.7485\n",
      "Epoch 55/100\n",
      "34/34 [==============================] - 0s 996us/step - loss: 5807.0605 - mae: 5807.0605\n",
      "Epoch 56/100\n",
      "34/34 [==============================] - 0s 2ms/step - loss: 5694.2104 - mae: 5694.2104\n",
      "Epoch 57/100\n",
      "34/34 [==============================] - 0s 1ms/step - loss: 5574.2949 - mae: 5574.2949\n",
      "Epoch 58/100\n",
      "34/34 [==============================] - 0s 1ms/step - loss: 5453.7988 - mae: 5453.7988\n",
      "Epoch 59/100\n",
      "34/34 [==============================] - 0s 1ms/step - loss: 5330.1309 - mae: 5330.1309\n",
      "Epoch 60/100\n",
      "34/34 [==============================] - 0s 997us/step - loss: 5202.9517 - mae: 5202.9517\n",
      "Epoch 61/100\n",
      "34/34 [==============================] - 0s 1ms/step - loss: 5073.9771 - mae: 5073.9771\n",
      "Epoch 62/100\n",
      "34/34 [==============================] - 0s 1ms/step - loss: 4938.9912 - mae: 4938.9912\n",
      "Epoch 63/100\n",
      "34/34 [==============================] - 0s 1ms/step - loss: 4807.5156 - mae: 4807.5156\n",
      "Epoch 64/100\n",
      "34/34 [==============================] - 0s 1ms/step - loss: 4673.2734 - mae: 4673.2734\n",
      "Epoch 65/100\n",
      "34/34 [==============================] - 0s 1ms/step - loss: 4546.7446 - mae: 4546.7446\n",
      "Epoch 66/100\n",
      "34/34 [==============================] - 0s 989us/step - loss: 4426.0229 - mae: 4426.0229\n",
      "Epoch 67/100\n",
      "34/34 [==============================] - 0s 916us/step - loss: 4317.9985 - mae: 4317.9985\n",
      "Epoch 68/100\n",
      "34/34 [==============================] - 0s 901us/step - loss: 4212.2568 - mae: 4212.2568\n",
      "Epoch 69/100\n",
      "34/34 [==============================] - 0s 895us/step - loss: 4114.5522 - mae: 4114.5522\n",
      "Epoch 70/100\n",
      "34/34 [==============================] - 0s 958us/step - loss: 4025.6057 - mae: 4025.6057\n",
      "Epoch 71/100\n",
      "34/34 [==============================] - 0s 1ms/step - loss: 3946.5093 - mae: 3946.5093\n",
      "Epoch 72/100\n",
      "34/34 [==============================] - 0s 941us/step - loss: 3879.6487 - mae: 3879.6487\n",
      "Epoch 73/100\n",
      "34/34 [==============================] - 0s 1ms/step - loss: 3826.5884 - mae: 3826.5884\n",
      "Epoch 74/100\n",
      "34/34 [==============================] - 0s 891us/step - loss: 3780.2603 - mae: 3780.2603\n",
      "Epoch 75/100\n",
      "34/34 [==============================] - 0s 960us/step - loss: 3748.1011 - mae: 3748.1011\n",
      "Epoch 76/100\n",
      "34/34 [==============================] - 0s 937us/step - loss: 3725.1255 - mae: 3725.1255\n",
      "Epoch 77/100\n",
      "34/34 [==============================] - 0s 879us/step - loss: 3706.1912 - mae: 3706.1912\n",
      "Epoch 78/100\n",
      "34/34 [==============================] - 0s 986us/step - loss: 3694.5547 - mae: 3694.5547\n",
      "Epoch 79/100\n",
      "34/34 [==============================] - 0s 983us/step - loss: 3685.9045 - mae: 3685.9045\n",
      "Epoch 80/100\n",
      "34/34 [==============================] - 0s 1ms/step - loss: 3678.2146 - mae: 3678.2146\n",
      "Epoch 81/100\n",
      "34/34 [==============================] - 0s 857us/step - loss: 3673.6416 - mae: 3673.6416\n",
      "Epoch 82/100\n",
      "34/34 [==============================] - 0s 958us/step - loss: 3671.1162 - mae: 3671.1162\n",
      "Epoch 83/100\n",
      "34/34 [==============================] - 0s 924us/step - loss: 3666.0232 - mae: 3666.0232\n",
      "Epoch 84/100\n",
      "34/34 [==============================] - 0s 899us/step - loss: 3663.6428 - mae: 3663.6428\n",
      "Epoch 85/100\n",
      "34/34 [==============================] - 0s 935us/step - loss: 3661.3528 - mae: 3661.3528\n",
      "Epoch 86/100\n",
      "34/34 [==============================] - 0s 930us/step - loss: 3659.7085 - mae: 3659.7085\n",
      "Epoch 87/100\n",
      "34/34 [==============================] - 0s 896us/step - loss: 3657.0183 - mae: 3657.0183\n",
      "Epoch 88/100\n",
      "34/34 [==============================] - 0s 962us/step - loss: 3654.6077 - mae: 3654.6077\n",
      "Epoch 89/100\n",
      "34/34 [==============================] - 0s 854us/step - loss: 3653.4949 - mae: 3653.4949\n",
      "Epoch 90/100\n",
      "34/34 [==============================] - 0s 912us/step - loss: 3651.6677 - mae: 3651.6677\n",
      "Epoch 91/100\n",
      "34/34 [==============================] - 0s 903us/step - loss: 3648.5586 - mae: 3648.5586\n",
      "Epoch 92/100\n",
      "34/34 [==============================] - 0s 920us/step - loss: 3647.9521 - mae: 3647.9521\n",
      "Epoch 93/100\n",
      "34/34 [==============================] - 0s 892us/step - loss: 3645.6624 - mae: 3645.6624\n",
      "Epoch 94/100\n",
      "34/34 [==============================] - 0s 961us/step - loss: 3643.9138 - mae: 3643.9138\n",
      "Epoch 95/100\n",
      "34/34 [==============================] - 0s 996us/step - loss: 3645.0266 - mae: 3645.0266\n",
      "Epoch 96/100\n",
      "34/34 [==============================] - 0s 875us/step - loss: 3641.8911 - mae: 3641.8911\n",
      "Epoch 97/100\n",
      "34/34 [==============================] - 0s 952us/step - loss: 3639.4846 - mae: 3639.4846\n",
      "Epoch 98/100\n",
      "34/34 [==============================] - 0s 1ms/step - loss: 3637.3765 - mae: 3637.3765\n",
      "Epoch 99/100\n",
      "34/34 [==============================] - 0s 914us/step - loss: 3636.7227 - mae: 3636.7227\n",
      "Epoch 100/100\n",
      "34/34 [==============================] - 0s 915us/step - loss: 3635.4299 - mae: 3635.4299\n"
     ]
    },
    {
     "data": {
      "text/plain": "<keras.src.callbacks.History at 0x7fa22554bb20>"
     },
     "execution_count": 82,
     "metadata": {},
     "output_type": "execute_result"
    }
   ],
   "source": [
    "# Build a neural network model to fit on our normalize data\n",
    "tf.random.set_seed(42)\n",
    "\n",
    "# 1. Create the model\n",
    "insurance_model_4 = tf.keras.Sequential([\n",
    "    tf.keras.layers.Dense(100),\n",
    "    tf.keras.layers.Dense(10),\n",
    "    tf.keras.layers.Dense(1)\n",
    "])\n",
    "\n",
    "# 2. Compile the model\n",
    "insurance_model_4.compile(loss=tf.keras.losses.mae,\n",
    "                          optimizer=tf.keras.optimizers.Adam(),\n",
    "                          metrics=[\"mae\"])\n",
    "\n",
    "# 3. Fit the model\n",
    "insurance_model_4.fit(X_train_normal, y_train, epochs=100)"
   ],
   "metadata": {
    "collapsed": false,
    "ExecuteTime": {
     "end_time": "2023-10-23T14:42:12.354389242Z",
     "start_time": "2023-10-23T14:42:08.372224059Z"
    }
   },
   "id": "b3126b2ded5ac883"
  },
  {
   "cell_type": "code",
   "execution_count": 83,
   "outputs": [
    {
     "name": "stdout",
     "output_type": "stream",
     "text": [
      "9/9 [==============================] - 0s 1ms/step - loss: 3437.5125 - mae: 3437.5125\n"
     ]
    },
    {
     "data": {
      "text/plain": "[3437.512451171875, 3437.512451171875]"
     },
     "execution_count": 83,
     "metadata": {},
     "output_type": "execute_result"
    }
   ],
   "source": [
    "# Evaluate our insurance model trained on normalized data\n",
    "insurance_model_4.evaluate(X_test_normal, y_test)"
   ],
   "metadata": {
    "collapsed": false,
    "ExecuteTime": {
     "end_time": "2023-10-23T14:42:46.958578472Z",
     "start_time": "2023-10-23T14:42:46.807749819Z"
    }
   },
   "id": "831ba698400758b"
  },
  {
   "cell_type": "code",
   "execution_count": null,
   "outputs": [],
   "source": [],
   "metadata": {
    "collapsed": false
   },
   "id": "586229ff60507dd3"
  }
 ],
 "metadata": {
  "kernelspec": {
   "display_name": "Python 3",
   "language": "python",
   "name": "python3"
  },
  "language_info": {
   "codemirror_mode": {
    "name": "ipython",
    "version": 2
   },
   "file_extension": ".py",
   "mimetype": "text/x-python",
   "name": "python",
   "nbconvert_exporter": "python",
   "pygments_lexer": "ipython2",
   "version": "2.7.6"
  }
 },
 "nbformat": 4,
 "nbformat_minor": 5
}
