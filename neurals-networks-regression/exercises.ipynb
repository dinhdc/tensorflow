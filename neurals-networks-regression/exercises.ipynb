{
 "cells": [
  {
   "cell_type": "markdown",
   "source": [
    "## 01. Neural network regression with TensorFlow Exercises"
   ],
   "metadata": {
    "collapsed": false
   },
   "id": "76b347e6c511aad7"
  },
  {
   "cell_type": "markdown",
   "source": [
    "### Create your own regression dataset (or make the one we created in \"Create data to view and fit\" bigger) and build fit a model to it."
   ],
   "metadata": {
    "collapsed": false
   },
   "id": "5fa7fc09b2decbf9"
  },
  {
   "cell_type": "code",
   "execution_count": null,
   "outputs": [],
   "source": [
    "import numpy as np\n",
    "X = [i for i in range(-100,500, 3)]\n",
    "X = np.array(X)\n",
    "X"
   ],
   "metadata": {
    "collapsed": false
   },
   "id": "10a59d1978269fce"
  },
  {
   "cell_type": "code",
   "execution_count": null,
   "outputs": [],
   "source": [
    "y = X + 3\n",
    "y"
   ],
   "metadata": {
    "collapsed": false
   },
   "id": "19bd2b4660831a56"
  },
  {
   "cell_type": "markdown",
   "source": [
    "### Try building a neural network with 4 Dense layers and fitting it to your own regression dataset, how does it perform?"
   ],
   "metadata": {
    "collapsed": false
   },
   "id": "2c9aeb13e6f7a6fa"
  },
  {
   "cell_type": "code",
   "execution_count": null,
   "outputs": [],
   "source": [
    "import tensorflow as tf\n",
    "from sklearn.model_selection import train_test_split\n",
    "\n",
    "tf.random.set_seed(42)\n",
    "\n",
    "X_train, X_test, y_train, y_test = train_test_split(X, y, test_size=0.2, random_state=42)\n",
    "X_train = tf.constant(X_train)\n",
    "y_train = tf.constant(y_train)\n",
    "# 1. Create the model\n",
    "model = tf.keras.Sequential([\n",
    "    tf.keras.layers.Dense(1000),\n",
    "    tf.keras.layers.Dense(100),\n",
    "    tf.keras.layers.Dense(10),\n",
    "    tf.keras.layers.Dense(1),\n",
    "])\n",
    "\n",
    "# 2. Compile the model\n",
    "model.compile(loss=tf.keras.losses.mae,\n",
    "              optimizer=tf.keras.optimizers.Adam(),\n",
    "              metrics=[\"mae\"])\n",
    "\n",
    "# 3. Fit the model\n",
    "model.fit(tf.expand_dims(X_train, axis=1), y_train, epochs=100)"
   ],
   "metadata": {
    "collapsed": false
   },
   "id": "6c9fd9468c0aa02b"
  },
  {
   "cell_type": "code",
   "execution_count": null,
   "outputs": [],
   "source": [
    "model.evaluate(tf.expand_dims(tf.constant(X_test), axis=1), tf.constant(y_test))"
   ],
   "metadata": {
    "collapsed": false
   },
   "id": "41534b486b8383a8"
  },
  {
   "cell_type": "markdown",
   "source": [
    "### Try and improve the results we got on the insurance dataset, some things you might want to try include:\n"
   ],
   "metadata": {
    "collapsed": false
   },
   "id": "8a95faa874d65183"
  },
  {
   "cell_type": "markdown",
   "source": [
    "#### Building a larger model (how does one with 4 dense layers go?)."
   ],
   "metadata": {
    "collapsed": false
   },
   "id": "2d3c2e990c78c981"
  },
  {
   "cell_type": "code",
   "execution_count": null,
   "outputs": [],
   "source": [
    "# 1. Create the model\n",
    "larger_model = tf.keras.Sequential([\n",
    "    tf.keras.layers.Dense(1000),\n",
    "    tf.keras.layers.Dense(500),\n",
    "    tf.keras.layers.Dense(100),\n",
    "    tf.keras.layers.Dense(10),\n",
    "    tf.keras.layers.Dense(1),\n",
    "])\n",
    "\n",
    "# 2. Compile the model\n",
    "larger_model.compile(loss=tf.keras.losses.mae,\n",
    "              optimizer=tf.keras.optimizers.Adam(),\n",
    "              metrics=[\"mae\"])\n",
    "\n",
    "# 3. Fit the model\n",
    "larger_model.fit(tf.expand_dims(X_train, axis=1), y_train, epochs=100)"
   ],
   "metadata": {
    "collapsed": false
   },
   "id": "d86c14911ca0aaa"
  },
  {
   "cell_type": "code",
   "execution_count": null,
   "outputs": [],
   "source": [
    "larger_model.evaluate(tf.expand_dims(tf.constant(X_test), axis=1), tf.constant(y_test))"
   ],
   "metadata": {
    "collapsed": false
   },
   "id": "9eb2e85775427105"
  },
  {
   "cell_type": "markdown",
   "source": [
    "#### Increasing the number of units in each layer.\n"
   ],
   "metadata": {
    "collapsed": false
   },
   "id": "e62f9e9ab56e042d"
  },
  {
   "cell_type": "code",
   "execution_count": null,
   "outputs": [],
   "source": [
    "# 1. Create the model\n",
    "larger_model = tf.keras.Sequential([\n",
    "    tf.keras.layers.Dense(1500),\n",
    "    tf.keras.layers.Dense(1000),\n",
    "    tf.keras.layers.Dense(500),\n",
    "    tf.keras.layers.Dense(100),\n",
    "    tf.keras.layers.Dense(1),\n",
    "])\n",
    "\n",
    "# 2. Compile the model\n",
    "larger_model.compile(loss=tf.keras.losses.mae,\n",
    "              optimizer=tf.keras.optimizers.Adam(),\n",
    "              metrics=[\"mae\"])\n",
    "\n",
    "# 3. Fit the model\n",
    "larger_model.fit(tf.expand_dims(X_train, axis=1), y_train, epochs=100)"
   ],
   "metadata": {
    "collapsed": false
   },
   "id": "870ca79af28c20cb"
  },
  {
   "cell_type": "code",
   "execution_count": null,
   "outputs": [],
   "source": [
    "larger_model.evaluate(tf.expand_dims(tf.constant(X_test), axis=1), tf.constant(y_test))"
   ],
   "metadata": {
    "collapsed": false
   },
   "id": "2d63ce29342bd4d1"
  },
  {
   "cell_type": "markdown",
   "source": [
    "#### Lookup the documentation of Adam and find out what the first parameter is, what happens if you increase it by 10x?\n"
   ],
   "metadata": {
    "collapsed": false
   },
   "id": "50529df320770bef"
  },
  {
   "cell_type": "code",
   "execution_count": null,
   "outputs": [],
   "source": [
    "# 1. Create the model\n",
    "larger_model = tf.keras.Sequential([\n",
    "    tf.keras.layers.Dense(1000),\n",
    "    tf.keras.layers.Dense(500),\n",
    "    tf.keras.layers.Dense(100),\n",
    "    tf.keras.layers.Dense(10),\n",
    "    tf.keras.layers.Dense(1),\n",
    "])\n",
    "\n",
    "# 2. Compile the model\n",
    "larger_model.compile(loss=tf.keras.losses.mae,\n",
    "              optimizer=tf.keras.optimizers.Adam(lr=0.01),\n",
    "              metrics=[\"mae\"])\n",
    "\n",
    "# 3. Fit the model\n",
    "larger_model.fit(tf.expand_dims(X_train, axis=1), y_train, epochs=100)"
   ],
   "metadata": {
    "collapsed": false
   },
   "id": "fa9a523b2804f7b8"
  },
  {
   "cell_type": "code",
   "execution_count": null,
   "outputs": [],
   "source": [
    "larger_model.evaluate(tf.expand_dims(tf.constant(X_test), axis=1), tf.constant(y_test))"
   ],
   "metadata": {
    "collapsed": false
   },
   "id": "737a7a99383c92a9"
  },
  {
   "cell_type": "markdown",
   "source": [
    "#### What happens if you train for longer (say 300 epochs instead of 200)?"
   ],
   "metadata": {
    "collapsed": false
   },
   "id": "a7a4f7275c82a2d7"
  },
  {
   "cell_type": "code",
   "execution_count": null,
   "outputs": [],
   "source": [
    "# 1. Create the model\n",
    "larger_model = tf.keras.Sequential([\n",
    "    tf.keras.layers.Dense(1000),\n",
    "    tf.keras.layers.Dense(500),\n",
    "    tf.keras.layers.Dense(100),\n",
    "    tf.keras.layers.Dense(10),\n",
    "    tf.keras.layers.Dense(1),\n",
    "])\n",
    "\n",
    "# 2. Compile the model\n",
    "larger_model.compile(loss=tf.keras.losses.mae,\n",
    "              optimizer=tf.keras.optimizers.Adam(lr=0.01),\n",
    "              metrics=[\"mae\"])\n",
    "\n",
    "# 3. Fit the model\n",
    "larger_model.fit(tf.expand_dims(X_train, axis=1), y_train, epochs=300)"
   ],
   "metadata": {
    "collapsed": false
   },
   "id": "c8cf53e0180c92b5"
  },
  {
   "cell_type": "code",
   "execution_count": null,
   "outputs": [],
   "source": [
    "larger_model.evaluate(tf.expand_dims(tf.constant(X_test), axis=1), tf.constant(y_test))"
   ],
   "metadata": {
    "collapsed": false
   },
   "id": "92b23bb0ac58c259"
  },
  {
   "cell_type": "markdown",
   "source": [
    "### Import the Boston pricing dataset from TensorFlow tf.keras.datasets and model it."
   ],
   "metadata": {
    "collapsed": false
   },
   "id": "8e87701d4561cda6"
  },
  {
   "cell_type": "code",
   "execution_count": null,
   "outputs": [],
   "source": [
    "data = tf.keras.datasets.boston_housing.load_data(\n",
    "    path='boston_housing.npz', test_split=0.2, seed=113\n",
    ")\n",
    "data"
   ],
   "metadata": {
    "collapsed": false
   },
   "id": "80f67b3978c1a5cf"
  },
  {
   "cell_type": "code",
   "execution_count": null,
   "outputs": [],
   "source": [
    "(X_train, y_train), (X_test, y_test) = data\n",
    "X_train = tf.constant(X_train)\n",
    "y_train = tf.constant(y_train)\n",
    "X_test = tf.constant(X_test)\n",
    "y_test = tf.constant(y_test)\n",
    "X_train, y_train"
   ],
   "metadata": {
    "collapsed": false
   },
   "id": "b5ada9269d2aaf70"
  },
  {
   "cell_type": "markdown",
   "source": [
    "#### First model: 3 hidden layers, epochs 100"
   ],
   "metadata": {
    "collapsed": false
   },
   "id": "353f2f20335ac96d"
  },
  {
   "cell_type": "code",
   "execution_count": null,
   "outputs": [],
   "source": [
    "# 1. Create the model\n",
    "boston_pricing_model = tf.keras.Sequential([\n",
    "    tf.keras.layers.Dense(100),\n",
    "    tf.keras.layers.Dense(10),\n",
    "    tf.keras.layers.Dense(1)\n",
    "])\n",
    "\n",
    "# 2. Compile the model\n",
    "boston_pricing_model.compile(loss=tf.keras.losses.mae,\n",
    "                             optimizer=tf.keras.optimizers.Adam(),\n",
    "                             metrics=[\"mae\"])\n",
    "\n",
    "# 3. Fit the model\n",
    "boston_pricing_model.fit(tf.expand_dims(X_train, axis=1), y_train, epochs=100)"
   ],
   "metadata": {
    "collapsed": false
   },
   "id": "6350e6e7c9bb3cc2"
  },
  {
   "cell_type": "code",
   "execution_count": null,
   "outputs": [],
   "source": [
    "# Evaluate model\n",
    "boston_pricing_model.evaluate(tf.expand_dims(X_test, axis=1), y_test)"
   ],
   "metadata": {
    "collapsed": false
   },
   "id": "335f1b59208b43da"
  },
  {
   "cell_type": "code",
   "execution_count": null,
   "outputs": [],
   "source": [
    "boston_pricing_model.summary()"
   ],
   "metadata": {
    "collapsed": false
   },
   "id": "ed4113835699dd99"
  },
  {
   "cell_type": "markdown",
   "source": [
    "#### Second model: 3 hidden layers, epochs 200"
   ],
   "metadata": {
    "collapsed": false
   },
   "id": "39aad7d936f75247"
  },
  {
   "cell_type": "code",
   "execution_count": null,
   "outputs": [],
   "source": [
    "# 1. Create the model\n",
    "boston_pricing_model = tf.keras.Sequential([\n",
    "    tf.keras.layers.Dense(100),\n",
    "    tf.keras.layers.Dense(10),\n",
    "    tf.keras.layers.Dense(1)\n",
    "])\n",
    "\n",
    "# 2. Compile the model\n",
    "boston_pricing_model.compile(loss=tf.keras.losses.mae,\n",
    "                             optimizer=tf.keras.optimizers.Adam(),\n",
    "                             metrics=[\"mae\"])\n",
    "\n",
    "# 3. Fit the model\n",
    "boston_pricing_model.fit(tf.expand_dims(X_train, axis=1), y_train, epochs=200)"
   ],
   "metadata": {
    "collapsed": false
   },
   "id": "1ed3b1e4ee7ba848"
  },
  {
   "cell_type": "code",
   "execution_count": null,
   "outputs": [],
   "source": [
    "# Evaluate model\n",
    "boston_pricing_model.evaluate(tf.expand_dims(X_test, axis=1), y_test)"
   ],
   "metadata": {
    "collapsed": false
   },
   "id": "c175b6704cc133de"
  },
  {
   "cell_type": "markdown",
   "source": [
    "#### Third model: increase hidden unit layer"
   ],
   "metadata": {
    "collapsed": false
   },
   "id": "1d96b1a01c530a05"
  },
  {
   "cell_type": "code",
   "execution_count": null,
   "outputs": [],
   "source": [
    "# 1. Create the model\n",
    "boston_pricing_model = tf.keras.Sequential([\n",
    "    tf.keras.layers.Dense(1000),\n",
    "    tf.keras.layers.Dense(500),\n",
    "    tf.keras.layers.Dense(1)\n",
    "])\n",
    "\n",
    "# 2. Compile the model\n",
    "boston_pricing_model.compile(loss=tf.keras.losses.mae,\n",
    "                             optimizer=tf.keras.optimizers.Adam(),\n",
    "                             metrics=[\"mae\"])\n",
    "\n",
    "# 3. Fit the model\n",
    "boston_pricing_model.fit(tf.expand_dims(X_train, axis=1), y_train, epochs=200)"
   ],
   "metadata": {
    "collapsed": false
   },
   "id": "57f4a2e1bcd86529"
  },
  {
   "cell_type": "code",
   "execution_count": null,
   "outputs": [],
   "source": [
    "# Evaluate model\n",
    "boston_pricing_model.evaluate(tf.expand_dims(X_test, axis=1), y_test)"
   ],
   "metadata": {
    "collapsed": false
   },
   "id": "ac406215bbf49726"
  }
 ],
 "metadata": {
  "kernelspec": {
   "display_name": "Python 3",
   "language": "python",
   "name": "python3"
  },
  "language_info": {
   "codemirror_mode": {
    "name": "ipython",
    "version": 2
   },
   "file_extension": ".py",
   "mimetype": "text/x-python",
   "name": "python",
   "nbconvert_exporter": "python",
   "pygments_lexer": "ipython2",
   "version": "2.7.6"
  }
 },
 "nbformat": 4,
 "nbformat_minor": 5
}
