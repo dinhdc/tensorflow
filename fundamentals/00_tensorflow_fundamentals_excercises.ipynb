{
 "cells": [
  {
   "cell_type": "markdown",
   "source": [
    "## **00. TensorFlow Fundamentals Exercises**"
   ],
   "metadata": {
    "collapsed": false
   },
   "id": "ff9370e0fbb4098b"
  },
  {
   "cell_type": "markdown",
   "source": [
    "### 1. Create a vector, scalar, matrix and tensor with values of your choosing using tf.constant()."
   ],
   "metadata": {
    "collapsed": false
   },
   "id": "fd8bbc9959a621db"
  },
  {
   "cell_type": "code",
   "execution_count": null,
   "outputs": [],
   "source": [
    "import tensorflow as tf"
   ],
   "metadata": {
    "collapsed": false
   },
   "id": "6e25bb81291e2243"
  },
  {
   "cell_type": "code",
   "execution_count": null,
   "outputs": [],
   "source": [
    "# Create a vector\n",
    "vector = tf.constant([2, 3])\n",
    "vector"
   ],
   "metadata": {
    "collapsed": false
   },
   "id": "f14b23c34920f36e"
  },
  {
   "cell_type": "code",
   "execution_count": null,
   "outputs": [],
   "source": [
    "# Create a scalar\n",
    "scalar = tf.constant(8)\n",
    "scalar"
   ],
   "metadata": {
    "collapsed": false
   },
   "id": "ca07031de6a24fa7"
  },
  {
   "cell_type": "code",
   "execution_count": null,
   "outputs": [],
   "source": [
    "# Create a matrix\n",
    "matrix = tf.constant([[10,2], [3,5]])\n",
    "matrix"
   ],
   "metadata": {
    "collapsed": false
   },
   "id": "ef20b8d2af8237b6"
  },
  {
   "cell_type": "code",
   "execution_count": null,
   "outputs": [],
   "source": [
    "# Create a tensor\n",
    "tensor = tf.constant([[10,2],\n",
    "                      [23,4],\n",
    "                      [5,2]])\n",
    "tensor"
   ],
   "metadata": {
    "collapsed": false
   },
   "id": "130359ece3bc57b8"
  },
  {
   "cell_type": "markdown",
   "source": [
    "### 2. Find the shape, rank and size of the tensors you created in 1."
   ],
   "metadata": {
    "collapsed": false
   },
   "id": "4d7278fc6abf46c8"
  },
  {
   "cell_type": "code",
   "execution_count": null,
   "outputs": [],
   "source": [
    "# Find the shape of tensor\n",
    "tensor.shape"
   ],
   "metadata": {
    "collapsed": false
   },
   "id": "8ed14c553a445ca3"
  },
  {
   "cell_type": "code",
   "execution_count": null,
   "outputs": [],
   "source": [
    "# Find the rank of tensor\n",
    "tensor.ndim"
   ],
   "metadata": {
    "collapsed": false
   },
   "id": "2e510e38cd4d978e"
  },
  {
   "cell_type": "code",
   "execution_count": null,
   "outputs": [],
   "source": [
    "# Find the size of tensor\n",
    "tf.size(tensor)"
   ],
   "metadata": {
    "collapsed": false
   },
   "id": "f0aa821a619006d5"
  },
  {
   "cell_type": "markdown",
   "source": [
    "### 3. Create two tensors containing random values between 0 and 1 with shape [5, 300]. "
   ],
   "metadata": {
    "collapsed": false
   },
   "id": "3699b551840166de"
  },
  {
   "cell_type": "code",
   "execution_count": null,
   "outputs": [],
   "source": [
    "# Set seed of random\n",
    "tf.random.set_seed(42)"
   ],
   "metadata": {
    "collapsed": false
   },
   "id": "b66b7c7ad2bda43"
  },
  {
   "cell_type": "code",
   "execution_count": null,
   "outputs": [],
   "source": [
    "# Create first tensor with random value\n",
    "first_tensor = tf.random.uniform(shape=[5, 300])\n",
    "first_tensor"
   ],
   "metadata": {
    "collapsed": false
   },
   "id": "a4ad1d37184ef1cf"
  },
  {
   "cell_type": "code",
   "execution_count": null,
   "outputs": [],
   "source": [
    "# Create second tensor with random value\n",
    "second_tensor = tf.random.uniform(shape=[5,300])\n",
    "second_tensor"
   ],
   "metadata": {
    "collapsed": false
   },
   "id": "1540b8a70be50deb"
  },
  {
   "cell_type": "markdown",
   "source": [
    "### 4.Multiply the two tensors you created in 3 using matrix multiplication."
   ],
   "metadata": {
    "collapsed": false
   },
   "id": "d3e55511c77f1ba0"
  },
  {
   "cell_type": "code",
   "execution_count": null,
   "outputs": [],
   "source": [
    "# Multiply the two tensors\n",
    "tf.matmul(first_tensor, tf.transpose(second_tensor))"
   ],
   "metadata": {
    "collapsed": false
   },
   "id": "b425d71b3a4e97c5"
  },
  {
   "cell_type": "markdown",
   "source": [
    "### 5.Multiply the two tensors you created in 3 using dot product."
   ],
   "metadata": {
    "collapsed": false
   },
   "id": "90b1f0a2264f4bef"
  },
  {
   "cell_type": "code",
   "execution_count": null,
   "outputs": [],
   "source": [
    "tf.tensordot(first_tensor, tf.transpose(second_tensor), axes=1)"
   ],
   "metadata": {
    "collapsed": false
   },
   "id": "82559726055af3e1"
  },
  {
   "cell_type": "markdown",
   "source": [
    "### 6.Create a tensor with random values between 0 and 1 with shape [224, 224, 3]."
   ],
   "metadata": {
    "collapsed": false
   },
   "id": "d134ad8482d30105"
  },
  {
   "cell_type": "code",
   "execution_count": null,
   "outputs": [],
   "source": [
    "tf.random.set_seed(42)\n",
    "third_tensor = tf.random.uniform(shape=[224, 224, 3], minval=0, maxval=1)\n",
    "third_tensor"
   ],
   "metadata": {
    "collapsed": false
   },
   "id": "e62e54b52644819b"
  },
  {
   "cell_type": "markdown",
   "source": [
    "### 7.Find the min and max values of the tensor you created in 6 along the first axis."
   ],
   "metadata": {
    "collapsed": false
   },
   "id": "b34365ff32cd5334"
  },
  {
   "cell_type": "code",
   "execution_count": null,
   "outputs": [],
   "source": [
    "# Find the max value\n",
    "tf.reduce_max(third_tensor)"
   ],
   "metadata": {
    "collapsed": false
   },
   "id": "aaab4da107410aee"
  },
  {
   "cell_type": "code",
   "execution_count": null,
   "outputs": [],
   "source": [
    "# Find the min value\n",
    "tf.reduce_min(third_tensor)"
   ],
   "metadata": {
    "collapsed": false
   },
   "id": "1f3166b80017a54f"
  },
  {
   "cell_type": "markdown",
   "source": [
    "### 8.Created a tensor with random values of shape [1, 224, 224, 3] then squeeze it to change the shape to [224, 224, 3]."
   ],
   "metadata": {
    "collapsed": false
   },
   "id": "5368a716479578fc"
  },
  {
   "cell_type": "code",
   "execution_count": null,
   "outputs": [],
   "source": [
    "# Create a tensor with random values\n",
    "fourth_tensor = tf.random.uniform(shape=[1, 224, 224, 3])\n",
    "fourth_tensor, fourth_tensor.shape"
   ],
   "metadata": {
    "collapsed": false
   },
   "id": "6a0ee71c2adf4c6b"
  },
  {
   "cell_type": "code",
   "execution_count": null,
   "outputs": [],
   "source": [
    "# Squeezed fourth tensor\n",
    "fourth_tensor_squeezed = tf.squeeze(fourth_tensor)\n",
    "fourth_tensor_squeezed.shape"
   ],
   "metadata": {
    "collapsed": false
   },
   "id": "cce091cc7754a2db"
  },
  {
   "cell_type": "markdown",
   "source": [
    "### 9.Create a tensor with shape **[10]** using your own choice of values, then find the index which has the maximum value."
   ],
   "metadata": {
    "collapsed": false
   },
   "id": "9088ff3014320784"
  },
  {
   "cell_type": "code",
   "execution_count": null,
   "outputs": [],
   "source": [
    "# Create a tensor with shape 10\n",
    "fifth_tensor = tf.constant([0,1,2,3,4,5,6,7,8,9])\n",
    "fifth_tensor"
   ],
   "metadata": {
    "collapsed": false
   },
   "id": "9fcc612f918c621a"
  },
  {
   "cell_type": "code",
   "execution_count": null,
   "outputs": [],
   "source": [
    "# Find the positional maximum value\n",
    "tf.argmax(fifth_tensor)"
   ],
   "metadata": {
    "collapsed": false
   },
   "id": "3f6b549b60791f4b"
  },
  {
   "cell_type": "markdown",
   "source": [
    "### 10. One-hot encode the tensor you created in step 9."
   ],
   "metadata": {
    "collapsed": false
   },
   "id": "495a7fa07a21e5b3"
  },
  {
   "cell_type": "code",
   "execution_count": null,
   "outputs": [],
   "source": [
    "# One-hot encode\n",
    "tf.one_hot(tf.cast(fifth_tensor, dtype=tf.int32), depth=10)"
   ],
   "metadata": {
    "collapsed": false
   },
   "id": "9fbc9418a96972b6"
  }
 ],
 "metadata": {
  "kernelspec": {
   "display_name": "Python 3",
   "language": "python",
   "name": "python3"
  },
  "language_info": {
   "codemirror_mode": {
    "name": "ipython",
    "version": 2
   },
   "file_extension": ".py",
   "mimetype": "text/x-python",
   "name": "python",
   "nbconvert_exporter": "python",
   "pygments_lexer": "ipython2",
   "version": "2.7.6"
  }
 },
 "nbformat": 4,
 "nbformat_minor": 5
}
