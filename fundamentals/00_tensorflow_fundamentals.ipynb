{
 "cells": [
  {
   "cell_type": "markdown",
   "source": [
    "# In this notebook, we are going to cover some of the most fundamentals concepts of tensors using TensorFlow\n",
    "\n",
    "# More specifically, we are going to cover:\n",
    "\n",
    "- Introduction to tensors\n",
    "- Getting information from tensors\n",
    "- Manipulating tensors\n",
    "- Tensors * Numpy\n",
    "- Using @tf.function\n",
    "- Using GPUs with TensorFlow (or TFUs)\n",
    "- Exercises to try myself"
   ],
   "metadata": {
    "collapsed": false
   },
   "id": "d5e33f286d61a22b"
  },
  {
   "cell_type": "markdown",
   "source": [
    "## Introduction to Tensors"
   ],
   "metadata": {
    "collapsed": false
   },
   "id": "9da4d498efc2e4aa"
  },
  {
   "cell_type": "code",
   "execution_count": null,
   "outputs": [],
   "source": [
    "# Import TensorFlow\n",
    "import tensorflow as tf\n",
    "print(tf.__version__)"
   ],
   "metadata": {
    "collapsed": false
   },
   "id": "e99deebaff6d2109"
  },
  {
   "cell_type": "code",
   "execution_count": null,
   "outputs": [],
   "source": [
    "# Create tensors with tf.constant()\n",
    "scalar = tf.constant(7)\n",
    "scalar"
   ],
   "metadata": {
    "collapsed": false
   },
   "id": "d9968a67ece3c261"
  },
  {
   "cell_type": "code",
   "execution_count": null,
   "outputs": [],
   "source": [
    "# Check the number of dimensions of a tensor (ndim stands for number of dimensions)\n",
    "scalar.ndim"
   ],
   "metadata": {
    "collapsed": false
   },
   "id": "5a45f89c72b58cf8"
  },
  {
   "cell_type": "code",
   "execution_count": null,
   "outputs": [],
   "source": [
    "# Create a vector\n",
    "vector = tf.constant([10, 10])\n",
    "vector"
   ],
   "metadata": {
    "collapsed": false
   },
   "id": "1d8767f1f155f865"
  },
  {
   "cell_type": "code",
   "execution_count": null,
   "outputs": [],
   "source": [
    "# Check the dimensions of our vector\n",
    "vector.ndim"
   ],
   "metadata": {
    "collapsed": false
   },
   "id": "c8795c791d3772bb"
  },
  {
   "cell_type": "code",
   "execution_count": null,
   "outputs": [],
   "source": [
    "# Create a matrix (has more than one dimension)\n",
    "matrix = tf.constant([[10,7],\n",
    "                      [7,10]])\n",
    "matrix"
   ],
   "metadata": {
    "collapsed": false
   },
   "id": "70a94d9914cd47bb"
  },
  {
   "cell_type": "code",
   "execution_count": null,
   "outputs": [],
   "source": [
    "# Check the dimensions of our matrix\n",
    "matrix.ndim"
   ],
   "metadata": {
    "collapsed": false
   },
   "id": "ce2b269b3bf073bb"
  },
  {
   "cell_type": "code",
   "execution_count": null,
   "outputs": [],
   "source": [
    "# Create another matrix\n",
    "another_matrix = tf.constant([[10., 7.],\n",
    "                              [3., 2.],\n",
    "                              [8., 9.]], dtype=tf.float16) # specify the data type with dtype parameters\n",
    "another_matrix"
   ],
   "metadata": {
    "collapsed": false
   },
   "id": "f8de4632154432b4"
  },
  {
   "cell_type": "code",
   "execution_count": null,
   "outputs": [],
   "source": [
    "# What is the number dimensions of another_matrix?\n",
    "another_matrix.ndim"
   ],
   "metadata": {
    "collapsed": false
   },
   "id": "5613a46cbc9b3ded"
  },
  {
   "cell_type": "code",
   "execution_count": null,
   "outputs": [],
   "source": [
    "# Let's create a tensor\n",
    "tensor = tf.constant([[[1,2,3],\n",
    "                       [4,5,6]],\n",
    "                      [[7,8,9],\n",
    "                       [10,11,12]],\n",
    "                      [[13,14,15],\n",
    "                       [16,17,18]]])\n",
    "tensor"
   ],
   "metadata": {
    "collapsed": false
   },
   "id": "fc39db3b8df9dfdf"
  },
  {
   "cell_type": "code",
   "execution_count": null,
   "outputs": [],
   "source": [
    "tensor.ndim"
   ],
   "metadata": {
    "collapsed": false
   },
   "id": "f631323d4a375e8d"
  },
  {
   "cell_type": "markdown",
   "source": [
    "## What we are created so far:\n",
    "\n",
    "- Scalar: a single number\n",
    "- Vector: a number with direction (e.g. wind speed and direction)\n",
    "- Matrix: a 2-dimensional array of numbers\n",
    "- Tensor: an n-dimensional array of numbers (when n can be any number, a 0-dimensional is a scalar, a 1-dimensional is a vector)"
   ],
   "metadata": {
    "collapsed": false
   },
   "id": "682048d1afc08af9"
  },
  {
   "cell_type": "markdown",
   "source": [
    "## Creating tensors with tf.Variable"
   ],
   "metadata": {
    "collapsed": false
   },
   "id": "2e76ab9a4a6c3472"
  },
  {
   "cell_type": "code",
   "execution_count": null,
   "outputs": [],
   "source": [
    "# Create the same tensor with tf.Variable() as above\n",
    "changeable_tensor = tf.Variable([10, 7])\n",
    "unchangeable_tensor = tf.constant([10, 7])\n",
    "changeable_tensor, unchangeable_tensor"
   ],
   "metadata": {
    "collapsed": false
   },
   "id": "47cfd15c76ecd727"
  },
  {
   "cell_type": "code",
   "execution_count": null,
   "outputs": [],
   "source": [
    "# Let's try change one of the elements in our changeable tensor\n",
    "changeable_tensor[0] = 7\n",
    "changeable_tensor"
   ],
   "metadata": {
    "collapsed": false
   },
   "id": "2af756fb6692143d"
  },
  {
   "cell_type": "code",
   "execution_count": null,
   "outputs": [],
   "source": [
    "# How about we try .assign()\n",
    "changeable_tensor[0].assign(7)\n",
    "changeable_tensor"
   ],
   "metadata": {
    "collapsed": false
   },
   "id": "171f501427fcad92"
  },
  {
   "cell_type": "code",
   "execution_count": null,
   "outputs": [],
   "source": [
    "# Let's try change our unchangeable tensor\n",
    "unchangeable_tensor[0].assign(7)"
   ],
   "metadata": {
    "collapsed": false
   },
   "id": "4832f6f10d3a5f11"
  },
  {
   "cell_type": "markdown",
   "source": [
    "## Creating random tensors\n",
    "\n",
    "Random tensors are tensors of some abitrary size which contain random numbers"
   ],
   "metadata": {
    "collapsed": false
   },
   "id": "1ef5c02bbc90c7b1"
  },
  {
   "cell_type": "code",
   "execution_count": null,
   "outputs": [],
   "source": [
    "# Create two random (but the same) tensors\n",
    "random_1 = tf.random.Generator.from_seed(42) # set seed for reproducibility\n",
    "random_1 = random_1.normal(shape=(3,2))\n",
    "random_2 = tf.random.Generator.from_seed(42)\n",
    "random_2 = random_2.normal(shape=(3,2))\n",
    "# Are they equal?\n",
    "random_1, random_2, random_1 == random_2"
   ],
   "metadata": {
    "collapsed": false
   },
   "id": "295c5840f2164359"
  },
  {
   "cell_type": "markdown",
   "source": [
    "## Shuffle the order of elements in a tensor"
   ],
   "metadata": {
    "collapsed": false
   },
   "id": "c5e4aaece82a9174"
  },
  {
   "cell_type": "code",
   "execution_count": null,
   "outputs": [],
   "source": [
    "# Shuffle a tensor (valuable for when you want to shuffle your data so the inherent order doesn't affect learning)\n",
    "not_shuffled = tf.constant([[10,7],\n",
    "                            [3,4],\n",
    "                            [2,5]])\n",
    "# Shuffle our non-shuffle\n",
    "tf.random.shuffle(not_shuffled)"
   ],
   "metadata": {
    "collapsed": false
   },
   "id": "784a0e7a710c58a4"
  },
  {
   "cell_type": "code",
   "execution_count": null,
   "outputs": [],
   "source": [
    "# Shuffle our non-shuffle\n",
    "tf.random.set_seed(42) # global level random seed\n",
    "tf.random.shuffle(not_shuffled, seed=42) # operation level random seed"
   ],
   "metadata": {
    "collapsed": false
   },
   "id": "f943ab4580717e6e"
  },
  {
   "cell_type": "code",
   "execution_count": null,
   "outputs": [],
   "source": [
    "not_shuffled"
   ],
   "metadata": {
    "collapsed": false
   },
   "id": "7999fa413e7cf74f"
  },
  {
   "cell_type": "markdown",
   "source": [
    "## Other ways to make tensors"
   ],
   "metadata": {
    "collapsed": false
   },
   "id": "532367a712bdd5d4"
  },
  {
   "cell_type": "code",
   "execution_count": null,
   "outputs": [],
   "source": [
    "# Create a tensor of all one\n",
    "tf.ones([10,7])"
   ],
   "metadata": {
    "collapsed": false
   },
   "id": "d9b4e184f8d9de49"
  },
  {
   "cell_type": "code",
   "execution_count": null,
   "outputs": [],
   "source": [
    "# Create a tensor of all zeroes\n",
    "tf.zeros(shape=(3,4))"
   ],
   "metadata": {
    "collapsed": false
   },
   "id": "a1dc59ee2ca5e404"
  },
  {
   "cell_type": "markdown",
   "source": [
    "### Turn Numpy arrays into tensors\n",
    "\n",
    "The main difference between Numpy arrays and TensorFlow tensors is that tensors can be run on a GPU (much faster for numerical compiting)."
   ],
   "metadata": {
    "collapsed": false
   },
   "id": "227281b9ee224362"
  },
  {
   "cell_type": "code",
   "execution_count": null,
   "outputs": [],
   "source": [
    "# You can also turn Numpy arrays into tensors\n",
    "import numpy as np\n",
    "\n",
    "numpy_A = np.arange(1, 25, dtype=np.int32) # Create a Numpy array between 1 and 25\n",
    "numpy_A\n",
    "# x = tf.constant(some_matrix) # capital for matrix or tensor\n",
    "# y = tf.constant(vector) # non-capital for vector"
   ],
   "metadata": {
    "collapsed": false
   },
   "id": "cff481e3e37ae339"
  },
  {
   "cell_type": "code",
   "execution_count": null,
   "outputs": [],
   "source": [
    "A = tf.constant(numpy_A, shape=(3,8))\n",
    "B = tf.constant(numpy_A)\n",
    "A, B"
   ],
   "metadata": {
    "collapsed": false
   },
   "id": "7ea9576dbc787b8b"
  },
  {
   "cell_type": "code",
   "execution_count": null,
   "outputs": [],
   "source": [
    "A.ndim"
   ],
   "metadata": {
    "collapsed": false
   },
   "id": "c23ec29dccdc6391"
  },
  {
   "cell_type": "markdown",
   "source": [
    "## Getting information from tensors\n",
    "\n",
    "When dealing with tensors you probably want to be aware of the following attributes:\n",
    "- Shape\n",
    "- Rank\n",
    "- Axis or dimension\n",
    "- Size"
   ],
   "metadata": {
    "collapsed": false
   },
   "id": "2197b991a82034d1"
  },
  {
   "cell_type": "code",
   "execution_count": null,
   "outputs": [],
   "source": [
    "# Create a rank 4 tensor (4 dimensions)\n",
    "rank_4_tensor = tf.zeros(shape=[2,3,4,5])\n",
    "rank_4_tensor"
   ],
   "metadata": {
    "collapsed": false
   },
   "id": "fd1f95c92f424d3e"
  },
  {
   "cell_type": "code",
   "execution_count": null,
   "outputs": [],
   "source": [
    "rank_4_tensor[0]"
   ],
   "metadata": {
    "collapsed": false
   },
   "id": "1f2a2e6f31cd749c"
  },
  {
   "cell_type": "code",
   "execution_count": null,
   "outputs": [],
   "source": [
    "rank_4_tensor.shape, rank_4_tensor.ndim, tf.size(rank_4_tensor)"
   ],
   "metadata": {
    "collapsed": false
   },
   "id": "ee87456159a822fc"
  },
  {
   "cell_type": "code",
   "execution_count": null,
   "outputs": [],
   "source": [
    "# Get various attributes of our tensor\n",
    "print(\"Datatype of every elements: \", rank_4_tensor.dtype)\n",
    "print(\"Number of dimensions (rank): \", rank_4_tensor.ndim)\n",
    "print(\"Shape of tensor: \", rank_4_tensor.shape)\n",
    "print(\"Elements along the 0 axis: \", rank_4_tensor.shape[0])\n",
    "print(\"Elements along the last axis: \", rank_4_tensor.shape[-1])\n",
    "print(\"Total number of elements in our tensor: \", tf.size(rank_4_tensor))\n",
    "print(\"Total number of elements in our tensor: \", tf.size(rank_4_tensor).numpy())"
   ],
   "metadata": {
    "collapsed": false
   },
   "id": "e3148cc04d6d8269"
  },
  {
   "cell_type": "markdown",
   "source": [
    "### Indexing tensors\n",
    "\n",
    "Tensors can be indexed just like Python lists"
   ],
   "metadata": {
    "collapsed": false
   },
   "id": "9b3d8b607de1d823"
  },
  {
   "cell_type": "code",
   "execution_count": null,
   "outputs": [],
   "source": [
    "# Get the first 2 elements of each dimensions\n",
    "rank_4_tensor[:2, :2, :2, :2]"
   ],
   "metadata": {
    "collapsed": false
   },
   "id": "6ddee83c2ae8450a"
  },
  {
   "cell_type": "code",
   "execution_count": null,
   "outputs": [],
   "source": [
    "# Get the first element from each dimension from each index except for the final one\n",
    "rank_4_tensor[:1, :1, :1, :]"
   ],
   "metadata": {
    "collapsed": false
   },
   "id": "950b6e501d48f12e"
  },
  {
   "cell_type": "code",
   "execution_count": null,
   "outputs": [],
   "source": [
    "# Create a rank 2 tensor (2 dimensions)\n",
    "rank_2_tensor = tf.constant([[10,7], [3,4]])\n",
    "rank_2_tensor"
   ],
   "metadata": {
    "collapsed": false
   },
   "id": "80b5bbaba3fb5517"
  },
  {
   "cell_type": "code",
   "execution_count": null,
   "outputs": [],
   "source": [
    "# Get the last item of each of row of our rank 2 tensor\n",
    "rank_2_tensor[:, -1]"
   ],
   "metadata": {
    "collapsed": false
   },
   "id": "19a0b17877da5fdd"
  },
  {
   "cell_type": "code",
   "execution_count": null,
   "outputs": [],
   "source": [
    "# Add in extra dimension  to our rank 2 tensor\n",
    "rank_3_tensor = rank_2_tensor[..., tf.newaxis]\n",
    "rank_3_tensor"
   ],
   "metadata": {
    "collapsed": false
   },
   "id": "196c5c41426ada74"
  },
  {
   "cell_type": "code",
   "execution_count": null,
   "outputs": [],
   "source": [
    "# Alternative to tf.newaxis\n",
    "tf.expand_dims(rank_2_tensor, axis = -1) # \"-1\" means expand the final axis"
   ],
   "metadata": {
    "collapsed": false
   },
   "id": "c2f1682a53176ffe"
  },
  {
   "cell_type": "code",
   "execution_count": null,
   "outputs": [],
   "source": [
    "# Expand the 0-axis\n",
    "tf.expand_dims(rank_2_tensor, axis=0) "
   ],
   "metadata": {
    "collapsed": false
   },
   "id": "eee1cb7aa38ce8c1"
  },
  {
   "cell_type": "code",
   "execution_count": null,
   "outputs": [],
   "source": [
    "rank_2_tensor"
   ],
   "metadata": {
    "collapsed": false
   },
   "id": "b3ae645e7a24223a"
  },
  {
   "cell_type": "markdown",
   "source": [
    "## Manipulating tensors (tensors operations)"
   ],
   "metadata": {
    "collapsed": false
   },
   "id": "4c2499754f728994"
  }
 ],
 "metadata": {
  "kernelspec": {
   "display_name": "Python 3",
   "language": "python",
   "name": "python3"
  },
  "language_info": {
   "codemirror_mode": {
    "name": "ipython",
    "version": 2
   },
   "file_extension": ".py",
   "mimetype": "text/x-python",
   "name": "python",
   "nbconvert_exporter": "python",
   "pygments_lexer": "ipython2",
   "version": "2.7.6"
  }
 },
 "nbformat": 4,
 "nbformat_minor": 5
}
